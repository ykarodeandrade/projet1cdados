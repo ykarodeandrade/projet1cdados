{
 "cells": [
  {
   "cell_type": "markdown",
   "metadata": {},
   "source": [
    "# Projeto 1 - Ciência dos Dados"
   ]
  },
  {
   "cell_type": "markdown",
   "metadata": {},
   "source": [
    "Nome: Rodrigo de Lima Azeredo\n",
    "\n",
    "Nome: Ykaro de Sousa Andrade"
   ]
  },
  {
   "cell_type": "markdown",
   "metadata": {},
   "source": [
    "Atenção: Serão permitidos grupos de três pessoas, mas com uma rubrica mais exigente. Grupos deste tamanho precisarão fazer um questionário de avaliação de trabalho em equipe"
   ]
  },
  {
   "cell_type": "markdown",
   "metadata": {},
   "source": [
    "___\n",
    "Carregando algumas bibliotecas:"
   ]
  },
  {
   "cell_type": "code",
   "execution_count": 75,
   "metadata": {},
   "outputs": [],
   "source": [
    "#importando bibliotecas\n",
    "%matplotlib inline\n",
    "import pandas as pd\n",
    "import matplotlib.pyplot as plt\n",
    "import numpy as np\n",
    "import os\n",
    "from IPython.display import display\n",
    "pd.options.display.max_rows = 13\n",
    "import emoji\n",
    "import re"
   ]
  },
  {
   "cell_type": "code",
   "execution_count": 76,
   "metadata": {
    "scrolled": true
   },
   "outputs": [
    {
     "name": "stdout",
     "output_type": "stream",
     "text": [
      "Esperamos trabalhar no diretório\n",
      "C:\\Users\\Rodrigo Lima\\Documents\\Cdados\\Projeto\\projet1cdados\n"
     ]
    }
   ],
   "source": [
    "print('Esperamos trabalhar no diretório')\n",
    "print(os.getcwd())"
   ]
  },
  {
   "cell_type": "code",
   "execution_count": 77,
   "metadata": {},
   "outputs": [],
   "source": [
    "# definindo função de limpeza dos caracteres dos tweets\n",
    "\n",
    "def cleanup(text):\n",
    "    \"\"\"\n",
    "        Função de limpeza muito simples que troca alguns sinais básicos por espaços\n",
    "    \"\"\"\n",
    "    #import string\n",
    "    punctuation = '[!-.:?;\\n)(*$#@''\"\"]' # Note que os sinais [] são delimitadores de um conjunto.\n",
    "    pattern = re.compile(punctuation)\n",
    "    text_subbed = re.sub(pattern, '', text)\n",
    "    text_subbed = emoji.get_emoji_regexp().split(text_subbed) #emoji\n",
    "    return ' '.join(text_subbed)"
   ]
  },
  {
   "cell_type": "markdown",
   "metadata": {},
   "source": [
    "Carregando a base de dados com os tweets classificados como relevantes e não relevantes:"
   ]
  },
  {
   "cell_type": "code",
   "execution_count": 78,
   "metadata": {},
   "outputs": [],
   "source": [
    "filename = 'puma.xlsx'"
   ]
  },
  {
   "cell_type": "code",
   "execution_count": 79,
   "metadata": {},
   "outputs": [
    {
     "data": {
      "text/html": [
       "<div>\n",
       "<style scoped>\n",
       "    .dataframe tbody tr th:only-of-type {\n",
       "        vertical-align: middle;\n",
       "    }\n",
       "\n",
       "    .dataframe tbody tr th {\n",
       "        vertical-align: top;\n",
       "    }\n",
       "\n",
       "    .dataframe thead th {\n",
       "        text-align: right;\n",
       "    }\n",
       "</style>\n",
       "<table border=\"1\" class=\"dataframe\">\n",
       "  <thead>\n",
       "    <tr style=\"text-align: right;\">\n",
       "      <th></th>\n",
       "      <th>Treinamento</th>\n",
       "      <th>Irrelevante 0 / Relevante 1</th>\n",
       "    </tr>\n",
       "  </thead>\n",
       "  <tbody>\n",
       "    <tr>\n",
       "      <th>0</th>\n",
       "      <td>o neymar inovou a puma https://t.co/qtcuvd1svj</td>\n",
       "      <td>1</td>\n",
       "    </tr>\n",
       "    <tr>\n",
       "      <th>1</th>\n",
       "      <td>a @puma tá deitando nas chuteiras do neymar, m...</td>\n",
       "      <td>1</td>\n",
       "    </tr>\n",
       "    <tr>\n",
       "      <th>2</th>\n",
       "      <td>fico assim no da puma affss https://t.co/1ygyh...</td>\n",
       "      <td>0</td>\n",
       "    </tr>\n",
       "    <tr>\n",
       "      <th>3</th>\n",
       "      <td>@g_estrella__ puma tá aí , mas três listra tá ...</td>\n",
       "      <td>1</td>\n",
       "    </tr>\n",
       "    <tr>\n",
       "      <th>4</th>\n",
       "      <td>@0ketlyn_s eu acho que um puma ^^</td>\n",
       "      <td>0</td>\n",
       "    </tr>\n",
       "  </tbody>\n",
       "</table>\n",
       "</div>"
      ],
      "text/plain": [
       "                                         Treinamento  \\\n",
       "0     o neymar inovou a puma https://t.co/qtcuvd1svj   \n",
       "1  a @puma tá deitando nas chuteiras do neymar, m...   \n",
       "2  fico assim no da puma affss https://t.co/1ygyh...   \n",
       "3  @g_estrella__ puma tá aí , mas três listra tá ...   \n",
       "4                  @0ketlyn_s eu acho que um puma ^^   \n",
       "\n",
       "   Irrelevante 0 / Relevante 1  \n",
       "0                            1  \n",
       "1                            1  \n",
       "2                            0  \n",
       "3                            1  \n",
       "4                            0  "
      ]
     },
     "execution_count": 79,
     "metadata": {},
     "output_type": "execute_result"
    }
   ],
   "source": [
    "train = pd.read_excel(filename)\n",
    "train.head(5)"
   ]
  },
  {
   "cell_type": "code",
   "execution_count": 80,
   "metadata": {},
   "outputs": [
    {
     "data": {
      "text/html": [
       "<div>\n",
       "<style scoped>\n",
       "    .dataframe tbody tr th:only-of-type {\n",
       "        vertical-align: middle;\n",
       "    }\n",
       "\n",
       "    .dataframe tbody tr th {\n",
       "        vertical-align: top;\n",
       "    }\n",
       "\n",
       "    .dataframe thead th {\n",
       "        text-align: right;\n",
       "    }\n",
       "</style>\n",
       "<table border=\"1\" class=\"dataframe\">\n",
       "  <thead>\n",
       "    <tr style=\"text-align: right;\">\n",
       "      <th></th>\n",
       "      <th>Teste</th>\n",
       "      <th>Irrelevante 0 / Relevante 1</th>\n",
       "    </tr>\n",
       "  </thead>\n",
       "  <tbody>\n",
       "    <tr>\n",
       "      <th>0</th>\n",
       "      <td>@0chavex0 @ornate_puma vdd to resfriado</td>\n",
       "      <td>0</td>\n",
       "    </tr>\n",
       "    <tr>\n",
       "      <th>1</th>\n",
       "      <td>📽 neymar e puma 👀❤!!\\ntemos novidades vindo aí...</td>\n",
       "      <td>1</td>\n",
       "    </tr>\n",
       "    <tr>\n",
       "      <th>2</th>\n",
       "      <td>@brgmsch mas a puma nem patrocina a aston</td>\n",
       "      <td>0</td>\n",
       "    </tr>\n",
       "    <tr>\n",
       "      <th>3</th>\n",
       "      <td>📽 puma neymar jr creativity  a inovadora chute...</td>\n",
       "      <td>1</td>\n",
       "    </tr>\n",
       "    <tr>\n",
       "      <th>4</th>\n",
       "      <td>a puma tá a evoluir muito, quem me dera que o ...</td>\n",
       "      <td>1</td>\n",
       "    </tr>\n",
       "  </tbody>\n",
       "</table>\n",
       "</div>"
      ],
      "text/plain": [
       "                                               Teste  \\\n",
       "0            @0chavex0 @ornate_puma vdd to resfriado   \n",
       "1  📽 neymar e puma 👀❤!!\\ntemos novidades vindo aí...   \n",
       "2          @brgmsch mas a puma nem patrocina a aston   \n",
       "3  📽 puma neymar jr creativity  a inovadora chute...   \n",
       "4  a puma tá a evoluir muito, quem me dera que o ...   \n",
       "\n",
       "   Irrelevante 0 / Relevante 1  \n",
       "0                            0  \n",
       "1                            1  \n",
       "2                            0  \n",
       "3                            1  \n",
       "4                            1  "
      ]
     },
     "execution_count": 80,
     "metadata": {},
     "output_type": "execute_result"
    }
   ],
   "source": [
    "test = pd.read_excel(filename, sheet_name = 'Teste')\n",
    "test.head(5)"
   ]
  },
  {
   "cell_type": "markdown",
   "metadata": {},
   "source": [
    "___\n",
    "## Classificador automático de sentimento\n"
   ]
  },
  {
   "cell_type": "markdown",
   "metadata": {},
   "source": [
    "Faça aqui uma descrição do seu produto e o que considerou como relevante ou não relevante na classificação dos tweets.\n",
    "\n",
    "Para nosso projeto escolhemos a marca de roupas Puma. A partir disso definimos como premissa que os tweets relevantes seriam aqueles que exaltavam a marca em seus comentários, em contra partida os tweets irrelevantes seriam todos os outros, ou seja os que não tinham relação direta com a marca e/ou falavam mal da Puma.\n",
    "\n",
    "###\n",
    "Para nossa análise, escolhemos a marca Puma, onde nessa análise foi pego como tweets relevantes, todos aqueles que enaltecia a marca, tais twitts como: Falando o quanto a marca é boa e o quanto a mesma está crescendo no mercado.\n",
    "E qualificou-se como irrelevante os  tweets que rebaixava a marca ou os que realmente não tinha haver com a marca.\n"
   ]
  },
  {
   "cell_type": "markdown",
   "metadata": {},
   "source": [
    "___\n",
    "### Montando um Classificador Naive-Bayes\n",
    "\n",
    "Considerando apenas as mensagens da planilha Treinamento, ensine  seu classificador."
   ]
  },
  {
   "cell_type": "code",
   "execution_count": 81,
   "metadata": {},
   "outputs": [
    {
     "data": {
      "text/html": [
       "<div>\n",
       "<style scoped>\n",
       "    .dataframe tbody tr th:only-of-type {\n",
       "        vertical-align: middle;\n",
       "    }\n",
       "\n",
       "    .dataframe tbody tr th {\n",
       "        vertical-align: top;\n",
       "    }\n",
       "\n",
       "    .dataframe thead th {\n",
       "        text-align: right;\n",
       "    }\n",
       "</style>\n",
       "<table border=\"1\" class=\"dataframe\">\n",
       "  <thead>\n",
       "    <tr style=\"text-align: right;\">\n",
       "      <th></th>\n",
       "      <th>Treinamento</th>\n",
       "      <th>Irrelevante 0 / Relevante 1</th>\n",
       "    </tr>\n",
       "  </thead>\n",
       "  <tbody>\n",
       "    <tr>\n",
       "      <th>0</th>\n",
       "      <td>o neymar inovou a puma https://t.co/qtcuvd1svj</td>\n",
       "      <td>1</td>\n",
       "    </tr>\n",
       "    <tr>\n",
       "      <th>1</th>\n",
       "      <td>a @puma tá deitando nas chuteiras do neymar, m...</td>\n",
       "      <td>1</td>\n",
       "    </tr>\n",
       "    <tr>\n",
       "      <th>2</th>\n",
       "      <td>fico assim no da puma affss https://t.co/1ygyh...</td>\n",
       "      <td>0</td>\n",
       "    </tr>\n",
       "    <tr>\n",
       "      <th>3</th>\n",
       "      <td>@g_estrella__ puma tá aí , mas três listra tá ...</td>\n",
       "      <td>1</td>\n",
       "    </tr>\n",
       "    <tr>\n",
       "      <th>4</th>\n",
       "      <td>@0ketlyn_s eu acho que um puma ^^</td>\n",
       "      <td>0</td>\n",
       "    </tr>\n",
       "    <tr>\n",
       "      <th>...</th>\n",
       "      <td>...</td>\n",
       "      <td>...</td>\n",
       "    </tr>\n",
       "    <tr>\n",
       "      <th>295</th>\n",
       "      <td>@brunabud_ aí poderia ter mais que so um puma ...</td>\n",
       "      <td>0</td>\n",
       "    </tr>\n",
       "    <tr>\n",
       "      <th>296</th>\n",
       "      <td>to apaixonada num tênis puma mas vi uns coment...</td>\n",
       "      <td>0</td>\n",
       "    </tr>\n",
       "    <tr>\n",
       "      <th>297</th>\n",
       "      <td>@leoboschiroli tô quase pedindo aquele puma</td>\n",
       "      <td>1</td>\n",
       "    </tr>\n",
       "    <tr>\n",
       "      <th>298</th>\n",
       "      <td>oq é aquele puma que o neymar largou no story,...</td>\n",
       "      <td>1</td>\n",
       "    </tr>\n",
       "    <tr>\n",
       "      <th>299</th>\n",
       "      <td>aprendi a gostar até de puma mas cat &amp;amp; dog...</td>\n",
       "      <td>0</td>\n",
       "    </tr>\n",
       "  </tbody>\n",
       "</table>\n",
       "<p>300 rows × 2 columns</p>\n",
       "</div>"
      ],
      "text/plain": [
       "                                           Treinamento  \\\n",
       "0       o neymar inovou a puma https://t.co/qtcuvd1svj   \n",
       "1    a @puma tá deitando nas chuteiras do neymar, m...   \n",
       "2    fico assim no da puma affss https://t.co/1ygyh...   \n",
       "3    @g_estrella__ puma tá aí , mas três listra tá ...   \n",
       "4                    @0ketlyn_s eu acho que um puma ^^   \n",
       "..                                                 ...   \n",
       "295  @brunabud_ aí poderia ter mais que so um puma ...   \n",
       "296  to apaixonada num tênis puma mas vi uns coment...   \n",
       "297        @leoboschiroli tô quase pedindo aquele puma   \n",
       "298  oq é aquele puma que o neymar largou no story,...   \n",
       "299  aprendi a gostar até de puma mas cat &amp; dog...   \n",
       "\n",
       "     Irrelevante 0 / Relevante 1  \n",
       "0                              1  \n",
       "1                              1  \n",
       "2                              0  \n",
       "3                              1  \n",
       "4                              0  \n",
       "..                           ...  \n",
       "295                            0  \n",
       "296                            0  \n",
       "297                            1  \n",
       "298                            1  \n",
       "299                            0  \n",
       "\n",
       "[300 rows x 2 columns]"
      ]
     },
     "execution_count": 81,
     "metadata": {},
     "output_type": "execute_result"
    }
   ],
   "source": [
    "# Todos os tweets: Treinamentos\n",
    "dados = pd.read_excel('puma.xlsx')\n",
    "dados"
   ]
  },
  {
   "cell_type": "code",
   "execution_count": 82,
   "metadata": {},
   "outputs": [
    {
     "data": {
      "text/plain": [
       "0         o neymar inovou a puma https://t.co/qtcuvd1svj\n",
       "1      a @puma tá deitando nas chuteiras do neymar, m...\n",
       "2      fico assim no da puma affss https://t.co/1ygyh...\n",
       "3      @g_estrella__ puma tá aí , mas três listra tá ...\n",
       "4                      @0ketlyn_s eu acho que um puma ^^\n",
       "                             ...                        \n",
       "295    @brunabud_ aí poderia ter mais que so um puma ...\n",
       "296    to apaixonada num tênis puma mas vi uns coment...\n",
       "297          @leoboschiroli tô quase pedindo aquele puma\n",
       "298    oq é aquele puma que o neymar largou no story,...\n",
       "299    aprendi a gostar até de puma mas cat &amp; dog...\n",
       "Name: Treinamento, Length: 300, dtype: object"
      ]
     },
     "execution_count": 82,
     "metadata": {},
     "output_type": "execute_result"
    }
   ],
   "source": [
    "# Separando apenas a planilha de Treinamentos.\n",
    "t_treinamento = dados.loc[:, 'Treinamento']\n",
    "t_treinamento"
   ]
  },
  {
   "cell_type": "code",
   "execution_count": 83,
   "metadata": {},
   "outputs": [
    {
     "name": "stdout",
     "output_type": "stream",
     "text": [
      "['o neymar inovou a puma https//tco/qtcuvd1svj', 'a puma tá deitando nas chuteiras do neymar me manda essa nova ai puma que eu largo a minha nike  🤧 ', 'fico assim no da puma affss https//tco/1ygyhdzhmi', 'g_estrella__ puma tá aí  mas três listra tá lindo tbm', '0ketlyn_s eu acho que um puma ^^', 'gustavocapaa nao tem puma nike ou adidas', 'chuteira do neypuma apresentou hoje a linha neymar jr creativity que maravilha de chuteira perfect https//tco/jqcuvaxg1c', 'a nova coleção da puma  🤤 ', 'camuflagemdodia camisa da nike boné do cleveland short da adidas tênis da puma mochila da fila', 'kevass0 neymarjrdepre neymarjr pumabrasil site da puma mas ainda não tá no catálogo brasil americana já está', 'ela repara no detalhe do meu puma disc', 'neymarjrdepre neymarjr pumabrasil onde vende essa não achei na loja da puma', 'das puma fick prada  🖕🏿  https//tco/us7iemubr6', 'negócio imperdível  tshirt puma originalps se não queres comprar  também não atrapalhes o negóciovamos lá que hoje é présexta bom dia ♡thursdaymotivationthursdaythoughts https//tco/3bitcptxx4', 'la fameuse puma ouigo https//tco/yyiqbjqdok', 'tão cadelinha da puma q eu acabei d perceber q eu tenho 3 blusas iguais msm modelo msm cor', 'puma_parda ela é de campina grande tá carente é quase inevitável kkk vamo passar pano pra ideia de tabacudo', 'neymarjr pumafootball oi ney eu sou seu ídolo me manda uma meia da puma', 'lysaparede_ mas eles não fazem roupa pro paddock né os meca usam puma', 'williambender cadê o dinheiro das vendas de jogadores premiações quase 250milhões direito de tv da rede globo premieri tnt sbt puma 26 milhões quê ganhou no campeonato brasileiro sai fora maurício bananote anderson barros jaiminho cícero sousa', 'af tô vendo um boné da puma aqui no site muito top já quero que chegue na loja porque o frete tá uma facada', 'neymar tá dando uma estética nova mto foda pra puma', 'drewbsizzler euphorart lovatorns aí você forçou né a hailey tá crescendo mt como modelo fotografia mas ela ainda não pegou contratos grandes como a selena puma pantene cocacola adidas coach louis vuitton verizon e tem mais capa vogue us que a hailey mesmo sem ser modelo', 'a puma arrasou nesse ensaio gostei', 'petição pra música “puma” do dogor_10 pexande npsidoka virar julia de tanto que eu amo ela demais', 'muuhpro pumaadidas ou nike', 'eu indo usar puma 😎  https//tco/liraqb33kp', 'neymarjr pumafootball neymar manda um desse pra mim puma bobojaco aí 🥺  🥺  🥺  🧥  🧥  🧥  🧥  🧥  🧥  🧥 ', 'mina bandida me arranha igual puma tô elegante vestido de puma', 'é neymar essas chuteiras da puma não dá kkkkkkkkkk nike é diferenciada demais', 'xcapimbr vai comprar studios kkkkkkkkkkkkk', 'alguém sabe qual o pix da puma https//tco/t6tdute9jo', 'puma_parda foda é que esse tipo de coisa do inss é supor comum meu pai até hoje não conseguiu se aposentar mas não pode trabalhar ele tem uma doença de pele muito rara e como é enfermeiro corre risco de infecções o inss não reconhece a doença que ele tem', 'mcsoeiro_ kkkkkkkkkkk puma adidas e nike  🤡  https//tco/a7a5ft89qt', 'puma_bet metin52703103 pumabet escoubar', 'incrith felaange amiga eu estou criando a desculpa em minha cabeça que eu queria um para ser o único que usaria fora de casa né e uma vez tive um puma e além de bonito ele era muito confortável tenho um tenis muito confortável só q feio e os bonitinhos são todos conforto meh sabe', 'comprei um tênis da puma só pq ela patrocina o neymar se n esquece  👋🏼 ', 'márcio me deu uma blusa linda da puma é um amor esse garoto', 'se alguém souber de sorteios q os prêmios são kombifiltro da moogmodularfuzz da zvexfender mustang basspuma gt 16 1980é só me avisar q eu colo emmm quero um desses presentes ai', 'puma_parda ah poxa adoro a vitoria tubo', 'não sei de quem é esse pénota 4/10 achei feio mas é da puma então foi caro https//tco/wir4p4ys0j', 'oscarwang_ meu bb eu queria ganhar roupas da puma tbm esses trainees tiveram sorte', 'ramos85764697 de fato é muito cara essas da puma essa é adidas', 'queria uma chuteira da puma', 'num show do txt eu super imagino as músicas com as coresvermelho puma cysmazul campd blue hour noas verde roller coaster cwjltma laranja blue orangeade  https//tco/ma1zs4pxar', 'lewishamiltonbr puma credo mais é lindo viu  😍  😍 ', 'pablosales1984 fico triste demais quase 250 milhões em premiações patrocinadoras crefisa fam puma tv globo premieri tnt sbt vendas de jogadores 26 milhões pra onde está indo esse dinheiro tem que fazer uma cpi investigação único jeito', 'se a criatividade fosse um idioma a tradução perfeita seria nova puma future z creativity  neymarjr  🔮 saiba mais no https//tco/e0gotvkaoa https//tco/wnft4clhcf', 'a pessoa que fala isso nunca escutou txt de vdd e nunca chegou perto de eternally puma e afins https//tco/vlx2di67rd', 'jwpitbulldafade tá brincandopuma e rainhaestilo e conforto', 'desconto de 15 no site ou no aplicativo centauro cupom d84372caminhadaesporte esporteinterativo basketball fitness futebol nikeadidaspumavoleibol saudesaudefisica penaltı vendas cupomdedesconto desconto15descontometacompras https//tco/pfd5buw3by', 'eu vejo esses vídeos em jaguar e só penso que o carro é da puma', 'slc mano essa chuteira q a puma lançou é mala hein', 'as roupas da puma que o neymar usa são perfeitas e parecem que só ele tem kkkkkk esse ai com os detalhes rosa 😍 ', 'neymarjrdepre neymarjr pumabrasil puma aceita rins ', 'como até com pão puma e todo mundo fica  🤢  🤢  🤢  https//tco/2blhiwtorp', 'nay_nay055 era da puma e pumas não gostam de ficar presas elas devem ter corrido', 'palmeiras e o dinheiro dos títulos da crefisa da puma e do avanti contrato de televisão porcentagem em vendas das marcas palmeiras  jogadores que foram vendidos salários gigantesco como o de dudu ramires e b henrique não faz mais parte e o time mesmo assim está no decifit galiotte', 'quero colação do neymar nem gosto de puma mass quero https//tco/ugdfnnjrwb', 'neymarjrdepre neymarjr pumabrasil ginmyname puma finalmente acertou cz  🙌🏻  🙌🏻  🙌🏻 ', 'para de lançar roupa puma tô ficando sem money', 'essa semana do consumidor nike e puma me mandando email  c promoção nos tênis se fuder não tenho dinheiro porra', 'boyzkook se eu to vendo direito 991 plays no album eternity e eu sei bem que 900 é só em puma', 'neymarjr pumafootball pede pra puma me dar uma luva neymarjr pumabrasil pumafootball', 'darthkrayt4 é exatamente com pão puma que fica mtt bom', 'neymar  puma  😍  https//tco/pfe3hdojnv', 'a puma e o amor da minha tmnc 😍 ', 'o tênis da selena e do neymar em parceria c a puma estão ridículos de tão maravilhosos', 'neymar x puma future z creativity  👑  🧢  https//tco/clker1ke4j', 'thefootballsc puma or umbro', 'odeio o neymar de puma odeio', 'ramos85764697 nãoe a 3 de antes da puma entrara prevent tinha 1000 e destribuil pros funcionários', 'pensando em mudar meu nome pra pão puma https//tco/txajldiqgc', 'as novas puma de neymar  🔥  https//tco/mu6pxdnapi', 'so queria uma nova chuteira da puma  🥰  🥰  ⚽ ️', 'na coleção do homi a puma acertou demais pqp https//tco/fpr3h397go', 'gente eu queronova coleção do neymar com a puma “neymar jr creativity”tô apaixonada nessas cores  💕  💙  https//tco/mfjt1vw9rl', '9  cat and dogesta aqui cujo divide opinioes no mundinho kpopper e moa twt mas nao ligo ela esta acima de muitas musicas meus pequenos furries a mae de puma eh esta musica https//tco/xop1qn5qqx', 'tao linda e rara q nem o site da puma tem https//tco/ts33uoghro', 'boné da adidas camisa da puma short da nike e chinelo da fila é muito errado', 'barrets_ uma grande honra batalhar com a puma', 'juanitobisonte puma ok não curto muito da umbro 🤷🏾\\u200d♂️  🤷🏾\\u200d♂️ ', 'wagnerjrcunha atletico siimmm a puma mandou bem demais nesse no slk e esse jogo também dominante como sempre  🐔  ⚫  ⚪  ❤ ️', 'toda noite eu vo dormir pensando se um dia conseguirei encontrar o tênis da puma que eu tinha vendendo em algum lugarou algum parecido', 'josgome40657225 deixa estar que assim que o benfica mudar de adidas para puma a adidas passa logo a ter as melhores camisolas do mundo outra vez', 'neymar amp puma https//tco/v4shkzu7ds', 'puma_parda exato lugar de milico é longe da política', 'comprar meu tênis da puma mes que vem e não tem nada que me impeça', 'depois que o neymar foi pra puma só tá fazendo chuteira zika https//tco/umv3oudsqq', 'mazzuela o logo da puma', 'minha mãe me deu um tênis da puma  🥺 ', 'puma_parda e a fila aumentando lá fora ', 'linda essa camisa do rgvfc da puma  😍  https//tco/ph3sytmtbq', 'próximos panos serão da puma', '_isapires lou_cura_ https//tco/9ohwtluy63espero ter ajudado', 'pgeracoes homemtacokkkkkk capt_puma robosonysta windowsclubbr  🤦 ptqp mais uma burrico azul  😫 ', 'simse eu tivesse dinheiro eu só usaria puma por causa do ney e do palmeiras', 'queria muito o slip on da puma mas não sei se vale a pena comparar os tênis da puma  😔 ', 'pumabrasil porque aqui no brasil não ta disponível nem a jaqueta e nem a jersey do neymar po neymarjr a puma não me ajuda a comprar seus kits  😑  https//tco/2u6voecx5w', 'lewishamiltonbr puma procure um defeito e falhe miseravelmente', 'menino ney virou adulto ney mas de puma vai virar idoso ney https//tco/ivmgucvxjj', 'gente eu tô quase desmaiando pelo amor de deus gente eu entrei na viva puma  https//tco/0xv3cdbqmu', 'pvte7x primeiramente das mulher só tem um 🥰  você deve tá louco a puma e uma putaria tmnc', 'esperando a puma obrigar a bruna marquezine e o neymar a fazer uma campanha juntos isso pq quando eles tiravam fotos juntos o brasil era melhor a gente nem precisa deles voltando a gente só precisa das fotos kkkkkkkkkkk https//tco/jjzttrfifa', 'smileyddeonu vote for enhai vote for enhypen for stanworld 엔하이픈 enhypen enhypen_members', 'benficaeazeite sinceramente que se escolha a que será mais rentável acredito que não seja a adidas e umas das marcas que o benfica podia tentar poderia ser puma umbro under armour ou kappaagora lá está a escolha deverá ser sempre a que rende mais pois traz mais garantias', 'puma é horrível rapa nada haver com o ney https//tco/9eaafsmykb', 'tinybeomgyu algumas cara dizer q é tudo seria mentira tem um monte q me irrita principalmente nas partes do beom e do hyuka mas temos mt mais músicas q demonstram bem a técnica deles do q o contrário 20cm puma blue hour force angel or devil ghosting e por aí vai', 'curtavermelha 2021 e ainda há pessoal a desconsiderar a puma como uma marca de 2ª percebo que se goste ou não mas a verdade que a adidas tem arriscado muito pouco connosco e quando o fez foi mau coincidência ou não ficou pior deste os nossos maus resultados na champions', 'policiaiso no 7 da col bolso negro/puma editora /1a edição/maio de 1992/capa de vasco eloy/trad de paula reis o autor dan kavanagh  pseudónimo de julian barnes n1946 inglês romancista também de policiais ensaísta memorialista originalputting the book in 1985 https//tco/znaocgjhur', 'eu já lancei um adidas novo no lugar do puma disk e água dos amigo  🥵 ', 'puma não erra ta maluco https//tco/wbbj1b2nsv', 'sedento pro meu puma xray chegar e meus óculos novos e sexta vou cortar o cabelo fazer a barba ai papai vou estar mt lindo nas próximas semanas https//tco/nwx14tyqq8', 'goncalodcnunes pessoalmente acho que a maneira como as camisolas da puma ajustam ao corpo fica male olhando para outros contratos a nível mundial adidas e nike continuam muito acima apesar do crescimento da pumano entanto importa sempre vem quem dá mais nas ofertas recebidas pelo benfica', 'sabe o que eu acho dahora no neymar que ele inspira a criançada manja por ex ele acabou de repostar a foto que o filho do boateng trajado de puma/neymar então assim os filho dos adversários dele quer ser igual a ele  🥺 ', 'puma patrocinou legal esse filme', 'lastnoearth os da puma amg acho lindo demaisss', 'lokleinhs_ nalimsgirl feio q doi pumagt', 'nunca curti corta vento mas essa que comprei da puma é muito style  🥵  🥵 ', 'algm tem coisa do yeonjun em angel or devil ou puma se sim por favor mande', 'batsumane neymar c’est puma', 'puma_parda a pessoa me mandar uma dessas a essa altura do campeonato puta que me pariu hein', 'agora sim está dando vontade de usar chuteira da puma  ✅  🚀  https//tco/gx8opopdil', 'ttdajjoyce maísa é embaixadora da samsung e patrocinada pela puma só por essa parte já acho que é ela', 'yeonsx0 em puma  🗣 ', 'beomietalent beompallet vei e puma nossa aclamado e icônico', 'ph_caixeiro neymar pai todo dia me enche o saco pra fechar com a puma 😂  😂  😂 to pensando  🤔  🤔  🤔 ', 'puma se continua assim vai dar mais que falr do que a nike e a adidas', 'pedrokcalheiros o yungmxch escrever a parte dele de pisando em puma e me mandar hj ainda', 'hyukaisoulmate jakespoem de filhote pra puma com sucesso 👏🏻  👏🏻  👏🏻  👏🏻  👏🏻 ', 'negrogato_sdv isso e um puma ', 'sério se alguém ver na internet as camisas da puma principalmente de 2013 e 2015 me manda por favoooor tô a um tempão procurando pra comprar e não acho de jeito nenhum', 'loggi puma compre o produto com vocês e ta na entregadora e não consigo entrar em contato com eles me ajuda  pumabrasil  loggi', 'simaopereira11 nem design material tecnologia do equipamento puma está muito mais à frente ajuste ao corpo', 'sorbint vc n gosta de puma benji o mv me fez deitar', 'puma podia bem patrocinar o benfica esses ao menos sabem o que fazem ao que toca a equipamentos https//tco/epbw82crxn', 'moniefleur eu não sabia kkkk na minha cabeça eles ainda eram embaixadores da puma https//tco/4huqjos1r2', 'carlaxsls rxhstan beberexha puma bebeshotass warnerpromo eu sempre te falei  🥵  💛 ', 'vejo as fotos da fila e fico  😐  missing puma hours open', 'homemtacokkkkkk pgeracoes robosonysta windowsclubbr não é demon souls de ps3 kkkkkkkkkkkkkkk', 'neymarjr pumafootball a puma ficou maluca o projota tava cancelado ate esses dias ai kkk', '‘creativity’ a nova coleção da puma com assinatura de neymar https//tco/zdwqezlquf', 'acabou de chegar meu puma q eu tinha comprado semana passada ehehehe eh mto eh massa', 'tô com um puma disk pra brick', 'por mim era assinar contrato com a puma ou com a nike camisolas bem mais lindas', 'tô parando pra analisar n posso pegar dinheiro q já quero ir na centauro sou muito fascinado em nike é puma tmlc 🤦🏽\\u200d♂️ ', 'drinotty_ yoongglx leektear oliveira eh estiloso ele so vem com tênis da nike adidas pumaele tem patrocínio', 'tbt de hj vai para o lançamento das camisas da puma de 2012  tirando o lucas zen que saudade meus amigos https//tco/w3pswbu4lm', 'finalmente a puma fez algo bonito  🙌🏻  https//tco/8aahj2b9ew', 'bando de filha da puma arrombados do caralho assim que a menina agradeceu deixaram de seguir isso significa que seu brilho encomoda princesa vc vai ganhar mt mais 👑 ', 'puma dói os pé prefiro nike https//tco/r3qckxcq2e', 'quero comprar um tenis da puma', 'nova coleção puma future z x neymarele tá  muito gato  🤤  https//tco/ihxjxlbbcp', 'era lindo ver o benfica com marca da puma https//tco/gxdsiiy8fi', 'pra mim o mv mais foda do txt sempre irá ser puma até que chegue um para provar o contrário e mudar a minha opinião', 'tt_marcelojr o neymar deu outra cara pra puma tem jeito n', 'esse bbb só tem medroso briga duas três vezinhas e já quer sair vá puma porra', 'deixar de comprar um puma de r 50000 para fazer meu mapa astral foi a escolha mais feliz que eu fiz hoje', 'odeio usar esse tênis da puma mas ele é mega confortável parece que estou descalça', 'achetez des sac puma', 'só queria pegar umas peças da puma', 'scfarense_ betopimparel o beto treina com adidas e nike muito bem não havia uma meias da reebok e um chapéu da puma também vamos lá levar isto a sério por favor', 'themikesalk puma ignite', 'e a malta que anda a desejar ter a puma em vez de adidasmas vocês têm opinião que é pessoal ou é só porque está na modaadidas é adidas', 'miaudango eu prefeitura a feiticeira escarlate principalmente por causa do spoilernovo traje dela mas aposto que o neymar será bem interessante também talvez até se transformando numa puma ou algo do tipo https//tco/pcbw8qdc9a', 'carlaxsls rxhstan beberexha puma bebeshotass warnerpromo ela destruiu tudo aqui  ☠ ️ ☠ ️ ☠ ️', 'a coleção da pumagtgtgtgtgtgtgtgtgt', 'aossayu txt_members obvio nadie tiene miedo con puma de fondo ajdksk', 'rexhabrasil beberexha kakakaka por um momento achei que ia sair uma versão de puma do txt com a bebe rexha kakaka quase surtei https//tco/yr5wfalk1x', 'é midzy então diz uma música do aespa que não seja puma', 'nunca liguei pra nike adidas puma asics ou oq tiver o importante é se dá bem com sigo mesmo', 'dreams_thata matheus igorcabral11 “hmmm casaquinho da puma baratinho”', 'lala_puma kkkkkkk grazadeus ela ainda não ta na fase tiktok', 'marcopuccini_ é foda mano puma ta de brincadeira', 'bota um puma disk no pé que delícia de mulher', 'a puma me deixou forte 🙌  💸  ✍ ️', 'fodase vou comprar esse tênis da puma', 'neymarjr pumafootball tu pode pedir pra puma tirar foto do necowilliams01 agradeço', 'joel_amhaus n fax na puma to esperando o lockdown acabar pra jogar uma bomba la o povo enrrolado e ruim de serviço', 'mão ta coçando pra comprar um produto do neymar na puma', 'beompallet hopecandys eles viram o mv de puma por acaso', 'soudanacao puma mto mais top q a fraca adidas', 'puma_parda o marco do gás é um projeto de lei do psdb não tem nada a ver com o guedes', 'neymar x puma future z creativity  👑  👕  https//tco/pvrykn2jyz', 'não sei se aceito a proposta da nike ou da puma cr7 e ney me chamando', 'adorei o ensaio da puma 😍 ', 'pedra_veronica e eu que não consigo comprar nem um ténis da puma https//tco/fwu28soao0', 'se eu tivesse condições ia andar só de puma', 'eu quero essa camisa nova do nj x puma', 'neymar x puma “creativity” https//tco/qgw6wwixpq', 'krl essa blusa da puma tá enjoada dms pqp  🤤  https//tco/ijk3sofdk8', 'a nike faz isso a new balance faz isso a puma faz isso todas as marcas usam templates https//tco/sgbf1jf1j3', 'euperdendotempo ameliunga puma_parda aolivais advogados da globo processando com tanta força que quando o nego di tiver filhos o registro do nascimento vai ser no serasa', 'naaraalvs naara se o seu pedido foi via https//tco/e0gotvkaoa por favor manda uma msg para sacsitepumacom primeiro e depois seus dados de cpf e email por dm para checarmos o seu caso por favor obrigado', 'nao neymar puma ', 'as fotos da nova campanha da puma está tudo de bom ney ney está muito gato https//tco/bb3mwc5msw', 'gordaock puma me patrocinou', 'bermuda pumacustando apenas r 9990  💸 na compra de 3 unidades ganhe 20 de desconto  🏷 ️ compre a vista ou nos cartões de crédito  💸  💳 whatsapp disponível 📱 https//tco/t9m6ekfrv5faça já seu pedido e receba em até 1 hora  ⏰  🚛  usecapixaba estilocapixaba https//tco/xjpznerehm', '100 influenciada pelo menino ney pois agora quero um tênis da puma nunca comprei nd da puma', 'gurizinh0lr eu tbm fiquei louca no tênis puma que a dani calabresa usou nos posts da viagem pra disney lindo demais quero ver o do lucas', 'pra tênis de corrida vcs preferem nike puma olympikus ou adidas', 'ela repara no detalhe do meu puma disk', 'só quero uma camisa da puma do neymar mas só tem tam masculino ', 'minha fav é our summer e a que eu menos gosto é puma https//tco/lgkcojwnst', 'neymar x puma  🔥  🔥  https//tco/khartgobxr', 'beomietalent sim vei falam que a bh fica na mermisse com eles muito bom assisti o mv de puma e achei que foi wlts', 'puma_533375 omatribel gabylevinas seguramente', 'deprepalmeiras tem que fazer uma cpi  investigação onde está indo esse dinheiro dinheiro quê o palmeiras quase 250 milhões em premiação direito de tv globo premieri tnt sbt patrocinadores crefisa fam puma vendas de jogadores 26 milhões ganhou no campeonato brasileiro', 'puma_parda até onde a carência pode levar o ser humano mddc', 'ironefixe preferia mil vezes mais a puma', 'nova coleção puma future z x neymar  🔥  https//tco/avcs45zpsh', 'ele e a bruna com parceria com a puma era o momento perfeito de fazer alguma coisa de casal \\U0001f972  https//tco/e0bvqymacp', 'hoje chegou minha encomenda da puma e minha camisa do flamengo agora como vou fazer pra pagar tudo isso eu não sei', 'a nova future z faz uma homenagem ao empolgado atleta da bola aquele craque criativo que se destaca com habilidade e rapidez em raciocínio moldando o jogo diante de sua visão a cada movimento jogada e ação 📸  neymar/puma https//tco/dbtgxwof3f', 'ó deus vai tirando senhor toda propaganda de collant  😭  😭 toda promoção de sapatilha deus  🤧  🤧 manda pra lixeira qualquer email da nike puma e adidas ó pai  🥺  🙏 ', 'a puma nunca tinha feito uma chuteira massa até a chegada do adulto ney eles esculacharam dms nessa ai', 'a puma ta mexendo cmg  🤔 ', 'puma era muito melhor', 'caraio em puma enfiou no cu da nike e ainda girou', 'criatividade é com ele mesmo né  😉  curtiram a nova chuteira neymarjrcreativity  🤩  👉🏽 veja mais https//tco/4vdwxb29xineymar neymarjr njr puma pumafootball boots creative neymarfans neymarskills boots futurez https//tco/rokn7xyahp', 'fiz uma receitinha de comida no instagram ta muito gostoso  😋 ', 'eu sou tão cadelinha do neymar que eu tô cogitando comprar coisas da puma só por causa dele', 'esse sentai tá ótimo mais por favor toei https//tco/ti5zfqyhhk', 'goncalodcnunes mas as marcas vãose reinventando muito pode mudar até aínão são contratos com mais uma equipa ou outra puto ahah no futebol a nível de clubes pelo menos a puma não tem mais do que 6 equipas verdadeiramente relevantes a nível mundial', 'neymar x puma vem coisa nova por ai 🔥  https//tco/ornpk8sfug', 'era só um patrocínio da puma  🤧 ', 'maxveyratdurbet bon bah go acheter des puma', 'desconto de 15 no site ou no aplicativo centauro cupom d84372caminhadaesporte esporteinterativo basketball fitness futebol nikeadidaspumavoleibol saudesaudefisica futebolneymargolsportvcuiabagremiointernacional https//tco/iwkxx9vnns', 'simaopereira11 tendo em conta a qualidade crescente da merda que têm feito vão perder a maioria dos importantes a dimensão global é afetada por tudo isso não é por terem contratos com mais uma equipa ou outra que são melhores que a puma', 'puma_parda meus pais tentaram reverter uns anos atrás e não conseguiram agora não mexem mais nisso eu digo que eles deveriam continuar tentando mas eles são teimosos e acham que não dá mais para fazer alguma coisa', 'puma a calarme  🤭  coisa linda https//tco/yxcclsptir', 'creativity puma tem também produtos com a identidade neymar jr personalizados como camisetas shorts acessórios de treinamento e vestuário para usar fora dos gramados https//tco/bobxnpw1qh', 'oloco minha mãe vai comprar duas calças da puma pra mim  🤠  🤠 ', 'puma mais pequena que a adidas estamos a passar mal https//tco/05u1npamcp', 'realmente falaram isso pra um grupo que tem mvs como cysm puma e eternally que realidade é essa que vivem https//tco/geuvweymy3', 'portuguesegb rbaptista08 curtavermelha claro e eu até gostava de ver o benfica com puma caso a adidas continue a pagar a merda que tem pago mais vale ir pa puma digo eu', 'puma n colocou 3 itens da coleção nv do neymar triste estou', 'sério o tanto de gente falando que o txt tem que inovar nos mvs gente vcs se quer pararam pra ver algum mv eternally puma nap of a star', 'simaopereira11 só se o marketing te engana muito bem puma é muito mais rentável faz melhores contratos e em termos de dimensão está ao nível de nike e adidas neste momento é superior à adidas que perde contratos em sítios atrás de sítios', 'tuittamariah faz um tempo que mudo tá ganhando mais na puma pelo que li na época', 'to pisando muito fofo com meu puma novo 🤢 ', 'vmicut kkkkkkkkkkkkkk queria q eles fossem da nike a puma é mt blé', 'a puma ficou mais bonita né  efeito neymar https//tco/btrdxvdqvu', 'jasonso19617695 samiabomfim não livro ninguém dos seus erros facilitou acesso para empreiteiras teve fraude que se puma os responsáveis e ponto mas ficar nessa de ser contra a corrupção de um e ficar fingindo não ver a do outro não funciona comigo', '1fxxlz da puma viado', 'minho quando você quiser fazer um dance cover de puma saiba que eu estou pronta  😎  https//tco/qadrodp2hw', 'eu ela e o puma  👩\\u200d❤️\\u200d👨  🐱  https//tco/3o72vw03r8', 'puma_parda ao q parece esse é o novo mantra bolzonazi estão fortes nessa tese de autorresponsabilização não aguento', 'toda vez que vou na puma ou entro no site quero deixar meu dinheiro todo lá', 'lewishamiltonbr puma se houver alguém tão admirável quanto ele na atualidade eu desconheço lh é incrível', 'simaopereira11 não identifico nada que faça a adidas melhor que a puma', 'crl nada a ver neymarjr com a puma  🤦🏻\\u200d♂️  😒  https//tco/lotoz2b5pa', 'yudi_viturin a puma tá fazendo umas coisa linda dmsss nike e adidas que não abre o olho pra ver', 'puma se supera cada dia nas chuteiras https//tco/uyprbzlz7j', 'puma_parda sem contar que esta fase de colapso do sistema de saúde é justamente essa tem mais gente precisando entrar na uti do que gente saindo', 'hermanosfc quase 250 milhões de reais em premiações patrocinadoras crefisa fam puma tv globo premieri tnt sbt vendas de jogadores 26 milhões de reais no campeonato brasileiro blz  🤫 ', 'a puma lançou nesta quintafeira a coleção ‘neymar jr creativity’ apresentando a inovadora chuteira future z 11\\xa0eai curtiram  🔥  ❤  https//tco/kl4mphhdvp', 'neymarjr pumafootball koe adulto ney manda uma peça da puma aqui pra casa tmj', 'olha essa blusa da puma  😍  😍  https//tco/nglhaqvvvb', 'puma_parda eu tb eu não vejo nem filme com estupro pedofilia ou maldades reais me incomoda de verdade mas ver um negacionista morrer por covid me faz pensar bem feito amenizo com um muito karma nessa hora é o que tem pra hoje mas vou melhor com o tempo', 'rabona_tv curtavermelha por mim era pumatêm evoluído e com designs cada vez mais bonitos e originais', 'puma_parda ver o chanceler biruta no ostracismo é um dos sonhos que eu acalento', 'neymarjrdepre pumabrasil escreveu um bcomercial brumar pra puma', '‘creativity’ a nova coleção da puma com  neymar https//tco/oqmlrnuyc5', 'dallasginreturn caramba tuta em outro nível eu tô na puma e 357 mag juvenil perto disso aí  🇧🇷  🇧🇷  🇧🇷  🤜  🤜  🤜  🤜 ', 'cada um com seu puma https//tco/dyc96b2n2w', 'ironefixe gosto da adidas mas não sou contra a mudança para a nike ou a puma', 'hoje eu sai de blusa da nike tênis da puma e mochila da adidas enfim a diversidade', 'netooswaldo proplayerstore maaaano a puma esse ano tá com td', 'minha prima mais uma vez me surpreendendo do nada de puma kkkkk  😻  😻  marianaa0910', 'creativityz disponível no https//tco/e0gotvkaoa https//tco/cimytqtekx', 'site da adidas/site da puma https//tco/qilo4pczzd', 'fernandez_puma flaco tremendo live que te sacaste ayer  💪 ', '0padilhauai meus carrinhos eh tudo lotado nike adidas puma lacoste tommy pergunta se eu compro', '_vitorinhxxxx na real eu prefiro puma pros dois', 'puma gte destruído após detonação da bomba dentro dele é possível ver o corpo do sargento guilherme pereira do rosário que morreu logo após a explosão rio de janeiro\\xa030 de abril\\xa0de\\xa01981\\xa039\\xa0anosàs 2115\\xa0  riocentroresponsável exército brasileiro https//tco/g6fsx6dzw2', 'puma_parda a burrice de quebrar contrato com a globo misericórdia', 'ghostlv1 curtavermelha a puma vai meter a adidas a um canto daqui a um ano ou dois', 'fuckarou puma fez collab com marca de pão', 'novo pôster de beberexha para campanha da puma https//tco/tvm8vjmybi', 'puma_parda sim a culpa é nossa eu que recusei 800 trilhão de pfizer por exemplo desculpa brasil', 'saudade das candids da selena saindo do pilates vestida de puma com uma bolsa da coach', 'puma_parda danielaaf se ainda ficasse calado', 'puma_parda danielaaf nem com a bandeira do brasil por amor à pátria rsrsrs', 'estou prestes a cometer o crime no site da puma 1 like eu confirmo a compra', 'as fotos da nova colab puma x kidsuper foram feitas aqui no brasil  https//tco/viqmmpjtns', 'neymar x puma future z creativity  👑  👟  https//tco/dixxlfqek9', 'simaopereira11 podes achar que ficam mal em termos estéticos mas o ajuste ao corpo da puma é muito melhor para o atleta do que a adidas', 'athodavid sério amg aqui só tem pão puma banana e maçãsem brincadeirae o resto é tudo comida da semana passada  😭  😭  😭  😭 ', 'goncalodcnunes o design é uma coisa subjetivaa adidas só fica atrás da nike nas marcas mais ricas de desporto do mundonos 10 contratos mais rentáveis do mundo 5 são nike 4 são adidas e 1 é puma cityclaro que em questões de materiais e tudo isso serão perfeitamente equiparáveis', '97froggys amg eles eram embaixadores da puma em 2018 o contrato acabou faz tempo agora eles são da fila', 'soaresday_ vamos trocar pelo verde da puma', 'tiagomarques32 rbaptista08 curtavermelha no entanto mesmo tendo tido uma grade b com a puma faturada ~20 milhões de euros', 'ch3rrb0mb uhumé hebe ele é um floppa é tipo um puma mais ele é dócil igual um gatinho /sorri com o beijinho e abraça mais fortinho', 'neymarjrdepre neymarjr pumabrasil neymar e patrocinado pela pumapuma automaticamente fazer roupas e tênis bonitos', 'brunabud_ aí poderia ter mais que so um puma de estimação', 'to apaixonada num tênis puma mas vi uns comentários falando q o tênis parece um chumbo de tão pesado', 'leoboschiroli tô quase pedindo aquele puma', 'oq é aquele puma que o neymar largou no story to apaixonado quero um', 'aprendi a gostar até de puma mas cat amp dog não me desceu até hj que tristeza']\n"
     ]
    }
   ],
   "source": [
    "# Limpando os tweets de treinamento usando a função que definimos como cleanup.\n",
    "lista_limpa = []\n",
    "for index, argumento in enumerate (t_treinamento):\n",
    "    #print(f'posição {index} tweeter: {argumento}')\n",
    "    limpa = cleanup(argumento.lower())\n",
    "    lista_limpa.append(limpa)\n",
    "    \n",
    "print(lista_limpa)"
   ]
  },
  {
   "cell_type": "code",
   "execution_count": 84,
   "metadata": {
    "scrolled": true
   },
   "outputs": [
    {
     "data": {
      "text/html": [
       "<div>\n",
       "<style scoped>\n",
       "    .dataframe tbody tr th:only-of-type {\n",
       "        vertical-align: middle;\n",
       "    }\n",
       "\n",
       "    .dataframe tbody tr th {\n",
       "        vertical-align: top;\n",
       "    }\n",
       "\n",
       "    .dataframe thead th {\n",
       "        text-align: right;\n",
       "    }\n",
       "</style>\n",
       "<table border=\"1\" class=\"dataframe\">\n",
       "  <thead>\n",
       "    <tr style=\"text-align: right;\">\n",
       "      <th></th>\n",
       "      <th>Treinamento</th>\n",
       "      <th>Irrelevante 0 / Relevante 1</th>\n",
       "      <th>Limpo</th>\n",
       "    </tr>\n",
       "  </thead>\n",
       "  <tbody>\n",
       "    <tr>\n",
       "      <th>0</th>\n",
       "      <td>o neymar inovou a puma https://t.co/qtcuvd1svj</td>\n",
       "      <td>1</td>\n",
       "      <td>o neymar inovou a puma https//tco/qtcuvd1svj</td>\n",
       "    </tr>\n",
       "    <tr>\n",
       "      <th>1</th>\n",
       "      <td>a @puma tá deitando nas chuteiras do neymar, m...</td>\n",
       "      <td>1</td>\n",
       "      <td>a puma tá deitando nas chuteiras do neymar me ...</td>\n",
       "    </tr>\n",
       "    <tr>\n",
       "      <th>2</th>\n",
       "      <td>fico assim no da puma affss https://t.co/1ygyh...</td>\n",
       "      <td>0</td>\n",
       "      <td>fico assim no da puma affss https//tco/1ygyhdzhmi</td>\n",
       "    </tr>\n",
       "    <tr>\n",
       "      <th>3</th>\n",
       "      <td>@g_estrella__ puma tá aí , mas três listra tá ...</td>\n",
       "      <td>1</td>\n",
       "      <td>g_estrella__ puma tá aí  mas três listra tá li...</td>\n",
       "    </tr>\n",
       "    <tr>\n",
       "      <th>4</th>\n",
       "      <td>@0ketlyn_s eu acho que um puma ^^</td>\n",
       "      <td>0</td>\n",
       "      <td>0ketlyn_s eu acho que um puma ^^</td>\n",
       "    </tr>\n",
       "    <tr>\n",
       "      <th>...</th>\n",
       "      <td>...</td>\n",
       "      <td>...</td>\n",
       "      <td>...</td>\n",
       "    </tr>\n",
       "    <tr>\n",
       "      <th>295</th>\n",
       "      <td>@brunabud_ aí poderia ter mais que so um puma ...</td>\n",
       "      <td>0</td>\n",
       "      <td>brunabud_ aí poderia ter mais que so um puma d...</td>\n",
       "    </tr>\n",
       "    <tr>\n",
       "      <th>296</th>\n",
       "      <td>to apaixonada num tênis puma mas vi uns coment...</td>\n",
       "      <td>0</td>\n",
       "      <td>to apaixonada num tênis puma mas vi uns coment...</td>\n",
       "    </tr>\n",
       "    <tr>\n",
       "      <th>297</th>\n",
       "      <td>@leoboschiroli tô quase pedindo aquele puma</td>\n",
       "      <td>1</td>\n",
       "      <td>leoboschiroli tô quase pedindo aquele puma</td>\n",
       "    </tr>\n",
       "    <tr>\n",
       "      <th>298</th>\n",
       "      <td>oq é aquele puma que o neymar largou no story,...</td>\n",
       "      <td>1</td>\n",
       "      <td>oq é aquele puma que o neymar largou no story ...</td>\n",
       "    </tr>\n",
       "    <tr>\n",
       "      <th>299</th>\n",
       "      <td>aprendi a gostar até de puma mas cat &amp;amp; dog...</td>\n",
       "      <td>0</td>\n",
       "      <td>aprendi a gostar até de puma mas cat amp dog n...</td>\n",
       "    </tr>\n",
       "  </tbody>\n",
       "</table>\n",
       "<p>300 rows × 3 columns</p>\n",
       "</div>"
      ],
      "text/plain": [
       "                                           Treinamento  \\\n",
       "0       o neymar inovou a puma https://t.co/qtcuvd1svj   \n",
       "1    a @puma tá deitando nas chuteiras do neymar, m...   \n",
       "2    fico assim no da puma affss https://t.co/1ygyh...   \n",
       "3    @g_estrella__ puma tá aí , mas três listra tá ...   \n",
       "4                    @0ketlyn_s eu acho que um puma ^^   \n",
       "..                                                 ...   \n",
       "295  @brunabud_ aí poderia ter mais que so um puma ...   \n",
       "296  to apaixonada num tênis puma mas vi uns coment...   \n",
       "297        @leoboschiroli tô quase pedindo aquele puma   \n",
       "298  oq é aquele puma que o neymar largou no story,...   \n",
       "299  aprendi a gostar até de puma mas cat &amp; dog...   \n",
       "\n",
       "     Irrelevante 0 / Relevante 1  \\\n",
       "0                              1   \n",
       "1                              1   \n",
       "2                              0   \n",
       "3                              1   \n",
       "4                              0   \n",
       "..                           ...   \n",
       "295                            0   \n",
       "296                            0   \n",
       "297                            1   \n",
       "298                            1   \n",
       "299                            0   \n",
       "\n",
       "                                                 Limpo  \n",
       "0         o neymar inovou a puma https//tco/qtcuvd1svj  \n",
       "1    a puma tá deitando nas chuteiras do neymar me ...  \n",
       "2    fico assim no da puma affss https//tco/1ygyhdzhmi  \n",
       "3    g_estrella__ puma tá aí  mas três listra tá li...  \n",
       "4                     0ketlyn_s eu acho que um puma ^^  \n",
       "..                                                 ...  \n",
       "295  brunabud_ aí poderia ter mais que so um puma d...  \n",
       "296  to apaixonada num tênis puma mas vi uns coment...  \n",
       "297         leoboschiroli tô quase pedindo aquele puma  \n",
       "298  oq é aquele puma que o neymar largou no story ...  \n",
       "299  aprendi a gostar até de puma mas cat amp dog n...  \n",
       "\n",
       "[300 rows x 3 columns]"
      ]
     },
     "execution_count": 84,
     "metadata": {},
     "output_type": "execute_result"
    }
   ],
   "source": [
    "# Criando um novo data frame com os tweets de treinamentos limpos\n",
    "dados['Limpo'] = lista_limpa\n",
    "dados"
   ]
  },
  {
   "cell_type": "code",
   "execution_count": 85,
   "metadata": {},
   "outputs": [
    {
     "data": {
      "text/plain": [
       "0           o neymar inovou a puma https//tco/qtcuvd1svj\n",
       "1      a puma tá deitando nas chuteiras do neymar me ...\n",
       "3      g_estrella__ puma tá aí  mas três listra tá li...\n",
       "5               gustavocapaa nao tem puma nike ou adidas\n",
       "6      chuteira do neypuma apresentou hoje a linha ne...\n",
       "                             ...                        \n",
       "287    simaopereira11 podes achar que ficam mal em te...\n",
       "291           soaresday_ vamos trocar pelo verde da puma\n",
       "294    neymarjrdepre neymarjr pumabrasil neymar e pat...\n",
       "297           leoboschiroli tô quase pedindo aquele puma\n",
       "298    oq é aquele puma que o neymar largou no story ...\n",
       "Name: Limpo, Length: 132, dtype: object"
      ]
     },
     "execution_count": 85,
     "metadata": {},
     "output_type": "execute_result"
    }
   ],
   "source": [
    "# Filtrando apenas os tweets relevantes e os adicionando em uma nova variável\n",
    "relevante = dados.loc[dados['Irrelevante 0 / Relevante 1'] == 1, 'Limpo']\n",
    "relevante"
   ]
  },
  {
   "cell_type": "code",
   "execution_count": 86,
   "metadata": {
    "scrolled": true
   },
   "outputs": [
    {
     "name": "stdout",
     "output_type": "stream",
     "text": [
      "[['o', 'neymar', 'inovou', 'a', 'puma', 'https//tco/qtcuvd1svj'], ['a', 'puma', 'tá', 'deitando', 'nas', 'chuteiras', 'do', 'neymar', 'me', 'manda', 'essa', 'nova', 'ai', 'puma', 'que', 'eu', 'largo', 'a', 'minha', 'nike', '🤧'], ['g_estrella__', 'puma', 'tá', 'aí', 'mas', 'três', 'listra', 'tá', 'lindo', 'tbm'], ['gustavocapaa', 'nao', 'tem', 'puma', 'nike', 'ou', 'adidas'], ['chuteira', 'do', 'neypuma', 'apresentou', 'hoje', 'a', 'linha', 'neymar', 'jr', 'creativity', 'que', 'maravilha', 'de', 'chuteira', 'perfect', 'https//tco/jqcuvaxg1c'], ['a', 'nova', 'coleção', 'da', 'puma', '🤤'], ['camuflagemdodia', 'camisa', 'da', 'nike', 'boné', 'do', 'cleveland', 'short', 'da', 'adidas', 'tênis', 'da', 'puma', 'mochila', 'da', 'fila'], ['ela', 'repara', 'no', 'detalhe', 'do', 'meu', 'puma', 'disc'], ['neymarjrdepre', 'neymarjr', 'pumabrasil', 'onde', 'vende', 'essa', 'não', 'achei', 'na', 'loja', 'da', 'puma'], ['tão', 'cadelinha', 'da', 'puma', 'q', 'eu', 'acabei', 'd', 'perceber', 'q', 'eu', 'tenho', '3', 'blusas', 'iguais', 'msm', 'modelo', 'msm', 'cor'], ['neymarjr', 'pumafootball', 'oi', 'ney', 'eu', 'sou', 'seu', 'ídolo', 'me', 'manda', 'uma', 'meia', 'da', 'puma'], ['af', 'tô', 'vendo', 'um', 'boné', 'da', 'puma', 'aqui', 'no', 'site', 'muito', 'top', 'já', 'quero', 'que', 'chegue', 'na', 'loja', 'porque', 'o', 'frete', 'tá', 'uma', 'facada'], ['neymar', 'tá', 'dando', 'uma', 'estética', 'nova', 'mto', 'foda', 'pra', 'puma'], ['a', 'puma', 'arrasou', 'nesse', 'ensaio', 'gostei'], ['muuhpro', 'pumaadidas', 'ou', 'nike'], ['eu', 'indo', 'usar', 'puma', '😎', 'https//tco/liraqb33kp'], ['neymarjr', 'pumafootball', 'neymar', 'manda', 'um', 'desse', 'pra', 'mim', 'puma', 'bobojaco', 'aí', '🥺', '🥺', '🥺', '🧥', '🧥', '🧥', '🧥', '🧥', '🧥', '🧥'], ['mina', 'bandida', 'me', 'arranha', 'igual', 'puma', 'tô', 'elegante', 'vestido', 'de', 'puma'], ['é', 'neymar', 'essas', 'chuteiras', 'da', 'puma', 'não', 'dá', 'kkkkkkkkkk', 'nike', 'é', 'diferenciada', 'demais'], ['mcsoeiro_', 'kkkkkkkkkkk', 'puma', 'adidas', 'e', 'nike', '🤡', 'https//tco/a7a5ft89qt'], ['incrith', 'felaange', 'amiga', 'eu', 'estou', 'criando', 'a', 'desculpa', 'em', 'minha', 'cabeça', 'que', 'eu', 'queria', 'um', 'para', 'ser', 'o', 'único', 'que', 'usaria', 'fora', 'de', 'casa', 'né', 'e', 'uma', 'vez', 'tive', 'um', 'puma', 'e', 'além', 'de', 'bonito', 'ele', 'era', 'muito', 'confortável', 'tenho', 'um', 'tenis', 'muito', 'confortável', 'só', 'q', 'feio', 'e', 'os', 'bonitinhos', 'são', 'todos', 'conforto', 'meh', 'sabe'], ['comprei', 'um', 'tênis', 'da', 'puma', 'só', 'pq', 'ela', 'patrocina', 'o', 'neymar', 'se', 'n', 'esquece', '👋🏼'], ['márcio', 'me', 'deu', 'uma', 'blusa', 'linda', 'da', 'puma', 'é', 'um', 'amor', 'esse', 'garoto'], ['oscarwang_', 'meu', 'bb', 'eu', 'queria', 'ganhar', 'roupas', 'da', 'puma', 'tbm', 'esses', 'trainees', 'tiveram', 'sorte'], ['queria', 'uma', 'chuteira', 'da', 'puma'], ['lewishamiltonbr', 'puma', 'credo', 'mais', 'é', 'lindo', 'viu', '😍', '😍'], ['se', 'a', 'criatividade', 'fosse', 'um', 'idioma', 'a', 'tradução', 'perfeita', 'seria', 'nova', 'puma', 'future', 'z', 'creativity', 'neymarjr', '🔮', 'saiba', 'mais', 'no', 'https//tco/e0gotvkaoa', 'https//tco/wnft4clhcf'], ['jwpitbulldafade', 'tá', 'brincandopuma', 'e', 'rainhaestilo', 'e', 'conforto'], ['slc', 'mano', 'essa', 'chuteira', 'q', 'a', 'puma', 'lançou', 'é', 'mala', 'hein'], ['as', 'roupas', 'da', 'puma', 'que', 'o', 'neymar', 'usa', 'são', 'perfeitas', 'e', 'parecem', 'que', 'só', 'ele', 'tem', 'kkkkkk', 'esse', 'ai', 'com', 'os', 'detalhes', 'rosa', '😍'], ['quero', 'colação', 'do', 'neymar', 'nem', 'gosto', 'de', 'puma', 'mass', 'quero', 'https//tco/ugdfnnjrwb'], ['neymarjrdepre', 'neymarjr', 'pumabrasil', 'ginmyname', 'puma', 'finalmente', 'acertou', 'cz', '🙌🏻', '🙌🏻', '🙌🏻'], ['para', 'de', 'lançar', 'roupa', 'puma', 'tô', 'ficando', 'sem', 'money'], ['neymarjr', 'pumafootball', 'pede', 'pra', 'puma', 'me', 'dar', 'uma', 'luva', 'neymarjr', 'pumabrasil', 'pumafootball'], ['neymar', 'puma', '😍', 'https//tco/pfe3hdojnv'], ['a', 'puma', 'e', 'o', 'amor', 'da', 'minha', 'tmnc', '😍'], ['o', 'tênis', 'da', 'selena', 'e', 'do', 'neymar', 'em', 'parceria', 'c', 'a', 'puma', 'estão', 'ridículos', 'de', 'tão', 'maravilhosos'], ['neymar', 'x', 'puma', 'future', 'z', 'creativity', '👑', '🧢', 'https//tco/clker1ke4j'], ['as', 'novas', 'puma', 'de', 'neymar', '🔥', 'https//tco/mu6pxdnapi'], ['so', 'queria', 'uma', 'nova', 'chuteira', 'da', 'puma', '🥰', '🥰', '⚽', '️'], ['na', 'coleção', 'do', 'homi', 'a', 'puma', 'acertou', 'demais', 'pqp', 'https//tco/fpr3h397go'], ['gente', 'eu', 'queronova', 'coleção', 'do', 'neymar', 'com', 'a', 'puma', '“neymar', 'jr', 'creativity”tô', 'apaixonada', 'nessas', 'cores', '💕', '💙', 'https//tco/mfjt1vw9rl'], ['boné', 'da', 'adidas', 'camisa', 'da', 'puma', 'short', 'da', 'nike', 'e', 'chinelo', 'da', 'fila', 'é', 'muito', 'errado'], ['juanitobisonte', 'puma', 'ok', 'não', 'curto', 'muito', 'da', 'umbro', '🤷🏾\\u200d♂️', '🤷🏾\\u200d♂️'], ['wagnerjrcunha', 'atletico', 'siimmm', 'a', 'puma', 'mandou', 'bem', 'demais', 'nesse', 'no', 'slk', 'e', 'esse', 'jogo', 'também', 'dominante', 'como', 'sempre', '🐔', '⚫', '⚪', '❤', '️'], ['toda', 'noite', 'eu', 'vo', 'dormir', 'pensando', 'se', 'um', 'dia', 'conseguirei', 'encontrar', 'o', 'tênis', 'da', 'puma', 'que', 'eu', 'tinha', 'vendendo', 'em', 'algum', 'lugarou', 'algum', 'parecido'], ['comprar', 'meu', 'tênis', 'da', 'puma', 'mes', 'que', 'vem', 'e', 'não', 'tem', 'nada', 'que', 'me', 'impeça'], ['depois', 'que', 'o', 'neymar', 'foi', 'pra', 'puma', 'só', 'tá', 'fazendo', 'chuteira', 'zika', 'https//tco/umv3oudsqq'], ['minha', 'mãe', 'me', 'deu', 'um', 'tênis', 'da', 'puma', '🥺'], ['linda', 'essa', 'camisa', 'do', 'rgvfc', 'da', 'puma', '😍', 'https//tco/ph3sytmtbq'], ['próximos', 'panos', 'serão', 'da', 'puma'], ['simse', 'eu', 'tivesse', 'dinheiro', 'eu', 'só', 'usaria', 'puma', 'por', 'causa', 'do', 'ney', 'e', 'do', 'palmeiras'], ['lewishamiltonbr', 'puma', 'procure', 'um', 'defeito', 'e', 'falhe', 'miseravelmente'], ['puma', 'não', 'erra', 'ta', 'maluco', 'https//tco/wbbj1b2nsv'], ['sedento', 'pro', 'meu', 'puma', 'xray', 'chegar', 'e', 'meus', 'óculos', 'novos', 'e', 'sexta', 'vou', 'cortar', 'o', 'cabelo', 'fazer', 'a', 'barba', 'ai', 'papai', 'vou', 'estar', 'mt', 'lindo', 'nas', 'próximas', 'semanas', 'https//tco/nwx14tyqq8'], ['sabe', 'o', 'que', 'eu', 'acho', 'dahora', 'no', 'neymar', 'que', 'ele', 'inspira', 'a', 'criançada', 'manja', 'por', 'ex', 'ele', 'acabou', 'de', 'repostar', 'a', 'foto', 'que', 'o', 'filho', 'do', 'boateng', 'trajado', 'de', 'puma/neymar', 'então', 'assim', 'os', 'filho', 'dos', 'adversários', 'dele', 'quer', 'ser', 'igual', 'a', 'ele', '🥺'], ['puma', 'patrocinou', 'legal', 'esse', 'filme'], ['lastnoearth', 'os', 'da', 'puma', 'amg', 'acho', 'lindo', 'demaisss'], ['nunca', 'curti', 'corta', 'vento', 'mas', 'essa', 'que', 'comprei', 'da', 'puma', 'é', 'muito', 'style', '🥵', '🥵'], ['agora', 'sim', 'está', 'dando', 'vontade', 'de', 'usar', 'chuteira', 'da', 'puma', '✅', '🚀', 'https//tco/gx8opopdil'], ['puma', 'se', 'continua', 'assim', 'vai', 'dar', 'mais', 'que', 'falr', 'do', 'que', 'a', 'nike', 'e', 'a', 'adidas'], ['sério', 'se', 'alguém', 'ver', 'na', 'internet', 'as', 'camisas', 'da', 'puma', 'principalmente', 'de', '2013', 'e', '2015', 'me', 'manda', 'por', 'favoooor', 'tô', 'a', 'um', 'tempão', 'procurando', 'pra', 'comprar', 'e', 'não', 'acho', 'de', 'jeito', 'nenhum'], ['simaopereira11', 'nem', 'design', 'material', 'tecnologia', 'do', 'equipamento', 'puma', 'está', 'muito', 'mais', 'à', 'frente', 'ajuste', 'ao', 'corpo'], ['puma', 'podia', 'bem', 'patrocinar', 'o', 'benfica', 'esses', 'ao', 'menos', 'sabem', 'o', 'que', 'fazem', 'ao', 'que', 'toca', 'a', 'equipamentos', 'https//tco/epbw82crxn'], ['‘creativity’', 'a', 'nova', 'coleção', 'da', 'puma', 'com', 'assinatura', 'de', 'neymar', 'https//tco/zdwqezlquf'], ['acabou', 'de', 'chegar', 'meu', 'puma', 'q', 'eu', 'tinha', 'comprado', 'semana', 'passada', 'ehehehe', 'eh', 'mto', 'eh', 'massa'], ['tô', 'com', 'um', 'puma', 'disk', 'pra', 'brick'], ['por', 'mim', 'era', 'assinar', 'contrato', 'com', 'a', 'puma', 'ou', 'com', 'a', 'nike', 'camisolas', 'bem', 'mais', 'lindas'], ['tô', 'parando', 'pra', 'analisar', 'n', 'posso', 'pegar', 'dinheiro', 'q', 'já', 'quero', 'ir', 'na', 'centauro', 'sou', 'muito', 'fascinado', 'em', 'nike', 'é', 'puma', 'tmlc', '🤦🏽\\u200d♂️'], ['drinotty_', 'yoongglx', 'leektear', 'oliveira', 'eh', 'estiloso', 'ele', 'so', 'vem', 'com', 'tênis', 'da', 'nike', 'adidas', 'pumaele', 'tem', 'patrocínio'], ['finalmente', 'a', 'puma', 'fez', 'algo', 'bonito', '🙌🏻', 'https//tco/8aahj2b9ew'], ['quero', 'comprar', 'um', 'tenis', 'da', 'puma'], ['nova', 'coleção', 'puma', 'future', 'z', 'x', 'neymarele', 'tá', 'muito', 'gato', '🤤', 'https//tco/ihxjxlbbcp'], ['era', 'lindo', 'ver', 'o', 'benfica', 'com', 'marca', 'da', 'puma', 'https//tco/gxdsiiy8fi'], ['tt_marcelojr', 'o', 'neymar', 'deu', 'outra', 'cara', 'pra', 'puma', 'tem', 'jeito', 'n'], ['só', 'queria', 'pegar', 'umas', 'peças', 'da', 'puma'], ['a', 'coleção', 'da', 'pumagtgtgtgtgtgtgtgtgt'], ['dreams_thata', 'matheus', 'igorcabral11', '“hmmm', 'casaquinho', 'da', 'puma', 'baratinho”'], ['marcopuccini_', 'é', 'foda', 'mano', 'puma', 'ta', 'de', 'brincadeira'], ['bota', 'um', 'puma', 'disk', 'no', 'pé', 'que', 'delícia', 'de', 'mulher'], ['a', 'puma', 'me', 'deixou', 'forte', '🙌', '💸', '✍', '️'], ['fodase', 'vou', 'comprar', 'esse', 'tênis', 'da', 'puma'], ['mão', 'ta', 'coçando', 'pra', 'comprar', 'um', 'produto', 'do', 'neymar', 'na', 'puma'], ['soudanacao', 'puma', 'mto', 'mais', 'top', 'q', 'a', 'fraca', 'adidas'], ['neymar', 'x', 'puma', 'future', 'z', 'creativity', '👑', '👕', 'https//tco/pvrykn2jyz'], ['adorei', 'o', 'ensaio', 'da', 'puma', '😍'], ['se', 'eu', 'tivesse', 'condições', 'ia', 'andar', 'só', 'de', 'puma'], ['eu', 'quero', 'essa', 'camisa', 'nova', 'do', 'nj', 'x', 'puma'], ['neymar', 'x', 'puma', '“creativity”', 'https//tco/qgw6wwixpq'], ['krl', 'essa', 'blusa', 'da', 'puma', 'tá', 'enjoada', 'dms', 'pqp', '🤤', 'https//tco/ijk3sofdk8'], ['as', 'fotos', 'da', 'nova', 'campanha', 'da', 'puma', 'está', 'tudo', 'de', 'bom', 'ney', 'ney', 'está', 'muito', 'gato', 'https//tco/bb3mwc5msw'], ['gordaock', 'puma', 'me', 'patrocinou'], ['100', 'influenciada', 'pelo', 'menino', 'ney', 'pois', 'agora', 'quero', 'um', 'tênis', 'da', 'puma', 'nunca', 'comprei', 'nd', 'da', 'puma'], ['gurizinh0lr', 'eu', 'tbm', 'fiquei', 'louca', 'no', 'tênis', 'puma', 'que', 'a', 'dani', 'calabresa', 'usou', 'nos', 'posts', 'da', 'viagem', 'pra', 'disney', 'lindo', 'demais', 'quero', 'ver', 'o', 'do', 'lucas'], ['ela', 'repara', 'no', 'detalhe', 'do', 'meu', 'puma', 'disk'], ['só', 'quero', 'uma', 'camisa', 'da', 'puma', 'do', 'neymar', 'mas', 'só', 'tem', 'tam', 'masculino'], ['neymar', 'x', 'puma', '🔥', '🔥', 'https//tco/khartgobxr'], ['ironefixe', 'preferia', 'mil', 'vezes', 'mais', 'a', 'puma'], ['nova', 'coleção', 'puma', 'future', 'z', 'x', 'neymar', '🔥', 'https//tco/avcs45zpsh'], ['a', 'puma', 'nunca', 'tinha', 'feito', 'uma', 'chuteira', 'massa', 'até', 'a', 'chegada', 'do', 'adulto', 'ney', 'eles', 'esculacharam', 'dms', 'nessa', 'ai'], ['a', 'puma', 'ta', 'mexendo', 'cmg', '🤔'], ['criatividade', 'é', 'com', 'ele', 'mesmo', 'né', '😉', 'curtiram', 'a', 'nova', 'chuteira', 'neymarjrcreativity', '🤩', '👉🏽', 'veja', 'mais', 'https//tco/4vdwxb29xineymar', 'neymarjr', 'njr', 'puma', 'pumafootball', 'boots', 'creative', 'neymarfans', 'neymarskills', 'boots', 'futurez', 'https//tco/rokn7xyahp'], ['eu', 'sou', 'tão', 'cadelinha', 'do', 'neymar', 'que', 'eu', 'tô', 'cogitando', 'comprar', 'coisas', 'da', 'puma', 'só', 'por', 'causa', 'dele'], ['neymar', 'x', 'puma', 'vem', 'coisa', 'nova', 'por', 'ai', '🔥', 'https//tco/ornpk8sfug'], ['puma', 'a', 'calarme', '🤭', 'coisa', 'linda', 'https//tco/yxcclsptir'], ['oloco', 'minha', 'mãe', 'vai', 'comprar', 'duas', 'calças', 'da', 'puma', 'pra', 'mim', '🤠', '🤠'], ['simaopereira11', 'só', 'se', 'o', 'marketing', 'te', 'engana', 'muito', 'bem', 'puma', 'é', 'muito', 'mais', 'rentável', 'faz', 'melhores', 'contratos', 'e', 'em', 'termos', 'de', 'dimensão', 'está', 'ao', 'nível', 'de', 'nike', 'e', 'adidas', 'neste', 'momento', 'é', 'superior', 'à', 'adidas', 'que', 'perde', 'contratos', 'em', 'sítios', 'atrás', 'de', 'sítios'], ['to', 'pisando', 'muito', 'fofo', 'com', 'meu', 'puma', 'novo', '🤢'], ['a', 'puma', 'ficou', 'mais', 'bonita', 'né', 'efeito', 'neymar', 'https//tco/btrdxvdqvu'], ['toda', 'vez', 'que', 'vou', 'na', 'puma', 'ou', 'entro', 'no', 'site', 'quero', 'deixar', 'meu', 'dinheiro', 'todo', 'lá'], ['simaopereira11', 'não', 'identifico', 'nada', 'que', 'faça', 'a', 'adidas', 'melhor', 'que', 'a', 'puma'], ['yudi_viturin', 'a', 'puma', 'tá', 'fazendo', 'umas', 'coisa', 'linda', 'dmsss', 'nike', 'e', 'adidas', 'que', 'não', 'abre', 'o', 'olho', 'pra', 'ver'], ['puma', 'se', 'supera', 'cada', 'dia', 'nas', 'chuteiras', 'https//tco/uyprbzlz7j'], ['a', 'puma', 'lançou', 'nesta', 'quintafeira', 'a', 'coleção', '‘neymar', 'jr', 'creativity’', 'apresentando', 'a', 'inovadora', 'chuteira', 'future', 'z', '11', 'eai', 'curtiram', '🔥', '❤', 'https//tco/kl4mphhdvp'], ['neymarjr', 'pumafootball', 'koe', 'adulto', 'ney', 'manda', 'uma', 'peça', 'da', 'puma', 'aqui', 'pra', 'casa', 'tmj'], ['olha', 'essa', 'blusa', 'da', 'puma', '😍', '😍', 'https//tco/nglhaqvvvb'], ['rabona_tv', 'curtavermelha', 'por', 'mim', 'era', 'pumatêm', 'evoluído', 'e', 'com', 'designs', 'cada', 'vez', 'mais', 'bonitos', 'e', 'originais'], ['‘creativity’', 'a', 'nova', 'coleção', 'da', 'puma', 'com', 'neymar', 'https//tco/oqmlrnuyc5'], ['dallasginreturn', 'caramba', 'tuta', 'em', 'outro', 'nível', 'eu', 'tô', 'na', 'puma', 'e', '357', 'mag', 'juvenil', 'perto', 'disso', 'aí', '🇧🇷', '🇧🇷', '🇧🇷', '🤜', '🤜', '🤜', '🤜'], ['cada', 'um', 'com', 'seu', 'puma', 'https//tco/dyc96b2n2w'], ['ironefixe', 'gosto', 'da', 'adidas', 'mas', 'não', 'sou', 'contra', 'a', 'mudança', 'para', 'a', 'nike', 'ou', 'a', 'puma'], ['netooswaldo', 'proplayerstore', 'maaaano', 'a', 'puma', 'esse', 'ano', 'tá', 'com', 'td'], ['minha', 'prima', 'mais', 'uma', 'vez', 'me', 'surpreendendo', 'do', 'nada', 'de', 'puma', 'kkkkk', '😻', '😻', 'marianaa0910'], ['_vitorinhxxxx', 'na', 'real', 'eu', 'prefiro', 'puma', 'pros', 'dois'], ['ghostlv1', 'curtavermelha', 'a', 'puma', 'vai', 'meter', 'a', 'adidas', 'a', 'um', 'canto', 'daqui', 'a', 'um', 'ano', 'ou', 'dois'], ['estou', 'prestes', 'a', 'cometer', 'o', 'crime', 'no', 'site', 'da', 'puma', '1', 'like', 'eu', 'confirmo', 'a', 'compra'], ['neymar', 'x', 'puma', 'future', 'z', 'creativity', '👑', '👟', 'https//tco/dixxlfqek9'], ['simaopereira11', 'podes', 'achar', 'que', 'ficam', 'mal', 'em', 'termos', 'estéticos', 'mas', 'o', 'ajuste', 'ao', 'corpo', 'da', 'puma', 'é', 'muito', 'melhor', 'para', 'o', 'atleta', 'do', 'que', 'a', 'adidas'], ['soaresday_', 'vamos', 'trocar', 'pelo', 'verde', 'da', 'puma'], ['neymarjrdepre', 'neymarjr', 'pumabrasil', 'neymar', 'e', 'patrocinado', 'pela', 'pumapuma', 'automaticamente', 'fazer', 'roupas', 'e', 'tênis', 'bonitos'], ['leoboschiroli', 'tô', 'quase', 'pedindo', 'aquele', 'puma'], ['oq', 'é', 'aquele', 'puma', 'que', 'o', 'neymar', 'largou', 'no', 'story', 'to', 'apaixonado', 'quero', 'um']]\n"
     ]
    }
   ],
   "source": [
    "# 1° for: Separar os tweets relevantes em palavras relevantes dando um split\n",
    "p_relevantes = [] \n",
    "for c,conteudo in enumerate (relevante):\n",
    "    p_relevantes.append(conteudo.split())\n",
    "    \n",
    "print(p_relevantes)\n",
    "#p_relevantes"
   ]
  },
  {
   "cell_type": "code",
   "execution_count": 87,
   "metadata": {
    "scrolled": true
   },
   "outputs": [
    {
     "name": "stdout",
     "output_type": "stream",
     "text": [
      "['o', 'neymar', 'inovou', 'a', 'puma', 'https//tco/qtcuvd1svj', 'a', 'puma', 'tá', 'deitando', 'nas', 'chuteiras', 'do', 'neymar', 'me', 'manda', 'essa', 'nova', 'ai', 'puma', 'que', 'eu', 'largo', 'a', 'minha', 'nike', '🤧', 'g_estrella__', 'puma', 'tá', 'aí', 'mas', 'três', 'listra', 'tá', 'lindo', 'tbm', 'gustavocapaa', 'nao', 'tem', 'puma', 'nike', 'ou', 'adidas', 'chuteira', 'do', 'neypuma', 'apresentou', 'hoje', 'a', 'linha', 'neymar', 'jr', 'creativity', 'que', 'maravilha', 'de', 'chuteira', 'perfect', 'https//tco/jqcuvaxg1c', 'a', 'nova', 'coleção', 'da', 'puma', '🤤', 'camuflagemdodia', 'camisa', 'da', 'nike', 'boné', 'do', 'cleveland', 'short', 'da', 'adidas', 'tênis', 'da', 'puma', 'mochila', 'da', 'fila', 'ela', 'repara', 'no', 'detalhe', 'do', 'meu', 'puma', 'disc', 'neymarjrdepre', 'neymarjr', 'pumabrasil', 'onde', 'vende', 'essa', 'não', 'achei', 'na', 'loja', 'da', 'puma', 'tão', 'cadelinha', 'da', 'puma', 'q', 'eu', 'acabei', 'd', 'perceber', 'q', 'eu', 'tenho', '3', 'blusas', 'iguais', 'msm', 'modelo', 'msm', 'cor', 'neymarjr', 'pumafootball', 'oi', 'ney', 'eu', 'sou', 'seu', 'ídolo', 'me', 'manda', 'uma', 'meia', 'da', 'puma', 'af', 'tô', 'vendo', 'um', 'boné', 'da', 'puma', 'aqui', 'no', 'site', 'muito', 'top', 'já', 'quero', 'que', 'chegue', 'na', 'loja', 'porque', 'o', 'frete', 'tá', 'uma', 'facada', 'neymar', 'tá', 'dando', 'uma', 'estética', 'nova', 'mto', 'foda', 'pra', 'puma', 'a', 'puma', 'arrasou', 'nesse', 'ensaio', 'gostei', 'muuhpro', 'pumaadidas', 'ou', 'nike', 'eu', 'indo', 'usar', 'puma', '😎', 'https//tco/liraqb33kp', 'neymarjr', 'pumafootball', 'neymar', 'manda', 'um', 'desse', 'pra', 'mim', 'puma', 'bobojaco', 'aí', '🥺', '🥺', '🥺', '🧥', '🧥', '🧥', '🧥', '🧥', '🧥', '🧥', 'mina', 'bandida', 'me', 'arranha', 'igual', 'puma', 'tô', 'elegante', 'vestido', 'de', 'puma', 'é', 'neymar', 'essas', 'chuteiras', 'da', 'puma', 'não', 'dá', 'kkkkkkkkkk', 'nike', 'é', 'diferenciada', 'demais', 'mcsoeiro_', 'kkkkkkkkkkk', 'puma', 'adidas', 'e', 'nike', '🤡', 'https//tco/a7a5ft89qt', 'incrith', 'felaange', 'amiga', 'eu', 'estou', 'criando', 'a', 'desculpa', 'em', 'minha', 'cabeça', 'que', 'eu', 'queria', 'um', 'para', 'ser', 'o', 'único', 'que', 'usaria', 'fora', 'de', 'casa', 'né', 'e', 'uma', 'vez', 'tive', 'um', 'puma', 'e', 'além', 'de', 'bonito', 'ele', 'era', 'muito', 'confortável', 'tenho', 'um', 'tenis', 'muito', 'confortável', 'só', 'q', 'feio', 'e', 'os', 'bonitinhos', 'são', 'todos', 'conforto', 'meh', 'sabe', 'comprei', 'um', 'tênis', 'da', 'puma', 'só', 'pq', 'ela', 'patrocina', 'o', 'neymar', 'se', 'n', 'esquece', '👋🏼', 'márcio', 'me', 'deu', 'uma', 'blusa', 'linda', 'da', 'puma', 'é', 'um', 'amor', 'esse', 'garoto', 'oscarwang_', 'meu', 'bb', 'eu', 'queria', 'ganhar', 'roupas', 'da', 'puma', 'tbm', 'esses', 'trainees', 'tiveram', 'sorte', 'queria', 'uma', 'chuteira', 'da', 'puma', 'lewishamiltonbr', 'puma', 'credo', 'mais', 'é', 'lindo', 'viu', '😍', '😍', 'se', 'a', 'criatividade', 'fosse', 'um', 'idioma', 'a', 'tradução', 'perfeita', 'seria', 'nova', 'puma', 'future', 'z', 'creativity', 'neymarjr', '🔮', 'saiba', 'mais', 'no', 'https//tco/e0gotvkaoa', 'https//tco/wnft4clhcf', 'jwpitbulldafade', 'tá', 'brincandopuma', 'e', 'rainhaestilo', 'e', 'conforto', 'slc', 'mano', 'essa', 'chuteira', 'q', 'a', 'puma', 'lançou', 'é', 'mala', 'hein', 'as', 'roupas', 'da', 'puma', 'que', 'o', 'neymar', 'usa', 'são', 'perfeitas', 'e', 'parecem', 'que', 'só', 'ele', 'tem', 'kkkkkk', 'esse', 'ai', 'com', 'os', 'detalhes', 'rosa', '😍', 'quero', 'colação', 'do', 'neymar', 'nem', 'gosto', 'de', 'puma', 'mass', 'quero', 'https//tco/ugdfnnjrwb', 'neymarjrdepre', 'neymarjr', 'pumabrasil', 'ginmyname', 'puma', 'finalmente', 'acertou', 'cz', '🙌🏻', '🙌🏻', '🙌🏻', 'para', 'de', 'lançar', 'roupa', 'puma', 'tô', 'ficando', 'sem', 'money', 'neymarjr', 'pumafootball', 'pede', 'pra', 'puma', 'me', 'dar', 'uma', 'luva', 'neymarjr', 'pumabrasil', 'pumafootball', 'neymar', 'puma', '😍', 'https//tco/pfe3hdojnv', 'a', 'puma', 'e', 'o', 'amor', 'da', 'minha', 'tmnc', '😍', 'o', 'tênis', 'da', 'selena', 'e', 'do', 'neymar', 'em', 'parceria', 'c', 'a', 'puma', 'estão', 'ridículos', 'de', 'tão', 'maravilhosos', 'neymar', 'x', 'puma', 'future', 'z', 'creativity', '👑', '🧢', 'https//tco/clker1ke4j', 'as', 'novas', 'puma', 'de', 'neymar', '🔥', 'https//tco/mu6pxdnapi', 'so', 'queria', 'uma', 'nova', 'chuteira', 'da', 'puma', '🥰', '🥰', '⚽', '️', 'na', 'coleção', 'do', 'homi', 'a', 'puma', 'acertou', 'demais', 'pqp', 'https//tco/fpr3h397go', 'gente', 'eu', 'queronova', 'coleção', 'do', 'neymar', 'com', 'a', 'puma', '“neymar', 'jr', 'creativity”tô', 'apaixonada', 'nessas', 'cores', '💕', '💙', 'https//tco/mfjt1vw9rl', 'boné', 'da', 'adidas', 'camisa', 'da', 'puma', 'short', 'da', 'nike', 'e', 'chinelo', 'da', 'fila', 'é', 'muito', 'errado', 'juanitobisonte', 'puma', 'ok', 'não', 'curto', 'muito', 'da', 'umbro', '🤷🏾\\u200d♂️', '🤷🏾\\u200d♂️', 'wagnerjrcunha', 'atletico', 'siimmm', 'a', 'puma', 'mandou', 'bem', 'demais', 'nesse', 'no', 'slk', 'e', 'esse', 'jogo', 'também', 'dominante', 'como', 'sempre', '🐔', '⚫', '⚪', '❤', '️', 'toda', 'noite', 'eu', 'vo', 'dormir', 'pensando', 'se', 'um', 'dia', 'conseguirei', 'encontrar', 'o', 'tênis', 'da', 'puma', 'que', 'eu', 'tinha', 'vendendo', 'em', 'algum', 'lugarou', 'algum', 'parecido', 'comprar', 'meu', 'tênis', 'da', 'puma', 'mes', 'que', 'vem', 'e', 'não', 'tem', 'nada', 'que', 'me', 'impeça', 'depois', 'que', 'o', 'neymar', 'foi', 'pra', 'puma', 'só', 'tá', 'fazendo', 'chuteira', 'zika', 'https//tco/umv3oudsqq', 'minha', 'mãe', 'me', 'deu', 'um', 'tênis', 'da', 'puma', '🥺', 'linda', 'essa', 'camisa', 'do', 'rgvfc', 'da', 'puma', '😍', 'https//tco/ph3sytmtbq', 'próximos', 'panos', 'serão', 'da', 'puma', 'simse', 'eu', 'tivesse', 'dinheiro', 'eu', 'só', 'usaria', 'puma', 'por', 'causa', 'do', 'ney', 'e', 'do', 'palmeiras', 'lewishamiltonbr', 'puma', 'procure', 'um', 'defeito', 'e', 'falhe', 'miseravelmente', 'puma', 'não', 'erra', 'ta', 'maluco', 'https//tco/wbbj1b2nsv', 'sedento', 'pro', 'meu', 'puma', 'xray', 'chegar', 'e', 'meus', 'óculos', 'novos', 'e', 'sexta', 'vou', 'cortar', 'o', 'cabelo', 'fazer', 'a', 'barba', 'ai', 'papai', 'vou', 'estar', 'mt', 'lindo', 'nas', 'próximas', 'semanas', 'https//tco/nwx14tyqq8', 'sabe', 'o', 'que', 'eu', 'acho', 'dahora', 'no', 'neymar', 'que', 'ele', 'inspira', 'a', 'criançada', 'manja', 'por', 'ex', 'ele', 'acabou', 'de', 'repostar', 'a', 'foto', 'que', 'o', 'filho', 'do', 'boateng', 'trajado', 'de', 'puma/neymar', 'então', 'assim', 'os', 'filho', 'dos', 'adversários', 'dele', 'quer', 'ser', 'igual', 'a', 'ele', '🥺', 'puma', 'patrocinou', 'legal', 'esse', 'filme', 'lastnoearth', 'os', 'da', 'puma', 'amg', 'acho', 'lindo', 'demaisss', 'nunca', 'curti', 'corta', 'vento', 'mas', 'essa', 'que', 'comprei', 'da', 'puma', 'é', 'muito', 'style', '🥵', '🥵', 'agora', 'sim', 'está', 'dando', 'vontade', 'de', 'usar', 'chuteira', 'da', 'puma', '✅', '🚀', 'https//tco/gx8opopdil', 'puma', 'se', 'continua', 'assim', 'vai', 'dar', 'mais', 'que', 'falr', 'do', 'que', 'a', 'nike', 'e', 'a', 'adidas', 'sério', 'se', 'alguém', 'ver', 'na', 'internet', 'as', 'camisas', 'da', 'puma', 'principalmente', 'de', '2013', 'e', '2015', 'me', 'manda', 'por', 'favoooor', 'tô', 'a', 'um', 'tempão', 'procurando', 'pra', 'comprar', 'e', 'não', 'acho', 'de', 'jeito', 'nenhum', 'simaopereira11', 'nem', 'design', 'material', 'tecnologia', 'do', 'equipamento', 'puma', 'está', 'muito', 'mais', 'à', 'frente', 'ajuste', 'ao', 'corpo', 'puma', 'podia', 'bem', 'patrocinar', 'o', 'benfica', 'esses', 'ao', 'menos', 'sabem', 'o', 'que', 'fazem', 'ao', 'que', 'toca', 'a', 'equipamentos', 'https//tco/epbw82crxn', '‘creativity’', 'a', 'nova', 'coleção', 'da', 'puma', 'com', 'assinatura', 'de', 'neymar', 'https//tco/zdwqezlquf', 'acabou', 'de', 'chegar', 'meu', 'puma', 'q', 'eu', 'tinha', 'comprado', 'semana', 'passada', 'ehehehe', 'eh', 'mto', 'eh', 'massa', 'tô', 'com', 'um', 'puma', 'disk', 'pra', 'brick', 'por', 'mim', 'era', 'assinar', 'contrato', 'com', 'a', 'puma', 'ou', 'com', 'a', 'nike', 'camisolas', 'bem', 'mais', 'lindas', 'tô', 'parando', 'pra', 'analisar', 'n', 'posso', 'pegar', 'dinheiro', 'q', 'já', 'quero', 'ir', 'na', 'centauro', 'sou', 'muito', 'fascinado', 'em', 'nike', 'é', 'puma', 'tmlc', '🤦🏽\\u200d♂️', 'drinotty_', 'yoongglx', 'leektear', 'oliveira', 'eh', 'estiloso', 'ele', 'so', 'vem', 'com', 'tênis', 'da', 'nike', 'adidas', 'pumaele', 'tem', 'patrocínio', 'finalmente', 'a', 'puma', 'fez', 'algo', 'bonito', '🙌🏻', 'https//tco/8aahj2b9ew', 'quero', 'comprar', 'um', 'tenis', 'da', 'puma', 'nova', 'coleção', 'puma', 'future', 'z', 'x', 'neymarele', 'tá', 'muito', 'gato', '🤤', 'https//tco/ihxjxlbbcp', 'era', 'lindo', 'ver', 'o', 'benfica', 'com', 'marca', 'da', 'puma', 'https//tco/gxdsiiy8fi', 'tt_marcelojr', 'o', 'neymar', 'deu', 'outra', 'cara', 'pra', 'puma', 'tem', 'jeito', 'n', 'só', 'queria', 'pegar', 'umas', 'peças', 'da', 'puma', 'a', 'coleção', 'da', 'pumagtgtgtgtgtgtgtgtgt', 'dreams_thata', 'matheus', 'igorcabral11', '“hmmm', 'casaquinho', 'da', 'puma', 'baratinho”', 'marcopuccini_', 'é', 'foda', 'mano', 'puma', 'ta', 'de', 'brincadeira', 'bota', 'um', 'puma', 'disk', 'no', 'pé', 'que', 'delícia', 'de', 'mulher', 'a', 'puma', 'me', 'deixou', 'forte', '🙌', '💸', '✍', '️', 'fodase', 'vou', 'comprar', 'esse', 'tênis', 'da', 'puma', 'mão', 'ta', 'coçando', 'pra', 'comprar', 'um', 'produto', 'do', 'neymar', 'na', 'puma', 'soudanacao', 'puma', 'mto', 'mais', 'top', 'q', 'a', 'fraca', 'adidas', 'neymar', 'x', 'puma', 'future', 'z', 'creativity', '👑', '👕', 'https//tco/pvrykn2jyz', 'adorei', 'o', 'ensaio', 'da', 'puma', '😍', 'se', 'eu', 'tivesse', 'condições', 'ia', 'andar', 'só', 'de', 'puma', 'eu', 'quero', 'essa', 'camisa', 'nova', 'do', 'nj', 'x', 'puma', 'neymar', 'x', 'puma', '“creativity”', 'https//tco/qgw6wwixpq', 'krl', 'essa', 'blusa', 'da', 'puma', 'tá', 'enjoada', 'dms', 'pqp', '🤤', 'https//tco/ijk3sofdk8', 'as', 'fotos', 'da', 'nova', 'campanha', 'da', 'puma', 'está', 'tudo', 'de', 'bom', 'ney', 'ney', 'está', 'muito', 'gato', 'https//tco/bb3mwc5msw', 'gordaock', 'puma', 'me', 'patrocinou', '100', 'influenciada', 'pelo', 'menino', 'ney', 'pois', 'agora', 'quero', 'um', 'tênis', 'da', 'puma', 'nunca', 'comprei', 'nd', 'da', 'puma', 'gurizinh0lr', 'eu', 'tbm', 'fiquei', 'louca', 'no', 'tênis', 'puma', 'que', 'a', 'dani', 'calabresa', 'usou', 'nos', 'posts', 'da', 'viagem', 'pra', 'disney', 'lindo', 'demais', 'quero', 'ver', 'o', 'do', 'lucas', 'ela', 'repara', 'no', 'detalhe', 'do', 'meu', 'puma', 'disk', 'só', 'quero', 'uma', 'camisa', 'da', 'puma', 'do', 'neymar', 'mas', 'só', 'tem', 'tam', 'masculino', 'neymar', 'x', 'puma', '🔥', '🔥', 'https//tco/khartgobxr', 'ironefixe', 'preferia', 'mil', 'vezes', 'mais', 'a', 'puma', 'nova', 'coleção', 'puma', 'future', 'z', 'x', 'neymar', '🔥', 'https//tco/avcs45zpsh', 'a', 'puma', 'nunca', 'tinha', 'feito', 'uma', 'chuteira', 'massa', 'até', 'a', 'chegada', 'do', 'adulto', 'ney', 'eles', 'esculacharam', 'dms', 'nessa', 'ai', 'a', 'puma', 'ta', 'mexendo', 'cmg', '🤔', 'criatividade', 'é', 'com', 'ele', 'mesmo', 'né', '😉', 'curtiram', 'a', 'nova', 'chuteira', 'neymarjrcreativity', '🤩', '👉🏽', 'veja', 'mais', 'https//tco/4vdwxb29xineymar', 'neymarjr', 'njr', 'puma', 'pumafootball', 'boots', 'creative', 'neymarfans', 'neymarskills', 'boots', 'futurez', 'https//tco/rokn7xyahp', 'eu', 'sou', 'tão', 'cadelinha', 'do', 'neymar', 'que', 'eu', 'tô', 'cogitando', 'comprar', 'coisas', 'da', 'puma', 'só', 'por', 'causa', 'dele', 'neymar', 'x', 'puma', 'vem', 'coisa', 'nova', 'por', 'ai', '🔥', 'https//tco/ornpk8sfug', 'puma', 'a', 'calarme', '🤭', 'coisa', 'linda', 'https//tco/yxcclsptir', 'oloco', 'minha', 'mãe', 'vai', 'comprar', 'duas', 'calças', 'da', 'puma', 'pra', 'mim', '🤠', '🤠', 'simaopereira11', 'só', 'se', 'o', 'marketing', 'te', 'engana', 'muito', 'bem', 'puma', 'é', 'muito', 'mais', 'rentável', 'faz', 'melhores', 'contratos', 'e', 'em', 'termos', 'de', 'dimensão', 'está', 'ao', 'nível', 'de', 'nike', 'e', 'adidas', 'neste', 'momento', 'é', 'superior', 'à', 'adidas', 'que', 'perde', 'contratos', 'em', 'sítios', 'atrás', 'de', 'sítios', 'to', 'pisando', 'muito', 'fofo', 'com', 'meu', 'puma', 'novo', '🤢', 'a', 'puma', 'ficou', 'mais', 'bonita', 'né', 'efeito', 'neymar', 'https//tco/btrdxvdqvu', 'toda', 'vez', 'que', 'vou', 'na', 'puma', 'ou', 'entro', 'no', 'site', 'quero', 'deixar', 'meu', 'dinheiro', 'todo', 'lá', 'simaopereira11', 'não', 'identifico', 'nada', 'que', 'faça', 'a', 'adidas', 'melhor', 'que', 'a', 'puma', 'yudi_viturin', 'a', 'puma', 'tá', 'fazendo', 'umas', 'coisa', 'linda', 'dmsss', 'nike', 'e', 'adidas', 'que', 'não', 'abre', 'o', 'olho', 'pra', 'ver', 'puma', 'se', 'supera', 'cada', 'dia', 'nas', 'chuteiras', 'https//tco/uyprbzlz7j', 'a', 'puma', 'lançou', 'nesta', 'quintafeira', 'a', 'coleção', '‘neymar', 'jr', 'creativity’', 'apresentando', 'a', 'inovadora', 'chuteira', 'future', 'z', '11', 'eai', 'curtiram', '🔥', '❤', 'https//tco/kl4mphhdvp', 'neymarjr', 'pumafootball', 'koe', 'adulto', 'ney', 'manda', 'uma', 'peça', 'da', 'puma', 'aqui', 'pra', 'casa', 'tmj', 'olha', 'essa', 'blusa', 'da', 'puma', '😍', '😍', 'https//tco/nglhaqvvvb', 'rabona_tv', 'curtavermelha', 'por', 'mim', 'era', 'pumatêm', 'evoluído', 'e', 'com', 'designs', 'cada', 'vez', 'mais', 'bonitos', 'e', 'originais', '‘creativity’', 'a', 'nova', 'coleção', 'da', 'puma', 'com', 'neymar', 'https//tco/oqmlrnuyc5', 'dallasginreturn', 'caramba', 'tuta', 'em', 'outro', 'nível', 'eu', 'tô', 'na', 'puma', 'e', '357', 'mag', 'juvenil', 'perto', 'disso', 'aí', '🇧🇷', '🇧🇷', '🇧🇷', '🤜', '🤜', '🤜', '🤜', 'cada', 'um', 'com', 'seu', 'puma', 'https//tco/dyc96b2n2w', 'ironefixe', 'gosto', 'da', 'adidas', 'mas', 'não', 'sou', 'contra', 'a', 'mudança', 'para', 'a', 'nike', 'ou', 'a', 'puma', 'netooswaldo', 'proplayerstore', 'maaaano', 'a', 'puma', 'esse', 'ano', 'tá', 'com', 'td', 'minha', 'prima', 'mais', 'uma', 'vez', 'me', 'surpreendendo', 'do', 'nada', 'de', 'puma', 'kkkkk', '😻', '😻', 'marianaa0910', '_vitorinhxxxx', 'na', 'real', 'eu', 'prefiro', 'puma', 'pros', 'dois', 'ghostlv1', 'curtavermelha', 'a', 'puma', 'vai', 'meter', 'a', 'adidas', 'a', 'um', 'canto', 'daqui', 'a', 'um', 'ano', 'ou', 'dois', 'estou', 'prestes', 'a', 'cometer', 'o', 'crime', 'no', 'site', 'da', 'puma', '1', 'like', 'eu', 'confirmo', 'a', 'compra', 'neymar', 'x', 'puma', 'future', 'z', 'creativity', '👑', '👟', 'https//tco/dixxlfqek9', 'simaopereira11', 'podes', 'achar', 'que', 'ficam', 'mal', 'em', 'termos', 'estéticos', 'mas', 'o', 'ajuste', 'ao', 'corpo', 'da', 'puma', 'é', 'muito', 'melhor', 'para', 'o', 'atleta', 'do', 'que', 'a', 'adidas', 'soaresday_', 'vamos', 'trocar', 'pelo', 'verde', 'da', 'puma', 'neymarjrdepre', 'neymarjr', 'pumabrasil', 'neymar', 'e', 'patrocinado', 'pela', 'pumapuma', 'automaticamente', 'fazer', 'roupas', 'e', 'tênis', 'bonitos', 'leoboschiroli', 'tô', 'quase', 'pedindo', 'aquele', 'puma', 'oq', 'é', 'aquele', 'puma', 'que', 'o', 'neymar', 'largou', 'no', 'story', 'to', 'apaixonado', 'quero', 'um']\n"
     ]
    }
   ],
   "source": [
    "# Definindo todas as palvras revelantes em um conjunto\n",
    "todas_palavras_relevantes=[]\n",
    "for index, conteudo in enumerate(p_relevantes):\n",
    "    cont=0\n",
    "    while cont < len(p_relevantes[index]):\n",
    "        novo= conteudo[cont]\n",
    "        todas_palavras_relevantes.append(novo)\n",
    "        cont+=1\n",
    "print(todas_palavras_relevantes)"
   ]
  },
  {
   "cell_type": "code",
   "execution_count": 88,
   "metadata": {},
   "outputs": [
    {
     "name": "stdout",
     "output_type": "stream",
     "text": [
      " O total de Palavras relevantes é 1730\n"
     ]
    }
   ],
   "source": [
    "# Informando o total de palavras dos tweets relevantes\n",
    "print(f' O total de Palavras relevantes é {len(todas_palavras_relevantes)}')"
   ]
  },
  {
   "cell_type": "code",
   "execution_count": 89,
   "metadata": {},
   "outputs": [
    {
     "data": {
      "text/plain": [
       "0                        o\n",
       "1                   neymar\n",
       "2                   inovou\n",
       "3                        a\n",
       "4                     puma\n",
       "5    https//tco/qtcuvd1svj\n",
       "6                        a\n",
       "7                     puma\n",
       "8                       tá\n",
       "9                 deitando\n",
       "dtype: object"
      ]
     },
     "execution_count": 89,
     "metadata": {},
     "output_type": "execute_result"
    }
   ],
   "source": [
    "# Guardando as palavras como um pd.Series\n",
    "serie_relevante = pd.Series(todas_palavras_relevantes)\n",
    "serie_relevante.head(10)"
   ]
  },
  {
   "cell_type": "code",
   "execution_count": 90,
   "metadata": {},
   "outputs": [
    {
     "data": {
      "text/plain": [
       "puma                     127\n",
       "da                        57\n",
       "a                         56\n",
       "neymar                    31\n",
       "que                       30\n",
       "                        ... \n",
       "https//tco/pfe3hdojnv      1\n",
       "“neymar                    1\n",
       "🔮                          1\n",
       "creativity’                1\n",
       "lá                         1\n",
       "Length: 711, dtype: int64"
      ]
     },
     "execution_count": 90,
     "metadata": {},
     "output_type": "execute_result"
    }
   ],
   "source": [
    "# Frequencia absoluta de palavras relevantes\n",
    "tabela_relevante = serie_relevante.value_counts()\n",
    "tabela_relevante"
   ]
  },
  {
   "cell_type": "code",
   "execution_count": 91,
   "metadata": {},
   "outputs": [],
   "source": [
    "################ Frequencia relativa de palavras relevantes\n",
    "# tabela_relevante_absoluta = serie_relevante.value_counts()\n",
    "# tabela_relevante_absoluta"
   ]
  },
  {
   "cell_type": "code",
   "execution_count": 92,
   "metadata": {},
   "outputs": [
    {
     "data": {
      "text/plain": [
       "1730"
      ]
     },
     "execution_count": 92,
     "metadata": {},
     "output_type": "execute_result"
    }
   ],
   "source": [
    "tabela_relevante.sum()"
   ]
  },
  {
   "cell_type": "markdown",
   "metadata": {},
   "source": [
    "<div id=\"Fazendo o mesmo para as palavras irrelevantes\"></div>\n",
    "\n",
    "### Fazendo o mesmo para as palavras irrelevantes\n",
    "\n"
   ]
  },
  {
   "cell_type": "code",
   "execution_count": 93,
   "metadata": {},
   "outputs": [
    {
     "data": {
      "text/plain": [
       "2      fico assim no da puma affss https//tco/1ygyhdzhmi\n",
       "4                       0ketlyn_s eu acho que um puma ^^\n",
       "9      kevass0 neymarjrdepre neymarjr pumabrasil site...\n",
       "12        das puma fick prada  🖕🏿  https//tco/us7iemubr6\n",
       "13     negócio imperdível  tshirt puma originalps se ...\n",
       "                             ...                        \n",
       "292    tiagomarques32 rbaptista08 curtavermelha no en...\n",
       "293    ch3rrb0mb uhumé hebe ele é um floppa é tipo um...\n",
       "295    brunabud_ aí poderia ter mais que so um puma d...\n",
       "296    to apaixonada num tênis puma mas vi uns coment...\n",
       "299    aprendi a gostar até de puma mas cat amp dog n...\n",
       "Name: Limpo, Length: 168, dtype: object"
      ]
     },
     "execution_count": 93,
     "metadata": {},
     "output_type": "execute_result"
    }
   ],
   "source": [
    "# Filtrando apenas os tweets irrelevantes e os adicionando em uma nova variável\n",
    "irrelevante = dados.loc[dados['Irrelevante 0 / Relevante 1'] == 0, 'Limpo']\n",
    "irrelevante"
   ]
  },
  {
   "cell_type": "code",
   "execution_count": 94,
   "metadata": {},
   "outputs": [
    {
     "name": "stdout",
     "output_type": "stream",
     "text": [
      "[['fico', 'assim', 'no', 'da', 'puma', 'affss', 'https//tco/1ygyhdzhmi'], ['0ketlyn_s', 'eu', 'acho', 'que', 'um', 'puma', '^^'], ['kevass0', 'neymarjrdepre', 'neymarjr', 'pumabrasil', 'site', 'da', 'puma', 'mas', 'ainda', 'não', 'tá', 'no', 'catálogo', 'brasil', 'americana', 'já', 'está'], ['das', 'puma', 'fick', 'prada', '🖕🏿', 'https//tco/us7iemubr6'], ['negócio', 'imperdível', 'tshirt', 'puma', 'originalps', 'se', 'não', 'queres', 'comprar', 'também', 'não', 'atrapalhes', 'o', 'negóciovamos', 'lá', 'que', 'hoje', 'é', 'présexta', 'bom', 'dia', '♡thursdaymotivationthursdaythoughts', 'https//tco/3bitcptxx4'], ['la', 'fameuse', 'puma', 'ouigo', 'https//tco/yyiqbjqdok'], ['puma_parda', 'ela', 'é', 'de', 'campina', 'grande', 'tá', 'carente', 'é', 'quase', 'inevitável', 'kkk', 'vamo', 'passar', 'pano', 'pra', 'ideia', 'de', 'tabacudo'], ['lysaparede_', 'mas', 'eles', 'não', 'fazem', 'roupa', 'pro', 'paddock', 'né', 'os', 'meca', 'usam', 'puma'], ['williambender', 'cadê', 'o', 'dinheiro', 'das', 'vendas', 'de', 'jogadores', 'premiações', 'quase', '250milhões', 'direito', 'de', 'tv', 'da', 'rede', 'globo', 'premieri', 'tnt', 'sbt', 'puma', '26', 'milhões', 'quê', 'ganhou', 'no', 'campeonato', 'brasileiro', 'sai', 'fora', 'maurício', 'bananote', 'anderson', 'barros', 'jaiminho', 'cícero', 'sousa'], ['drewbsizzler', 'euphorart', 'lovatorns', 'aí', 'você', 'forçou', 'né', 'a', 'hailey', 'tá', 'crescendo', 'mt', 'como', 'modelo', 'fotografia', 'mas', 'ela', 'ainda', 'não', 'pegou', 'contratos', 'grandes', 'como', 'a', 'selena', 'puma', 'pantene', 'cocacola', 'adidas', 'coach', 'louis', 'vuitton', 'verizon', 'e', 'tem', 'mais', 'capa', 'vogue', 'us', 'que', 'a', 'hailey', 'mesmo', 'sem', 'ser', 'modelo'], ['petição', 'pra', 'música', '“puma”', 'do', 'dogor_10', 'pexande', 'npsidoka', 'virar', 'julia', 'de', 'tanto', 'que', 'eu', 'amo', 'ela', 'demais'], ['xcapimbr', 'vai', 'comprar', 'studios', 'kkkkkkkkkkkkk'], ['alguém', 'sabe', 'qual', 'o', 'pix', 'da', 'puma', 'https//tco/t6tdute9jo'], ['puma_parda', 'foda', 'é', 'que', 'esse', 'tipo', 'de', 'coisa', 'do', 'inss', 'é', 'supor', 'comum', 'meu', 'pai', 'até', 'hoje', 'não', 'conseguiu', 'se', 'aposentar', 'mas', 'não', 'pode', 'trabalhar', 'ele', 'tem', 'uma', 'doença', 'de', 'pele', 'muito', 'rara', 'e', 'como', 'é', 'enfermeiro', 'corre', 'risco', 'de', 'infecções', 'o', 'inss', 'não', 'reconhece', 'a', 'doença', 'que', 'ele', 'tem'], ['puma_bet', 'metin52703103', 'pumabet', 'escoubar'], ['se', 'alguém', 'souber', 'de', 'sorteios', 'q', 'os', 'prêmios', 'são', 'kombifiltro', 'da', 'moogmodularfuzz', 'da', 'zvexfender', 'mustang', 'basspuma', 'gt', '16', '1980é', 'só', 'me', 'avisar', 'q', 'eu', 'colo', 'emmm', 'quero', 'um', 'desses', 'presentes', 'ai'], ['puma_parda', 'ah', 'poxa', 'adoro', 'a', 'vitoria', 'tubo'], ['não', 'sei', 'de', 'quem', 'é', 'esse', 'pénota', '4/10', 'achei', 'feio', 'mas', 'é', 'da', 'puma', 'então', 'foi', 'caro', 'https//tco/wir4p4ys0j'], ['ramos85764697', 'de', 'fato', 'é', 'muito', 'cara', 'essas', 'da', 'puma', 'essa', 'é', 'adidas'], ['num', 'show', 'do', 'txt', 'eu', 'super', 'imagino', 'as', 'músicas', 'com', 'as', 'coresvermelho', 'puma', 'cysmazul', 'campd', 'blue', 'hour', 'noas', 'verde', 'roller', 'coaster', 'cwjltma', 'laranja', 'blue', 'orangeade', 'https//tco/ma1zs4pxar'], ['pablosales1984', 'fico', 'triste', 'demais', 'quase', '250', 'milhões', 'em', 'premiações', 'patrocinadoras', 'crefisa', 'fam', 'puma', 'tv', 'globo', 'premieri', 'tnt', 'sbt', 'vendas', 'de', 'jogadores', '26', 'milhões', 'pra', 'onde', 'está', 'indo', 'esse', 'dinheiro', 'tem', 'que', 'fazer', 'uma', 'cpi', 'investigação', 'único', 'jeito'], ['a', 'pessoa', 'que', 'fala', 'isso', 'nunca', 'escutou', 'txt', 'de', 'vdd', 'e', 'nunca', 'chegou', 'perto', 'de', 'eternally', 'puma', 'e', 'afins', 'https//tco/vlx2di67rd'], ['desconto', 'de', '15', 'no', 'site', 'ou', 'no', 'aplicativo', 'centauro', 'cupom', 'd84372caminhadaesporte', 'esporteinterativo', 'basketball', 'fitness', 'futebol', 'nikeadidaspumavoleibol', 'saudesaudefisica', 'penaltı', 'vendas', 'cupomdedesconto', 'desconto15descontometacompras', 'https//tco/pfd5buw3by'], ['eu', 'vejo', 'esses', 'vídeos', 'em', 'jaguar', 'e', 'só', 'penso', 'que', 'o', 'carro', 'é', 'da', 'puma'], ['neymarjrdepre', 'neymarjr', 'pumabrasil', 'puma', 'aceita', 'rins'], ['como', 'até', 'com', 'pão', 'puma', 'e', 'todo', 'mundo', 'fica', '🤢', '🤢', '🤢', 'https//tco/2blhiwtorp'], ['nay_nay055', 'era', 'da', 'puma', 'e', 'pumas', 'não', 'gostam', 'de', 'ficar', 'presas', 'elas', 'devem', 'ter', 'corrido'], ['palmeiras', 'e', 'o', 'dinheiro', 'dos', 'títulos', 'da', 'crefisa', 'da', 'puma', 'e', 'do', 'avanti', 'contrato', 'de', 'televisão', 'porcentagem', 'em', 'vendas', 'das', 'marcas', 'palmeiras', 'jogadores', 'que', 'foram', 'vendidos', 'salários', 'gigantesco', 'como', 'o', 'de', 'dudu', 'ramires', 'e', 'b', 'henrique', 'não', 'faz', 'mais', 'parte', 'e', 'o', 'time', 'mesmo', 'assim', 'está', 'no', 'decifit', 'galiotte'], ['essa', 'semana', 'do', 'consumidor', 'nike', 'e', 'puma', 'me', 'mandando', 'email', 'c', 'promoção', 'nos', 'tênis', 'se', 'fuder', 'não', 'tenho', 'dinheiro', 'porra'], ['boyzkook', 'se', 'eu', 'to', 'vendo', 'direito', '991', 'plays', 'no', 'album', 'eternity', 'e', 'eu', 'sei', 'bem', 'que', '900', 'é', 'só', 'em', 'puma'], ['darthkrayt4', 'é', 'exatamente', 'com', 'pão', 'puma', 'que', 'fica', 'mtt', 'bom'], ['thefootballsc', 'puma', 'or', 'umbro'], ['odeio', 'o', 'neymar', 'de', 'puma', 'odeio'], ['ramos85764697', 'nãoe', 'a', '3', 'de', 'antes', 'da', 'puma', 'entrara', 'prevent', 'tinha', '1000', 'e', 'destribuil', 'pros', 'funcionários'], ['pensando', 'em', 'mudar', 'meu', 'nome', 'pra', 'pão', 'puma', 'https//tco/txajldiqgc'], ['9', 'cat', 'and', 'dogesta', 'aqui', 'cujo', 'divide', 'opinioes', 'no', 'mundinho', 'kpopper', 'e', 'moa', 'twt', 'mas', 'nao', 'ligo', 'ela', 'esta', 'acima', 'de', 'muitas', 'musicas', 'meus', 'pequenos', 'furries', 'a', 'mae', 'de', 'puma', 'eh', 'esta', 'musica', 'https//tco/xop1qn5qqx'], ['tao', 'linda', 'e', 'rara', 'q', 'nem', 'o', 'site', 'da', 'puma', 'tem', 'https//tco/ts33uoghro'], ['barrets_', 'uma', 'grande', 'honra', 'batalhar', 'com', 'a', 'puma'], ['josgome40657225', 'deixa', 'estar', 'que', 'assim', 'que', 'o', 'benfica', 'mudar', 'de', 'adidas', 'para', 'puma', 'a', 'adidas', 'passa', 'logo', 'a', 'ter', 'as', 'melhores', 'camisolas', 'do', 'mundo', 'outra', 'vez'], ['neymar', 'amp', 'puma', 'https//tco/v4shkzu7ds'], ['puma_parda', 'exato', 'lugar', 'de', 'milico', 'é', 'longe', 'da', 'política'], ['mazzuela', 'o', 'logo', 'da', 'puma'], ['puma_parda', 'e', 'a', 'fila', 'aumentando', 'lá', 'fora'], ['_isapires', 'lou_cura_', 'https//tco/9ohwtluy63espero', 'ter', 'ajudado'], ['pgeracoes', 'homemtacokkkkkk', 'capt_puma', 'robosonysta', 'windowsclubbr', '🤦', 'ptqp', 'mais', 'uma', 'burrico', 'azul', '😫'], ['queria', 'muito', 'o', 'slip', 'on', 'da', 'puma', 'mas', 'não', 'sei', 'se', 'vale', 'a', 'pena', 'comparar', 'os', 'tênis', 'da', 'puma', '😔'], ['pumabrasil', 'porque', 'aqui', 'no', 'brasil', 'não', 'ta', 'disponível', 'nem', 'a', 'jaqueta', 'e', 'nem', 'a', 'jersey', 'do', 'neymar', 'po', 'neymarjr', 'a', 'puma', 'não', 'me', 'ajuda', 'a', 'comprar', 'seus', 'kits', '😑', 'https//tco/2u6voecx5w'], ['menino', 'ney', 'virou', 'adulto', 'ney', 'mas', 'de', 'puma', 'vai', 'virar', 'idoso', 'ney', 'https//tco/ivmgucvxjj'], ['gente', 'eu', 'tô', 'quase', 'desmaiando', 'pelo', 'amor', 'de', 'deus', 'gente', 'eu', 'entrei', 'na', 'viva', 'puma', 'https//tco/0xv3cdbqmu'], ['pvte7x', 'primeiramente', 'das', 'mulher', 'só', 'tem', 'um', '🥰', 'você', 'deve', 'tá', 'louco', 'a', 'puma', 'e', 'uma', 'putaria', 'tmnc'], ['esperando', 'a', 'puma', 'obrigar', 'a', 'bruna', 'marquezine', 'e', 'o', 'neymar', 'a', 'fazer', 'uma', 'campanha', 'juntos', 'isso', 'pq', 'quando', 'eles', 'tiravam', 'fotos', 'juntos', 'o', 'brasil', 'era', 'melhor', 'a', 'gente', 'nem', 'precisa', 'deles', 'voltando', 'a', 'gente', 'só', 'precisa', 'das', 'fotos', 'kkkkkkkkkkk', 'https//tco/jjzttrfifa'], ['smileyddeonu', 'vote', 'for', 'enhai', 'vote', 'for', 'enhypen', 'for', 'stanworld', '엔하이픈', 'enhypen', 'enhypen_members'], ['benficaeazeite', 'sinceramente', 'que', 'se', 'escolha', 'a', 'que', 'será', 'mais', 'rentável', 'acredito', 'que', 'não', 'seja', 'a', 'adidas', 'e', 'umas', 'das', 'marcas', 'que', 'o', 'benfica', 'podia', 'tentar', 'poderia', 'ser', 'puma', 'umbro', 'under', 'armour', 'ou', 'kappaagora', 'lá', 'está', 'a', 'escolha', 'deverá', 'ser', 'sempre', 'a', 'que', 'rende', 'mais', 'pois', 'traz', 'mais', 'garantias'], ['puma', 'é', 'horrível', 'rapa', 'nada', 'haver', 'com', 'o', 'ney', 'https//tco/9eaafsmykb'], ['tinybeomgyu', 'algumas', 'cara', 'dizer', 'q', 'é', 'tudo', 'seria', 'mentira', 'tem', 'um', 'monte', 'q', 'me', 'irrita', 'principalmente', 'nas', 'partes', 'do', 'beom', 'e', 'do', 'hyuka', 'mas', 'temos', 'mt', 'mais', 'músicas', 'q', 'demonstram', 'bem', 'a', 'técnica', 'deles', 'do', 'q', 'o', 'contrário', '20cm', 'puma', 'blue', 'hour', 'force', 'angel', 'or', 'devil', 'ghosting', 'e', 'por', 'aí', 'vai'], ['curtavermelha', '2021', 'e', 'ainda', 'há', 'pessoal', 'a', 'desconsiderar', 'a', 'puma', 'como', 'uma', 'marca', 'de', '2ª', 'percebo', 'que', 'se', 'goste', 'ou', 'não', 'mas', 'a', 'verdade', 'que', 'a', 'adidas', 'tem', 'arriscado', 'muito', 'pouco', 'connosco', 'e', 'quando', 'o', 'fez', 'foi', 'mau', 'coincidência', 'ou', 'não', 'ficou', 'pior', 'deste', 'os', 'nossos', 'maus', 'resultados', 'na', 'champions'], ['policiaiso', 'no', '7', 'da', 'col', 'bolso', 'negro/puma', 'editora', '/1a', 'edição/maio', 'de', '1992/capa', 'de', 'vasco', 'eloy/trad', 'de', 'paula', 'reis', 'o', 'autor', 'dan', 'kavanagh', 'pseudónimo', 'de', 'julian', 'barnes', 'n1946', 'inglês', 'romancista', 'também', 'de', 'policiais', 'ensaísta', 'memorialista', 'originalputting', 'the', 'book', 'in', '1985', 'https//tco/znaocgjhur'], ['eu', 'já', 'lancei', 'um', 'adidas', 'novo', 'no', 'lugar', 'do', 'puma', 'disk', 'e', 'água', 'dos', 'amigo', '🥵'], ['goncalodcnunes', 'pessoalmente', 'acho', 'que', 'a', 'maneira', 'como', 'as', 'camisolas', 'da', 'puma', 'ajustam', 'ao', 'corpo', 'fica', 'male', 'olhando', 'para', 'outros', 'contratos', 'a', 'nível', 'mundial', 'adidas', 'e', 'nike', 'continuam', 'muito', 'acima', 'apesar', 'do', 'crescimento', 'da', 'pumano', 'entanto', 'importa', 'sempre', 'vem', 'quem', 'dá', 'mais', 'nas', 'ofertas', 'recebidas', 'pelo', 'benfica'], ['lokleinhs_', 'nalimsgirl', 'feio', 'q', 'doi', 'pumagt'], ['algm', 'tem', 'coisa', 'do', 'yeonjun', 'em', 'angel', 'or', 'devil', 'ou', 'puma', 'se', 'sim', 'por', 'favor', 'mande'], ['batsumane', 'neymar', 'c’est', 'puma'], ['puma_parda', 'a', 'pessoa', 'me', 'mandar', 'uma', 'dessas', 'a', 'essa', 'altura', 'do', 'campeonato', 'puta', 'que', 'me', 'pariu', 'hein'], ['ttdajjoyce', 'maísa', 'é', 'embaixadora', 'da', 'samsung', 'e', 'patrocinada', 'pela', 'puma', 'só', 'por', 'essa', 'parte', 'já', 'acho', 'que', 'é', 'ela'], ['yeonsx0', 'em', 'puma', '🗣'], ['beomietalent', 'beompallet', 'vei', 'e', 'puma', 'nossa', 'aclamado', 'e', 'icônico'], ['ph_caixeiro', 'neymar', 'pai', 'todo', 'dia', 'me', 'enche', 'o', 'saco', 'pra', 'fechar', 'com', 'a', 'puma', '😂', '😂', '😂', 'to', 'pensando', '🤔', '🤔', '🤔'], ['pedrokcalheiros', 'o', 'yungmxch', 'escrever', 'a', 'parte', 'dele', 'de', 'pisando', 'em', 'puma', 'e', 'me', 'mandar', 'hj', 'ainda'], ['hyukaisoulmate', 'jakespoem', 'de', 'filhote', 'pra', 'puma', 'com', 'sucesso', '👏🏻', '👏🏻', '👏🏻', '👏🏻', '👏🏻'], ['negrogato_sdv', 'isso', 'e', 'um', 'puma'], ['loggi', 'puma', 'compre', 'o', 'produto', 'com', 'vocês', 'e', 'ta', 'na', 'entregadora', 'e', 'não', 'consigo', 'entrar', 'em', 'contato', 'com', 'eles', 'me', 'ajuda', 'pumabrasil', 'loggi'], ['sorbint', 'vc', 'n', 'gosta', 'de', 'puma', 'benji', 'o', 'mv', 'me', 'fez', 'deitar'], ['moniefleur', 'eu', 'não', 'sabia', 'kkkk', 'na', 'minha', 'cabeça', 'eles', 'ainda', 'eram', 'embaixadores', 'da', 'puma', 'https//tco/4huqjos1r2'], ['carlaxsls', 'rxhstan', 'beberexha', 'puma', 'bebeshotass', 'warnerpromo', 'eu', 'sempre', 'te', 'falei', '🥵', '💛'], ['vejo', 'as', 'fotos', 'da', 'fila', 'e', 'fico', '😐', 'missing', 'puma', 'hours', 'open'], ['homemtacokkkkkk', 'pgeracoes', 'robosonysta', 'windowsclubbr', 'não', 'é', 'demon', 'souls', 'de', 'ps3', 'kkkkkkkkkkkkkkk'], ['neymarjr', 'pumafootball', 'a', 'puma', 'ficou', 'maluca', 'o', 'projota', 'tava', 'cancelado', 'ate', 'esses', 'dias', 'ai', 'kkk'], ['tbt', 'de', 'hj', 'vai', 'para', 'o', 'lançamento', 'das', 'camisas', 'da', 'puma', 'de', '2012', 'tirando', 'o', 'lucas', 'zen', 'que', 'saudade', 'meus', 'amigos', 'https//tco/w3pswbu4lm'], ['bando', 'de', 'filha', 'da', 'puma', 'arrombados', 'do', 'caralho', 'assim', 'que', 'a', 'menina', 'agradeceu', 'deixaram', 'de', 'seguir', 'isso', 'significa', 'que', 'seu', 'brilho', 'encomoda', 'princesa', 'vc', 'vai', 'ganhar', 'mt', 'mais', '👑'], ['puma', 'dói', 'os', 'pé', 'prefiro', 'nike', 'https//tco/r3qckxcq2e'], ['pra', 'mim', 'o', 'mv', 'mais', 'foda', 'do', 'txt', 'sempre', 'irá', 'ser', 'puma', 'até', 'que', 'chegue', 'um', 'para', 'provar', 'o', 'contrário', 'e', 'mudar', 'a', 'minha', 'opinião'], ['esse', 'bbb', 'só', 'tem', 'medroso', 'briga', 'duas', 'três', 'vezinhas', 'e', 'já', 'quer', 'sair', 'vá', 'puma', 'porra'], ['deixar', 'de', 'comprar', 'um', 'puma', 'de', 'r', '50000', 'para', 'fazer', 'meu', 'mapa', 'astral', 'foi', 'a', 'escolha', 'mais', 'feliz', 'que', 'eu', 'fiz', 'hoje'], ['odeio', 'usar', 'esse', 'tênis', 'da', 'puma', 'mas', 'ele', 'é', 'mega', 'confortável', 'parece', 'que', 'estou', 'descalça'], ['achetez', 'des', 'sac', 'puma'], ['scfarense_', 'betopimparel', 'o', 'beto', 'treina', 'com', 'adidas', 'e', 'nike', 'muito', 'bem', 'não', 'havia', 'uma', 'meias', 'da', 'reebok', 'e', 'um', 'chapéu', 'da', 'puma', 'também', 'vamos', 'lá', 'levar', 'isto', 'a', 'sério', 'por', 'favor'], ['themikesalk', 'puma', 'ignite'], ['e', 'a', 'malta', 'que', 'anda', 'a', 'desejar', 'ter', 'a', 'puma', 'em', 'vez', 'de', 'adidasmas', 'vocês', 'têm', 'opinião', 'que', 'é', 'pessoal', 'ou', 'é', 'só', 'porque', 'está', 'na', 'modaadidas', 'é', 'adidas'], ['miaudango', 'eu', 'prefeitura', 'a', 'feiticeira', 'escarlate', 'principalmente', 'por', 'causa', 'do', 'spoilernovo', 'traje', 'dela', 'mas', 'aposto', 'que', 'o', 'neymar', 'será', 'bem', 'interessante', 'também', 'talvez', 'até', 'se', 'transformando', 'numa', 'puma', 'ou', 'algo', 'do', 'tipo', 'https//tco/pcbw8qdc9a'], ['carlaxsls', 'rxhstan', 'beberexha', 'puma', 'bebeshotass', 'warnerpromo', 'ela', 'destruiu', 'tudo', 'aqui', '☠', '️', '☠', '️', '☠', '️'], ['aossayu', 'txt_members', 'obvio', 'nadie', 'tiene', 'miedo', 'con', 'puma', 'de', 'fondo', 'ajdksk'], ['rexhabrasil', 'beberexha', 'kakakaka', 'por', 'um', 'momento', 'achei', 'que', 'ia', 'sair', 'uma', 'versão', 'de', 'puma', 'do', 'txt', 'com', 'a', 'bebe', 'rexha', 'kakaka', 'quase', 'surtei', 'https//tco/yr5wfalk1x'], ['é', 'midzy', 'então', 'diz', 'uma', 'música', 'do', 'aespa', 'que', 'não', 'seja', 'puma'], ['nunca', 'liguei', 'pra', 'nike', 'adidas', 'puma', 'asics', 'ou', 'oq', 'tiver', 'o', 'importante', 'é', 'se', 'dá', 'bem', 'com', 'sigo', 'mesmo'], ['lala_puma', 'kkkkkkk', 'grazadeus', 'ela', 'ainda', 'não', 'ta', 'na', 'fase', 'tiktok'], ['neymarjr', 'pumafootball', 'tu', 'pode', 'pedir', 'pra', 'puma', 'tirar', 'foto', 'do', 'necowilliams01', 'agradeço'], ['joel_amhaus', 'n', 'fax', 'na', 'puma', 'to', 'esperando', 'o', 'lockdown', 'acabar', 'pra', 'jogar', 'uma', 'bomba', 'la', 'o', 'povo', 'enrrolado', 'e', 'ruim', 'de', 'serviço'], ['beompallet', 'hopecandys', 'eles', 'viram', 'o', 'mv', 'de', 'puma', 'por', 'acaso'], ['puma_parda', 'o', 'marco', 'do', 'gás', 'é', 'um', 'projeto', 'de', 'lei', 'do', 'psdb', 'não', 'tem', 'nada', 'a', 'ver', 'com', 'o', 'guedes'], ['não', 'sei', 'se', 'aceito', 'a', 'proposta', 'da', 'nike', 'ou', 'da', 'puma', 'cr7', 'e', 'ney', 'me', 'chamando'], ['pedra_veronica', 'e', 'eu', 'que', 'não', 'consigo', 'comprar', 'nem', 'um', 'ténis', 'da', 'puma', 'https//tco/fwu28soao0'], ['a', 'nike', 'faz', 'isso', 'a', 'new', 'balance', 'faz', 'isso', 'a', 'puma', 'faz', 'isso', 'todas', 'as', 'marcas', 'usam', 'templates', 'https//tco/sgbf1jf1j3'], ['euperdendotempo', 'ameliunga', 'puma_parda', 'aolivais', 'advogados', 'da', 'globo', 'processando', 'com', 'tanta', 'força', 'que', 'quando', 'o', 'nego', 'di', 'tiver', 'filhos', 'o', 'registro', 'do', 'nascimento', 'vai', 'ser', 'no', 'serasa'], ['naaraalvs', 'naara', 'se', 'o', 'seu', 'pedido', 'foi', 'via', 'https//tco/e0gotvkaoa', 'por', 'favor', 'manda', 'uma', 'msg', 'para', 'sacsitepumacom', 'primeiro', 'e', 'depois', 'seus', 'dados', 'de', 'cpf', 'e', 'email', 'por', 'dm', 'para', 'checarmos', 'o', 'seu', 'caso', 'por', 'favor', 'obrigado'], ['nao', 'neymar', 'puma'], ['bermuda', 'pumacustando', 'apenas', 'r', '9990', '💸', 'na', 'compra', 'de', '3', 'unidades', 'ganhe', '20', 'de', 'desconto', '🏷', '️', 'compre', 'a', 'vista', 'ou', 'nos', 'cartões', 'de', 'crédito', '💸', '💳', 'whatsapp', 'disponível', '📱', 'https//tco/t9m6ekfrv5faça', 'já', 'seu', 'pedido', 'e', 'receba', 'em', 'até', '1', 'hora', '⏰', '🚛', 'usecapixaba', 'estilocapixaba', 'https//tco/xjpznerehm'], ['pra', 'tênis', 'de', 'corrida', 'vcs', 'preferem', 'nike', 'puma', 'olympikus', 'ou', 'adidas'], ['minha', 'fav', 'é', 'our', 'summer', 'e', 'a', 'que', 'eu', 'menos', 'gosto', 'é', 'puma', 'https//tco/lgkcojwnst'], ['beomietalent', 'sim', 'vei', 'falam', 'que', 'a', 'bh', 'fica', 'na', 'mermisse', 'com', 'eles', 'muito', 'bom', 'assisti', 'o', 'mv', 'de', 'puma', 'e', 'achei', 'que', 'foi', 'wlts'], ['puma_533375', 'omatribel', 'gabylevinas', 'seguramente'], ['deprepalmeiras', 'tem', 'que', 'fazer', 'uma', 'cpi', 'investigação', 'onde', 'está', 'indo', 'esse', 'dinheiro', 'dinheiro', 'quê', 'o', 'palmeiras', 'quase', '250', 'milhões', 'em', 'premiação', 'direito', 'de', 'tv', 'globo', 'premieri', 'tnt', 'sbt', 'patrocinadores', 'crefisa', 'fam', 'puma', 'vendas', 'de', 'jogadores', '26', 'milhões', 'ganhou', 'no', 'campeonato', 'brasileiro'], ['puma_parda', 'até', 'onde', 'a', 'carência', 'pode', 'levar', 'o', 'ser', 'humano', 'mddc'], ['ele', 'e', 'a', 'bruna', 'com', 'parceria', 'com', 'a', 'puma', 'era', 'o', 'momento', 'perfeito', 'de', 'fazer', 'alguma', 'coisa', 'de', 'casal', '\\U0001f972', 'https//tco/e0bvqymacp'], ['hoje', 'chegou', 'minha', 'encomenda', 'da', 'puma', 'e', 'minha', 'camisa', 'do', 'flamengo', 'agora', 'como', 'vou', 'fazer', 'pra', 'pagar', 'tudo', 'isso', 'eu', 'não', 'sei'], ['a', 'nova', 'future', 'z', 'faz', 'uma', 'homenagem', 'ao', 'empolgado', 'atleta', 'da', 'bola', 'aquele', 'craque', 'criativo', 'que', 'se', 'destaca', 'com', 'habilidade', 'e', 'rapidez', 'em', 'raciocínio', 'moldando', 'o', 'jogo', 'diante', 'de', 'sua', 'visão', 'a', 'cada', 'movimento', 'jogada', 'e', 'ação', '📸', 'neymar/puma', 'https//tco/dbtgxwof3f'], ['ó', 'deus', 'vai', 'tirando', 'senhor', 'toda', 'propaganda', 'de', 'collant', '😭', '😭', 'toda', 'promoção', 'de', 'sapatilha', 'deus', '🤧', '🤧', 'manda', 'pra', 'lixeira', 'qualquer', 'email', 'da', 'nike', 'puma', 'e', 'adidas', 'ó', 'pai', '🥺', '🙏'], ['puma', 'era', 'muito', 'melhor'], ['caraio', 'em', 'puma', 'enfiou', 'no', 'cu', 'da', 'nike', 'e', 'ainda', 'girou'], ['fiz', 'uma', 'receitinha', 'de', 'comida', 'no', 'instagram', 'ta', 'muito', 'gostoso', '😋'], ['esse', 'sentai', 'tá', 'ótimo', 'mais', 'por', 'favor', 'toei', 'https//tco/ti5zfqyhhk'], ['goncalodcnunes', 'mas', 'as', 'marcas', 'vãose', 'reinventando', 'muito', 'pode', 'mudar', 'até', 'aínão', 'são', 'contratos', 'com', 'mais', 'uma', 'equipa', 'ou', 'outra', 'puto', 'ahah', 'no', 'futebol', 'a', 'nível', 'de', 'clubes', 'pelo', 'menos', 'a', 'puma', 'não', 'tem', 'mais', 'do', 'que', '6', 'equipas', 'verdadeiramente', 'relevantes', 'a', 'nível', 'mundial'], ['era', 'só', 'um', 'patrocínio', 'da', 'puma', '🤧'], ['maxveyratdurbet', 'bon', 'bah', 'go', 'acheter', 'des', 'puma'], ['desconto', 'de', '15', 'no', 'site', 'ou', 'no', 'aplicativo', 'centauro', 'cupom', 'd84372caminhadaesporte', 'esporteinterativo', 'basketball', 'fitness', 'futebol', 'nikeadidaspumavoleibol', 'saudesaudefisica', 'futebolneymargolsportvcuiabagremiointernacional', 'https//tco/iwkxx9vnns'], ['simaopereira11', 'tendo', 'em', 'conta', 'a', 'qualidade', 'crescente', 'da', 'merda', 'que', 'têm', 'feito', 'vão', 'perder', 'a', 'maioria', 'dos', 'importantes', 'a', 'dimensão', 'global', 'é', 'afetada', 'por', 'tudo', 'isso', 'não', 'é', 'por', 'terem', 'contratos', 'com', 'mais', 'uma', 'equipa', 'ou', 'outra', 'que', 'são', 'melhores', 'que', 'a', 'puma'], ['puma_parda', 'meus', 'pais', 'tentaram', 'reverter', 'uns', 'anos', 'atrás', 'e', 'não', 'conseguiram', 'agora', 'não', 'mexem', 'mais', 'nisso', 'eu', 'digo', 'que', 'eles', 'deveriam', 'continuar', 'tentando', 'mas', 'eles', 'são', 'teimosos', 'e', 'acham', 'que', 'não', 'dá', 'mais', 'para', 'fazer', 'alguma', 'coisa'], ['creativity', 'puma', 'tem', 'também', 'produtos', 'com', 'a', 'identidade', 'neymar', 'jr', 'personalizados', 'como', 'camisetas', 'shorts', 'acessórios', 'de', 'treinamento', 'e', 'vestuário', 'para', 'usar', 'fora', 'dos', 'gramados', 'https//tco/bobxnpw1qh'], ['puma', 'mais', 'pequena', 'que', 'a', 'adidas', 'estamos', 'a', 'passar', 'mal', 'https//tco/05u1npamcp'], ['realmente', 'falaram', 'isso', 'pra', 'um', 'grupo', 'que', 'tem', 'mvs', 'como', 'cysm', 'puma', 'e', 'eternally', 'que', 'realidade', 'é', 'essa', 'que', 'vivem', 'https//tco/geuvweymy3'], ['portuguesegb', 'rbaptista08', 'curtavermelha', 'claro', 'e', 'eu', 'até', 'gostava', 'de', 'ver', 'o', 'benfica', 'com', 'puma', 'caso', 'a', 'adidas', 'continue', 'a', 'pagar', 'a', 'merda', 'que', 'tem', 'pago', 'mais', 'vale', 'ir', 'pa', 'puma', 'digo', 'eu'], ['puma', 'n', 'colocou', '3', 'itens', 'da', 'coleção', 'nv', 'do', 'neymar', 'triste', 'estou'], ['sério', 'o', 'tanto', 'de', 'gente', 'falando', 'que', 'o', 'txt', 'tem', 'que', 'inovar', 'nos', 'mvs', 'gente', 'vcs', 'se', 'quer', 'pararam', 'pra', 'ver', 'algum', 'mv', 'eternally', 'puma', 'nap', 'of', 'a', 'star'], ['tuittamariah', 'faz', 'um', 'tempo', 'que', 'mudo', 'tá', 'ganhando', 'mais', 'na', 'puma', 'pelo', 'que', 'li', 'na', 'época'], ['vmicut', 'kkkkkkkkkkkkkk', 'queria', 'q', 'eles', 'fossem', 'da', 'nike', 'a', 'puma', 'é', 'mt', 'blé'], ['jasonso19617695', 'samiabomfim', 'não', 'livro', 'ninguém', 'dos', 'seus', 'erros', 'facilitou', 'acesso', 'para', 'empreiteiras', 'teve', 'fraude', 'que', 'se', 'puma', 'os', 'responsáveis', 'e', 'ponto', 'mas', 'ficar', 'nessa', 'de', 'ser', 'contra', 'a', 'corrupção', 'de', 'um', 'e', 'ficar', 'fingindo', 'não', 'ver', 'a', 'do', 'outro', 'não', 'funciona', 'comigo'], ['1fxxlz', 'da', 'puma', 'viado'], ['minho', 'quando', 'você', 'quiser', 'fazer', 'um', 'dance', 'cover', 'de', 'puma', 'saiba', 'que', 'eu', 'estou', 'pronta', '😎', 'https//tco/qadrodp2hw'], ['eu', 'ela', 'e', 'o', 'puma', '👩\\u200d❤️\\u200d👨', '🐱', 'https//tco/3o72vw03r8'], ['puma_parda', 'ao', 'q', 'parece', 'esse', 'é', 'o', 'novo', 'mantra', 'bolzonazi', 'estão', 'fortes', 'nessa', 'tese', 'de', 'autorresponsabilização', 'não', 'aguento'], ['lewishamiltonbr', 'puma', 'se', 'houver', 'alguém', 'tão', 'admirável', 'quanto', 'ele', 'na', 'atualidade', 'eu', 'desconheço', 'lh', 'é', 'incrível'], ['crl', 'nada', 'a', 'ver', 'neymarjr', 'com', 'a', 'puma', '🤦🏻\\u200d♂️', '😒', 'https//tco/lotoz2b5pa'], ['puma_parda', 'sem', 'contar', 'que', 'esta', 'fase', 'de', 'colapso', 'do', 'sistema', 'de', 'saúde', 'é', 'justamente', 'essa', 'tem', 'mais', 'gente', 'precisando', 'entrar', 'na', 'uti', 'do', 'que', 'gente', 'saindo'], ['hermanosfc', 'quase', '250', 'milhões', 'de', 'reais', 'em', 'premiações', 'patrocinadoras', 'crefisa', 'fam', 'puma', 'tv', 'globo', 'premieri', 'tnt', 'sbt', 'vendas', 'de', 'jogadores', '26', 'milhões', 'de', 'reais', 'no', 'campeonato', 'brasileiro', 'blz', '🤫'], ['puma_parda', 'eu', 'tb', 'eu', 'não', 'vejo', 'nem', 'filme', 'com', 'estupro', 'pedofilia', 'ou', 'maldades', 'reais', 'me', 'incomoda', 'de', 'verdade', 'mas', 'ver', 'um', 'negacionista', 'morrer', 'por', 'covid', 'me', 'faz', 'pensar', 'bem', 'feito', 'amenizo', 'com', 'um', 'muito', 'karma', 'nessa', 'hora', 'é', 'o', 'que', 'tem', 'pra', 'hoje', 'mas', 'vou', 'melhor', 'com', 'o', 'tempo'], ['puma_parda', 'ver', 'o', 'chanceler', 'biruta', 'no', 'ostracismo', 'é', 'um', 'dos', 'sonhos', 'que', 'eu', 'acalento'], ['neymarjrdepre', 'pumabrasil', 'escreveu', 'um', 'bcomercial', 'brumar', 'pra', 'puma'], ['hoje', 'eu', 'sai', 'de', 'blusa', 'da', 'nike', 'tênis', 'da', 'puma', 'e', 'mochila', 'da', 'adidas', 'enfim', 'a', 'diversidade'], ['creativityz', 'disponível', 'no', 'https//tco/e0gotvkaoa', 'https//tco/cimytqtekx'], ['site', 'da', 'adidas/site', 'da', 'puma', 'https//tco/qilo4pczzd'], ['fernandez_puma', 'flaco', 'tremendo', 'live', 'que', 'te', 'sacaste', 'ayer', '💪'], ['0padilhauai', 'meus', 'carrinhos', 'eh', 'tudo', 'lotado', 'nike', 'adidas', 'puma', 'lacoste', 'tommy', 'pergunta', 'se', 'eu', 'compro'], ['puma', 'gte', 'destruído', 'após', 'detonação', 'da', 'bomba', 'dentro', 'dele', 'é', 'possível', 'ver', 'o', 'corpo', 'do', 'sargento', 'guilherme', 'pereira', 'do', 'rosário', 'que', 'morreu', 'logo', 'após', 'a', 'explosão', 'rio', 'de', 'janeiro', '30', 'de', 'abril', 'de', '1981', '39', 'anosàs', '2115', 'riocentroresponsável', 'exército', 'brasileiro', 'https//tco/g6fsx6dzw2'], ['puma_parda', 'a', 'burrice', 'de', 'quebrar', 'contrato', 'com', 'a', 'globo', 'misericórdia'], ['fuckarou', 'puma', 'fez', 'collab', 'com', 'marca', 'de', 'pão'], ['novo', 'pôster', 'de', 'beberexha', 'para', 'campanha', 'da', 'puma', 'https//tco/tvm8vjmybi'], ['puma_parda', 'sim', 'a', 'culpa', 'é', 'nossa', 'eu', 'que', 'recusei', '800', 'trilhão', 'de', 'pfizer', 'por', 'exemplo', 'desculpa', 'brasil'], ['saudade', 'das', 'candids', 'da', 'selena', 'saindo', 'do', 'pilates', 'vestida', 'de', 'puma', 'com', 'uma', 'bolsa', 'da', 'coach'], ['puma_parda', 'danielaaf', 'se', 'ainda', 'ficasse', 'calado'], ['puma_parda', 'danielaaf', 'nem', 'com', 'a', 'bandeira', 'do', 'brasil', 'por', 'amor', 'à', 'pátria', 'rsrsrs'], ['as', 'fotos', 'da', 'nova', 'colab', 'puma', 'x', 'kidsuper', 'foram', 'feitas', 'aqui', 'no', 'brasil', 'https//tco/viqmmpjtns'], ['athodavid', 'sério', 'amg', 'aqui', 'só', 'tem', 'pão', 'puma', 'banana', 'e', 'maçãsem', 'brincadeirae', 'o', 'resto', 'é', 'tudo', 'comida', 'da', 'semana', 'passada', '😭', '😭', '😭', '😭'], ['goncalodcnunes', 'o', 'design', 'é', 'uma', 'coisa', 'subjetivaa', 'adidas', 'só', 'fica', 'atrás', 'da', 'nike', 'nas', 'marcas', 'mais', 'ricas', 'de', 'desporto', 'do', 'mundonos', '10', 'contratos', 'mais', 'rentáveis', 'do', 'mundo', '5', 'são', 'nike', '4', 'são', 'adidas', 'e', '1', 'é', 'puma', 'cityclaro', 'que', 'em', 'questões', 'de', 'materiais', 'e', 'tudo', 'isso', 'serão', 'perfeitamente', 'equiparáveis'], ['97froggys', 'amg', 'eles', 'eram', 'embaixadores', 'da', 'puma', 'em', '2018', 'o', 'contrato', 'acabou', 'faz', 'tempo', 'agora', 'eles', 'são', 'da', 'fila'], ['tiagomarques32', 'rbaptista08', 'curtavermelha', 'no', 'entanto', 'mesmo', 'tendo', 'tido', 'uma', 'grade', 'b', 'com', 'a', 'puma', 'faturada', '~20', 'milhões', 'de', 'euros'], ['ch3rrb0mb', 'uhumé', 'hebe', 'ele', 'é', 'um', 'floppa', 'é', 'tipo', 'um', 'puma', 'mais', 'ele', 'é', 'dócil', 'igual', 'um', 'gatinho', '/sorri', 'com', 'o', 'beijinho', 'e', 'abraça', 'mais', 'fortinho'], ['brunabud_', 'aí', 'poderia', 'ter', 'mais', 'que', 'so', 'um', 'puma', 'de', 'estimação'], ['to', 'apaixonada', 'num', 'tênis', 'puma', 'mas', 'vi', 'uns', 'comentários', 'falando', 'q', 'o', 'tênis', 'parece', 'um', 'chumbo', 'de', 'tão', 'pesado'], ['aprendi', 'a', 'gostar', 'até', 'de', 'puma', 'mas', 'cat', 'amp', 'dog', 'não', 'me', 'desceu', 'até', 'hj', 'que', 'tristeza']]\n"
     ]
    }
   ],
   "source": [
    "# 1° for: Separar os tweets irrelevantes dando um split\n",
    "p_irrelevantes = []\n",
    "for index, conteudo in enumerate (irrelevante):\n",
    "    p_irrelevantes.append(conteudo.split())\n",
    "    \n",
    "print(p_irrelevantes)\n",
    "#p_irrelevantes"
   ]
  },
  {
   "cell_type": "code",
   "execution_count": 95,
   "metadata": {
    "scrolled": true
   },
   "outputs": [
    {
     "name": "stdout",
     "output_type": "stream",
     "text": [
      "['fico', 'assim', 'no', 'da', 'puma', 'affss', 'https//tco/1ygyhdzhmi', '0ketlyn_s', 'eu', 'acho', 'que', 'um', 'puma', '^^', 'kevass0', 'neymarjrdepre', 'neymarjr', 'pumabrasil', 'site', 'da', 'puma', 'mas', 'ainda', 'não', 'tá', 'no', 'catálogo', 'brasil', 'americana', 'já', 'está', 'das', 'puma', 'fick', 'prada', '🖕🏿', 'https//tco/us7iemubr6', 'negócio', 'imperdível', 'tshirt', 'puma', 'originalps', 'se', 'não', 'queres', 'comprar', 'também', 'não', 'atrapalhes', 'o', 'negóciovamos', 'lá', 'que', 'hoje', 'é', 'présexta', 'bom', 'dia', '♡thursdaymotivationthursdaythoughts', 'https//tco/3bitcptxx4', 'la', 'fameuse', 'puma', 'ouigo', 'https//tco/yyiqbjqdok', 'puma_parda', 'ela', 'é', 'de', 'campina', 'grande', 'tá', 'carente', 'é', 'quase', 'inevitável', 'kkk', 'vamo', 'passar', 'pano', 'pra', 'ideia', 'de', 'tabacudo', 'lysaparede_', 'mas', 'eles', 'não', 'fazem', 'roupa', 'pro', 'paddock', 'né', 'os', 'meca', 'usam', 'puma', 'williambender', 'cadê', 'o', 'dinheiro', 'das', 'vendas', 'de', 'jogadores', 'premiações', 'quase', '250milhões', 'direito', 'de', 'tv', 'da', 'rede', 'globo', 'premieri', 'tnt', 'sbt', 'puma', '26', 'milhões', 'quê', 'ganhou', 'no', 'campeonato', 'brasileiro', 'sai', 'fora', 'maurício', 'bananote', 'anderson', 'barros', 'jaiminho', 'cícero', 'sousa', 'drewbsizzler', 'euphorart', 'lovatorns', 'aí', 'você', 'forçou', 'né', 'a', 'hailey', 'tá', 'crescendo', 'mt', 'como', 'modelo', 'fotografia', 'mas', 'ela', 'ainda', 'não', 'pegou', 'contratos', 'grandes', 'como', 'a', 'selena', 'puma', 'pantene', 'cocacola', 'adidas', 'coach', 'louis', 'vuitton', 'verizon', 'e', 'tem', 'mais', 'capa', 'vogue', 'us', 'que', 'a', 'hailey', 'mesmo', 'sem', 'ser', 'modelo', 'petição', 'pra', 'música', '“puma”', 'do', 'dogor_10', 'pexande', 'npsidoka', 'virar', 'julia', 'de', 'tanto', 'que', 'eu', 'amo', 'ela', 'demais', 'xcapimbr', 'vai', 'comprar', 'studios', 'kkkkkkkkkkkkk', 'alguém', 'sabe', 'qual', 'o', 'pix', 'da', 'puma', 'https//tco/t6tdute9jo', 'puma_parda', 'foda', 'é', 'que', 'esse', 'tipo', 'de', 'coisa', 'do', 'inss', 'é', 'supor', 'comum', 'meu', 'pai', 'até', 'hoje', 'não', 'conseguiu', 'se', 'aposentar', 'mas', 'não', 'pode', 'trabalhar', 'ele', 'tem', 'uma', 'doença', 'de', 'pele', 'muito', 'rara', 'e', 'como', 'é', 'enfermeiro', 'corre', 'risco', 'de', 'infecções', 'o', 'inss', 'não', 'reconhece', 'a', 'doença', 'que', 'ele', 'tem', 'puma_bet', 'metin52703103', 'pumabet', 'escoubar', 'se', 'alguém', 'souber', 'de', 'sorteios', 'q', 'os', 'prêmios', 'são', 'kombifiltro', 'da', 'moogmodularfuzz', 'da', 'zvexfender', 'mustang', 'basspuma', 'gt', '16', '1980é', 'só', 'me', 'avisar', 'q', 'eu', 'colo', 'emmm', 'quero', 'um', 'desses', 'presentes', 'ai', 'puma_parda', 'ah', 'poxa', 'adoro', 'a', 'vitoria', 'tubo', 'não', 'sei', 'de', 'quem', 'é', 'esse', 'pénota', '4/10', 'achei', 'feio', 'mas', 'é', 'da', 'puma', 'então', 'foi', 'caro', 'https//tco/wir4p4ys0j', 'ramos85764697', 'de', 'fato', 'é', 'muito', 'cara', 'essas', 'da', 'puma', 'essa', 'é', 'adidas', 'num', 'show', 'do', 'txt', 'eu', 'super', 'imagino', 'as', 'músicas', 'com', 'as', 'coresvermelho', 'puma', 'cysmazul', 'campd', 'blue', 'hour', 'noas', 'verde', 'roller', 'coaster', 'cwjltma', 'laranja', 'blue', 'orangeade', 'https//tco/ma1zs4pxar', 'pablosales1984', 'fico', 'triste', 'demais', 'quase', '250', 'milhões', 'em', 'premiações', 'patrocinadoras', 'crefisa', 'fam', 'puma', 'tv', 'globo', 'premieri', 'tnt', 'sbt', 'vendas', 'de', 'jogadores', '26', 'milhões', 'pra', 'onde', 'está', 'indo', 'esse', 'dinheiro', 'tem', 'que', 'fazer', 'uma', 'cpi', 'investigação', 'único', 'jeito', 'a', 'pessoa', 'que', 'fala', 'isso', 'nunca', 'escutou', 'txt', 'de', 'vdd', 'e', 'nunca', 'chegou', 'perto', 'de', 'eternally', 'puma', 'e', 'afins', 'https//tco/vlx2di67rd', 'desconto', 'de', '15', 'no', 'site', 'ou', 'no', 'aplicativo', 'centauro', 'cupom', 'd84372caminhadaesporte', 'esporteinterativo', 'basketball', 'fitness', 'futebol', 'nikeadidaspumavoleibol', 'saudesaudefisica', 'penaltı', 'vendas', 'cupomdedesconto', 'desconto15descontometacompras', 'https//tco/pfd5buw3by', 'eu', 'vejo', 'esses', 'vídeos', 'em', 'jaguar', 'e', 'só', 'penso', 'que', 'o', 'carro', 'é', 'da', 'puma', 'neymarjrdepre', 'neymarjr', 'pumabrasil', 'puma', 'aceita', 'rins', 'como', 'até', 'com', 'pão', 'puma', 'e', 'todo', 'mundo', 'fica', '🤢', '🤢', '🤢', 'https//tco/2blhiwtorp', 'nay_nay055', 'era', 'da', 'puma', 'e', 'pumas', 'não', 'gostam', 'de', 'ficar', 'presas', 'elas', 'devem', 'ter', 'corrido', 'palmeiras', 'e', 'o', 'dinheiro', 'dos', 'títulos', 'da', 'crefisa', 'da', 'puma', 'e', 'do', 'avanti', 'contrato', 'de', 'televisão', 'porcentagem', 'em', 'vendas', 'das', 'marcas', 'palmeiras', 'jogadores', 'que', 'foram', 'vendidos', 'salários', 'gigantesco', 'como', 'o', 'de', 'dudu', 'ramires', 'e', 'b', 'henrique', 'não', 'faz', 'mais', 'parte', 'e', 'o', 'time', 'mesmo', 'assim', 'está', 'no', 'decifit', 'galiotte', 'essa', 'semana', 'do', 'consumidor', 'nike', 'e', 'puma', 'me', 'mandando', 'email', 'c', 'promoção', 'nos', 'tênis', 'se', 'fuder', 'não', 'tenho', 'dinheiro', 'porra', 'boyzkook', 'se', 'eu', 'to', 'vendo', 'direito', '991', 'plays', 'no', 'album', 'eternity', 'e', 'eu', 'sei', 'bem', 'que', '900', 'é', 'só', 'em', 'puma', 'darthkrayt4', 'é', 'exatamente', 'com', 'pão', 'puma', 'que', 'fica', 'mtt', 'bom', 'thefootballsc', 'puma', 'or', 'umbro', 'odeio', 'o', 'neymar', 'de', 'puma', 'odeio', 'ramos85764697', 'nãoe', 'a', '3', 'de', 'antes', 'da', 'puma', 'entrara', 'prevent', 'tinha', '1000', 'e', 'destribuil', 'pros', 'funcionários', 'pensando', 'em', 'mudar', 'meu', 'nome', 'pra', 'pão', 'puma', 'https//tco/txajldiqgc', '9', 'cat', 'and', 'dogesta', 'aqui', 'cujo', 'divide', 'opinioes', 'no', 'mundinho', 'kpopper', 'e', 'moa', 'twt', 'mas', 'nao', 'ligo', 'ela', 'esta', 'acima', 'de', 'muitas', 'musicas', 'meus', 'pequenos', 'furries', 'a', 'mae', 'de', 'puma', 'eh', 'esta', 'musica', 'https//tco/xop1qn5qqx', 'tao', 'linda', 'e', 'rara', 'q', 'nem', 'o', 'site', 'da', 'puma', 'tem', 'https//tco/ts33uoghro', 'barrets_', 'uma', 'grande', 'honra', 'batalhar', 'com', 'a', 'puma', 'josgome40657225', 'deixa', 'estar', 'que', 'assim', 'que', 'o', 'benfica', 'mudar', 'de', 'adidas', 'para', 'puma', 'a', 'adidas', 'passa', 'logo', 'a', 'ter', 'as', 'melhores', 'camisolas', 'do', 'mundo', 'outra', 'vez', 'neymar', 'amp', 'puma', 'https//tco/v4shkzu7ds', 'puma_parda', 'exato', 'lugar', 'de', 'milico', 'é', 'longe', 'da', 'política', 'mazzuela', 'o', 'logo', 'da', 'puma', 'puma_parda', 'e', 'a', 'fila', 'aumentando', 'lá', 'fora', '_isapires', 'lou_cura_', 'https//tco/9ohwtluy63espero', 'ter', 'ajudado', 'pgeracoes', 'homemtacokkkkkk', 'capt_puma', 'robosonysta', 'windowsclubbr', '🤦', 'ptqp', 'mais', 'uma', 'burrico', 'azul', '😫', 'queria', 'muito', 'o', 'slip', 'on', 'da', 'puma', 'mas', 'não', 'sei', 'se', 'vale', 'a', 'pena', 'comparar', 'os', 'tênis', 'da', 'puma', '😔', 'pumabrasil', 'porque', 'aqui', 'no', 'brasil', 'não', 'ta', 'disponível', 'nem', 'a', 'jaqueta', 'e', 'nem', 'a', 'jersey', 'do', 'neymar', 'po', 'neymarjr', 'a', 'puma', 'não', 'me', 'ajuda', 'a', 'comprar', 'seus', 'kits', '😑', 'https//tco/2u6voecx5w', 'menino', 'ney', 'virou', 'adulto', 'ney', 'mas', 'de', 'puma', 'vai', 'virar', 'idoso', 'ney', 'https//tco/ivmgucvxjj', 'gente', 'eu', 'tô', 'quase', 'desmaiando', 'pelo', 'amor', 'de', 'deus', 'gente', 'eu', 'entrei', 'na', 'viva', 'puma', 'https//tco/0xv3cdbqmu', 'pvte7x', 'primeiramente', 'das', 'mulher', 'só', 'tem', 'um', '🥰', 'você', 'deve', 'tá', 'louco', 'a', 'puma', 'e', 'uma', 'putaria', 'tmnc', 'esperando', 'a', 'puma', 'obrigar', 'a', 'bruna', 'marquezine', 'e', 'o', 'neymar', 'a', 'fazer', 'uma', 'campanha', 'juntos', 'isso', 'pq', 'quando', 'eles', 'tiravam', 'fotos', 'juntos', 'o', 'brasil', 'era', 'melhor', 'a', 'gente', 'nem', 'precisa', 'deles', 'voltando', 'a', 'gente', 'só', 'precisa', 'das', 'fotos', 'kkkkkkkkkkk', 'https//tco/jjzttrfifa', 'smileyddeonu', 'vote', 'for', 'enhai', 'vote', 'for', 'enhypen', 'for', 'stanworld', '엔하이픈', 'enhypen', 'enhypen_members', 'benficaeazeite', 'sinceramente', 'que', 'se', 'escolha', 'a', 'que', 'será', 'mais', 'rentável', 'acredito', 'que', 'não', 'seja', 'a', 'adidas', 'e', 'umas', 'das', 'marcas', 'que', 'o', 'benfica', 'podia', 'tentar', 'poderia', 'ser', 'puma', 'umbro', 'under', 'armour', 'ou', 'kappaagora', 'lá', 'está', 'a', 'escolha', 'deverá', 'ser', 'sempre', 'a', 'que', 'rende', 'mais', 'pois', 'traz', 'mais', 'garantias', 'puma', 'é', 'horrível', 'rapa', 'nada', 'haver', 'com', 'o', 'ney', 'https//tco/9eaafsmykb', 'tinybeomgyu', 'algumas', 'cara', 'dizer', 'q', 'é', 'tudo', 'seria', 'mentira', 'tem', 'um', 'monte', 'q', 'me', 'irrita', 'principalmente', 'nas', 'partes', 'do', 'beom', 'e', 'do', 'hyuka', 'mas', 'temos', 'mt', 'mais', 'músicas', 'q', 'demonstram', 'bem', 'a', 'técnica', 'deles', 'do', 'q', 'o', 'contrário', '20cm', 'puma', 'blue', 'hour', 'force', 'angel', 'or', 'devil', 'ghosting', 'e', 'por', 'aí', 'vai', 'curtavermelha', '2021', 'e', 'ainda', 'há', 'pessoal', 'a', 'desconsiderar', 'a', 'puma', 'como', 'uma', 'marca', 'de', '2ª', 'percebo', 'que', 'se', 'goste', 'ou', 'não', 'mas', 'a', 'verdade', 'que', 'a', 'adidas', 'tem', 'arriscado', 'muito', 'pouco', 'connosco', 'e', 'quando', 'o', 'fez', 'foi', 'mau', 'coincidência', 'ou', 'não', 'ficou', 'pior', 'deste', 'os', 'nossos', 'maus', 'resultados', 'na', 'champions', 'policiaiso', 'no', '7', 'da', 'col', 'bolso', 'negro/puma', 'editora', '/1a', 'edição/maio', 'de', '1992/capa', 'de', 'vasco', 'eloy/trad', 'de', 'paula', 'reis', 'o', 'autor', 'dan', 'kavanagh', 'pseudónimo', 'de', 'julian', 'barnes', 'n1946', 'inglês', 'romancista', 'também', 'de', 'policiais', 'ensaísta', 'memorialista', 'originalputting', 'the', 'book', 'in', '1985', 'https//tco/znaocgjhur', 'eu', 'já', 'lancei', 'um', 'adidas', 'novo', 'no', 'lugar', 'do', 'puma', 'disk', 'e', 'água', 'dos', 'amigo', '🥵', 'goncalodcnunes', 'pessoalmente', 'acho', 'que', 'a', 'maneira', 'como', 'as', 'camisolas', 'da', 'puma', 'ajustam', 'ao', 'corpo', 'fica', 'male', 'olhando', 'para', 'outros', 'contratos', 'a', 'nível', 'mundial', 'adidas', 'e', 'nike', 'continuam', 'muito', 'acima', 'apesar', 'do', 'crescimento', 'da', 'pumano', 'entanto', 'importa', 'sempre', 'vem', 'quem', 'dá', 'mais', 'nas', 'ofertas', 'recebidas', 'pelo', 'benfica', 'lokleinhs_', 'nalimsgirl', 'feio', 'q', 'doi', 'pumagt', 'algm', 'tem', 'coisa', 'do', 'yeonjun', 'em', 'angel', 'or', 'devil', 'ou', 'puma', 'se', 'sim', 'por', 'favor', 'mande', 'batsumane', 'neymar', 'c’est', 'puma', 'puma_parda', 'a', 'pessoa', 'me', 'mandar', 'uma', 'dessas', 'a', 'essa', 'altura', 'do', 'campeonato', 'puta', 'que', 'me', 'pariu', 'hein', 'ttdajjoyce', 'maísa', 'é', 'embaixadora', 'da', 'samsung', 'e', 'patrocinada', 'pela', 'puma', 'só', 'por', 'essa', 'parte', 'já', 'acho', 'que', 'é', 'ela', 'yeonsx0', 'em', 'puma', '🗣', 'beomietalent', 'beompallet', 'vei', 'e', 'puma', 'nossa', 'aclamado', 'e', 'icônico', 'ph_caixeiro', 'neymar', 'pai', 'todo', 'dia', 'me', 'enche', 'o', 'saco', 'pra', 'fechar', 'com', 'a', 'puma', '😂', '😂', '😂', 'to', 'pensando', '🤔', '🤔', '🤔', 'pedrokcalheiros', 'o', 'yungmxch', 'escrever', 'a', 'parte', 'dele', 'de', 'pisando', 'em', 'puma', 'e', 'me', 'mandar', 'hj', 'ainda', 'hyukaisoulmate', 'jakespoem', 'de', 'filhote', 'pra', 'puma', 'com', 'sucesso', '👏🏻', '👏🏻', '👏🏻', '👏🏻', '👏🏻', 'negrogato_sdv', 'isso', 'e', 'um', 'puma', 'loggi', 'puma', 'compre', 'o', 'produto', 'com', 'vocês', 'e', 'ta', 'na', 'entregadora', 'e', 'não', 'consigo', 'entrar', 'em', 'contato', 'com', 'eles', 'me', 'ajuda', 'pumabrasil', 'loggi', 'sorbint', 'vc', 'n', 'gosta', 'de', 'puma', 'benji', 'o', 'mv', 'me', 'fez', 'deitar', 'moniefleur', 'eu', 'não', 'sabia', 'kkkk', 'na', 'minha', 'cabeça', 'eles', 'ainda', 'eram', 'embaixadores', 'da', 'puma', 'https//tco/4huqjos1r2', 'carlaxsls', 'rxhstan', 'beberexha', 'puma', 'bebeshotass', 'warnerpromo', 'eu', 'sempre', 'te', 'falei', '🥵', '💛', 'vejo', 'as', 'fotos', 'da', 'fila', 'e', 'fico', '😐', 'missing', 'puma', 'hours', 'open', 'homemtacokkkkkk', 'pgeracoes', 'robosonysta', 'windowsclubbr', 'não', 'é', 'demon', 'souls', 'de', 'ps3', 'kkkkkkkkkkkkkkk', 'neymarjr', 'pumafootball', 'a', 'puma', 'ficou', 'maluca', 'o', 'projota', 'tava', 'cancelado', 'ate', 'esses', 'dias', 'ai', 'kkk', 'tbt', 'de', 'hj', 'vai', 'para', 'o', 'lançamento', 'das', 'camisas', 'da', 'puma', 'de', '2012', 'tirando', 'o', 'lucas', 'zen', 'que', 'saudade', 'meus', 'amigos', 'https//tco/w3pswbu4lm', 'bando', 'de', 'filha', 'da', 'puma', 'arrombados', 'do', 'caralho', 'assim', 'que', 'a', 'menina', 'agradeceu', 'deixaram', 'de', 'seguir', 'isso', 'significa', 'que', 'seu', 'brilho', 'encomoda', 'princesa', 'vc', 'vai', 'ganhar', 'mt', 'mais', '👑', 'puma', 'dói', 'os', 'pé', 'prefiro', 'nike', 'https//tco/r3qckxcq2e', 'pra', 'mim', 'o', 'mv', 'mais', 'foda', 'do', 'txt', 'sempre', 'irá', 'ser', 'puma', 'até', 'que', 'chegue', 'um', 'para', 'provar', 'o', 'contrário', 'e', 'mudar', 'a', 'minha', 'opinião', 'esse', 'bbb', 'só', 'tem', 'medroso', 'briga', 'duas', 'três', 'vezinhas', 'e', 'já', 'quer', 'sair', 'vá', 'puma', 'porra', 'deixar', 'de', 'comprar', 'um', 'puma', 'de', 'r', '50000', 'para', 'fazer', 'meu', 'mapa', 'astral', 'foi', 'a', 'escolha', 'mais', 'feliz', 'que', 'eu', 'fiz', 'hoje', 'odeio', 'usar', 'esse', 'tênis', 'da', 'puma', 'mas', 'ele', 'é', 'mega', 'confortável', 'parece', 'que', 'estou', 'descalça', 'achetez', 'des', 'sac', 'puma', 'scfarense_', 'betopimparel', 'o', 'beto', 'treina', 'com', 'adidas', 'e', 'nike', 'muito', 'bem', 'não', 'havia', 'uma', 'meias', 'da', 'reebok', 'e', 'um', 'chapéu', 'da', 'puma', 'também', 'vamos', 'lá', 'levar', 'isto', 'a', 'sério', 'por', 'favor', 'themikesalk', 'puma', 'ignite', 'e', 'a', 'malta', 'que', 'anda', 'a', 'desejar', 'ter', 'a', 'puma', 'em', 'vez', 'de', 'adidasmas', 'vocês', 'têm', 'opinião', 'que', 'é', 'pessoal', 'ou', 'é', 'só', 'porque', 'está', 'na', 'modaadidas', 'é', 'adidas', 'miaudango', 'eu', 'prefeitura', 'a', 'feiticeira', 'escarlate', 'principalmente', 'por', 'causa', 'do', 'spoilernovo', 'traje', 'dela', 'mas', 'aposto', 'que', 'o', 'neymar', 'será', 'bem', 'interessante', 'também', 'talvez', 'até', 'se', 'transformando', 'numa', 'puma', 'ou', 'algo', 'do', 'tipo', 'https//tco/pcbw8qdc9a', 'carlaxsls', 'rxhstan', 'beberexha', 'puma', 'bebeshotass', 'warnerpromo', 'ela', 'destruiu', 'tudo', 'aqui', '☠', '️', '☠', '️', '☠', '️', 'aossayu', 'txt_members', 'obvio', 'nadie', 'tiene', 'miedo', 'con', 'puma', 'de', 'fondo', 'ajdksk', 'rexhabrasil', 'beberexha', 'kakakaka', 'por', 'um', 'momento', 'achei', 'que', 'ia', 'sair', 'uma', 'versão', 'de', 'puma', 'do', 'txt', 'com', 'a', 'bebe', 'rexha', 'kakaka', 'quase', 'surtei', 'https//tco/yr5wfalk1x', 'é', 'midzy', 'então', 'diz', 'uma', 'música', 'do', 'aespa', 'que', 'não', 'seja', 'puma', 'nunca', 'liguei', 'pra', 'nike', 'adidas', 'puma', 'asics', 'ou', 'oq', 'tiver', 'o', 'importante', 'é', 'se', 'dá', 'bem', 'com', 'sigo', 'mesmo', 'lala_puma', 'kkkkkkk', 'grazadeus', 'ela', 'ainda', 'não', 'ta', 'na', 'fase', 'tiktok', 'neymarjr', 'pumafootball', 'tu', 'pode', 'pedir', 'pra', 'puma', 'tirar', 'foto', 'do', 'necowilliams01', 'agradeço', 'joel_amhaus', 'n', 'fax', 'na', 'puma', 'to', 'esperando', 'o', 'lockdown', 'acabar', 'pra', 'jogar', 'uma', 'bomba', 'la', 'o', 'povo', 'enrrolado', 'e', 'ruim', 'de', 'serviço', 'beompallet', 'hopecandys', 'eles', 'viram', 'o', 'mv', 'de', 'puma', 'por', 'acaso', 'puma_parda', 'o', 'marco', 'do', 'gás', 'é', 'um', 'projeto', 'de', 'lei', 'do', 'psdb', 'não', 'tem', 'nada', 'a', 'ver', 'com', 'o', 'guedes', 'não', 'sei', 'se', 'aceito', 'a', 'proposta', 'da', 'nike', 'ou', 'da', 'puma', 'cr7', 'e', 'ney', 'me', 'chamando', 'pedra_veronica', 'e', 'eu', 'que', 'não', 'consigo', 'comprar', 'nem', 'um', 'ténis', 'da', 'puma', 'https//tco/fwu28soao0', 'a', 'nike', 'faz', 'isso', 'a', 'new', 'balance', 'faz', 'isso', 'a', 'puma', 'faz', 'isso', 'todas', 'as', 'marcas', 'usam', 'templates', 'https//tco/sgbf1jf1j3', 'euperdendotempo', 'ameliunga', 'puma_parda', 'aolivais', 'advogados', 'da', 'globo', 'processando', 'com', 'tanta', 'força', 'que', 'quando', 'o', 'nego', 'di', 'tiver', 'filhos', 'o', 'registro', 'do', 'nascimento', 'vai', 'ser', 'no', 'serasa', 'naaraalvs', 'naara', 'se', 'o', 'seu', 'pedido', 'foi', 'via', 'https//tco/e0gotvkaoa', 'por', 'favor', 'manda', 'uma', 'msg', 'para', 'sacsitepumacom', 'primeiro', 'e', 'depois', 'seus', 'dados', 'de', 'cpf', 'e', 'email', 'por', 'dm', 'para', 'checarmos', 'o', 'seu', 'caso', 'por', 'favor', 'obrigado', 'nao', 'neymar', 'puma', 'bermuda', 'pumacustando', 'apenas', 'r', '9990', '💸', 'na', 'compra', 'de', '3', 'unidades', 'ganhe', '20', 'de', 'desconto', '🏷', '️', 'compre', 'a', 'vista', 'ou', 'nos', 'cartões', 'de', 'crédito', '💸', '💳', 'whatsapp', 'disponível', '📱', 'https//tco/t9m6ekfrv5faça', 'já', 'seu', 'pedido', 'e', 'receba', 'em', 'até', '1', 'hora', '⏰', '🚛', 'usecapixaba', 'estilocapixaba', 'https//tco/xjpznerehm', 'pra', 'tênis', 'de', 'corrida', 'vcs', 'preferem', 'nike', 'puma', 'olympikus', 'ou', 'adidas', 'minha', 'fav', 'é', 'our', 'summer', 'e', 'a', 'que', 'eu', 'menos', 'gosto', 'é', 'puma', 'https//tco/lgkcojwnst', 'beomietalent', 'sim', 'vei', 'falam', 'que', 'a', 'bh', 'fica', 'na', 'mermisse', 'com', 'eles', 'muito', 'bom', 'assisti', 'o', 'mv', 'de', 'puma', 'e', 'achei', 'que', 'foi', 'wlts', 'puma_533375', 'omatribel', 'gabylevinas', 'seguramente', 'deprepalmeiras', 'tem', 'que', 'fazer', 'uma', 'cpi', 'investigação', 'onde', 'está', 'indo', 'esse', 'dinheiro', 'dinheiro', 'quê', 'o', 'palmeiras', 'quase', '250', 'milhões', 'em', 'premiação', 'direito', 'de', 'tv', 'globo', 'premieri', 'tnt', 'sbt', 'patrocinadores', 'crefisa', 'fam', 'puma', 'vendas', 'de', 'jogadores', '26', 'milhões', 'ganhou', 'no', 'campeonato', 'brasileiro', 'puma_parda', 'até', 'onde', 'a', 'carência', 'pode', 'levar', 'o', 'ser', 'humano', 'mddc', 'ele', 'e', 'a', 'bruna', 'com', 'parceria', 'com', 'a', 'puma', 'era', 'o', 'momento', 'perfeito', 'de', 'fazer', 'alguma', 'coisa', 'de', 'casal', '\\U0001f972', 'https//tco/e0bvqymacp', 'hoje', 'chegou', 'minha', 'encomenda', 'da', 'puma', 'e', 'minha', 'camisa', 'do', 'flamengo', 'agora', 'como', 'vou', 'fazer', 'pra', 'pagar', 'tudo', 'isso', 'eu', 'não', 'sei', 'a', 'nova', 'future', 'z', 'faz', 'uma', 'homenagem', 'ao', 'empolgado', 'atleta', 'da', 'bola', 'aquele', 'craque', 'criativo', 'que', 'se', 'destaca', 'com', 'habilidade', 'e', 'rapidez', 'em', 'raciocínio', 'moldando', 'o', 'jogo', 'diante', 'de', 'sua', 'visão', 'a', 'cada', 'movimento', 'jogada', 'e', 'ação', '📸', 'neymar/puma', 'https//tco/dbtgxwof3f', 'ó', 'deus', 'vai', 'tirando', 'senhor', 'toda', 'propaganda', 'de', 'collant', '😭', '😭', 'toda', 'promoção', 'de', 'sapatilha', 'deus', '🤧', '🤧', 'manda', 'pra', 'lixeira', 'qualquer', 'email', 'da', 'nike', 'puma', 'e', 'adidas', 'ó', 'pai', '🥺', '🙏', 'puma', 'era', 'muito', 'melhor', 'caraio', 'em', 'puma', 'enfiou', 'no', 'cu', 'da', 'nike', 'e', 'ainda', 'girou', 'fiz', 'uma', 'receitinha', 'de', 'comida', 'no', 'instagram', 'ta', 'muito', 'gostoso', '😋', 'esse', 'sentai', 'tá', 'ótimo', 'mais', 'por', 'favor', 'toei', 'https//tco/ti5zfqyhhk', 'goncalodcnunes', 'mas', 'as', 'marcas', 'vãose', 'reinventando', 'muito', 'pode', 'mudar', 'até', 'aínão', 'são', 'contratos', 'com', 'mais', 'uma', 'equipa', 'ou', 'outra', 'puto', 'ahah', 'no', 'futebol', 'a', 'nível', 'de', 'clubes', 'pelo', 'menos', 'a', 'puma', 'não', 'tem', 'mais', 'do', 'que', '6', 'equipas', 'verdadeiramente', 'relevantes', 'a', 'nível', 'mundial', 'era', 'só', 'um', 'patrocínio', 'da', 'puma', '🤧', 'maxveyratdurbet', 'bon', 'bah', 'go', 'acheter', 'des', 'puma', 'desconto', 'de', '15', 'no', 'site', 'ou', 'no', 'aplicativo', 'centauro', 'cupom', 'd84372caminhadaesporte', 'esporteinterativo', 'basketball', 'fitness', 'futebol', 'nikeadidaspumavoleibol', 'saudesaudefisica', 'futebolneymargolsportvcuiabagremiointernacional', 'https//tco/iwkxx9vnns', 'simaopereira11', 'tendo', 'em', 'conta', 'a', 'qualidade', 'crescente', 'da', 'merda', 'que', 'têm', 'feito', 'vão', 'perder', 'a', 'maioria', 'dos', 'importantes', 'a', 'dimensão', 'global', 'é', 'afetada', 'por', 'tudo', 'isso', 'não', 'é', 'por', 'terem', 'contratos', 'com', 'mais', 'uma', 'equipa', 'ou', 'outra', 'que', 'são', 'melhores', 'que', 'a', 'puma', 'puma_parda', 'meus', 'pais', 'tentaram', 'reverter', 'uns', 'anos', 'atrás', 'e', 'não', 'conseguiram', 'agora', 'não', 'mexem', 'mais', 'nisso', 'eu', 'digo', 'que', 'eles', 'deveriam', 'continuar', 'tentando', 'mas', 'eles', 'são', 'teimosos', 'e', 'acham', 'que', 'não', 'dá', 'mais', 'para', 'fazer', 'alguma', 'coisa', 'creativity', 'puma', 'tem', 'também', 'produtos', 'com', 'a', 'identidade', 'neymar', 'jr', 'personalizados', 'como', 'camisetas', 'shorts', 'acessórios', 'de', 'treinamento', 'e', 'vestuário', 'para', 'usar', 'fora', 'dos', 'gramados', 'https//tco/bobxnpw1qh', 'puma', 'mais', 'pequena', 'que', 'a', 'adidas', 'estamos', 'a', 'passar', 'mal', 'https//tco/05u1npamcp', 'realmente', 'falaram', 'isso', 'pra', 'um', 'grupo', 'que', 'tem', 'mvs', 'como', 'cysm', 'puma', 'e', 'eternally', 'que', 'realidade', 'é', 'essa', 'que', 'vivem', 'https//tco/geuvweymy3', 'portuguesegb', 'rbaptista08', 'curtavermelha', 'claro', 'e', 'eu', 'até', 'gostava', 'de', 'ver', 'o', 'benfica', 'com', 'puma', 'caso', 'a', 'adidas', 'continue', 'a', 'pagar', 'a', 'merda', 'que', 'tem', 'pago', 'mais', 'vale', 'ir', 'pa', 'puma', 'digo', 'eu', 'puma', 'n', 'colocou', '3', 'itens', 'da', 'coleção', 'nv', 'do', 'neymar', 'triste', 'estou', 'sério', 'o', 'tanto', 'de', 'gente', 'falando', 'que', 'o', 'txt', 'tem', 'que', 'inovar', 'nos', 'mvs', 'gente', 'vcs', 'se', 'quer', 'pararam', 'pra', 'ver', 'algum', 'mv', 'eternally', 'puma', 'nap', 'of', 'a', 'star', 'tuittamariah', 'faz', 'um', 'tempo', 'que', 'mudo', 'tá', 'ganhando', 'mais', 'na', 'puma', 'pelo', 'que', 'li', 'na', 'época', 'vmicut', 'kkkkkkkkkkkkkk', 'queria', 'q', 'eles', 'fossem', 'da', 'nike', 'a', 'puma', 'é', 'mt', 'blé', 'jasonso19617695', 'samiabomfim', 'não', 'livro', 'ninguém', 'dos', 'seus', 'erros', 'facilitou', 'acesso', 'para', 'empreiteiras', 'teve', 'fraude', 'que', 'se', 'puma', 'os', 'responsáveis', 'e', 'ponto', 'mas', 'ficar', 'nessa', 'de', 'ser', 'contra', 'a', 'corrupção', 'de', 'um', 'e', 'ficar', 'fingindo', 'não', 'ver', 'a', 'do', 'outro', 'não', 'funciona', 'comigo', '1fxxlz', 'da', 'puma', 'viado', 'minho', 'quando', 'você', 'quiser', 'fazer', 'um', 'dance', 'cover', 'de', 'puma', 'saiba', 'que', 'eu', 'estou', 'pronta', '😎', 'https//tco/qadrodp2hw', 'eu', 'ela', 'e', 'o', 'puma', '👩\\u200d❤️\\u200d👨', '🐱', 'https//tco/3o72vw03r8', 'puma_parda', 'ao', 'q', 'parece', 'esse', 'é', 'o', 'novo', 'mantra', 'bolzonazi', 'estão', 'fortes', 'nessa', 'tese', 'de', 'autorresponsabilização', 'não', 'aguento', 'lewishamiltonbr', 'puma', 'se', 'houver', 'alguém', 'tão', 'admirável', 'quanto', 'ele', 'na', 'atualidade', 'eu', 'desconheço', 'lh', 'é', 'incrível', 'crl', 'nada', 'a', 'ver', 'neymarjr', 'com', 'a', 'puma', '🤦🏻\\u200d♂️', '😒', 'https//tco/lotoz2b5pa', 'puma_parda', 'sem', 'contar', 'que', 'esta', 'fase', 'de', 'colapso', 'do', 'sistema', 'de', 'saúde', 'é', 'justamente', 'essa', 'tem', 'mais', 'gente', 'precisando', 'entrar', 'na', 'uti', 'do', 'que', 'gente', 'saindo', 'hermanosfc', 'quase', '250', 'milhões', 'de', 'reais', 'em', 'premiações', 'patrocinadoras', 'crefisa', 'fam', 'puma', 'tv', 'globo', 'premieri', 'tnt', 'sbt', 'vendas', 'de', 'jogadores', '26', 'milhões', 'de', 'reais', 'no', 'campeonato', 'brasileiro', 'blz', '🤫', 'puma_parda', 'eu', 'tb', 'eu', 'não', 'vejo', 'nem', 'filme', 'com', 'estupro', 'pedofilia', 'ou', 'maldades', 'reais', 'me', 'incomoda', 'de', 'verdade', 'mas', 'ver', 'um', 'negacionista', 'morrer', 'por', 'covid', 'me', 'faz', 'pensar', 'bem', 'feito', 'amenizo', 'com', 'um', 'muito', 'karma', 'nessa', 'hora', 'é', 'o', 'que', 'tem', 'pra', 'hoje', 'mas', 'vou', 'melhor', 'com', 'o', 'tempo', 'puma_parda', 'ver', 'o', 'chanceler', 'biruta', 'no', 'ostracismo', 'é', 'um', 'dos', 'sonhos', 'que', 'eu', 'acalento', 'neymarjrdepre', 'pumabrasil', 'escreveu', 'um', 'bcomercial', 'brumar', 'pra', 'puma', 'hoje', 'eu', 'sai', 'de', 'blusa', 'da', 'nike', 'tênis', 'da', 'puma', 'e', 'mochila', 'da', 'adidas', 'enfim', 'a', 'diversidade', 'creativityz', 'disponível', 'no', 'https//tco/e0gotvkaoa', 'https//tco/cimytqtekx', 'site', 'da', 'adidas/site', 'da', 'puma', 'https//tco/qilo4pczzd', 'fernandez_puma', 'flaco', 'tremendo', 'live', 'que', 'te', 'sacaste', 'ayer', '💪', '0padilhauai', 'meus', 'carrinhos', 'eh', 'tudo', 'lotado', 'nike', 'adidas', 'puma', 'lacoste', 'tommy', 'pergunta', 'se', 'eu', 'compro', 'puma', 'gte', 'destruído', 'após', 'detonação', 'da', 'bomba', 'dentro', 'dele', 'é', 'possível', 'ver', 'o', 'corpo', 'do', 'sargento', 'guilherme', 'pereira', 'do', 'rosário', 'que', 'morreu', 'logo', 'após', 'a', 'explosão', 'rio', 'de', 'janeiro', '30', 'de', 'abril', 'de', '1981', '39', 'anosàs', '2115', 'riocentroresponsável', 'exército', 'brasileiro', 'https//tco/g6fsx6dzw2', 'puma_parda', 'a', 'burrice', 'de', 'quebrar', 'contrato', 'com', 'a', 'globo', 'misericórdia', 'fuckarou', 'puma', 'fez', 'collab', 'com', 'marca', 'de', 'pão', 'novo', 'pôster', 'de', 'beberexha', 'para', 'campanha', 'da', 'puma', 'https//tco/tvm8vjmybi', 'puma_parda', 'sim', 'a', 'culpa', 'é', 'nossa', 'eu', 'que', 'recusei', '800', 'trilhão', 'de', 'pfizer', 'por', 'exemplo', 'desculpa', 'brasil', 'saudade', 'das', 'candids', 'da', 'selena', 'saindo', 'do', 'pilates', 'vestida', 'de', 'puma', 'com', 'uma', 'bolsa', 'da', 'coach', 'puma_parda', 'danielaaf', 'se', 'ainda', 'ficasse', 'calado', 'puma_parda', 'danielaaf', 'nem', 'com', 'a', 'bandeira', 'do', 'brasil', 'por', 'amor', 'à', 'pátria', 'rsrsrs', 'as', 'fotos', 'da', 'nova', 'colab', 'puma', 'x', 'kidsuper', 'foram', 'feitas', 'aqui', 'no', 'brasil', 'https//tco/viqmmpjtns', 'athodavid', 'sério', 'amg', 'aqui', 'só', 'tem', 'pão', 'puma', 'banana', 'e', 'maçãsem', 'brincadeirae', 'o', 'resto', 'é', 'tudo', 'comida', 'da', 'semana', 'passada', '😭', '😭', '😭', '😭', 'goncalodcnunes', 'o', 'design', 'é', 'uma', 'coisa', 'subjetivaa', 'adidas', 'só', 'fica', 'atrás', 'da', 'nike', 'nas', 'marcas', 'mais', 'ricas', 'de', 'desporto', 'do', 'mundonos', '10', 'contratos', 'mais', 'rentáveis', 'do', 'mundo', '5', 'são', 'nike', '4', 'são', 'adidas', 'e', '1', 'é', 'puma', 'cityclaro', 'que', 'em', 'questões', 'de', 'materiais', 'e', 'tudo', 'isso', 'serão', 'perfeitamente', 'equiparáveis', '97froggys', 'amg', 'eles', 'eram', 'embaixadores', 'da', 'puma', 'em', '2018', 'o', 'contrato', 'acabou', 'faz', 'tempo', 'agora', 'eles', 'são', 'da', 'fila', 'tiagomarques32', 'rbaptista08', 'curtavermelha', 'no', 'entanto', 'mesmo', 'tendo', 'tido', 'uma', 'grade', 'b', 'com', 'a', 'puma', 'faturada', '~20', 'milhões', 'de', 'euros', 'ch3rrb0mb', 'uhumé', 'hebe', 'ele', 'é', 'um', 'floppa', 'é', 'tipo', 'um', 'puma', 'mais', 'ele', 'é', 'dócil', 'igual', 'um', 'gatinho', '/sorri', 'com', 'o', 'beijinho', 'e', 'abraça', 'mais', 'fortinho', 'brunabud_', 'aí', 'poderia', 'ter', 'mais', 'que', 'so', 'um', 'puma', 'de', 'estimação', 'to', 'apaixonada', 'num', 'tênis', 'puma', 'mas', 'vi', 'uns', 'comentários', 'falando', 'q', 'o', 'tênis', 'parece', 'um', 'chumbo', 'de', 'tão', 'pesado', 'aprendi', 'a', 'gostar', 'até', 'de', 'puma', 'mas', 'cat', 'amp', 'dog', 'não', 'me', 'desceu', 'até', 'hj', 'que', 'tristeza']\n"
     ]
    }
   ],
   "source": [
    "# Definindo todas as palvras irrevelantes em um conjunto\n",
    "todas_palavras_irrelevantes=[]\n",
    "for index, conteudo in enumerate(p_irrelevantes):\n",
    "    cont=0\n",
    "    while cont < len(p_irrelevantes[index]):\n",
    "        novo= conteudo[cont]\n",
    "        todas_palavras_irrelevantes.append(novo)\n",
    "        cont+=1\n",
    "print(todas_palavras_irrelevantes)"
   ]
  },
  {
   "cell_type": "code",
   "execution_count": 96,
   "metadata": {
    "scrolled": true
   },
   "outputs": [
    {
     "name": "stdout",
     "output_type": "stream",
     "text": [
      " O total de Palavras relevantes é 1730\n"
     ]
    }
   ],
   "source": [
    "# Informando o total de palavras dos tweets relevantes\n",
    "print(f' O total de Palavras relevantes é {len(todas_palavras_relevantes)}')"
   ]
  },
  {
   "cell_type": "code",
   "execution_count": 97,
   "metadata": {},
   "outputs": [
    {
     "data": {
      "text/plain": [
       "0                     fico\n",
       "1                    assim\n",
       "2                       no\n",
       "3                       da\n",
       "4                     puma\n",
       "5                    affss\n",
       "6    https//tco/1ygyhdzhmi\n",
       "7                0ketlyn_s\n",
       "8                       eu\n",
       "9                     acho\n",
       "dtype: object"
      ]
     },
     "execution_count": 97,
     "metadata": {},
     "output_type": "execute_result"
    }
   ],
   "source": [
    "# Guardando as palavras irrelevantes como um pd.Series\n",
    "serie_irrelevante = pd.Series(todas_palavras_irrelevantes)\n",
    "serie_irrelevante.head(10)"
   ]
  },
  {
   "cell_type": "code",
   "execution_count": 98,
   "metadata": {
    "scrolled": true
   },
   "outputs": [
    {
     "data": {
      "text/plain": [
       "puma             131\n",
       "de                92\n",
       "a                 88\n",
       "que               69\n",
       "e                 67\n",
       "                ... \n",
       "ajudado            1\n",
       "perfeito           1\n",
       "collab             1\n",
       "williambender      1\n",
       "😒                  1\n",
       "Length: 1368, dtype: int64"
      ]
     },
     "execution_count": 98,
     "metadata": {},
     "output_type": "execute_result"
    }
   ],
   "source": [
    "# Frequencia absoluta de palavras relevantes\n",
    "tabela_irrelevante = serie_irrelevante.value_counts()\n",
    "tabela_irrelevante"
   ]
  },
  {
   "cell_type": "code",
   "execution_count": 99,
   "metadata": {
    "scrolled": true
   },
   "outputs": [],
   "source": [
    "# #################### Frequencia relativa de palavras relevantes\n",
    "# tabela_irrelevante_absoluta = serie_irrelevante.value_counts()\n",
    "# tabela_irrelevante_absoluta"
   ]
  },
  {
   "cell_type": "code",
   "execution_count": 100,
   "metadata": {},
   "outputs": [
    {
     "data": {
      "text/plain": [
       "3115"
      ]
     },
     "execution_count": 100,
     "metadata": {},
     "output_type": "execute_result"
    }
   ],
   "source": [
    "tabela_irrelevante.sum()"
   ]
  },
  {
   "cell_type": "markdown",
   "metadata": {},
   "source": [
    "### Todas as palavras"
   ]
  },
  {
   "cell_type": "code",
   "execution_count": 101,
   "metadata": {},
   "outputs": [
    {
     "data": {
      "text/plain": [
       "4845"
      ]
     },
     "execution_count": 101,
     "metadata": {},
     "output_type": "execute_result"
    }
   ],
   "source": [
    "total_de_palavras = todas_palavras_relevantes + todas_palavras_irrelevantes\n",
    "len(total_de_palavras)"
   ]
  },
  {
   "cell_type": "code",
   "execution_count": 102,
   "metadata": {},
   "outputs": [
    {
     "data": {
      "text/plain": [
       "puma         258\n",
       "a            144\n",
       "de           115\n",
       "da           113\n",
       "que           99\n",
       "            ... \n",
       "quebrar        1\n",
       "mass           1\n",
       "benji          1\n",
       "dentro         1\n",
       "ch3rrb0mb      1\n",
       "Length: 1816, dtype: int64"
      ]
     },
     "execution_count": 102,
     "metadata": {},
     "output_type": "execute_result"
    }
   ],
   "source": [
    "# Transformando em pd.Series.\n",
    "serie_total_P= pd.Series(total_de_palavras)\n",
    "# Verificando o total de palavras não repetidas\n",
    "total_P =serie_total_P.value_counts()\n",
    "total_P"
   ]
  },
  {
   "cell_type": "code",
   "execution_count": 103,
   "metadata": {
    "scrolled": true
   },
   "outputs": [],
   "source": [
    "# todas_palavras = total_de_palavras.split()\n",
    "# serie_total = pd.Series(todas_palavras)\n",
    "# serie_total\n",
    "\n",
    "### Laplace"
   ]
  },
  {
   "cell_type": "code",
   "execution_count": 104,
   "metadata": {},
   "outputs": [
    {
     "data": {
      "text/plain": [
       "0              o\n",
       "1         neymar\n",
       "2         inovou\n",
       "3              a\n",
       "4           puma\n",
       "          ...   \n",
       "4840      desceu\n",
       "4841         até\n",
       "4842          hj\n",
       "4843         que\n",
       "4844    tristeza\n",
       "Length: 4845, dtype: object"
      ]
     },
     "execution_count": 104,
     "metadata": {},
     "output_type": "execute_result"
    }
   ],
   "source": [
    "serie_total= pd.Series(total_de_palavras)\n",
    "serie_total"
   ]
  },
  {
   "cell_type": "code",
   "execution_count": 105,
   "metadata": {
    "scrolled": false
   },
   "outputs": [
    {
     "data": {
      "text/plain": [
       "puma         258\n",
       "a            144\n",
       "de           115\n",
       "da           113\n",
       "que           99\n",
       "            ... \n",
       "quebrar        1\n",
       "mass           1\n",
       "benji          1\n",
       "dentro         1\n",
       "ch3rrb0mb      1\n",
       "Length: 1816, dtype: int64"
      ]
     },
     "execution_count": 105,
     "metadata": {},
     "output_type": "execute_result"
    }
   ],
   "source": [
    "# Frequencia Relativa tbota\n",
    "\n",
    "total_de_palavras = serie_total.value_counts()\n",
    "total_de_palavras"
   ]
  },
  {
   "cell_type": "code",
   "execution_count": 106,
   "metadata": {},
   "outputs": [
    {
     "data": {
      "text/plain": [
       "4845"
      ]
     },
     "execution_count": 106,
     "metadata": {},
     "output_type": "execute_result"
    }
   ],
   "source": [
    "total_de_palavras.sum()"
   ]
  },
  {
   "cell_type": "markdown",
   "metadata": {},
   "source": [
    "### Probabilidade"
   ]
  },
  {
   "cell_type": "code",
   "execution_count": 107,
   "metadata": {},
   "outputs": [
    {
     "data": {
      "text/plain": [
       "0.3570691434468524"
      ]
     },
     "execution_count": 107,
     "metadata": {},
     "output_type": "execute_result"
    }
   ],
   "source": [
    "# Probabilidade de ser Relevante\n",
    "prob_R = (tabela_relevante.sum())/(total_de_palavras.sum())\n",
    "prob_R"
   ]
  },
  {
   "cell_type": "code",
   "execution_count": 108,
   "metadata": {},
   "outputs": [
    {
     "data": {
      "text/plain": [
       "0.6429308565531475"
      ]
     },
     "execution_count": 108,
     "metadata": {},
     "output_type": "execute_result"
    }
   ],
   "source": [
    "# Probabilidade de ser Irelevante\n",
    "prob_I = (tabela_irrelevante.sum())/(total_de_palavras.sum())\n",
    "prob_I"
   ]
  },
  {
   "cell_type": "code",
   "execution_count": 109,
   "metadata": {},
   "outputs": [
    {
     "ename": "AttributeError",
     "evalue": "'Series' object has no attribute 'split'",
     "output_type": "error",
     "traceback": [
      "\u001b[1;31m---------------------------------------------------------------------------\u001b[0m",
      "\u001b[1;31mAttributeError\u001b[0m                            Traceback (most recent call last)",
      "\u001b[1;32m<ipython-input-109-fa37490fb460>\u001b[0m in \u001b[0;36m<module>\u001b[1;34m\u001b[0m\n\u001b[0;32m      1\u001b[0m \u001b[1;31m# Produto de probabilidades de cada palavra do tweet dado que é relevante\u001b[0m\u001b[1;33m\u001b[0m\u001b[1;33m\u001b[0m\u001b[1;33m\u001b[0m\u001b[0m\n\u001b[1;32m----> 2\u001b[1;33m \u001b[0mprob_tweet_dado_R\u001b[0m \u001b[1;33m=\u001b[0m \u001b[0mtabela_relevante\u001b[0m\u001b[1;33m[\u001b[0m\u001b[0mrelevante\u001b[0m\u001b[1;33m.\u001b[0m\u001b[0msplit\u001b[0m\u001b[1;33m(\u001b[0m\u001b[1;33m)\u001b[0m\u001b[1;33m]\u001b[0m\u001b[1;33m.\u001b[0m\u001b[0mprod\u001b[0m\u001b[1;33m(\u001b[0m\u001b[1;33m)\u001b[0m\u001b[1;33m\u001b[0m\u001b[1;33m\u001b[0m\u001b[0m\n\u001b[0m\u001b[0;32m      3\u001b[0m \u001b[0mprob_tweet_dado_R\u001b[0m                           \u001b[1;31m#cada tweet (tem que colocar em um loop?) p_relevantes[i] ou relevante[1]\u001b[0m\u001b[1;33m\u001b[0m\u001b[1;33m\u001b[0m\u001b[0m\n",
      "\u001b[1;32m~\\anaconda3\\lib\\site-packages\\pandas\\core\\generic.py\u001b[0m in \u001b[0;36m__getattr__\u001b[1;34m(self, name)\u001b[0m\n\u001b[0;32m   5272\u001b[0m             \u001b[1;32mif\u001b[0m \u001b[0mself\u001b[0m\u001b[1;33m.\u001b[0m\u001b[0m_info_axis\u001b[0m\u001b[1;33m.\u001b[0m\u001b[0m_can_hold_identifiers_and_holds_name\u001b[0m\u001b[1;33m(\u001b[0m\u001b[0mname\u001b[0m\u001b[1;33m)\u001b[0m\u001b[1;33m:\u001b[0m\u001b[1;33m\u001b[0m\u001b[1;33m\u001b[0m\u001b[0m\n\u001b[0;32m   5273\u001b[0m                 \u001b[1;32mreturn\u001b[0m \u001b[0mself\u001b[0m\u001b[1;33m[\u001b[0m\u001b[0mname\u001b[0m\u001b[1;33m]\u001b[0m\u001b[1;33m\u001b[0m\u001b[1;33m\u001b[0m\u001b[0m\n\u001b[1;32m-> 5274\u001b[1;33m             \u001b[1;32mreturn\u001b[0m \u001b[0mobject\u001b[0m\u001b[1;33m.\u001b[0m\u001b[0m__getattribute__\u001b[0m\u001b[1;33m(\u001b[0m\u001b[0mself\u001b[0m\u001b[1;33m,\u001b[0m \u001b[0mname\u001b[0m\u001b[1;33m)\u001b[0m\u001b[1;33m\u001b[0m\u001b[1;33m\u001b[0m\u001b[0m\n\u001b[0m\u001b[0;32m   5275\u001b[0m \u001b[1;33m\u001b[0m\u001b[0m\n\u001b[0;32m   5276\u001b[0m     \u001b[1;32mdef\u001b[0m \u001b[0m__setattr__\u001b[0m\u001b[1;33m(\u001b[0m\u001b[0mself\u001b[0m\u001b[1;33m,\u001b[0m \u001b[0mname\u001b[0m\u001b[1;33m:\u001b[0m \u001b[0mstr\u001b[0m\u001b[1;33m,\u001b[0m \u001b[0mvalue\u001b[0m\u001b[1;33m)\u001b[0m \u001b[1;33m->\u001b[0m \u001b[1;32mNone\u001b[0m\u001b[1;33m:\u001b[0m\u001b[1;33m\u001b[0m\u001b[1;33m\u001b[0m\u001b[0m\n",
      "\u001b[1;31mAttributeError\u001b[0m: 'Series' object has no attribute 'split'"
     ]
    }
   ],
   "source": [
    "# Produto de probabilidades de cada palavra do tweet dado que é relevante\n",
    "prob_tweet_dado_R = tabela_relevante[relevante.split()].prod()\n",
    "prob_tweet_dado_R                           #cada tweet (tem que colocar em um loop?) p_relevantes[i] ou relevante[1]"
   ]
  },
  {
   "cell_type": "code",
   "execution_count": 110,
   "metadata": {},
   "outputs": [
    {
     "ename": "NameError",
     "evalue": "name 'frase' is not defined",
     "output_type": "error",
     "traceback": [
      "\u001b[1;31m---------------------------------------------------------------------------\u001b[0m",
      "\u001b[1;31mNameError\u001b[0m                                 Traceback (most recent call last)",
      "\u001b[1;32m<ipython-input-110-f137fd232706>\u001b[0m in \u001b[0;36m<module>\u001b[1;34m\u001b[0m\n\u001b[0;32m      1\u001b[0m \u001b[1;31m# Produto de probabilidades de cada palavra do tweet dado que é irrelevante\u001b[0m\u001b[1;33m\u001b[0m\u001b[1;33m\u001b[0m\u001b[1;33m\u001b[0m\u001b[0m\n\u001b[1;32m----> 2\u001b[1;33m \u001b[0mprob_tweet_dado_I\u001b[0m \u001b[1;33m=\u001b[0m \u001b[0mtabela_irrelevante\u001b[0m\u001b[1;33m[\u001b[0m\u001b[0mfrase\u001b[0m\u001b[1;33m.\u001b[0m\u001b[0msplit\u001b[0m\u001b[1;33m(\u001b[0m\u001b[1;33m)\u001b[0m\u001b[1;33m]\u001b[0m\u001b[1;33m.\u001b[0m\u001b[0mprod\u001b[0m\u001b[1;33m(\u001b[0m\u001b[1;33m)\u001b[0m\u001b[1;33m\u001b[0m\u001b[1;33m\u001b[0m\u001b[0m\n\u001b[0m\u001b[0;32m      3\u001b[0m \u001b[0mprob_tweet_dado_I\u001b[0m\u001b[1;33m\u001b[0m\u001b[1;33m\u001b[0m\u001b[0m\n",
      "\u001b[1;31mNameError\u001b[0m: name 'frase' is not defined"
     ]
    }
   ],
   "source": [
    "# Produto de probabilidades de cada palavra do tweet dado que é irrelevante\n",
    "prob_tweet_dado_I = tabela_irrelevante[frase.split()].prod()\n",
    "prob_tweet_dado_I"
   ]
  },
  {
   "cell_type": "markdown",
   "metadata": {},
   "source": [
    "### Teorema de Bayes"
   ]
  },
  {
   "cell_type": "code",
   "execution_count": 111,
   "metadata": {},
   "outputs": [
    {
     "ename": "NameError",
     "evalue": "name 'prob_tweet_dado_R' is not defined",
     "output_type": "error",
     "traceback": [
      "\u001b[1;31m---------------------------------------------------------------------------\u001b[0m",
      "\u001b[1;31mNameError\u001b[0m                                 Traceback (most recent call last)",
      "\u001b[1;32m<ipython-input-111-273162fef238>\u001b[0m in \u001b[0;36m<module>\u001b[1;34m\u001b[0m\n\u001b[0;32m      1\u001b[0m \u001b[1;31m# Probabilidade de ser relevante dado um tweet\u001b[0m\u001b[1;33m\u001b[0m\u001b[1;33m\u001b[0m\u001b[1;33m\u001b[0m\u001b[0m\n\u001b[1;32m----> 2\u001b[1;33m \u001b[0mprob_R_dado_tweet\u001b[0m \u001b[1;33m=\u001b[0m \u001b[0mprob_tweet_dado_R\u001b[0m \u001b[1;33m*\u001b[0m \u001b[0mprob_R\u001b[0m\u001b[1;33m\u001b[0m\u001b[1;33m\u001b[0m\u001b[0m\n\u001b[0m\u001b[0;32m      3\u001b[0m \u001b[0mprob_R_dado_tweet\u001b[0m\u001b[1;33m\u001b[0m\u001b[1;33m\u001b[0m\u001b[0m\n",
      "\u001b[1;31mNameError\u001b[0m: name 'prob_tweet_dado_R' is not defined"
     ]
    }
   ],
   "source": [
    "# Probabilidade de ser relevante dado um tweet\n",
    "prob_R_dado_tweet = prob_tweet_dado_R * prob_R\n",
    "prob_R_dado_tweet "
   ]
  },
  {
   "cell_type": "code",
   "execution_count": 112,
   "metadata": {},
   "outputs": [
    {
     "ename": "NameError",
     "evalue": "name 'prob_tweet_dado_I' is not defined",
     "output_type": "error",
     "traceback": [
      "\u001b[1;31m---------------------------------------------------------------------------\u001b[0m",
      "\u001b[1;31mNameError\u001b[0m                                 Traceback (most recent call last)",
      "\u001b[1;32m<ipython-input-112-617cfd268a15>\u001b[0m in \u001b[0;36m<module>\u001b[1;34m\u001b[0m\n\u001b[0;32m      1\u001b[0m \u001b[1;31m# Probabilidade de ser irrelevante dado um tweet\u001b[0m\u001b[1;33m\u001b[0m\u001b[1;33m\u001b[0m\u001b[1;33m\u001b[0m\u001b[0m\n\u001b[1;32m----> 2\u001b[1;33m \u001b[0mprob_I_dado_tweet\u001b[0m \u001b[1;33m=\u001b[0m \u001b[0mprob_tweet_dado_I\u001b[0m \u001b[1;33m*\u001b[0m \u001b[0mprob_I\u001b[0m\u001b[1;33m\u001b[0m\u001b[1;33m\u001b[0m\u001b[0m\n\u001b[0m\u001b[0;32m      3\u001b[0m \u001b[0mpro_I_dado_tweet\u001b[0m\u001b[1;33m\u001b[0m\u001b[1;33m\u001b[0m\u001b[0m\n",
      "\u001b[1;31mNameError\u001b[0m: name 'prob_tweet_dado_I' is not defined"
     ]
    }
   ],
   "source": [
    "# Probabilidade de ser irrelevante dado um tweet\n",
    "prob_I_dado_tweet = prob_tweet_dado_I * prob_I\n",
    "pro_I_dado_tweet "
   ]
  },
  {
   "cell_type": "code",
   "execution_count": 113,
   "metadata": {},
   "outputs": [
    {
     "name": "stdout",
     "output_type": "stream",
     "text": [
      "0.3570691434468524\n",
      "0.6429308565531475\n",
      "4845\n"
     ]
    }
   ],
   "source": [
    "# Adney mamando \n",
    "total_de_palavras = todas_palavras_relevantes + todas_palavras_irrelevantes\n",
    "Probabilidade_relevante = len(todas_palavras_relevantes)/len(total_de_palavras)\n",
    "Probabilidade_irrelevante = len(todas_palavras_irrelevantes)/len(total_de_palavras)\n",
    "print(Probabilidade_relevante)\n",
    "print(Probabilidade_irrelevante)\n",
    "print(len(total_de_palavras))\n"
   ]
  },
  {
   "cell_type": "markdown",
   "metadata": {},
   "source": [
    "___\n",
    "### Verificando a performance do Classificador\n",
    "\n",
    "Agora você deve testar o seu classificador com a base de Testes."
   ]
  },
  {
   "cell_type": "code",
   "execution_count": 117,
   "metadata": {},
   "outputs": [
    {
     "data": {
      "text/html": [
       "<div>\n",
       "<style scoped>\n",
       "    .dataframe tbody tr th:only-of-type {\n",
       "        vertical-align: middle;\n",
       "    }\n",
       "\n",
       "    .dataframe tbody tr th {\n",
       "        vertical-align: top;\n",
       "    }\n",
       "\n",
       "    .dataframe thead th {\n",
       "        text-align: right;\n",
       "    }\n",
       "</style>\n",
       "<table border=\"1\" class=\"dataframe\">\n",
       "  <thead>\n",
       "    <tr style=\"text-align: right;\">\n",
       "      <th></th>\n",
       "      <th>Teste</th>\n",
       "      <th>Irrelevante 0 / Relevante 1</th>\n",
       "    </tr>\n",
       "  </thead>\n",
       "  <tbody>\n",
       "    <tr>\n",
       "      <th>0</th>\n",
       "      <td>@0chavex0 @ornate_puma vdd to resfriado</td>\n",
       "      <td>0</td>\n",
       "    </tr>\n",
       "    <tr>\n",
       "      <th>1</th>\n",
       "      <td>📽 neymar e puma 👀❤!!\\ntemos novidades vindo aí...</td>\n",
       "      <td>1</td>\n",
       "    </tr>\n",
       "    <tr>\n",
       "      <th>2</th>\n",
       "      <td>@brgmsch mas a puma nem patrocina a aston</td>\n",
       "      <td>0</td>\n",
       "    </tr>\n",
       "    <tr>\n",
       "      <th>3</th>\n",
       "      <td>📽 puma neymar jr creativity  a inovadora chute...</td>\n",
       "      <td>1</td>\n",
       "    </tr>\n",
       "    <tr>\n",
       "      <th>4</th>\n",
       "      <td>a puma tá a evoluir muito, quem me dera que o ...</td>\n",
       "      <td>1</td>\n",
       "    </tr>\n",
       "    <tr>\n",
       "      <th>...</th>\n",
       "      <td>...</td>\n",
       "      <td>...</td>\n",
       "    </tr>\n",
       "    <tr>\n",
       "      <th>195</th>\n",
       "      <td>eu e o maninho @thiagobomfim85 . comemoração d...</td>\n",
       "      <td>0</td>\n",
       "    </tr>\n",
       "    <tr>\n",
       "      <th>196</th>\n",
       "      <td>@puma_parda hahahahaha! sim! e projetando um s...</td>\n",
       "      <td>0</td>\n",
       "    </tr>\n",
       "    <tr>\n",
       "      <th>197</th>\n",
       "      <td>na real eu quero só mais um mv com conceito ig...</td>\n",
       "      <td>0</td>\n",
       "    </tr>\n",
       "    <tr>\n",
       "      <th>198</th>\n",
       "      <td>linda é essa linha da puma pro neymar, você é ...</td>\n",
       "      <td>1</td>\n",
       "    </tr>\n",
       "    <tr>\n",
       "      <th>199</th>\n",
       "      <td>desde que o neymar fechou com a puma, foi dai ...</td>\n",
       "      <td>0</td>\n",
       "    </tr>\n",
       "  </tbody>\n",
       "</table>\n",
       "<p>200 rows × 2 columns</p>\n",
       "</div>"
      ],
      "text/plain": [
       "                                                 Teste  \\\n",
       "0              @0chavex0 @ornate_puma vdd to resfriado   \n",
       "1    📽 neymar e puma 👀❤!!\\ntemos novidades vindo aí...   \n",
       "2            @brgmsch mas a puma nem patrocina a aston   \n",
       "3    📽 puma neymar jr creativity  a inovadora chute...   \n",
       "4    a puma tá a evoluir muito, quem me dera que o ...   \n",
       "..                                                 ...   \n",
       "195  eu e o maninho @thiagobomfim85 . comemoração d...   \n",
       "196  @puma_parda hahahahaha! sim! e projetando um s...   \n",
       "197  na real eu quero só mais um mv com conceito ig...   \n",
       "198  linda é essa linha da puma pro neymar, você é ...   \n",
       "199  desde que o neymar fechou com a puma, foi dai ...   \n",
       "\n",
       "     Irrelevante 0 / Relevante 1  \n",
       "0                              0  \n",
       "1                              1  \n",
       "2                              0  \n",
       "3                              1  \n",
       "4                              1  \n",
       "..                           ...  \n",
       "195                            0  \n",
       "196                            0  \n",
       "197                            0  \n",
       "198                            1  \n",
       "199                            0  \n",
       "\n",
       "[200 rows x 2 columns]"
      ]
     },
     "execution_count": 117,
     "metadata": {},
     "output_type": "execute_result"
    }
   ],
   "source": [
    "planilha_teste = pd.read_excel('puma.xlsx', sheet_name = 'Teste')\n",
    "planilha_teste['Irrelevante 0 / Relevante 1'].value_counts(True)\n",
    "planilha_teste"
   ]
  },
  {
   "cell_type": "code",
   "execution_count": 118,
   "metadata": {},
   "outputs": [
    {
     "data": {
      "text/plain": [
       "0                @0chavex0 @ornate_puma vdd to resfriado\n",
       "1      📽 neymar e puma 👀❤!!\\ntemos novidades vindo aí...\n",
       "2              @brgmsch mas a puma nem patrocina a aston\n",
       "3      📽 puma neymar jr creativity  a inovadora chute...\n",
       "4      a puma tá a evoluir muito, quem me dera que o ...\n",
       "                             ...                        \n",
       "195    eu e o maninho @thiagobomfim85 . comemoração d...\n",
       "196    @puma_parda hahahahaha! sim! e projetando um s...\n",
       "197    na real eu quero só mais um mv com conceito ig...\n",
       "198    linda é essa linha da puma pro neymar, você é ...\n",
       "199    desde que o neymar fechou com a puma, foi dai ...\n",
       "Name: Teste, Length: 200, dtype: object"
      ]
     },
     "execution_count": 118,
     "metadata": {},
     "output_type": "execute_result"
    }
   ],
   "source": [
    "# Separando apenas a planilha de Testes.\n",
    "t_teste = planilha_teste.loc[:, 'Teste']\n",
    "t_teste"
   ]
  },
  {
   "cell_type": "code",
   "execution_count": 119,
   "metadata": {},
   "outputs": [
    {
     "name": "stdout",
     "output_type": "stream",
     "text": [
      "['0chavex0 ornate_puma vdd to resfriado', ' 📽  neymar e puma  👀  ❤ temos novidades vindo aí https//tco/jkkdnhjifc', 'brgmsch mas a puma nem patrocina a aston', ' 📽  puma neymar jr creativity  a inovadora chuteira future z 11  🔥  ❤  https//tco/wewlyybd6i', 'a puma tá a evoluir muito quem me dera que o benfica negociasse com eles', 'neymar de puma  🤤 ', 'anthrpocene puma é a única música deles que não tolero de forma alguma', 'slbdiogo_ warning eu quero a puma este mano é que me meteu do grupo da umbro porque não havia espaço na template', 'srtonalves palmeiras tem dinheiro de vendas de jogadores premiações quase 250milhões direito de tv globo premieri tnt sbt patrocinadores crefisa fam puma ganhou 26 milhões no campeonato brasileiro maurício bananote anderson barros jaiminho cícero sousa estão enrolado nos abel ferreira', 'agora fudeu o caralho todo mermo vao puma porra', 'meu aniversário tá quase chegando alguém me dá uma puma do neyyyy', 'a nova coleção do neymar com a puma  😍 ', 'neymar faz uma diferença enorme na marca olha o quanto a puma está caprichando se é loco  😍  https//tco/6covdruyqr', 'pgeracoes homemtacokkkkkk capt_puma robosonysta windowsclubbr se vc tem tantos aaa pq n mostra eles ai no seu preysteitoun pq vc n joga eles ao inves pagina para fas de xbox pq vc n vai numa pagina de ps', 'puma vai cm calma lançando as coisas prfv sou patrocinada igual o neymar não e nem to podendo gastar  😩  😩  😩  pumabrasil', 'goncalodcnunes acredito que possa ser mas se não vender tanto ou não render tanto não vale a penaclaro que se a puma viesse com 15 ao ano e a adidas com 10 a conversa é outra estou a falar dos contratos que sabemos que existem', 'eri_sanita quando junto as mãozinha achei que fosse sair um pq eu sou porra loka memo kkkkk', 'a puma cresce mais a cada dia que passa https//tco/mgwthvdtlz', 'zarakbezerra babblerfreefire o time dos cara tá insano adidas nike umbro é puma', 'gustavocapaa eu_fagundess ecaa nem nike nem adidas muito menos puma o negócio é comprar lá no camelo', 'fui ver umas peça pra comprar na puma deu 1560 conto pq eu sou assim resumo comprei nada pq tenho 8 reais', 'tenis da puma é mt confortável', 'gcardooso04 manutdbr a real é que a adidas e a nike largaram de vez eles escolhem dois padrões de uniforme e aplicam nos times so mudando a cor a puma faz uniformes muito bonitos mas nao consegue bater de frente quem dira a umbro e outras marcas', 'chuteira da puma é feia demais pqp https//tco/a54fgw4zfr', 'o símbolo da jaguar é igual o da puma kkkkkkkkmuuhpro https//tco/2zuxkv6gqv', 'mascaradinhoo esse é bem pequeno são paulo com a puma https//tco/w0lyj8f3st', '25000 um puma é pra fuder que dor no peito', 'puma_parda gente como a gente', 'lewishamiltonbr puma eu vendo a foto https//tco/ajqnsyizui', 'neymarjr pumafootball só queria um casaco desse da puma  🤨 ', 'puma_parda nenhum camelô que eu encontrei pela rua usava máscara nem o que vendia máscara eu não entendo', 'seu terceiro  terá que te dar uma camisa da nova coleção da puma neymar jr creativit https//tco/kpifoxa6mr', 'esperando o joe la puma me chamar pra gravar um video na complex comprando tênis', 'puma_parda aolivais ele disse que não dava problema quebrar o contrato porque ele não tinha dinheiro mesmo então não tinha como pagar a multa  😳  😳 ', 'puma me patrocinou das grife nos enjoou', 'se o benfica conseguisse contrato com a nike é que era mas a puma também não era má', 'xprincesara o thico escrever a parte dele do remix de pisando em puma e me mandar hj', 'cueca da kalvin klein e puma supremacy usem meninos usem', 'benficaeazeite slbdiogo_ o trabalho que a puma e o valência tem feito  ❤ ️ ❤ ️ ❤ ️', 'neymarjr pumafootball chuteira lida pra porra foda se o ney eu quero e essa puma', 'rxhstan beberexha puma bebeshotass warnerpromo é luciano eu entendo seus surtos por essa mulher eu realmente entendo  😳  💛 ', 'neymarjrdepre neymarjr pumabrasil neymar tá elevando o patamar da puma', 'pega qualquer mv do eternity ou do u são os melhores mvs do txt sérioconceito fodasmeu amor já ouviu cant you see me e pumaficam preso no moripuri sosa e saem falando asneira https//tco/ynv00ivel1', 'puma_parda duvido hein', 'patrocínio da puma ajusto a vida no disco 🎶  🎶 ', 'quando eu tinha 13 anos eu assisti a série get down brother e esse personagem era meu preferido  shaolin fantastic  ele tinha um puma suede vermelho e eu sempre quis e tipo assimadivinha quem tem agr  🥴  https//tco/l4vsyzu4bp', 'nike neymar gt puma neymar', 'fp_bala21 sim único das mulher se chama yg kkkkkk voce é louco de falar uma coisa dessas chega ser um absurdo comparar nike com puma só marca gringa q bate de frente o resto eh resto', 'acho brisa a evolução de camisa de futebol todos aspectos tecido ao patrocínio design ao caimento em 2010 puma e adidas meteram as camisas coladinhas a copa da áfrica foi basicamente isso aos poucos foi voltando a um caimento mais normal slim fit pra torcedor não pega', 'zepdrog reisssbru lewishamiltonbr puma porque vc tem ideia do quanto eles treinam a maioria dos pilotos da indy faz ironman', 'vocêssshoje vi um moçopor volta das 11hestava na fila p autenticar documentospróximo a ustmnão tive tempo de pedir nrpeço que façam chegar ao nigga 😭 estou apaixonadaaaaele estava de calça jeanssapatilha da pumacamisete da adidas“preta e branca“', 'novidades neymar jr x puma  👀  https//tco/yaawcme6fw', 'manchista1914 fico triste demais nosso palmeiras só em premiação ganhamos quase 250 milhões tv globo premieri tnt sbt ganhamos muito dinheiro vendas de jogadores ganhou 26 milhões no campeonato brasileiro patrocinadores crefisa fam puma dinheiro demais e ñ contrata jogadores', 'coleção do ney com a puma tá demais pqp  😍  😍  😍 ', 'puma_parda foram conduzidos pelos peões', 'as chuteiras da puma do ney gtgtgtgtgtgtgtgtgt as chuteiras da nike do ney', 'eu só queria ser patrocinado pela nike pela puma pela lacoste', 'cara no stories fznd enquete de preferência entre nike x puma eh serio q esses caras conseguem ser gados de empresas escravistas queria ser mongoloide assim', 'puma tb  🤤  https//tco/f6ta7qap1d', 'vou ser obrigada a ir numa loja da puma ', 'amo q mãe do puma me chama de amiga kkkkkkkkkkkkk', 'puma_parda nada a ver cabala não é isso', '3  puma uma masterpiece amo muito esta me enjoei dela mas ainda gosto https//tco/gm4hshvluq', 'leesunmibra puma pumakorea miyaohyeah ela tá sempre tão linda nas fotos adm https//tco/tzq7zx6szk', 'jnglls o disco do puma 5 track marcando presença bom nos ouvidos librianos', 'qualquer barulho de noite a puma sai latindo e avançando kkkkkkkkkk', 'puma_parda fvguima cara n tem saída', 'neymarjr pumafootball realmente a puma subiu de patamar  👏🏽 ', 'puma é muito underrated https//tco/kntbbqhmba', 'acho que puma esta se encaminhando para meu top 10 do txt', ' 🔥  nova colaboração neymar x puma  🔥 hoje quintafeira 18 a puma lança oficialmente a nova parceria com o neymar tratase da nova chuteira da linha future z essa mais recente tem como foco principal a criatividadevale ressaltar que o ney já tinha usado no treino ontem https//tco/2xq782at6j', 'site da puma é um lixo', 'lewishamiltonbr puma que homão da porra queria poder conhecer pessoalmente abraçar e beijar esse ser místico  😍 ', 'sou fã de chuteira preta mas essa chuteira colorida da puma tá um nojo  😻  https//tco/a27i215cdj', 'neymarjr pumafootball putz pensei que fosse o projota fazendo propaganda da puma  😂  😂  😂  😂 ', 'quase 2 semanas sem conquistar títuloos calas só na plainhao técnico ta viajando o nosso jogador mais calo foi lejeitadoo volante tollando dinheilo com callo impoltadoa puma não lança mais 15 unifolmescadê os 5 jogos por semana que me plometelambom dia pla quem', 'amoobenfica1 por um lado gosto que continue com a adidas pelo prestígio da marca por outro preferia uma puma pela originalidade dos equipamentos', 'a dor no pé que me dá ficar com esse puma é fora do normal sério', 'puma_parda megasena que da para distribuir um milhão por brasileiro vibes', 'meu camisa  🔟  é pura criatividade  🤙🏾  tô errado  🤭 my number  🔟  is pure creativity  🤙🏾  am i wrong 🤭  🆕  pumafootball  👟 neymar puma https//tco/wgxvyzms6z', 'puma_parda e vai merecer cada insulto', 'na minha opinião nike perdeu toda a beleza dps que o neymar foi pra puma puma é muito mais hype hj em dia', 'pshemoboy amg estamos na mesma tanta banda que eu ouço recomendo e ngm conhece kkkkkk e vou dar puma ouvida obg por recomendar  ❤ ️', 'augustluc rxhstan beberexha puma bebeshotass warnerpromo você venceu tanto lu olha isso 😳  😳  💛 ', 'chuteira do neymar da puma é muito fera neymarjr deixa nós fortão aí kkkkkkkk', 'blanche_zepeda lindo dia', 'puma deviate nitro review  https//tco/0b2cesefo5 pumasouthafrica runningshoe nitro', 'puma_parda zerezes modelo tom', 'mariana_maz94 se pudesse escolher era puma', 'real_puma ser de pumasmx ', 'tava procurando meu casaco da puma há dois anos e advinha aonde tavacom meu irmão', 'leodopastel o puma dá o charme do traje', 'slbenfica puma era um bom patrocínio https//tco/brtferuy9n', 'promoção oferta  [parcelado] tênis puma st runner v2 mesh bdp  masculino  r 15999  puma moda https//tco/0qr7efsyui', 'achei um da puma do jeito que queria e só tem size masculino infernoooo', 'to apaixonado nesse site da puma so traje doidooo', 'sagradasalpacas e assim o puma sai da imaginação e vai para o papel tá muito foda meu amor te amo demais minha princesa linda lt3', 'puma e neymarjr vcs arrasaram nesse ensaio', 'e a puma também lançou produtos personalizados com a identidade de neymar camisetas shorts boné acessórios de treinamento e vestuário à fora dos campos 📸  divulgação https//tco/q9fkrem8tz', 'curtavermelha ia logo correr atrás da puma ngl https//tco/siqqc35alg', 'entrei no site da puma por bobeira encontrei um tênis q eu sou xonada faz tempo em promoção  😭  😭 ', 'era 2006 eu com 11 atrás de um puma disk passou a fase do 12 mola atrás de uma novinha pra ah uh', 'ataquem essa fa de puma https//tco/hln1xv0nsi', 'curtavermelha por mim mudavamos para a nike ou a puma  já tou farto da adidas  só equipamentos de mrd nos últimos anos', 'iaragoliveira puma escondidinha com medo da bronca kkkkkkkkk', 'pshcult enhypen enhypen_members ate meiiiii 🥺 ', 'eu não paro de pensar na possibilidade que o neymar x puma podem relançar o puma disk igual fizeram com o 12 molas', 'tanta marca boa nike puma até com a locatoni tinhas equipamentos mais exclusivos do que com a adidas https//tco/fri6kgpk1u', 'arkiins a puma naaaaaaaah mas a forma humana neeko curiosa', 'fumando puma pra que a inveja suma louvando deus aqui a casa é sua', 'queria ser patrocinado pela puma só pra ganhar as roupas do neymar', 'pgeracoes capt_puma robosonysta windowsclubbr qual jogo aaa que tem no ps5 sackboy kkkkkkkkkk', 'vou postar meu edit do beomgyu pra quem me enviar 7 coisas do yeonjun na era de puma', 'neymarjr pumafootball vc e marquezine com pumahummmm  sei não em   😂 ', 'mds tô encantada pelos tenis da puma quero todos já', 'essa chuteira king da puma pultaaa merda vai tomando', 'lewishamiltonbr puma sorria lewis pf', 'puma tem uns tenis muito slc', 'ameliunga puma_parda vc pensa q uma criatura chegou ao limite da burrice ele vai lá e arruma mais 1t de estupidez vai passar a próxima década pagando advogado e tendo bem bloqueado', 'queria ter um puma de estimação', 'pumabrasil oi querida puma faz as roupas dessa coleção em tamanho feminino eu te imploro  🥺  🥺 ', 'vou lançar um puma brabo', 'promoção oferta  [parcelado] camisa polo puma seleção itália masculina  marinho e azul  r 13999  puma esporte https//tco/pncuxzamvn', 'jstadulne achei que agora era puma  🤔 ', 'não consigo parar de dar rt nas fotos do lewis pra puma', '20 anos e todo mês surto com a possibilidade https//tco/c6s8hmyk5f', 'puma é patrocinada pelo neymar https//tco/rx2npywd78', 'e meu cachorro que copia a logo da puma https//tco/37poohkzkp', 'neymarjr pumafootball chuteirinha caída em puma pra chuteira não tem condições', 'neymarjrdepre neymarjr pumabrasil eu sempre comprei chuteira da nike mn mas eu tô achando que eu vou comprar essa da puma mn está mt linda', 'puma_parda aolivais lazulikhan euperdendotempo o drama de nego di n tinha nada e até isso vai perder', 'puma_parda semfimlucrativo aqui já ta tendo aula sábado vai ser tenso quando voltar', 'puma tá lançando vários kit pesado', 'a puma segue fazendo tudo', 'ericknogueira07 em abriu eu vou ta só a puma hehe', 'hoje eu comprei um adidas novo no lugar do puma disc', 'neymarjr pumafootball vamo combinar essa mudança pra puma foi a melhor coisa as chuteiras são muito mais legais', '[info] 170321| a puma anunciou uma nova campanha com a sunmi intitulada she move us onde as embaixadoras femininas da puma celebram mulheres que se movem juntas para conquistar e conectar por meio do esporte cultura e valoresshemoveus puma pumakorea miyaohyeah 선미 https//tco/mmw3geqtna', 'kevass0 neymarjrdepre neymarjr pumabrasil no site da puta mesmo https//tco/rnrurgg8gw', 'júlia comprou um tênis da puma por causa do neymar é uma fofa né  😍  😍  😍 ', 'acho que e desta que compro umas puma  🥰  https//tco/cthoyelt1d', 'o puma do amor ta diferente  🗣 ️ https//tco/honaxxir2z', ' 📸  mais fotos da colaboração neymar x puma  💙  💜  https//tco/q1tvraneho', 'essa música é muito boa bicho fico chocada demaispuma de tomorrow x together https//tco/ommdph9hjd nowplaying', 'slbdiogo_ eu gosto de puma', 'hj eu comprei umas calcinhas e um top tão lindos da puma  🥰  fiquei uma gostosa aiai', 'neymar jr trazendo a criatividade de volta ao campo com essas  👟  😍  pumafootball ⚽  coleção ‘neymar jr creativity’ conta com gráficos e cores urbanas dignas representando a alegria e a inspiração de celebrar os craques mais criativos do jogo  ✅ neymar puma https//tco/rvvd7sqtd1', 'l_ucianom se for aquela preta da puma ou da adidas eu vou perder os dedos', 'eu quero um tênis da puma igual do lucas arr', 'holdollgz pão puma eu amooo vei obggg amgg', 'quando o assunto é fabricar chuteira bonita adidas  🤝  puma https//tco/ts1ooxacq3', 'puma mirage tech  🔥  https//tco/hijkctcv1s', 'leo_santanna_ kkkkkk sei lá mano as peças da puma em relação a roupa são tops mas sei lá a parte da chuteira é horrível kkkk', 'o tênis da aston martin e a camiseta tommy da mercedesos terrores do patrocínio da puma https//tco/nplcrhqszx https//tco/rv7bki4gob', 'thehypebr marcosmion jay z e a puma viram isso', 'queria msm é ser patrocinado pela puma', 'q resenha c o pivete puma 🤞🏾  😬  🙅🏾\\u200d♂️ ', 'g_torres55 eu olhei lá tem um monte da fila mas as da puma já venderam todas até mandei mensagem p ver se alguma sobrou', 'tk comprou uma blusa da puma da mim  🥰 ', 'conjunto da puma muito lindo  😍 ', 'neymar jr e sua nova coleção com a pumaneymarjr x pumafootball  📸  https//tco/wxx4vziq70', 'goncalodcnunes vais dizer que a puma não é mais pequena que a adidas puto ahah', 'puma_parda uma crença que a criança está mais vulnerável a doenças etc kkkk', 'soobsjk tipo se vc comparar a voz do beomgyu em angel or devil cysm puma force e ghosting vai ver q ele tem mt habilidade nisso pq em todas ele passa sensações bem distintas', ' 🆕  além da nova chuteira future z a coleção neymar jr creativity da puma apresenta outros produtos com a identidade do craque  🚀  https//tco/wgpuvltf1apumafootballnrsports neymar puma https//tco/cmyhzvesep', 'nll7s cadelinha da puma ok e minha cadelinha nunca  😔 ', 'o neymar na puma me faz acreditar que tem como recomeçar bem', 'puma_parda o mal do brasileiro é esse e a falta de terapia', 'goncalodcnunes agora o pessoal queixarse que a adidas faz coisas bue iguais para todos e falar da puma não é a comparação mais feliz', 'da até um ânimo de viver sabendo que o neymar é puma https//tco/4yl3ejsahb', 'só queria receber o email da puma seu pedido está sendo enviado 😔 ', 'bebe rexha para a nova campanha da puma nas lojas deichmann https//tco/kgxa8bo1gf', 'puma_parda sim a culpa é 75 do governo 25 do cidadão', 'puma_parda amada esposa psicanalista outro dia me chamou a atenção perdi a empatia por essas pessoas que negam a gravidade da situação há um ano e colocam isso outros em e risco simplesmente perdi a capacidade de me comover com o sofrimento delas nunca fui assim mas fiquei', 'essa coleção da puma do neymar ta de doer o coração de tão linda', 'apaixonada por um tênis da puma de 450 reais às vezes o universo só quer machucar a gente népq a hora que tiver em promoção malica só vai ter número 34', 'neymar x puma future z  🔥  https//tco/os7q7mx46u', 'a puma serviu muito nessa campanha 😎  🤪  https//tco/kodwykb9wh', 'rosita293 puma de bengala como diria jacobo', 'caga nisso puto ney puma nem pra edfisica se usa https//tco/28fovctzck', 'ai mas o cancelamento destroi a vida das pessoaprojota foi cancelado saiu do bbb e ja ta fazendo publi com a puma https//tco/s9cc6tgrxx', 'depois que a puma patrocinou o neymarj só ta lançando peça bolada  🥰  💪 ', 'puma_parda to achando mesmo hahaha', 'a puma apresentou a nova linha neymar jr creativity usada exclusivamente pelo atacante homenageia os jogadores mais criativos e ousadoscurtiram  👍  https//tco/cdvlhrhy8b', 'homemtacokkkkkk capt_puma robosonysta windowsclubbr  🤦 ptqp mais uma anta verde  😫 ', 'a coreografia de puma é muito boa e eles pintam unha legal', 'neymarjrdepre neymar vira desenhista da puma e vai jogar no vasco', 'bom demais para ser verdade quem sabe com outra marca tipo a puma https//tco/2ixvvibkmu', 'pumabrasil neymarjr sacanagem puma no site brasileiro não tem a jersey nem a jaqueta https//tco/qoujdkttqe', 'neymarjr pumafootball neymar = pumapalmeiras= pumaneymar no palmeiras ja eh realidade', 'saudades de quando levava lanchinho pra escolapão puma com geleia de morango  ❤ ️', 'i4hani n9neeee yasmin sério é melhor doq a era de puma', 'puma_parda e não é por falta de aviso', 'e hj os cara não colocaram costa gold e hariel pra tocar no shooting da puma não né', 'neymar com a meia da nike dobrada e fazendo a propaganda pro tênis da puma kkkkkkkkkk', 'eu e o maninho thiagobomfim85  comemoração do meu aniversário na associação nikkei do rio de janeiro no festival do tanabata 08/07/18yukata tanabatamatsuri japaneseculturelover https//tco/futhdivzgo', 'puma_parda hahahahaha sim e projetando um soft power que o brasil nem tem mais tô encantada', 'na real eu quero só mais um mv com conceito igual puma https//tco/iavjikmtir', 'linda é essa linha da puma pro neymar você é no máximo arrumadinha https//tco/iddqcidcwa', 'desde que o neymar fechou com a puma foi dai que comecei a desconfiar desse ano']\n"
     ]
    }
   ],
   "source": [
    "# Limpando os tweets de teste usando a função que definimos como cleanup.\n",
    "lista2_limpa = []\n",
    "for index, argumento in enumerate (t_teste):\n",
    "    #print(f'posição {index} tweeter: {argumento}')\n",
    "    limpa = cleanup(argumento.lower())\n",
    "    lista2_limpa.append(limpa)\n",
    "    \n",
    "print(lista2_limpa)"
   ]
  },
  {
   "cell_type": "code",
   "execution_count": 120,
   "metadata": {},
   "outputs": [
    {
     "name": "stdout",
     "output_type": "stream",
     "text": [
      "[['0chavex0', 'ornate_puma', 'vdd', 'to', 'resfriado'], ['📽', 'neymar', 'e', 'puma', '👀', '❤', 'temos', 'novidades', 'vindo', 'aí', 'https//tco/jkkdnhjifc'], ['brgmsch', 'mas', 'a', 'puma', 'nem', 'patrocina', 'a', 'aston'], ['📽', 'puma', 'neymar', 'jr', 'creativity', 'a', 'inovadora', 'chuteira', 'future', 'z', '11', '🔥', '❤', 'https//tco/wewlyybd6i'], ['a', 'puma', 'tá', 'a', 'evoluir', 'muito', 'quem', 'me', 'dera', 'que', 'o', 'benfica', 'negociasse', 'com', 'eles'], ['neymar', 'de', 'puma', '🤤'], ['anthrpocene', 'puma', 'é', 'a', 'única', 'música', 'deles', 'que', 'não', 'tolero', 'de', 'forma', 'alguma'], ['slbdiogo_', 'warning', 'eu', 'quero', 'a', 'puma', 'este', 'mano', 'é', 'que', 'me', 'meteu', 'do', 'grupo', 'da', 'umbro', 'porque', 'não', 'havia', 'espaço', 'na', 'template'], ['srtonalves', 'palmeiras', 'tem', 'dinheiro', 'de', 'vendas', 'de', 'jogadores', 'premiações', 'quase', '250milhões', 'direito', 'de', 'tv', 'globo', 'premieri', 'tnt', 'sbt', 'patrocinadores', 'crefisa', 'fam', 'puma', 'ganhou', '26', 'milhões', 'no', 'campeonato', 'brasileiro', 'maurício', 'bananote', 'anderson', 'barros', 'jaiminho', 'cícero', 'sousa', 'estão', 'enrolado', 'nos', 'abel', 'ferreira'], ['agora', 'fudeu', 'o', 'caralho', 'todo', 'mermo', 'vao', 'puma', 'porra'], ['meu', 'aniversário', 'tá', 'quase', 'chegando', 'alguém', 'me', 'dá', 'uma', 'puma', 'do', 'neyyyy'], ['a', 'nova', 'coleção', 'do', 'neymar', 'com', 'a', 'puma', '😍'], ['neymar', 'faz', 'uma', 'diferença', 'enorme', 'na', 'marca', 'olha', 'o', 'quanto', 'a', 'puma', 'está', 'caprichando', 'se', 'é', 'loco', '😍', 'https//tco/6covdruyqr'], ['pgeracoes', 'homemtacokkkkkk', 'capt_puma', 'robosonysta', 'windowsclubbr', 'se', 'vc', 'tem', 'tantos', 'aaa', 'pq', 'n', 'mostra', 'eles', 'ai', 'no', 'seu', 'preysteitoun', 'pq', 'vc', 'n', 'joga', 'eles', 'ao', 'inves', 'pagina', 'para', 'fas', 'de', 'xbox', 'pq', 'vc', 'n', 'vai', 'numa', 'pagina', 'de', 'ps'], ['puma', 'vai', 'cm', 'calma', 'lançando', 'as', 'coisas', 'prfv', 'sou', 'patrocinada', 'igual', 'o', 'neymar', 'não', 'e', 'nem', 'to', 'podendo', 'gastar', '😩', '😩', '😩', 'pumabrasil'], ['goncalodcnunes', 'acredito', 'que', 'possa', 'ser', 'mas', 'se', 'não', 'vender', 'tanto', 'ou', 'não', 'render', 'tanto', 'não', 'vale', 'a', 'penaclaro', 'que', 'se', 'a', 'puma', 'viesse', 'com', '15', 'ao', 'ano', 'e', 'a', 'adidas', 'com', '10', 'a', 'conversa', 'é', 'outra', 'estou', 'a', 'falar', 'dos', 'contratos', 'que', 'sabemos', 'que', 'existem'], ['eri_sanita', 'quando', 'junto', 'as', 'mãozinha', 'achei', 'que', 'fosse', 'sair', 'um', 'pq', 'eu', 'sou', 'porra', 'loka', 'memo', 'kkkkk'], ['a', 'puma', 'cresce', 'mais', 'a', 'cada', 'dia', 'que', 'passa', 'https//tco/mgwthvdtlz'], ['zarakbezerra', 'babblerfreefire', 'o', 'time', 'dos', 'cara', 'tá', 'insano', 'adidas', 'nike', 'umbro', 'é', 'puma'], ['gustavocapaa', 'eu_fagundess', 'ecaa', 'nem', 'nike', 'nem', 'adidas', 'muito', 'menos', 'puma', 'o', 'negócio', 'é', 'comprar', 'lá', 'no', 'camelo'], ['fui', 'ver', 'umas', 'peça', 'pra', 'comprar', 'na', 'puma', 'deu', '1560', 'conto', 'pq', 'eu', 'sou', 'assim', 'resumo', 'comprei', 'nada', 'pq', 'tenho', '8', 'reais'], ['tenis', 'da', 'puma', 'é', 'mt', 'confortável'], ['gcardooso04', 'manutdbr', 'a', 'real', 'é', 'que', 'a', 'adidas', 'e', 'a', 'nike', 'largaram', 'de', 'vez', 'eles', 'escolhem', 'dois', 'padrões', 'de', 'uniforme', 'e', 'aplicam', 'nos', 'times', 'so', 'mudando', 'a', 'cor', 'a', 'puma', 'faz', 'uniformes', 'muito', 'bonitos', 'mas', 'nao', 'consegue', 'bater', 'de', 'frente', 'quem', 'dira', 'a', 'umbro', 'e', 'outras', 'marcas'], ['chuteira', 'da', 'puma', 'é', 'feia', 'demais', 'pqp', 'https//tco/a54fgw4zfr'], ['o', 'símbolo', 'da', 'jaguar', 'é', 'igual', 'o', 'da', 'puma', 'kkkkkkkkmuuhpro', 'https//tco/2zuxkv6gqv'], ['mascaradinhoo', 'esse', 'é', 'bem', 'pequeno', 'são', 'paulo', 'com', 'a', 'puma', 'https//tco/w0lyj8f3st'], ['25000', 'um', 'puma', 'é', 'pra', 'fuder', 'que', 'dor', 'no', 'peito'], ['puma_parda', 'gente', 'como', 'a', 'gente'], ['lewishamiltonbr', 'puma', 'eu', 'vendo', 'a', 'foto', 'https//tco/ajqnsyizui'], ['neymarjr', 'pumafootball', 'só', 'queria', 'um', 'casaco', 'desse', 'da', 'puma', '🤨'], ['puma_parda', 'nenhum', 'camelô', 'que', 'eu', 'encontrei', 'pela', 'rua', 'usava', 'máscara', 'nem', 'o', 'que', 'vendia', 'máscara', 'eu', 'não', 'entendo'], ['seu', 'terceiro', 'terá', 'que', 'te', 'dar', 'uma', 'camisa', 'da', 'nova', 'coleção', 'da', 'puma', 'neymar', 'jr', 'creativit', 'https//tco/kpifoxa6mr'], ['esperando', 'o', 'joe', 'la', 'puma', 'me', 'chamar', 'pra', 'gravar', 'um', 'video', 'na', 'complex', 'comprando', 'tênis'], ['puma_parda', 'aolivais', 'ele', 'disse', 'que', 'não', 'dava', 'problema', 'quebrar', 'o', 'contrato', 'porque', 'ele', 'não', 'tinha', 'dinheiro', 'mesmo', 'então', 'não', 'tinha', 'como', 'pagar', 'a', 'multa', '😳', '😳'], ['puma', 'me', 'patrocinou', 'das', 'grife', 'nos', 'enjoou'], ['se', 'o', 'benfica', 'conseguisse', 'contrato', 'com', 'a', 'nike', 'é', 'que', 'era', 'mas', 'a', 'puma', 'também', 'não', 'era', 'má'], ['xprincesara', 'o', 'thico', 'escrever', 'a', 'parte', 'dele', 'do', 'remix', 'de', 'pisando', 'em', 'puma', 'e', 'me', 'mandar', 'hj'], ['cueca', 'da', 'kalvin', 'klein', 'e', 'puma', 'supremacy', 'usem', 'meninos', 'usem'], ['benficaeazeite', 'slbdiogo_', 'o', 'trabalho', 'que', 'a', 'puma', 'e', 'o', 'valência', 'tem', 'feito', '❤', '️', '❤', '️', '❤', '️'], ['neymarjr', 'pumafootball', 'chuteira', 'lida', 'pra', 'porra', 'foda', 'se', 'o', 'ney', 'eu', 'quero', 'e', 'essa', 'puma'], ['rxhstan', 'beberexha', 'puma', 'bebeshotass', 'warnerpromo', 'é', 'luciano', 'eu', 'entendo', 'seus', 'surtos', 'por', 'essa', 'mulher', 'eu', 'realmente', 'entendo', '😳', '💛'], ['neymarjrdepre', 'neymarjr', 'pumabrasil', 'neymar', 'tá', 'elevando', 'o', 'patamar', 'da', 'puma'], ['pega', 'qualquer', 'mv', 'do', 'eternity', 'ou', 'do', 'u', 'são', 'os', 'melhores', 'mvs', 'do', 'txt', 'sérioconceito', 'fodasmeu', 'amor', 'já', 'ouviu', 'cant', 'you', 'see', 'me', 'e', 'pumaficam', 'preso', 'no', 'moripuri', 'sosa', 'e', 'saem', 'falando', 'asneira', 'https//tco/ynv00ivel1'], ['puma_parda', 'duvido', 'hein'], ['patrocínio', 'da', 'puma', 'ajusto', 'a', 'vida', 'no', 'disco', '🎶', '🎶'], ['quando', 'eu', 'tinha', '13', 'anos', 'eu', 'assisti', 'a', 'série', 'get', 'down', 'brother', 'e', 'esse', 'personagem', 'era', 'meu', 'preferido', 'shaolin', 'fantastic', 'ele', 'tinha', 'um', 'puma', 'suede', 'vermelho', 'e', 'eu', 'sempre', 'quis', 'e', 'tipo', 'assimadivinha', 'quem', 'tem', 'agr', '🥴', 'https//tco/l4vsyzu4bp'], ['nike', 'neymar', 'gt', 'puma', 'neymar'], ['fp_bala21', 'sim', 'único', 'das', 'mulher', 'se', 'chama', 'yg', 'kkkkkk', 'voce', 'é', 'louco', 'de', 'falar', 'uma', 'coisa', 'dessas', 'chega', 'ser', 'um', 'absurdo', 'comparar', 'nike', 'com', 'puma', 'só', 'marca', 'gringa', 'q', 'bate', 'de', 'frente', 'o', 'resto', 'eh', 'resto'], ['acho', 'brisa', 'a', 'evolução', 'de', 'camisa', 'de', 'futebol', 'todos', 'aspectos', 'tecido', 'ao', 'patrocínio', 'design', 'ao', 'caimento', 'em', '2010', 'puma', 'e', 'adidas', 'meteram', 'as', 'camisas', 'coladinhas', 'a', 'copa', 'da', 'áfrica', 'foi', 'basicamente', 'isso', 'aos', 'poucos', 'foi', 'voltando', 'a', 'um', 'caimento', 'mais', 'normal', 'slim', 'fit', 'pra', 'torcedor', 'não', 'pega'], ['zepdrog', 'reisssbru', 'lewishamiltonbr', 'puma', 'porque', 'vc', 'tem', 'ideia', 'do', 'quanto', 'eles', 'treinam', 'a', 'maioria', 'dos', 'pilotos', 'da', 'indy', 'faz', 'ironman'], ['vocêssshoje', 'vi', 'um', 'moçopor', 'volta', 'das', '11hestava', 'na', 'fila', 'p', 'autenticar', 'documentospróximo', 'a', 'ustmnão', 'tive', 'tempo', 'de', 'pedir', 'nrpeço', 'que', 'façam', 'chegar', 'ao', 'nigga', '😭', 'estou', 'apaixonadaaaaele', 'estava', 'de', 'calça', 'jeanssapatilha', 'da', 'pumacamisete', 'da', 'adidas“preta', 'e', 'branca“'], ['novidades', 'neymar', 'jr', 'x', 'puma', '👀', 'https//tco/yaawcme6fw'], ['manchista1914', 'fico', 'triste', 'demais', 'nosso', 'palmeiras', 'só', 'em', 'premiação', 'ganhamos', 'quase', '250', 'milhões', 'tv', 'globo', 'premieri', 'tnt', 'sbt', 'ganhamos', 'muito', 'dinheiro', 'vendas', 'de', 'jogadores', 'ganhou', '26', 'milhões', 'no', 'campeonato', 'brasileiro', 'patrocinadores', 'crefisa', 'fam', 'puma', 'dinheiro', 'demais', 'e', 'ñ', 'contrata', 'jogadores'], ['coleção', 'do', 'ney', 'com', 'a', 'puma', 'tá', 'demais', 'pqp', '😍', '😍', '😍'], ['puma_parda', 'foram', 'conduzidos', 'pelos', 'peões'], ['as', 'chuteiras', 'da', 'puma', 'do', 'ney', 'gtgtgtgtgtgtgtgtgt', 'as', 'chuteiras', 'da', 'nike', 'do', 'ney'], ['eu', 'só', 'queria', 'ser', 'patrocinado', 'pela', 'nike', 'pela', 'puma', 'pela', 'lacoste'], ['cara', 'no', 'stories', 'fznd', 'enquete', 'de', 'preferência', 'entre', 'nike', 'x', 'puma', 'eh', 'serio', 'q', 'esses', 'caras', 'conseguem', 'ser', 'gados', 'de', 'empresas', 'escravistas', 'queria', 'ser', 'mongoloide', 'assim'], ['puma', 'tb', '🤤', 'https//tco/f6ta7qap1d'], ['vou', 'ser', 'obrigada', 'a', 'ir', 'numa', 'loja', 'da', 'puma'], ['amo', 'q', 'mãe', 'do', 'puma', 'me', 'chama', 'de', 'amiga', 'kkkkkkkkkkkkk'], ['puma_parda', 'nada', 'a', 'ver', 'cabala', 'não', 'é', 'isso'], ['3', 'puma', 'uma', 'masterpiece', 'amo', 'muito', 'esta', 'me', 'enjoei', 'dela', 'mas', 'ainda', 'gosto', 'https//tco/gm4hshvluq'], ['leesunmibra', 'puma', 'pumakorea', 'miyaohyeah', 'ela', 'tá', 'sempre', 'tão', 'linda', 'nas', 'fotos', 'adm', 'https//tco/tzq7zx6szk'], ['jnglls', 'o', 'disco', 'do', 'puma', '5', 'track', 'marcando', 'presença', 'bom', 'nos', 'ouvidos', 'librianos'], ['qualquer', 'barulho', 'de', 'noite', 'a', 'puma', 'sai', 'latindo', 'e', 'avançando', 'kkkkkkkkkk'], ['puma_parda', 'fvguima', 'cara', 'n', 'tem', 'saída'], ['neymarjr', 'pumafootball', 'realmente', 'a', 'puma', 'subiu', 'de', 'patamar', '👏🏽'], ['puma', 'é', 'muito', 'underrated', 'https//tco/kntbbqhmba'], ['acho', 'que', 'puma', 'esta', 'se', 'encaminhando', 'para', 'meu', 'top', '10', 'do', 'txt'], ['🔥', 'nova', 'colaboração', 'neymar', 'x', 'puma', '🔥', 'hoje', 'quintafeira', '18', 'a', 'puma', 'lança', 'oficialmente', 'a', 'nova', 'parceria', 'com', 'o', 'neymar', 'tratase', 'da', 'nova', 'chuteira', 'da', 'linha', 'future', 'z', 'essa', 'mais', 'recente', 'tem', 'como', 'foco', 'principal', 'a', 'criatividadevale', 'ressaltar', 'que', 'o', 'ney', 'já', 'tinha', 'usado', 'no', 'treino', 'ontem', 'https//tco/2xq782at6j'], ['site', 'da', 'puma', 'é', 'um', 'lixo'], ['lewishamiltonbr', 'puma', 'que', 'homão', 'da', 'porra', 'queria', 'poder', 'conhecer', 'pessoalmente', 'abraçar', 'e', 'beijar', 'esse', 'ser', 'místico', '😍'], ['sou', 'fã', 'de', 'chuteira', 'preta', 'mas', 'essa', 'chuteira', 'colorida', 'da', 'puma', 'tá', 'um', 'nojo', '😻', 'https//tco/a27i215cdj'], ['neymarjr', 'pumafootball', 'putz', 'pensei', 'que', 'fosse', 'o', 'projota', 'fazendo', 'propaganda', 'da', 'puma', '😂', '😂', '😂', '😂'], ['quase', '2', 'semanas', 'sem', 'conquistar', 'títuloos', 'calas', 'só', 'na', 'plainhao', 'técnico', 'ta', 'viajando', 'o', 'nosso', 'jogador', 'mais', 'calo', 'foi', 'lejeitadoo', 'volante', 'tollando', 'dinheilo', 'com', 'callo', 'impoltadoa', 'puma', 'não', 'lança', 'mais', '15', 'unifolmescadê', 'os', '5', 'jogos', 'por', 'semana', 'que', 'me', 'plometelambom', 'dia', 'pla', 'quem'], ['amoobenfica1', 'por', 'um', 'lado', 'gosto', 'que', 'continue', 'com', 'a', 'adidas', 'pelo', 'prestígio', 'da', 'marca', 'por', 'outro', 'preferia', 'uma', 'puma', 'pela', 'originalidade', 'dos', 'equipamentos'], ['a', 'dor', 'no', 'pé', 'que', 'me', 'dá', 'ficar', 'com', 'esse', 'puma', 'é', 'fora', 'do', 'normal', 'sério'], ['puma_parda', 'megasena', 'que', 'da', 'para', 'distribuir', 'um', 'milhão', 'por', 'brasileiro', 'vibes'], ['meu', 'camisa', '🔟', 'é', 'pura', 'criatividade', '🤙🏾', 'tô', 'errado', '🤭', 'my', 'number', '🔟', 'is', 'pure', 'creativity', '🤙🏾', 'am', 'i', 'wrong', '🤭', '🆕', 'pumafootball', '👟', 'neymar', 'puma', 'https//tco/wgxvyzms6z'], ['puma_parda', 'e', 'vai', 'merecer', 'cada', 'insulto'], ['na', 'minha', 'opinião', 'nike', 'perdeu', 'toda', 'a', 'beleza', 'dps', 'que', 'o', 'neymar', 'foi', 'pra', 'puma', 'puma', 'é', 'muito', 'mais', 'hype', 'hj', 'em', 'dia'], ['pshemoboy', 'amg', 'estamos', 'na', 'mesma', 'tanta', 'banda', 'que', 'eu', 'ouço', 'recomendo', 'e', 'ngm', 'conhece', 'kkkkkk', 'e', 'vou', 'dar', 'puma', 'ouvida', 'obg', 'por', 'recomendar', '❤', '️'], ['augustluc', 'rxhstan', 'beberexha', 'puma', 'bebeshotass', 'warnerpromo', 'você', 'venceu', 'tanto', 'lu', 'olha', 'isso', '😳', '😳', '💛'], ['chuteira', 'do', 'neymar', 'da', 'puma', 'é', 'muito', 'fera', 'neymarjr', 'deixa', 'nós', 'fortão', 'aí', 'kkkkkkkk'], ['blanche_zepeda', 'lindo', 'dia'], ['puma', 'deviate', 'nitro', 'review', 'https//tco/0b2cesefo5', 'pumasouthafrica', 'runningshoe', 'nitro'], ['puma_parda', 'zerezes', 'modelo', 'tom'], ['mariana_maz94', 'se', 'pudesse', 'escolher', 'era', 'puma'], ['real_puma', 'ser', 'de', 'pumasmx'], ['tava', 'procurando', 'meu', 'casaco', 'da', 'puma', 'há', 'dois', 'anos', 'e', 'advinha', 'aonde', 'tavacom', 'meu', 'irmão'], ['leodopastel', 'o', 'puma', 'dá', 'o', 'charme', 'do', 'traje'], ['slbenfica', 'puma', 'era', 'um', 'bom', 'patrocínio', 'https//tco/brtferuy9n'], ['promoção', 'oferta', '[parcelado]', 'tênis', 'puma', 'st', 'runner', 'v2', 'mesh', 'bdp', 'masculino', 'r', '15999', 'puma', 'moda', 'https//tco/0qr7efsyui'], ['achei', 'um', 'da', 'puma', 'do', 'jeito', 'que', 'queria', 'e', 'só', 'tem', 'size', 'masculino', 'infernoooo'], ['to', 'apaixonado', 'nesse', 'site', 'da', 'puma', 'so', 'traje', 'doidooo'], ['sagradasalpacas', 'e', 'assim', 'o', 'puma', 'sai', 'da', 'imaginação', 'e', 'vai', 'para', 'o', 'papel', 'tá', 'muito', 'foda', 'meu', 'amor', 'te', 'amo', 'demais', 'minha', 'princesa', 'linda', 'lt3'], ['puma', 'e', 'neymarjr', 'vcs', 'arrasaram', 'nesse', 'ensaio'], ['e', 'a', 'puma', 'também', 'lançou', 'produtos', 'personalizados', 'com', 'a', 'identidade', 'de', 'neymar', 'camisetas', 'shorts', 'boné', 'acessórios', 'de', 'treinamento', 'e', 'vestuário', 'à', 'fora', 'dos', 'campos', '📸', 'divulgação', 'https//tco/q9fkrem8tz'], ['curtavermelha', 'ia', 'logo', 'correr', 'atrás', 'da', 'puma', 'ngl', 'https//tco/siqqc35alg'], ['entrei', 'no', 'site', 'da', 'puma', 'por', 'bobeira', 'encontrei', 'um', 'tênis', 'q', 'eu', 'sou', 'xonada', 'faz', 'tempo', 'em', 'promoção', '😭', '😭'], ['era', '2006', 'eu', 'com', '11', 'atrás', 'de', 'um', 'puma', 'disk', 'passou', 'a', 'fase', 'do', '12', 'mola', 'atrás', 'de', 'uma', 'novinha', 'pra', 'ah', 'uh'], ['ataquem', 'essa', 'fa', 'de', 'puma', 'https//tco/hln1xv0nsi'], ['curtavermelha', 'por', 'mim', 'mudavamos', 'para', 'a', 'nike', 'ou', 'a', 'puma', 'já', 'tou', 'farto', 'da', 'adidas', 'só', 'equipamentos', 'de', 'mrd', 'nos', 'últimos', 'anos'], ['iaragoliveira', 'puma', 'escondidinha', 'com', 'medo', 'da', 'bronca', 'kkkkkkkkk'], ['pshcult', 'enhypen', 'enhypen_members', 'ate', 'meiiiii', '🥺'], ['eu', 'não', 'paro', 'de', 'pensar', 'na', 'possibilidade', 'que', 'o', 'neymar', 'x', 'puma', 'podem', 'relançar', 'o', 'puma', 'disk', 'igual', 'fizeram', 'com', 'o', '12', 'molas'], ['tanta', 'marca', 'boa', 'nike', 'puma', 'até', 'com', 'a', 'locatoni', 'tinhas', 'equipamentos', 'mais', 'exclusivos', 'do', 'que', 'com', 'a', 'adidas', 'https//tco/fri6kgpk1u'], ['arkiins', 'a', 'puma', 'naaaaaaaah', 'mas', 'a', 'forma', 'humana', 'neeko', 'curiosa'], ['fumando', 'puma', 'pra', 'que', 'a', 'inveja', 'suma', 'louvando', 'deus', 'aqui', 'a', 'casa', 'é', 'sua'], ['queria', 'ser', 'patrocinado', 'pela', 'puma', 'só', 'pra', 'ganhar', 'as', 'roupas', 'do', 'neymar'], ['pgeracoes', 'capt_puma', 'robosonysta', 'windowsclubbr', 'qual', 'jogo', 'aaa', 'que', 'tem', 'no', 'ps5', 'sackboy', 'kkkkkkkkkk'], ['vou', 'postar', 'meu', 'edit', 'do', 'beomgyu', 'pra', 'quem', 'me', 'enviar', '7', 'coisas', 'do', 'yeonjun', 'na', 'era', 'de', 'puma'], ['neymarjr', 'pumafootball', 'vc', 'e', 'marquezine', 'com', 'pumahummmm', 'sei', 'não', 'em', '😂'], ['mds', 'tô', 'encantada', 'pelos', 'tenis', 'da', 'puma', 'quero', 'todos', 'já'], ['essa', 'chuteira', 'king', 'da', 'puma', 'pultaaa', 'merda', 'vai', 'tomando'], ['lewishamiltonbr', 'puma', 'sorria', 'lewis', 'pf'], ['puma', 'tem', 'uns', 'tenis', 'muito', 'slc'], ['ameliunga', 'puma_parda', 'vc', 'pensa', 'q', 'uma', 'criatura', 'chegou', 'ao', 'limite', 'da', 'burrice', 'ele', 'vai', 'lá', 'e', 'arruma', 'mais', '1t', 'de', 'estupidez', 'vai', 'passar', 'a', 'próxima', 'década', 'pagando', 'advogado', 'e', 'tendo', 'bem', 'bloqueado'], ['queria', 'ter', 'um', 'puma', 'de', 'estimação'], ['pumabrasil', 'oi', 'querida', 'puma', 'faz', 'as', 'roupas', 'dessa', 'coleção', 'em', 'tamanho', 'feminino', 'eu', 'te', 'imploro', '🥺', '🥺'], ['vou', 'lançar', 'um', 'puma', 'brabo'], ['promoção', 'oferta', '[parcelado]', 'camisa', 'polo', 'puma', 'seleção', 'itália', 'masculina', 'marinho', 'e', 'azul', 'r', '13999', 'puma', 'esporte', 'https//tco/pncuxzamvn'], ['jstadulne', 'achei', 'que', 'agora', 'era', 'puma', '🤔'], ['não', 'consigo', 'parar', 'de', 'dar', 'rt', 'nas', 'fotos', 'do', 'lewis', 'pra', 'puma'], ['20', 'anos', 'e', 'todo', 'mês', 'surto', 'com', 'a', 'possibilidade', 'https//tco/c6s8hmyk5f'], ['puma', 'é', 'patrocinada', 'pelo', 'neymar', 'https//tco/rx2npywd78'], ['e', 'meu', 'cachorro', 'que', 'copia', 'a', 'logo', 'da', 'puma', 'https//tco/37poohkzkp'], ['neymarjr', 'pumafootball', 'chuteirinha', 'caída', 'em', 'puma', 'pra', 'chuteira', 'não', 'tem', 'condições'], ['neymarjrdepre', 'neymarjr', 'pumabrasil', 'eu', 'sempre', 'comprei', 'chuteira', 'da', 'nike', 'mn', 'mas', 'eu', 'tô', 'achando', 'que', 'eu', 'vou', 'comprar', 'essa', 'da', 'puma', 'mn', 'está', 'mt', 'linda'], ['puma_parda', 'aolivais', 'lazulikhan', 'euperdendotempo', 'o', 'drama', 'de', 'nego', 'di', 'n', 'tinha', 'nada', 'e', 'até', 'isso', 'vai', 'perder'], ['puma_parda', 'semfimlucrativo', 'aqui', 'já', 'ta', 'tendo', 'aula', 'sábado', 'vai', 'ser', 'tenso', 'quando', 'voltar'], ['puma', 'tá', 'lançando', 'vários', 'kit', 'pesado'], ['a', 'puma', 'segue', 'fazendo', 'tudo'], ['ericknogueira07', 'em', 'abriu', 'eu', 'vou', 'ta', 'só', 'a', 'puma', 'hehe'], ['hoje', 'eu', 'comprei', 'um', 'adidas', 'novo', 'no', 'lugar', 'do', 'puma', 'disc'], ['neymarjr', 'pumafootball', 'vamo', 'combinar', 'essa', 'mudança', 'pra', 'puma', 'foi', 'a', 'melhor', 'coisa', 'as', 'chuteiras', 'são', 'muito', 'mais', 'legais'], ['[info]', '170321|', 'a', 'puma', 'anunciou', 'uma', 'nova', 'campanha', 'com', 'a', 'sunmi', 'intitulada', 'she', 'move', 'us', 'onde', 'as', 'embaixadoras', 'femininas', 'da', 'puma', 'celebram', 'mulheres', 'que', 'se', 'movem', 'juntas', 'para', 'conquistar', 'e', 'conectar', 'por', 'meio', 'do', 'esporte', 'cultura', 'e', 'valoresshemoveus', 'puma', 'pumakorea', 'miyaohyeah', '선미', 'https//tco/mmw3geqtna'], ['kevass0', 'neymarjrdepre', 'neymarjr', 'pumabrasil', 'no', 'site', 'da', 'puta', 'mesmo', 'https//tco/rnrurgg8gw'], ['júlia', 'comprou', 'um', 'tênis', 'da', 'puma', 'por', 'causa', 'do', 'neymar', 'é', 'uma', 'fofa', 'né', '😍', '😍', '😍'], ['acho', 'que', 'e', 'desta', 'que', 'compro', 'umas', 'puma', '🥰', 'https//tco/cthoyelt1d'], ['o', 'puma', 'do', 'amor', 'ta', 'diferente', '🗣', '️', 'https//tco/honaxxir2z'], ['📸', 'mais', 'fotos', 'da', 'colaboração', 'neymar', 'x', 'puma', '💙', '💜', 'https//tco/q1tvraneho'], ['essa', 'música', 'é', 'muito', 'boa', 'bicho', 'fico', 'chocada', 'demaispuma', 'de', 'tomorrow', 'x', 'together', 'https//tco/ommdph9hjd', 'nowplaying'], ['slbdiogo_', 'eu', 'gosto', 'de', 'puma'], ['hj', 'eu', 'comprei', 'umas', 'calcinhas', 'e', 'um', 'top', 'tão', 'lindos', 'da', 'puma', '🥰', 'fiquei', 'uma', 'gostosa', 'aiai'], ['neymar', 'jr', 'trazendo', 'a', 'criatividade', 'de', 'volta', 'ao', 'campo', 'com', 'essas', '👟', '😍', 'pumafootball', '⚽', 'coleção', '‘neymar', 'jr', 'creativity’', 'conta', 'com', 'gráficos', 'e', 'cores', 'urbanas', 'dignas', 'representando', 'a', 'alegria', 'e', 'a', 'inspiração', 'de', 'celebrar', 'os', 'craques', 'mais', 'criativos', 'do', 'jogo', '✅', 'neymar', 'puma', 'https//tco/rvvd7sqtd1'], ['l_ucianom', 'se', 'for', 'aquela', 'preta', 'da', 'puma', 'ou', 'da', 'adidas', 'eu', 'vou', 'perder', 'os', 'dedos'], ['eu', 'quero', 'um', 'tênis', 'da', 'puma', 'igual', 'do', 'lucas', 'arr'], ['holdollgz', 'pão', 'puma', 'eu', 'amooo', 'vei', 'obggg', 'amgg'], ['quando', 'o', 'assunto', 'é', 'fabricar', 'chuteira', 'bonita', 'adidas', '🤝', 'puma', 'https//tco/ts1ooxacq3'], ['puma', 'mirage', 'tech', '🔥', 'https//tco/hijkctcv1s'], ['leo_santanna_', 'kkkkkk', 'sei', 'lá', 'mano', 'as', 'peças', 'da', 'puma', 'em', 'relação', 'a', 'roupa', 'são', 'tops', 'mas', 'sei', 'lá', 'a', 'parte', 'da', 'chuteira', 'é', 'horrível', 'kkkk'], ['o', 'tênis', 'da', 'aston', 'martin', 'e', 'a', 'camiseta', 'tommy', 'da', 'mercedesos', 'terrores', 'do', 'patrocínio', 'da', 'puma', 'https//tco/nplcrhqszx', 'https//tco/rv7bki4gob'], ['thehypebr', 'marcosmion', 'jay', 'z', 'e', 'a', 'puma', 'viram', 'isso'], ['queria', 'msm', 'é', 'ser', 'patrocinado', 'pela', 'puma'], ['q', 'resenha', 'c', 'o', 'pivete', 'puma', '🤞🏾', '😬', '🙅🏾\\u200d♂️'], ['g_torres55', 'eu', 'olhei', 'lá', 'tem', 'um', 'monte', 'da', 'fila', 'mas', 'as', 'da', 'puma', 'já', 'venderam', 'todas', 'até', 'mandei', 'mensagem', 'p', 'ver', 'se', 'alguma', 'sobrou'], ['tk', 'comprou', 'uma', 'blusa', 'da', 'puma', 'da', 'mim', '🥰'], ['conjunto', 'da', 'puma', 'muito', 'lindo', '😍'], ['neymar', 'jr', 'e', 'sua', 'nova', 'coleção', 'com', 'a', 'pumaneymarjr', 'x', 'pumafootball', '📸', 'https//tco/wxx4vziq70'], ['goncalodcnunes', 'vais', 'dizer', 'que', 'a', 'puma', 'não', 'é', 'mais', 'pequena', 'que', 'a', 'adidas', 'puto', 'ahah'], ['puma_parda', 'uma', 'crença', 'que', 'a', 'criança', 'está', 'mais', 'vulnerável', 'a', 'doenças', 'etc', 'kkkk'], ['soobsjk', 'tipo', 'se', 'vc', 'comparar', 'a', 'voz', 'do', 'beomgyu', 'em', 'angel', 'or', 'devil', 'cysm', 'puma', 'force', 'e', 'ghosting', 'vai', 'ver', 'q', 'ele', 'tem', 'mt', 'habilidade', 'nisso', 'pq', 'em', 'todas', 'ele', 'passa', 'sensações', 'bem', 'distintas'], ['🆕', 'além', 'da', 'nova', 'chuteira', 'future', 'z', 'a', 'coleção', 'neymar', 'jr', 'creativity', 'da', 'puma', 'apresenta', 'outros', 'produtos', 'com', 'a', 'identidade', 'do', 'craque', '🚀', 'https//tco/wgpuvltf1apumafootballnrsports', 'neymar', 'puma', 'https//tco/cmyhzvesep'], ['nll7s', 'cadelinha', 'da', 'puma', 'ok', 'e', 'minha', 'cadelinha', 'nunca', '😔'], ['o', 'neymar', 'na', 'puma', 'me', 'faz', 'acreditar', 'que', 'tem', 'como', 'recomeçar', 'bem'], ['puma_parda', 'o', 'mal', 'do', 'brasileiro', 'é', 'esse', 'e', 'a', 'falta', 'de', 'terapia'], ['goncalodcnunes', 'agora', 'o', 'pessoal', 'queixarse', 'que', 'a', 'adidas', 'faz', 'coisas', 'bue', 'iguais', 'para', 'todos', 'e', 'falar', 'da', 'puma', 'não', 'é', 'a', 'comparação', 'mais', 'feliz'], ['da', 'até', 'um', 'ânimo', 'de', 'viver', 'sabendo', 'que', 'o', 'neymar', 'é', 'puma', 'https//tco/4yl3ejsahb'], ['só', 'queria', 'receber', 'o', 'email', 'da', 'puma', 'seu', 'pedido', 'está', 'sendo', 'enviado', '😔'], ['bebe', 'rexha', 'para', 'a', 'nova', 'campanha', 'da', 'puma', 'nas', 'lojas', 'deichmann', 'https//tco/kgxa8bo1gf'], ['puma_parda', 'sim', 'a', 'culpa', 'é', '75', 'do', 'governo', '25', 'do', 'cidadão'], ['puma_parda', 'amada', 'esposa', 'psicanalista', 'outro', 'dia', 'me', 'chamou', 'a', 'atenção', 'perdi', 'a', 'empatia', 'por', 'essas', 'pessoas', 'que', 'negam', 'a', 'gravidade', 'da', 'situação', 'há', 'um', 'ano', 'e', 'colocam', 'isso', 'outros', 'em', 'e', 'risco', 'simplesmente', 'perdi', 'a', 'capacidade', 'de', 'me', 'comover', 'com', 'o', 'sofrimento', 'delas', 'nunca', 'fui', 'assim', 'mas', 'fiquei'], ['essa', 'coleção', 'da', 'puma', 'do', 'neymar', 'ta', 'de', 'doer', 'o', 'coração', 'de', 'tão', 'linda'], ['apaixonada', 'por', 'um', 'tênis', 'da', 'puma', 'de', '450', 'reais', 'às', 'vezes', 'o', 'universo', 'só', 'quer', 'machucar', 'a', 'gente', 'népq', 'a', 'hora', 'que', 'tiver', 'em', 'promoção', 'malica', 'só', 'vai', 'ter', 'número', '34'], ['neymar', 'x', 'puma', 'future', 'z', '🔥', 'https//tco/os7q7mx46u'], ['a', 'puma', 'serviu', 'muito', 'nessa', 'campanha', '😎', '🤪', 'https//tco/kodwykb9wh'], ['rosita293', 'puma', 'de', 'bengala', 'como', 'diria', 'jacobo'], ['caga', 'nisso', 'puto', 'ney', 'puma', 'nem', 'pra', 'edfisica', 'se', 'usa', 'https//tco/28fovctzck'], ['ai', 'mas', 'o', 'cancelamento', 'destroi', 'a', 'vida', 'das', 'pessoaprojota', 'foi', 'cancelado', 'saiu', 'do', 'bbb', 'e', 'ja', 'ta', 'fazendo', 'publi', 'com', 'a', 'puma', 'https//tco/s9cc6tgrxx'], ['depois', 'que', 'a', 'puma', 'patrocinou', 'o', 'neymarj', 'só', 'ta', 'lançando', 'peça', 'bolada', '🥰', '💪'], ['puma_parda', 'to', 'achando', 'mesmo', 'hahaha'], ['a', 'puma', 'apresentou', 'a', 'nova', 'linha', 'neymar', 'jr', 'creativity', 'usada', 'exclusivamente', 'pelo', 'atacante', 'homenageia', 'os', 'jogadores', 'mais', 'criativos', 'e', 'ousadoscurtiram', '👍', 'https//tco/cdvlhrhy8b'], ['homemtacokkkkkk', 'capt_puma', 'robosonysta', 'windowsclubbr', '🤦', 'ptqp', 'mais', 'uma', 'anta', 'verde', '😫'], ['a', 'coreografia', 'de', 'puma', 'é', 'muito', 'boa', 'e', 'eles', 'pintam', 'unha', 'legal'], ['neymarjrdepre', 'neymar', 'vira', 'desenhista', 'da', 'puma', 'e', 'vai', 'jogar', 'no', 'vasco'], ['bom', 'demais', 'para', 'ser', 'verdade', 'quem', 'sabe', 'com', 'outra', 'marca', 'tipo', 'a', 'puma', 'https//tco/2ixvvibkmu'], ['pumabrasil', 'neymarjr', 'sacanagem', 'puma', 'no', 'site', 'brasileiro', 'não', 'tem', 'a', 'jersey', 'nem', 'a', 'jaqueta', 'https//tco/qoujdkttqe'], ['neymarjr', 'pumafootball', 'neymar', '=', 'pumapalmeiras=', 'pumaneymar', 'no', 'palmeiras', 'ja', 'eh', 'realidade'], ['saudades', 'de', 'quando', 'levava', 'lanchinho', 'pra', 'escolapão', 'puma', 'com', 'geleia', 'de', 'morango', '❤', '️'], ['i4hani', 'n9neeee', 'yasmin', 'sério', 'é', 'melhor', 'doq', 'a', 'era', 'de', 'puma'], ['puma_parda', 'e', 'não', 'é', 'por', 'falta', 'de', 'aviso'], ['e', 'hj', 'os', 'cara', 'não', 'colocaram', 'costa', 'gold', 'e', 'hariel', 'pra', 'tocar', 'no', 'shooting', 'da', 'puma', 'não', 'né'], ['neymar', 'com', 'a', 'meia', 'da', 'nike', 'dobrada', 'e', 'fazendo', 'a', 'propaganda', 'pro', 'tênis', 'da', 'puma', 'kkkkkkkkkk'], ['eu', 'e', 'o', 'maninho', 'thiagobomfim85', 'comemoração', 'do', 'meu', 'aniversário', 'na', 'associação', 'nikkei', 'do', 'rio', 'de', 'janeiro', 'no', 'festival', 'do', 'tanabata', '08/07/18yukata', 'tanabatamatsuri', 'japaneseculturelover', 'https//tco/futhdivzgo'], ['puma_parda', 'hahahahaha', 'sim', 'e', 'projetando', 'um', 'soft', 'power', 'que', 'o', 'brasil', 'nem', 'tem', 'mais', 'tô', 'encantada'], ['na', 'real', 'eu', 'quero', 'só', 'mais', 'um', 'mv', 'com', 'conceito', 'igual', 'puma', 'https//tco/iavjikmtir'], ['linda', 'é', 'essa', 'linha', 'da', 'puma', 'pro', 'neymar', 'você', 'é', 'no', 'máximo', 'arrumadinha', 'https//tco/iddqcidcwa'], ['desde', 'que', 'o', 'neymar', 'fechou', 'com', 'a', 'puma', 'foi', 'dai', 'que', 'comecei', 'a', 'desconfiar', 'desse', 'ano']]\n"
     ]
    }
   ],
   "source": [
    "# 1° for: Separar os tweets relevantes em palavras relevantes dando um split\n",
    "lista_geral_teste= [] \n",
    "for c,conteudo in enumerate (lista2_limpa):\n",
    "    lista_geral_teste.append(conteudo.split())\n",
    "    \n",
    "print(lista_geral_teste)"
   ]
  },
  {
   "cell_type": "code",
   "execution_count": 124,
   "metadata": {},
   "outputs": [
    {
     "ename": "KeyError",
     "evalue": "'0chavex0'",
     "output_type": "error",
     "traceback": [
      "\u001b[1;31m---------------------------------------------------------------------------\u001b[0m",
      "\u001b[1;31mTypeError\u001b[0m                                 Traceback (most recent call last)",
      "\u001b[1;32m~\\anaconda3\\lib\\site-packages\\pandas\\core\\indexes\\base.py\u001b[0m in \u001b[0;36mget_value\u001b[1;34m(self, series, key)\u001b[0m\n\u001b[0;32m   4410\u001b[0m             \u001b[1;32mtry\u001b[0m\u001b[1;33m:\u001b[0m\u001b[1;33m\u001b[0m\u001b[1;33m\u001b[0m\u001b[0m\n\u001b[1;32m-> 4411\u001b[1;33m                 \u001b[1;32mreturn\u001b[0m \u001b[0mlibindex\u001b[0m\u001b[1;33m.\u001b[0m\u001b[0mget_value_at\u001b[0m\u001b[1;33m(\u001b[0m\u001b[0ms\u001b[0m\u001b[1;33m,\u001b[0m \u001b[0mkey\u001b[0m\u001b[1;33m)\u001b[0m\u001b[1;33m\u001b[0m\u001b[1;33m\u001b[0m\u001b[0m\n\u001b[0m\u001b[0;32m   4412\u001b[0m             \u001b[1;32mexcept\u001b[0m \u001b[0mIndexError\u001b[0m\u001b[1;33m:\u001b[0m\u001b[1;33m\u001b[0m\u001b[1;33m\u001b[0m\u001b[0m\n",
      "\u001b[1;32mpandas\\_libs\\index.pyx\u001b[0m in \u001b[0;36mpandas._libs.index.get_value_at\u001b[1;34m()\u001b[0m\n",
      "\u001b[1;32mpandas\\_libs\\index.pyx\u001b[0m in \u001b[0;36mpandas._libs.index.get_value_at\u001b[1;34m()\u001b[0m\n",
      "\u001b[1;32mpandas\\_libs\\util.pxd\u001b[0m in \u001b[0;36mpandas._libs.util.get_value_at\u001b[1;34m()\u001b[0m\n",
      "\u001b[1;32mpandas\\_libs\\util.pxd\u001b[0m in \u001b[0;36mpandas._libs.util.validate_indexer\u001b[1;34m()\u001b[0m\n",
      "\u001b[1;31mTypeError\u001b[0m: 'str' object cannot be interpreted as an integer",
      "\nDuring handling of the above exception, another exception occurred:\n",
      "\u001b[1;31mKeyError\u001b[0m                                  Traceback (most recent call last)",
      "\u001b[1;32m<ipython-input-124-af25da89ad91>\u001b[0m in \u001b[0;36m<module>\u001b[1;34m\u001b[0m\n\u001b[0;32m      6\u001b[0m         \u001b[0mtwitter\u001b[0m\u001b[1;33m=\u001b[0m \u001b[0mconteudo\u001b[0m\u001b[1;33m[\u001b[0m\u001b[0mcont\u001b[0m\u001b[1;33m]\u001b[0m\u001b[1;33m\u001b[0m\u001b[1;33m\u001b[0m\u001b[0m\n\u001b[0;32m      7\u001b[0m \u001b[1;33m\u001b[0m\u001b[0m\n\u001b[1;32m----> 8\u001b[1;33m         \u001b[0mr\u001b[0m\u001b[1;33m*=\u001b[0m \u001b[1;33m(\u001b[0m\u001b[0mtabela_relevante\u001b[0m\u001b[1;33m[\u001b[0m\u001b[0mtwitter\u001b[0m\u001b[1;33m]\u001b[0m \u001b[1;33m+\u001b[0m \u001b[1;36m1\u001b[0m\u001b[1;33m)\u001b[0m\u001b[1;33m/\u001b[0m\u001b[1;33m(\u001b[0m \u001b[0mlen\u001b[0m\u001b[1;33m(\u001b[0m\u001b[0mtodas_palavras_relevantes\u001b[0m\u001b[1;33m)\u001b[0m \u001b[1;33m+\u001b[0m \u001b[0mtotal_P\u001b[0m\u001b[1;33m)\u001b[0m\u001b[1;33m\u001b[0m\u001b[1;33m\u001b[0m\u001b[0m\n\u001b[0m\u001b[0;32m      9\u001b[0m         \u001b[0mirr\u001b[0m\u001b[1;33m*=\u001b[0m \u001b[1;33m(\u001b[0m\u001b[0mtabela_irrelevante\u001b[0m\u001b[1;33m[\u001b[0m\u001b[0mtwitter\u001b[0m\u001b[1;33m]\u001b[0m \u001b[1;33m+\u001b[0m \u001b[1;36m1\u001b[0m\u001b[1;33m)\u001b[0m\u001b[1;33m/\u001b[0m\u001b[1;33m(\u001b[0m \u001b[0mlen\u001b[0m\u001b[1;33m(\u001b[0m\u001b[0mtodas_palavras_irrelevantes\u001b[0m\u001b[1;33m)\u001b[0m \u001b[1;33m+\u001b[0m \u001b[0mtotal_P\u001b[0m\u001b[1;33m)\u001b[0m\u001b[1;33m\u001b[0m\u001b[1;33m\u001b[0m\u001b[0m\n\u001b[0;32m     10\u001b[0m \u001b[1;33m\u001b[0m\u001b[0m\n",
      "\u001b[1;32m~\\anaconda3\\lib\\site-packages\\pandas\\core\\series.py\u001b[0m in \u001b[0;36m__getitem__\u001b[1;34m(self, key)\u001b[0m\n\u001b[0;32m    869\u001b[0m         \u001b[0mkey\u001b[0m \u001b[1;33m=\u001b[0m \u001b[0mcom\u001b[0m\u001b[1;33m.\u001b[0m\u001b[0mapply_if_callable\u001b[0m\u001b[1;33m(\u001b[0m\u001b[0mkey\u001b[0m\u001b[1;33m,\u001b[0m \u001b[0mself\u001b[0m\u001b[1;33m)\u001b[0m\u001b[1;33m\u001b[0m\u001b[1;33m\u001b[0m\u001b[0m\n\u001b[0;32m    870\u001b[0m         \u001b[1;32mtry\u001b[0m\u001b[1;33m:\u001b[0m\u001b[1;33m\u001b[0m\u001b[1;33m\u001b[0m\u001b[0m\n\u001b[1;32m--> 871\u001b[1;33m             \u001b[0mresult\u001b[0m \u001b[1;33m=\u001b[0m \u001b[0mself\u001b[0m\u001b[1;33m.\u001b[0m\u001b[0mindex\u001b[0m\u001b[1;33m.\u001b[0m\u001b[0mget_value\u001b[0m\u001b[1;33m(\u001b[0m\u001b[0mself\u001b[0m\u001b[1;33m,\u001b[0m \u001b[0mkey\u001b[0m\u001b[1;33m)\u001b[0m\u001b[1;33m\u001b[0m\u001b[1;33m\u001b[0m\u001b[0m\n\u001b[0m\u001b[0;32m    872\u001b[0m \u001b[1;33m\u001b[0m\u001b[0m\n\u001b[0;32m    873\u001b[0m             \u001b[1;32mif\u001b[0m \u001b[1;32mnot\u001b[0m \u001b[0mis_scalar\u001b[0m\u001b[1;33m(\u001b[0m\u001b[0mresult\u001b[0m\u001b[1;33m)\u001b[0m\u001b[1;33m:\u001b[0m\u001b[1;33m\u001b[0m\u001b[1;33m\u001b[0m\u001b[0m\n",
      "\u001b[1;32m~\\anaconda3\\lib\\site-packages\\pandas\\core\\indexes\\base.py\u001b[0m in \u001b[0;36mget_value\u001b[1;34m(self, series, key)\u001b[0m\n\u001b[0;32m   4417\u001b[0m                     \u001b[1;32mraise\u001b[0m \u001b[0mInvalidIndexError\u001b[0m\u001b[1;33m(\u001b[0m\u001b[0mkey\u001b[0m\u001b[1;33m)\u001b[0m\u001b[1;33m\u001b[0m\u001b[1;33m\u001b[0m\u001b[0m\n\u001b[0;32m   4418\u001b[0m                 \u001b[1;32melse\u001b[0m\u001b[1;33m:\u001b[0m\u001b[1;33m\u001b[0m\u001b[1;33m\u001b[0m\u001b[0m\n\u001b[1;32m-> 4419\u001b[1;33m                     \u001b[1;32mraise\u001b[0m \u001b[0me1\u001b[0m\u001b[1;33m\u001b[0m\u001b[1;33m\u001b[0m\u001b[0m\n\u001b[0m\u001b[0;32m   4420\u001b[0m             \u001b[1;32mexcept\u001b[0m \u001b[0mException\u001b[0m\u001b[1;33m:\u001b[0m\u001b[1;33m\u001b[0m\u001b[1;33m\u001b[0m\u001b[0m\n\u001b[0;32m   4421\u001b[0m                 \u001b[1;32mraise\u001b[0m \u001b[0me1\u001b[0m\u001b[1;33m\u001b[0m\u001b[1;33m\u001b[0m\u001b[0m\n",
      "\u001b[1;32m~\\anaconda3\\lib\\site-packages\\pandas\\core\\indexes\\base.py\u001b[0m in \u001b[0;36mget_value\u001b[1;34m(self, series, key)\u001b[0m\n\u001b[0;32m   4403\u001b[0m         \u001b[0mk\u001b[0m \u001b[1;33m=\u001b[0m \u001b[0mself\u001b[0m\u001b[1;33m.\u001b[0m\u001b[0m_convert_scalar_indexer\u001b[0m\u001b[1;33m(\u001b[0m\u001b[0mk\u001b[0m\u001b[1;33m,\u001b[0m \u001b[0mkind\u001b[0m\u001b[1;33m=\u001b[0m\u001b[1;34m\"getitem\"\u001b[0m\u001b[1;33m)\u001b[0m\u001b[1;33m\u001b[0m\u001b[1;33m\u001b[0m\u001b[0m\n\u001b[0;32m   4404\u001b[0m         \u001b[1;32mtry\u001b[0m\u001b[1;33m:\u001b[0m\u001b[1;33m\u001b[0m\u001b[1;33m\u001b[0m\u001b[0m\n\u001b[1;32m-> 4405\u001b[1;33m             \u001b[1;32mreturn\u001b[0m \u001b[0mself\u001b[0m\u001b[1;33m.\u001b[0m\u001b[0m_engine\u001b[0m\u001b[1;33m.\u001b[0m\u001b[0mget_value\u001b[0m\u001b[1;33m(\u001b[0m\u001b[0ms\u001b[0m\u001b[1;33m,\u001b[0m \u001b[0mk\u001b[0m\u001b[1;33m,\u001b[0m \u001b[0mtz\u001b[0m\u001b[1;33m=\u001b[0m\u001b[0mgetattr\u001b[0m\u001b[1;33m(\u001b[0m\u001b[0mseries\u001b[0m\u001b[1;33m.\u001b[0m\u001b[0mdtype\u001b[0m\u001b[1;33m,\u001b[0m \u001b[1;34m\"tz\"\u001b[0m\u001b[1;33m,\u001b[0m \u001b[1;32mNone\u001b[0m\u001b[1;33m)\u001b[0m\u001b[1;33m)\u001b[0m\u001b[1;33m\u001b[0m\u001b[1;33m\u001b[0m\u001b[0m\n\u001b[0m\u001b[0;32m   4406\u001b[0m         \u001b[1;32mexcept\u001b[0m \u001b[0mKeyError\u001b[0m \u001b[1;32mas\u001b[0m \u001b[0me1\u001b[0m\u001b[1;33m:\u001b[0m\u001b[1;33m\u001b[0m\u001b[1;33m\u001b[0m\u001b[0m\n\u001b[0;32m   4407\u001b[0m             \u001b[1;32mif\u001b[0m \u001b[0mlen\u001b[0m\u001b[1;33m(\u001b[0m\u001b[0mself\u001b[0m\u001b[1;33m)\u001b[0m \u001b[1;33m>\u001b[0m \u001b[1;36m0\u001b[0m \u001b[1;32mand\u001b[0m \u001b[1;33m(\u001b[0m\u001b[0mself\u001b[0m\u001b[1;33m.\u001b[0m\u001b[0mholds_integer\u001b[0m\u001b[1;33m(\u001b[0m\u001b[1;33m)\u001b[0m \u001b[1;32mor\u001b[0m \u001b[0mself\u001b[0m\u001b[1;33m.\u001b[0m\u001b[0mis_boolean\u001b[0m\u001b[1;33m(\u001b[0m\u001b[1;33m)\u001b[0m\u001b[1;33m)\u001b[0m\u001b[1;33m:\u001b[0m\u001b[1;33m\u001b[0m\u001b[1;33m\u001b[0m\u001b[0m\n",
      "\u001b[1;32mpandas\\_libs\\index.pyx\u001b[0m in \u001b[0;36mpandas._libs.index.IndexEngine.get_value\u001b[1;34m()\u001b[0m\n",
      "\u001b[1;32mpandas\\_libs\\index.pyx\u001b[0m in \u001b[0;36mpandas._libs.index.IndexEngine.get_value\u001b[1;34m()\u001b[0m\n",
      "\u001b[1;32mpandas\\_libs\\index.pyx\u001b[0m in \u001b[0;36mpandas._libs.index.IndexEngine.get_loc\u001b[1;34m()\u001b[0m\n",
      "\u001b[1;32mpandas\\_libs\\hashtable_class_helper.pxi\u001b[0m in \u001b[0;36mpandas._libs.hashtable.PyObjectHashTable.get_item\u001b[1;34m()\u001b[0m\n",
      "\u001b[1;32mpandas\\_libs\\hashtable_class_helper.pxi\u001b[0m in \u001b[0;36mpandas._libs.hashtable.PyObjectHashTable.get_item\u001b[1;34m()\u001b[0m\n",
      "\u001b[1;31mKeyError\u001b[0m: '0chavex0'"
     ]
    }
   ],
   "source": [
    "r =1\n",
    "irr = 1\n",
    "for index, conteudo in enumerate(lista_geral_teste):\n",
    "    cont=0\n",
    "    while cont < len(lista_geral_teste[index]):\n",
    "        twitter= conteudo[cont]\n",
    "        \n",
    "        r*= (tabela_relevante[twitter] + 1)/( len(todas_palavras_relevantes) + total_P)\n",
    "        irr*= (tabela_irrelevante[twitter] + 1)/( len(todas_palavras_irrelevantes) + total_P)\n",
    "                                                 \n",
    "        print(twitter)\n",
    "        cont+=1\n",
    "print(r)\n",
    "print(irr)"
   ]
  },
  {
   "cell_type": "code",
   "execution_count": null,
   "metadata": {},
   "outputs": [],
   "source": []
  },
  {
   "cell_type": "code",
   "execution_count": null,
   "metadata": {},
   "outputs": [],
   "source": []
  },
  {
   "cell_type": "markdown",
   "metadata": {},
   "source": [
    "___\n",
    "\n",
    "### Concluindo\n"
   ]
  },
  {
   "cell_type": "code",
   "execution_count": null,
   "metadata": {},
   "outputs": [],
   "source": []
  },
  {
   "cell_type": "code",
   "execution_count": null,
   "metadata": {},
   "outputs": [],
   "source": []
  },
  {
   "cell_type": "code",
   "execution_count": null,
   "metadata": {},
   "outputs": [],
   "source": []
  },
  {
   "cell_type": "markdown",
   "metadata": {},
   "source": [
    "___\n",
    "### Qualidade do Classificador a partir de novas separações dos tweets entre Treinamento e Teste\n",
    "\n",
    "Caso for fazer esse item do Projeto"
   ]
  },
  {
   "cell_type": "code",
   "execution_count": null,
   "metadata": {},
   "outputs": [],
   "source": []
  },
  {
   "cell_type": "code",
   "execution_count": null,
   "metadata": {},
   "outputs": [],
   "source": []
  },
  {
   "cell_type": "code",
   "execution_count": null,
   "metadata": {},
   "outputs": [],
   "source": []
  },
  {
   "cell_type": "markdown",
   "metadata": {},
   "source": [
    "___\n",
    "## Aperfeiçoamento:\n",
    "\n",
    "Os trabalhos vão evoluir em conceito dependendo da quantidade de itens avançados:\n",
    "\n",
    "* Limpar: \\n, :, \", ', (, ), etc SEM remover emojis\n",
    "* Corrigir separação de espaços entre palavras e emojis ou entre emojis e emojis\n",
    "* Propor outras limpezas e transformações que não afetem a qualidade da informação ou classificação\n",
    "* Criar categorias intermediárias de relevância baseadas na probabilidade: ex.: muito relevante, relevante, neutro, irrelevante, muito irrelevante (3 categorias: C, mais categorias conta para B)\n",
    "* Explicar por que não posso usar o próprio classificador para gerar mais amostras de treinamento\n",
    "* Propor diferentes cenários para Naïve Bayes fora do contexto do projeto\n",
    "* Sugerir e explicar melhorias reais com indicações concretas de como implementar (indicar como fazer e indicar material de pesquisa)\n"
   ]
  },
  {
   "cell_type": "markdown",
   "metadata": {},
   "source": [
    "___\n",
    "## Referências"
   ]
  },
  {
   "cell_type": "markdown",
   "metadata": {},
   "source": [
    "[Naive Bayes and Text Classification](https://arxiv.org/pdf/1410.5329.pdf)  **Mais completo**\n",
    "\n",
    "[A practical explanation of a Naive Bayes Classifier](https://monkeylearn.com/blog/practical-explanation-naive-bayes-classifier/) **Mais simples**"
   ]
  },
  {
   "cell_type": "code",
   "execution_count": 69,
   "metadata": {},
   "outputs": [
    {
     "data": {
      "text/plain": [
       "[o, neymar, neymar, inovou, inovou, inovou]    1\n",
       "[o, neymar, patrocina, a, puma, inovou]        1\n",
       "dtype: int64"
      ]
     },
     "execution_count": 69,
     "metadata": {},
     "output_type": "execute_result"
    }
   ],
   "source": [
    "Geral= [ [ 'o', 'neymar', 'neymar', 'inovou','inovou','inovou'], [ 'o', 'neymar', 'patrocina', 'a','puma','inovou']] \n",
    "Geral_1= pd.Series(Geral)\n",
    "tabela_absoluta = Geral_1.value_counts()\n",
    "tabela_absoluta"
   ]
  },
  {
   "cell_type": "code",
   "execution_count": 126,
   "metadata": {},
   "outputs": [
    {
     "name": "stdout",
     "output_type": "stream",
     "text": [
      "o\n",
      "neymar\n",
      "neymar\n"
     ]
    },
    {
     "ename": "KeyError",
     "evalue": "'inovou'",
     "output_type": "error",
     "traceback": [
      "\u001b[1;31m---------------------------------------------------------------------------\u001b[0m",
      "\u001b[1;31mTypeError\u001b[0m                                 Traceback (most recent call last)",
      "\u001b[1;32m~\\anaconda3\\lib\\site-packages\\pandas\\core\\indexes\\base.py\u001b[0m in \u001b[0;36mget_value\u001b[1;34m(self, series, key)\u001b[0m\n\u001b[0;32m   4410\u001b[0m             \u001b[1;32mtry\u001b[0m\u001b[1;33m:\u001b[0m\u001b[1;33m\u001b[0m\u001b[1;33m\u001b[0m\u001b[0m\n\u001b[1;32m-> 4411\u001b[1;33m                 \u001b[1;32mreturn\u001b[0m \u001b[0mlibindex\u001b[0m\u001b[1;33m.\u001b[0m\u001b[0mget_value_at\u001b[0m\u001b[1;33m(\u001b[0m\u001b[0ms\u001b[0m\u001b[1;33m,\u001b[0m \u001b[0mkey\u001b[0m\u001b[1;33m)\u001b[0m\u001b[1;33m\u001b[0m\u001b[1;33m\u001b[0m\u001b[0m\n\u001b[0m\u001b[0;32m   4412\u001b[0m             \u001b[1;32mexcept\u001b[0m \u001b[0mIndexError\u001b[0m\u001b[1;33m:\u001b[0m\u001b[1;33m\u001b[0m\u001b[1;33m\u001b[0m\u001b[0m\n",
      "\u001b[1;32mpandas\\_libs\\index.pyx\u001b[0m in \u001b[0;36mpandas._libs.index.get_value_at\u001b[1;34m()\u001b[0m\n",
      "\u001b[1;32mpandas\\_libs\\index.pyx\u001b[0m in \u001b[0;36mpandas._libs.index.get_value_at\u001b[1;34m()\u001b[0m\n",
      "\u001b[1;32mpandas\\_libs\\util.pxd\u001b[0m in \u001b[0;36mpandas._libs.util.get_value_at\u001b[1;34m()\u001b[0m\n",
      "\u001b[1;32mpandas\\_libs\\util.pxd\u001b[0m in \u001b[0;36mpandas._libs.util.validate_indexer\u001b[1;34m()\u001b[0m\n",
      "\u001b[1;31mTypeError\u001b[0m: 'str' object cannot be interpreted as an integer",
      "\nDuring handling of the above exception, another exception occurred:\n",
      "\u001b[1;31mKeyError\u001b[0m                                  Traceback (most recent call last)",
      "\u001b[1;32m<ipython-input-126-f3c6bd86b365>\u001b[0m in \u001b[0;36m<module>\u001b[1;34m\u001b[0m\n\u001b[0;32m     14\u001b[0m \u001b[1;33m\u001b[0m\u001b[0m\n\u001b[0;32m     15\u001b[0m         \u001b[0mr\u001b[0m\u001b[1;33m*=\u001b[0m \u001b[1;33m(\u001b[0m\u001b[0mtabela_relevante\u001b[0m\u001b[1;33m[\u001b[0m\u001b[0mtwitter\u001b[0m\u001b[1;33m]\u001b[0m \u001b[1;33m+\u001b[0m \u001b[1;36m1\u001b[0m\u001b[1;33m)\u001b[0m\u001b[1;33m/\u001b[0m\u001b[1;33m(\u001b[0m \u001b[0mlen\u001b[0m\u001b[1;33m(\u001b[0m\u001b[0mtodas_palavras_relevantes\u001b[0m\u001b[1;33m)\u001b[0m \u001b[1;33m+\u001b[0m\u001b[0mtotal_P\u001b[0m\u001b[1;33m)\u001b[0m\u001b[1;33m\u001b[0m\u001b[1;33m\u001b[0m\u001b[0m\n\u001b[1;32m---> 16\u001b[1;33m         \u001b[0mirr\u001b[0m\u001b[1;33m*=\u001b[0m \u001b[1;33m(\u001b[0m\u001b[0mtabela_irrelevante\u001b[0m\u001b[1;33m[\u001b[0m\u001b[0mtwitter\u001b[0m\u001b[1;33m]\u001b[0m \u001b[1;33m+\u001b[0m \u001b[1;36m1\u001b[0m\u001b[1;33m)\u001b[0m\u001b[1;33m/\u001b[0m\u001b[1;33m(\u001b[0m \u001b[0mlen\u001b[0m\u001b[1;33m(\u001b[0m\u001b[0mtodas_palavras_irrelevantes\u001b[0m\u001b[1;33m)\u001b[0m \u001b[1;33m+\u001b[0m\u001b[0mtotal_P\u001b[0m \u001b[1;33m)\u001b[0m\u001b[1;33m\u001b[0m\u001b[1;33m\u001b[0m\u001b[0m\n\u001b[0m\u001b[0;32m     17\u001b[0m \u001b[1;33m\u001b[0m\u001b[0m\n\u001b[0;32m     18\u001b[0m         \u001b[0mprint\u001b[0m\u001b[1;33m(\u001b[0m\u001b[0mtwitter\u001b[0m\u001b[1;33m)\u001b[0m\u001b[1;33m\u001b[0m\u001b[1;33m\u001b[0m\u001b[0m\n",
      "\u001b[1;32m~\\anaconda3\\lib\\site-packages\\pandas\\core\\series.py\u001b[0m in \u001b[0;36m__getitem__\u001b[1;34m(self, key)\u001b[0m\n\u001b[0;32m    869\u001b[0m         \u001b[0mkey\u001b[0m \u001b[1;33m=\u001b[0m \u001b[0mcom\u001b[0m\u001b[1;33m.\u001b[0m\u001b[0mapply_if_callable\u001b[0m\u001b[1;33m(\u001b[0m\u001b[0mkey\u001b[0m\u001b[1;33m,\u001b[0m \u001b[0mself\u001b[0m\u001b[1;33m)\u001b[0m\u001b[1;33m\u001b[0m\u001b[1;33m\u001b[0m\u001b[0m\n\u001b[0;32m    870\u001b[0m         \u001b[1;32mtry\u001b[0m\u001b[1;33m:\u001b[0m\u001b[1;33m\u001b[0m\u001b[1;33m\u001b[0m\u001b[0m\n\u001b[1;32m--> 871\u001b[1;33m             \u001b[0mresult\u001b[0m \u001b[1;33m=\u001b[0m \u001b[0mself\u001b[0m\u001b[1;33m.\u001b[0m\u001b[0mindex\u001b[0m\u001b[1;33m.\u001b[0m\u001b[0mget_value\u001b[0m\u001b[1;33m(\u001b[0m\u001b[0mself\u001b[0m\u001b[1;33m,\u001b[0m \u001b[0mkey\u001b[0m\u001b[1;33m)\u001b[0m\u001b[1;33m\u001b[0m\u001b[1;33m\u001b[0m\u001b[0m\n\u001b[0m\u001b[0;32m    872\u001b[0m \u001b[1;33m\u001b[0m\u001b[0m\n\u001b[0;32m    873\u001b[0m             \u001b[1;32mif\u001b[0m \u001b[1;32mnot\u001b[0m \u001b[0mis_scalar\u001b[0m\u001b[1;33m(\u001b[0m\u001b[0mresult\u001b[0m\u001b[1;33m)\u001b[0m\u001b[1;33m:\u001b[0m\u001b[1;33m\u001b[0m\u001b[1;33m\u001b[0m\u001b[0m\n",
      "\u001b[1;32m~\\anaconda3\\lib\\site-packages\\pandas\\core\\indexes\\base.py\u001b[0m in \u001b[0;36mget_value\u001b[1;34m(self, series, key)\u001b[0m\n\u001b[0;32m   4417\u001b[0m                     \u001b[1;32mraise\u001b[0m \u001b[0mInvalidIndexError\u001b[0m\u001b[1;33m(\u001b[0m\u001b[0mkey\u001b[0m\u001b[1;33m)\u001b[0m\u001b[1;33m\u001b[0m\u001b[1;33m\u001b[0m\u001b[0m\n\u001b[0;32m   4418\u001b[0m                 \u001b[1;32melse\u001b[0m\u001b[1;33m:\u001b[0m\u001b[1;33m\u001b[0m\u001b[1;33m\u001b[0m\u001b[0m\n\u001b[1;32m-> 4419\u001b[1;33m                     \u001b[1;32mraise\u001b[0m \u001b[0me1\u001b[0m\u001b[1;33m\u001b[0m\u001b[1;33m\u001b[0m\u001b[0m\n\u001b[0m\u001b[0;32m   4420\u001b[0m             \u001b[1;32mexcept\u001b[0m \u001b[0mException\u001b[0m\u001b[1;33m:\u001b[0m\u001b[1;33m\u001b[0m\u001b[1;33m\u001b[0m\u001b[0m\n\u001b[0;32m   4421\u001b[0m                 \u001b[1;32mraise\u001b[0m \u001b[0me1\u001b[0m\u001b[1;33m\u001b[0m\u001b[1;33m\u001b[0m\u001b[0m\n",
      "\u001b[1;32m~\\anaconda3\\lib\\site-packages\\pandas\\core\\indexes\\base.py\u001b[0m in \u001b[0;36mget_value\u001b[1;34m(self, series, key)\u001b[0m\n\u001b[0;32m   4403\u001b[0m         \u001b[0mk\u001b[0m \u001b[1;33m=\u001b[0m \u001b[0mself\u001b[0m\u001b[1;33m.\u001b[0m\u001b[0m_convert_scalar_indexer\u001b[0m\u001b[1;33m(\u001b[0m\u001b[0mk\u001b[0m\u001b[1;33m,\u001b[0m \u001b[0mkind\u001b[0m\u001b[1;33m=\u001b[0m\u001b[1;34m\"getitem\"\u001b[0m\u001b[1;33m)\u001b[0m\u001b[1;33m\u001b[0m\u001b[1;33m\u001b[0m\u001b[0m\n\u001b[0;32m   4404\u001b[0m         \u001b[1;32mtry\u001b[0m\u001b[1;33m:\u001b[0m\u001b[1;33m\u001b[0m\u001b[1;33m\u001b[0m\u001b[0m\n\u001b[1;32m-> 4405\u001b[1;33m             \u001b[1;32mreturn\u001b[0m \u001b[0mself\u001b[0m\u001b[1;33m.\u001b[0m\u001b[0m_engine\u001b[0m\u001b[1;33m.\u001b[0m\u001b[0mget_value\u001b[0m\u001b[1;33m(\u001b[0m\u001b[0ms\u001b[0m\u001b[1;33m,\u001b[0m \u001b[0mk\u001b[0m\u001b[1;33m,\u001b[0m \u001b[0mtz\u001b[0m\u001b[1;33m=\u001b[0m\u001b[0mgetattr\u001b[0m\u001b[1;33m(\u001b[0m\u001b[0mseries\u001b[0m\u001b[1;33m.\u001b[0m\u001b[0mdtype\u001b[0m\u001b[1;33m,\u001b[0m \u001b[1;34m\"tz\"\u001b[0m\u001b[1;33m,\u001b[0m \u001b[1;32mNone\u001b[0m\u001b[1;33m)\u001b[0m\u001b[1;33m)\u001b[0m\u001b[1;33m\u001b[0m\u001b[1;33m\u001b[0m\u001b[0m\n\u001b[0m\u001b[0;32m   4406\u001b[0m         \u001b[1;32mexcept\u001b[0m \u001b[0mKeyError\u001b[0m \u001b[1;32mas\u001b[0m \u001b[0me1\u001b[0m\u001b[1;33m:\u001b[0m\u001b[1;33m\u001b[0m\u001b[1;33m\u001b[0m\u001b[0m\n\u001b[0;32m   4407\u001b[0m             \u001b[1;32mif\u001b[0m \u001b[0mlen\u001b[0m\u001b[1;33m(\u001b[0m\u001b[0mself\u001b[0m\u001b[1;33m)\u001b[0m \u001b[1;33m>\u001b[0m \u001b[1;36m0\u001b[0m \u001b[1;32mand\u001b[0m \u001b[1;33m(\u001b[0m\u001b[0mself\u001b[0m\u001b[1;33m.\u001b[0m\u001b[0mholds_integer\u001b[0m\u001b[1;33m(\u001b[0m\u001b[1;33m)\u001b[0m \u001b[1;32mor\u001b[0m \u001b[0mself\u001b[0m\u001b[1;33m.\u001b[0m\u001b[0mis_boolean\u001b[0m\u001b[1;33m(\u001b[0m\u001b[1;33m)\u001b[0m\u001b[1;33m)\u001b[0m\u001b[1;33m:\u001b[0m\u001b[1;33m\u001b[0m\u001b[1;33m\u001b[0m\u001b[0m\n",
      "\u001b[1;32mpandas\\_libs\\index.pyx\u001b[0m in \u001b[0;36mpandas._libs.index.IndexEngine.get_value\u001b[1;34m()\u001b[0m\n",
      "\u001b[1;32mpandas\\_libs\\index.pyx\u001b[0m in \u001b[0;36mpandas._libs.index.IndexEngine.get_value\u001b[1;34m()\u001b[0m\n",
      "\u001b[1;32mpandas\\_libs\\index.pyx\u001b[0m in \u001b[0;36mpandas._libs.index.IndexEngine.get_loc\u001b[1;34m()\u001b[0m\n",
      "\u001b[1;32mpandas\\_libs\\hashtable_class_helper.pxi\u001b[0m in \u001b[0;36mpandas._libs.hashtable.PyObjectHashTable.get_item\u001b[1;34m()\u001b[0m\n",
      "\u001b[1;32mpandas\\_libs\\hashtable_class_helper.pxi\u001b[0m in \u001b[0;36mpandas._libs.hashtable.PyObjectHashTable.get_item\u001b[1;34m()\u001b[0m\n",
      "\u001b[1;31mKeyError\u001b[0m: 'inovou'"
     ]
    }
   ],
   "source": [
    "r =1\n",
    "irr = 1\n",
    "for index, conteudo in enumerate(Geral): \n",
    "    cont=0\n",
    "    while cont < len(Geral[index]):\n",
    "        twitter= conteudo[cont]\n",
    "        \n",
    "        r*= (tabela_relevante[twitter] + 1)/( len(todas_palavras_relevantes) + total_P)\n",
    "        irr*= (tabela_irrelevante[twitter] + 1)/( len(todas_palavras_irrelevantes) + total_P )\n",
    "                                                 \n",
    "        print(twitter)\n",
    "        cont+=1\n",
    "print(r)\n",
    "print(irr)\n"
   ]
  },
  {
   "cell_type": "code",
   "execution_count": null,
   "metadata": {},
   "outputs": [],
   "source": []
  }
 ],
 "metadata": {
  "kernelspec": {
   "display_name": "Python 3",
   "language": "python",
   "name": "python3"
  },
  "language_info": {
   "codemirror_mode": {
    "name": "ipython",
    "version": 3
   },
   "file_extension": ".py",
   "mimetype": "text/x-python",
   "name": "python",
   "nbconvert_exporter": "python",
   "pygments_lexer": "ipython3",
   "version": "3.8.3"
  }
 },
 "nbformat": 4,
 "nbformat_minor": 4
}
