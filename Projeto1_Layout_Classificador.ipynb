{
 "cells": [
  {
   "cell_type": "markdown",
   "metadata": {},
   "source": [
    "# Projeto 1 - Ciência dos Dados"
   ]
  },
  {
   "cell_type": "markdown",
   "metadata": {},
   "source": [
    "Nome: Rodrigo de Lima Azeredo\n",
    "\n",
    "Nome: Ykaro de Sousa Andrade"
   ]
  },
  {
   "cell_type": "markdown",
   "metadata": {},
   "source": [
    "Atenção: Serão permitidos grupos de três pessoas, mas com uma rubrica mais exigente. Grupos deste tamanho precisarão fazer um questionário de avaliação de trabalho em equipe"
   ]
  },
  {
   "cell_type": "markdown",
   "metadata": {},
   "source": [
    "___\n",
    "Carregando algumas bibliotecas:"
   ]
  },
  {
   "cell_type": "code",
   "execution_count": 1,
   "metadata": {},
   "outputs": [],
   "source": [
    "#importando bibliotecas\n",
    "%matplotlib inline\n",
    "import pandas as pd\n",
    "import matplotlib.pyplot as plt\n",
    "import numpy as np\n",
    "import os\n",
    "from IPython.display import display\n",
    "pd.options.display.max_rows = 13\n",
    "import emoji\n",
    "import re"
   ]
  },
  {
   "cell_type": "code",
   "execution_count": 2,
   "metadata": {
    "scrolled": true
   },
   "outputs": [
    {
     "name": "stdout",
     "output_type": "stream",
     "text": [
      "Esperamos trabalhar no diretório\n",
      "C:\\Users\\Rodrigo Lima\\Documents\\Cdados\\Projeto\\projet1cdados\n"
     ]
    }
   ],
   "source": [
    "print('Esperamos trabalhar no diretório')\n",
    "print(os.getcwd())"
   ]
  },
  {
   "cell_type": "code",
   "execution_count": 3,
   "metadata": {},
   "outputs": [],
   "source": [
    "# definindo função de limpeza dos caracteres dos tweets\n",
    "\n",
    "def cleanup(text):\n",
    "    \"\"\"\n",
    "        Função de limpeza muito simples que troca alguns sinais básicos por espaços\n",
    "    \"\"\"\n",
    "    #import string\n",
    "    punctuation = '[!-.:?;\\n)(*$#@''\"\"]' # Note que os sinais [] são delimitadores de um conjunto.\n",
    "    pattern = re.compile(punctuation)\n",
    "    text_subbed = re.sub(pattern, '', text)\n",
    "    text_subbed = emoji.get_emoji_regexp().split(text_subbed) #emoji\n",
    "    return ' '.join(text_subbed)"
   ]
  },
  {
   "cell_type": "markdown",
   "metadata": {},
   "source": [
    "Carregando a base de dados com os tweets classificados como relevantes e não relevantes:"
   ]
  },
  {
   "cell_type": "code",
   "execution_count": 4,
   "metadata": {},
   "outputs": [],
   "source": [
    "filename = 'puma.xlsx'"
   ]
  },
  {
   "cell_type": "code",
   "execution_count": 5,
   "metadata": {},
   "outputs": [
    {
     "data": {
      "text/html": [
       "<div>\n",
       "<style scoped>\n",
       "    .dataframe tbody tr th:only-of-type {\n",
       "        vertical-align: middle;\n",
       "    }\n",
       "\n",
       "    .dataframe tbody tr th {\n",
       "        vertical-align: top;\n",
       "    }\n",
       "\n",
       "    .dataframe thead th {\n",
       "        text-align: right;\n",
       "    }\n",
       "</style>\n",
       "<table border=\"1\" class=\"dataframe\">\n",
       "  <thead>\n",
       "    <tr style=\"text-align: right;\">\n",
       "      <th></th>\n",
       "      <th>Treinamento</th>\n",
       "      <th>Irrelevante 0 / Relevante 1</th>\n",
       "    </tr>\n",
       "  </thead>\n",
       "  <tbody>\n",
       "    <tr>\n",
       "      <th>0</th>\n",
       "      <td>o neymar inovou a puma https://t.co/qtcuvd1svj</td>\n",
       "      <td>1</td>\n",
       "    </tr>\n",
       "    <tr>\n",
       "      <th>1</th>\n",
       "      <td>a @puma tá deitando nas chuteiras do neymar, m...</td>\n",
       "      <td>1</td>\n",
       "    </tr>\n",
       "    <tr>\n",
       "      <th>2</th>\n",
       "      <td>fico assim no da puma affss https://t.co/1ygyh...</td>\n",
       "      <td>0</td>\n",
       "    </tr>\n",
       "    <tr>\n",
       "      <th>3</th>\n",
       "      <td>@g_estrella__ puma tá aí , mas três listra tá ...</td>\n",
       "      <td>1</td>\n",
       "    </tr>\n",
       "    <tr>\n",
       "      <th>4</th>\n",
       "      <td>@0ketlyn_s eu acho que um puma ^^</td>\n",
       "      <td>0</td>\n",
       "    </tr>\n",
       "  </tbody>\n",
       "</table>\n",
       "</div>"
      ],
      "text/plain": [
       "                                         Treinamento  \\\n",
       "0     o neymar inovou a puma https://t.co/qtcuvd1svj   \n",
       "1  a @puma tá deitando nas chuteiras do neymar, m...   \n",
       "2  fico assim no da puma affss https://t.co/1ygyh...   \n",
       "3  @g_estrella__ puma tá aí , mas três listra tá ...   \n",
       "4                  @0ketlyn_s eu acho que um puma ^^   \n",
       "\n",
       "   Irrelevante 0 / Relevante 1  \n",
       "0                            1  \n",
       "1                            1  \n",
       "2                            0  \n",
       "3                            1  \n",
       "4                            0  "
      ]
     },
     "execution_count": 5,
     "metadata": {},
     "output_type": "execute_result"
    }
   ],
   "source": [
    "train = pd.read_excel(filename)\n",
    "train.head(5)"
   ]
  },
  {
   "cell_type": "code",
   "execution_count": 6,
   "metadata": {},
   "outputs": [
    {
     "data": {
      "text/html": [
       "<div>\n",
       "<style scoped>\n",
       "    .dataframe tbody tr th:only-of-type {\n",
       "        vertical-align: middle;\n",
       "    }\n",
       "\n",
       "    .dataframe tbody tr th {\n",
       "        vertical-align: top;\n",
       "    }\n",
       "\n",
       "    .dataframe thead th {\n",
       "        text-align: right;\n",
       "    }\n",
       "</style>\n",
       "<table border=\"1\" class=\"dataframe\">\n",
       "  <thead>\n",
       "    <tr style=\"text-align: right;\">\n",
       "      <th></th>\n",
       "      <th>Teste</th>\n",
       "      <th>Irrelevante 0 / Relevante 1</th>\n",
       "    </tr>\n",
       "  </thead>\n",
       "  <tbody>\n",
       "    <tr>\n",
       "      <th>0</th>\n",
       "      <td>@0chavex0 @ornate_puma vdd to resfriado</td>\n",
       "      <td>0</td>\n",
       "    </tr>\n",
       "    <tr>\n",
       "      <th>1</th>\n",
       "      <td>📽 neymar e puma 👀❤!!\\ntemos novidades vindo aí...</td>\n",
       "      <td>1</td>\n",
       "    </tr>\n",
       "    <tr>\n",
       "      <th>2</th>\n",
       "      <td>@brgmsch mas a puma nem patrocina a aston</td>\n",
       "      <td>0</td>\n",
       "    </tr>\n",
       "    <tr>\n",
       "      <th>3</th>\n",
       "      <td>📽 puma neymar jr creativity  a inovadora chute...</td>\n",
       "      <td>1</td>\n",
       "    </tr>\n",
       "    <tr>\n",
       "      <th>4</th>\n",
       "      <td>a puma tá a evoluir muito, quem me dera que o ...</td>\n",
       "      <td>1</td>\n",
       "    </tr>\n",
       "  </tbody>\n",
       "</table>\n",
       "</div>"
      ],
      "text/plain": [
       "                                               Teste  \\\n",
       "0            @0chavex0 @ornate_puma vdd to resfriado   \n",
       "1  📽 neymar e puma 👀❤!!\\ntemos novidades vindo aí...   \n",
       "2          @brgmsch mas a puma nem patrocina a aston   \n",
       "3  📽 puma neymar jr creativity  a inovadora chute...   \n",
       "4  a puma tá a evoluir muito, quem me dera que o ...   \n",
       "\n",
       "   Irrelevante 0 / Relevante 1  \n",
       "0                            0  \n",
       "1                            1  \n",
       "2                            0  \n",
       "3                            1  \n",
       "4                            1  "
      ]
     },
     "execution_count": 6,
     "metadata": {},
     "output_type": "execute_result"
    }
   ],
   "source": [
    "test = pd.read_excel(filename, sheet_name = 'Teste')\n",
    "test.head(5)"
   ]
  },
  {
   "cell_type": "markdown",
   "metadata": {},
   "source": [
    "___\n",
    "## Classificador automático de sentimento\n"
   ]
  },
  {
   "cell_type": "markdown",
   "metadata": {},
   "source": [
    "Faça aqui uma descrição do seu produto e o que considerou como relevante ou não relevante na classificação dos tweets.\n",
    "\n",
    "Para nosso projeto escolhemos a marca de roupas Puma. A partir disso definimos como premissa que os tweets relevantes seriam aqueles que exaltavam a marca em seus comentários, em contra partida os tweets irrelevantes seriam todos os outros, ou seja os que não tinham relação direta com a marca e/ou falavam mal da Puma.\n",
    "\n",
    "###\n",
    "Para nossa análise, escolhemos a marca Puma, onde nessa análise foi pego como tweets relevantes, todos aqueles que enaltecia a marca, tais twitts como: Falando o quanto a marca é boa e o quanto a mesma está crescendo no mercado.\n",
    "E qualificou-se como irrelevante os  tweets que rebaixava a marca ou os que realmente não tinha haver com a marca.\n"
   ]
  },
  {
   "cell_type": "markdown",
   "metadata": {},
   "source": [
    "___\n",
    "### Montando um Classificador Naive-Bayes\n",
    "\n",
    "Considerando apenas as mensagens da planilha Treinamento, ensine  seu classificador."
   ]
  },
  {
   "cell_type": "code",
   "execution_count": 7,
   "metadata": {},
   "outputs": [
    {
     "data": {
      "text/html": [
       "<div>\n",
       "<style scoped>\n",
       "    .dataframe tbody tr th:only-of-type {\n",
       "        vertical-align: middle;\n",
       "    }\n",
       "\n",
       "    .dataframe tbody tr th {\n",
       "        vertical-align: top;\n",
       "    }\n",
       "\n",
       "    .dataframe thead th {\n",
       "        text-align: right;\n",
       "    }\n",
       "</style>\n",
       "<table border=\"1\" class=\"dataframe\">\n",
       "  <thead>\n",
       "    <tr style=\"text-align: right;\">\n",
       "      <th></th>\n",
       "      <th>Treinamento</th>\n",
       "      <th>Irrelevante 0 / Relevante 1</th>\n",
       "    </tr>\n",
       "  </thead>\n",
       "  <tbody>\n",
       "    <tr>\n",
       "      <th>0</th>\n",
       "      <td>o neymar inovou a puma https://t.co/qtcuvd1svj</td>\n",
       "      <td>1</td>\n",
       "    </tr>\n",
       "    <tr>\n",
       "      <th>1</th>\n",
       "      <td>a @puma tá deitando nas chuteiras do neymar, m...</td>\n",
       "      <td>1</td>\n",
       "    </tr>\n",
       "    <tr>\n",
       "      <th>2</th>\n",
       "      <td>fico assim no da puma affss https://t.co/1ygyh...</td>\n",
       "      <td>0</td>\n",
       "    </tr>\n",
       "    <tr>\n",
       "      <th>3</th>\n",
       "      <td>@g_estrella__ puma tá aí , mas três listra tá ...</td>\n",
       "      <td>1</td>\n",
       "    </tr>\n",
       "    <tr>\n",
       "      <th>4</th>\n",
       "      <td>@0ketlyn_s eu acho que um puma ^^</td>\n",
       "      <td>0</td>\n",
       "    </tr>\n",
       "    <tr>\n",
       "      <th>...</th>\n",
       "      <td>...</td>\n",
       "      <td>...</td>\n",
       "    </tr>\n",
       "    <tr>\n",
       "      <th>295</th>\n",
       "      <td>@brunabud_ aí poderia ter mais que so um puma ...</td>\n",
       "      <td>0</td>\n",
       "    </tr>\n",
       "    <tr>\n",
       "      <th>296</th>\n",
       "      <td>to apaixonada num tênis puma mas vi uns coment...</td>\n",
       "      <td>0</td>\n",
       "    </tr>\n",
       "    <tr>\n",
       "      <th>297</th>\n",
       "      <td>@leoboschiroli tô quase pedindo aquele puma</td>\n",
       "      <td>1</td>\n",
       "    </tr>\n",
       "    <tr>\n",
       "      <th>298</th>\n",
       "      <td>oq é aquele puma que o neymar largou no story,...</td>\n",
       "      <td>1</td>\n",
       "    </tr>\n",
       "    <tr>\n",
       "      <th>299</th>\n",
       "      <td>aprendi a gostar até de puma mas cat &amp;amp; dog...</td>\n",
       "      <td>0</td>\n",
       "    </tr>\n",
       "  </tbody>\n",
       "</table>\n",
       "<p>300 rows × 2 columns</p>\n",
       "</div>"
      ],
      "text/plain": [
       "                                           Treinamento  \\\n",
       "0       o neymar inovou a puma https://t.co/qtcuvd1svj   \n",
       "1    a @puma tá deitando nas chuteiras do neymar, m...   \n",
       "2    fico assim no da puma affss https://t.co/1ygyh...   \n",
       "3    @g_estrella__ puma tá aí , mas três listra tá ...   \n",
       "4                    @0ketlyn_s eu acho que um puma ^^   \n",
       "..                                                 ...   \n",
       "295  @brunabud_ aí poderia ter mais que so um puma ...   \n",
       "296  to apaixonada num tênis puma mas vi uns coment...   \n",
       "297        @leoboschiroli tô quase pedindo aquele puma   \n",
       "298  oq é aquele puma que o neymar largou no story,...   \n",
       "299  aprendi a gostar até de puma mas cat &amp; dog...   \n",
       "\n",
       "     Irrelevante 0 / Relevante 1  \n",
       "0                              1  \n",
       "1                              1  \n",
       "2                              0  \n",
       "3                              1  \n",
       "4                              0  \n",
       "..                           ...  \n",
       "295                            0  \n",
       "296                            0  \n",
       "297                            1  \n",
       "298                            1  \n",
       "299                            0  \n",
       "\n",
       "[300 rows x 2 columns]"
      ]
     },
     "execution_count": 7,
     "metadata": {},
     "output_type": "execute_result"
    }
   ],
   "source": [
    "# Todos os tweets: Treinamentos\n",
    "dados = pd.read_excel('puma.xlsx')\n",
    "dados"
   ]
  },
  {
   "cell_type": "code",
   "execution_count": 8,
   "metadata": {},
   "outputs": [
    {
     "data": {
      "text/plain": [
       "0         o neymar inovou a puma https://t.co/qtcuvd1svj\n",
       "1      a @puma tá deitando nas chuteiras do neymar, m...\n",
       "2      fico assim no da puma affss https://t.co/1ygyh...\n",
       "3      @g_estrella__ puma tá aí , mas três listra tá ...\n",
       "4                      @0ketlyn_s eu acho que um puma ^^\n",
       "                             ...                        \n",
       "295    @brunabud_ aí poderia ter mais que so um puma ...\n",
       "296    to apaixonada num tênis puma mas vi uns coment...\n",
       "297          @leoboschiroli tô quase pedindo aquele puma\n",
       "298    oq é aquele puma que o neymar largou no story,...\n",
       "299    aprendi a gostar até de puma mas cat &amp; dog...\n",
       "Name: Treinamento, Length: 300, dtype: object"
      ]
     },
     "execution_count": 8,
     "metadata": {},
     "output_type": "execute_result"
    }
   ],
   "source": [
    "# Separando apenas a planilha de Treinamentos.\n",
    "t_treinamento = dados.loc[:, 'Treinamento']\n",
    "t_treinamento"
   ]
  },
  {
   "cell_type": "code",
   "execution_count": 9,
   "metadata": {},
   "outputs": [
    {
     "name": "stdout",
     "output_type": "stream",
     "text": [
      "['o neymar inovou a puma https//tco/qtcuvd1svj', 'a puma tá deitando nas chuteiras do neymar me manda essa nova ai puma que eu largo a minha nike  🤧 ', 'fico assim no da puma affss https//tco/1ygyhdzhmi', 'g_estrella__ puma tá aí  mas três listra tá lindo tbm', '0ketlyn_s eu acho que um puma ^^', 'gustavocapaa nao tem puma nike ou adidas', 'chuteira do neypuma apresentou hoje a linha neymar jr creativity que maravilha de chuteira perfect https//tco/jqcuvaxg1c', 'a nova coleção da puma  🤤 ', 'camuflagemdodia camisa da nike boné do cleveland short da adidas tênis da puma mochila da fila', 'kevass0 neymarjrdepre neymarjr pumabrasil site da puma mas ainda não tá no catálogo brasil americana já está', 'ela repara no detalhe do meu puma disc', 'neymarjrdepre neymarjr pumabrasil onde vende essa não achei na loja da puma', 'das puma fick prada  🖕🏿  https//tco/us7iemubr6', 'negócio imperdível  tshirt puma originalps se não queres comprar  também não atrapalhes o negóciovamos lá que hoje é présexta bom dia ♡thursdaymotivationthursdaythoughts https//tco/3bitcptxx4', 'la fameuse puma ouigo https//tco/yyiqbjqdok', 'tão cadelinha da puma q eu acabei d perceber q eu tenho 3 blusas iguais msm modelo msm cor', 'puma_parda ela é de campina grande tá carente é quase inevitável kkk vamo passar pano pra ideia de tabacudo', 'neymarjr pumafootball oi ney eu sou seu ídolo me manda uma meia da puma', 'lysaparede_ mas eles não fazem roupa pro paddock né os meca usam puma', 'williambender cadê o dinheiro das vendas de jogadores premiações quase 250milhões direito de tv da rede globo premieri tnt sbt puma 26 milhões quê ganhou no campeonato brasileiro sai fora maurício bananote anderson barros jaiminho cícero sousa', 'af tô vendo um boné da puma aqui no site muito top já quero que chegue na loja porque o frete tá uma facada', 'neymar tá dando uma estética nova mto foda pra puma', 'drewbsizzler euphorart lovatorns aí você forçou né a hailey tá crescendo mt como modelo fotografia mas ela ainda não pegou contratos grandes como a selena puma pantene cocacola adidas coach louis vuitton verizon e tem mais capa vogue us que a hailey mesmo sem ser modelo', 'a puma arrasou nesse ensaio gostei', 'petição pra música “puma” do dogor_10 pexande npsidoka virar julia de tanto que eu amo ela demais', 'muuhpro pumaadidas ou nike', 'eu indo usar puma 😎  https//tco/liraqb33kp', 'neymarjr pumafootball neymar manda um desse pra mim puma bobojaco aí 🥺  🥺  🥺  🧥  🧥  🧥  🧥  🧥  🧥  🧥 ', 'mina bandida me arranha igual puma tô elegante vestido de puma', 'é neymar essas chuteiras da puma não dá kkkkkkkkkk nike é diferenciada demais', 'xcapimbr vai comprar studios kkkkkkkkkkkkk', 'alguém sabe qual o pix da puma https//tco/t6tdute9jo', 'puma_parda foda é que esse tipo de coisa do inss é supor comum meu pai até hoje não conseguiu se aposentar mas não pode trabalhar ele tem uma doença de pele muito rara e como é enfermeiro corre risco de infecções o inss não reconhece a doença que ele tem', 'mcsoeiro_ kkkkkkkkkkk puma adidas e nike  🤡  https//tco/a7a5ft89qt', 'puma_bet metin52703103 pumabet escoubar', 'incrith felaange amiga eu estou criando a desculpa em minha cabeça que eu queria um para ser o único que usaria fora de casa né e uma vez tive um puma e além de bonito ele era muito confortável tenho um tenis muito confortável só q feio e os bonitinhos são todos conforto meh sabe', 'comprei um tênis da puma só pq ela patrocina o neymar se n esquece  👋🏼 ', 'márcio me deu uma blusa linda da puma é um amor esse garoto', 'se alguém souber de sorteios q os prêmios são kombifiltro da moogmodularfuzz da zvexfender mustang basspuma gt 16 1980é só me avisar q eu colo emmm quero um desses presentes ai', 'puma_parda ah poxa adoro a vitoria tubo', 'não sei de quem é esse pénota 4/10 achei feio mas é da puma então foi caro https//tco/wir4p4ys0j', 'oscarwang_ meu bb eu queria ganhar roupas da puma tbm esses trainees tiveram sorte', 'ramos85764697 de fato é muito cara essas da puma essa é adidas', 'queria uma chuteira da puma', 'num show do txt eu super imagino as músicas com as coresvermelho puma cysmazul campd blue hour noas verde roller coaster cwjltma laranja blue orangeade  https//tco/ma1zs4pxar', 'lewishamiltonbr puma credo mais é lindo viu  😍  😍 ', 'pablosales1984 fico triste demais quase 250 milhões em premiações patrocinadoras crefisa fam puma tv globo premieri tnt sbt vendas de jogadores 26 milhões pra onde está indo esse dinheiro tem que fazer uma cpi investigação único jeito', 'se a criatividade fosse um idioma a tradução perfeita seria nova puma future z creativity  neymarjr  🔮 saiba mais no https//tco/e0gotvkaoa https//tco/wnft4clhcf', 'a pessoa que fala isso nunca escutou txt de vdd e nunca chegou perto de eternally puma e afins https//tco/vlx2di67rd', 'jwpitbulldafade tá brincandopuma e rainhaestilo e conforto', 'desconto de 15 no site ou no aplicativo centauro cupom d84372caminhadaesporte esporteinterativo basketball fitness futebol nikeadidaspumavoleibol saudesaudefisica penaltı vendas cupomdedesconto desconto15descontometacompras https//tco/pfd5buw3by', 'eu vejo esses vídeos em jaguar e só penso que o carro é da puma', 'slc mano essa chuteira q a puma lançou é mala hein', 'as roupas da puma que o neymar usa são perfeitas e parecem que só ele tem kkkkkk esse ai com os detalhes rosa 😍 ', 'neymarjrdepre neymarjr pumabrasil puma aceita rins ', 'como até com pão puma e todo mundo fica  🤢  🤢  🤢  https//tco/2blhiwtorp', 'nay_nay055 era da puma e pumas não gostam de ficar presas elas devem ter corrido', 'palmeiras e o dinheiro dos títulos da crefisa da puma e do avanti contrato de televisão porcentagem em vendas das marcas palmeiras  jogadores que foram vendidos salários gigantesco como o de dudu ramires e b henrique não faz mais parte e o time mesmo assim está no decifit galiotte', 'quero colação do neymar nem gosto de puma mass quero https//tco/ugdfnnjrwb', 'neymarjrdepre neymarjr pumabrasil ginmyname puma finalmente acertou cz  🙌🏻  🙌🏻  🙌🏻 ', 'para de lançar roupa puma tô ficando sem money', 'essa semana do consumidor nike e puma me mandando email  c promoção nos tênis se fuder não tenho dinheiro porra', 'boyzkook se eu to vendo direito 991 plays no album eternity e eu sei bem que 900 é só em puma', 'neymarjr pumafootball pede pra puma me dar uma luva neymarjr pumabrasil pumafootball', 'darthkrayt4 é exatamente com pão puma que fica mtt bom', 'neymar  puma  😍  https//tco/pfe3hdojnv', 'a puma e o amor da minha tmnc 😍 ', 'o tênis da selena e do neymar em parceria c a puma estão ridículos de tão maravilhosos', 'neymar x puma future z creativity  👑  🧢  https//tco/clker1ke4j', 'thefootballsc puma or umbro', 'odeio o neymar de puma odeio', 'ramos85764697 nãoe a 3 de antes da puma entrara prevent tinha 1000 e destribuil pros funcionários', 'pensando em mudar meu nome pra pão puma https//tco/txajldiqgc', 'as novas puma de neymar  🔥  https//tco/mu6pxdnapi', 'so queria uma nova chuteira da puma  🥰  🥰  ⚽ ️', 'na coleção do homi a puma acertou demais pqp https//tco/fpr3h397go', 'gente eu queronova coleção do neymar com a puma “neymar jr creativity”tô apaixonada nessas cores  💕  💙  https//tco/mfjt1vw9rl', '9  cat and dogesta aqui cujo divide opinioes no mundinho kpopper e moa twt mas nao ligo ela esta acima de muitas musicas meus pequenos furries a mae de puma eh esta musica https//tco/xop1qn5qqx', 'tao linda e rara q nem o site da puma tem https//tco/ts33uoghro', 'boné da adidas camisa da puma short da nike e chinelo da fila é muito errado', 'barrets_ uma grande honra batalhar com a puma', 'juanitobisonte puma ok não curto muito da umbro 🤷🏾\\u200d♂️  🤷🏾\\u200d♂️ ', 'wagnerjrcunha atletico siimmm a puma mandou bem demais nesse no slk e esse jogo também dominante como sempre  🐔  ⚫  ⚪  ❤ ️', 'toda noite eu vo dormir pensando se um dia conseguirei encontrar o tênis da puma que eu tinha vendendo em algum lugarou algum parecido', 'josgome40657225 deixa estar que assim que o benfica mudar de adidas para puma a adidas passa logo a ter as melhores camisolas do mundo outra vez', 'neymar amp puma https//tco/v4shkzu7ds', 'puma_parda exato lugar de milico é longe da política', 'comprar meu tênis da puma mes que vem e não tem nada que me impeça', 'depois que o neymar foi pra puma só tá fazendo chuteira zika https//tco/umv3oudsqq', 'mazzuela o logo da puma', 'minha mãe me deu um tênis da puma  🥺 ', 'puma_parda e a fila aumentando lá fora ', 'linda essa camisa do rgvfc da puma  😍  https//tco/ph3sytmtbq', 'próximos panos serão da puma', '_isapires lou_cura_ https//tco/9ohwtluy63espero ter ajudado', 'pgeracoes homemtacokkkkkk capt_puma robosonysta windowsclubbr  🤦 ptqp mais uma burrico azul  😫 ', 'simse eu tivesse dinheiro eu só usaria puma por causa do ney e do palmeiras', 'queria muito o slip on da puma mas não sei se vale a pena comparar os tênis da puma  😔 ', 'pumabrasil porque aqui no brasil não ta disponível nem a jaqueta e nem a jersey do neymar po neymarjr a puma não me ajuda a comprar seus kits  😑  https//tco/2u6voecx5w', 'lewishamiltonbr puma procure um defeito e falhe miseravelmente', 'menino ney virou adulto ney mas de puma vai virar idoso ney https//tco/ivmgucvxjj', 'gente eu tô quase desmaiando pelo amor de deus gente eu entrei na viva puma  https//tco/0xv3cdbqmu', 'pvte7x primeiramente das mulher só tem um 🥰  você deve tá louco a puma e uma putaria tmnc', 'esperando a puma obrigar a bruna marquezine e o neymar a fazer uma campanha juntos isso pq quando eles tiravam fotos juntos o brasil era melhor a gente nem precisa deles voltando a gente só precisa das fotos kkkkkkkkkkk https//tco/jjzttrfifa', 'smileyddeonu vote for enhai vote for enhypen for stanworld 엔하이픈 enhypen enhypen_members', 'benficaeazeite sinceramente que se escolha a que será mais rentável acredito que não seja a adidas e umas das marcas que o benfica podia tentar poderia ser puma umbro under armour ou kappaagora lá está a escolha deverá ser sempre a que rende mais pois traz mais garantias', 'puma é horrível rapa nada haver com o ney https//tco/9eaafsmykb', 'tinybeomgyu algumas cara dizer q é tudo seria mentira tem um monte q me irrita principalmente nas partes do beom e do hyuka mas temos mt mais músicas q demonstram bem a técnica deles do q o contrário 20cm puma blue hour force angel or devil ghosting e por aí vai', 'curtavermelha 2021 e ainda há pessoal a desconsiderar a puma como uma marca de 2ª percebo que se goste ou não mas a verdade que a adidas tem arriscado muito pouco connosco e quando o fez foi mau coincidência ou não ficou pior deste os nossos maus resultados na champions', 'policiaiso no 7 da col bolso negro/puma editora /1a edição/maio de 1992/capa de vasco eloy/trad de paula reis o autor dan kavanagh  pseudónimo de julian barnes n1946 inglês romancista também de policiais ensaísta memorialista originalputting the book in 1985 https//tco/znaocgjhur', 'eu já lancei um adidas novo no lugar do puma disk e água dos amigo  🥵 ', 'puma não erra ta maluco https//tco/wbbj1b2nsv', 'sedento pro meu puma xray chegar e meus óculos novos e sexta vou cortar o cabelo fazer a barba ai papai vou estar mt lindo nas próximas semanas https//tco/nwx14tyqq8', 'goncalodcnunes pessoalmente acho que a maneira como as camisolas da puma ajustam ao corpo fica male olhando para outros contratos a nível mundial adidas e nike continuam muito acima apesar do crescimento da pumano entanto importa sempre vem quem dá mais nas ofertas recebidas pelo benfica', 'sabe o que eu acho dahora no neymar que ele inspira a criançada manja por ex ele acabou de repostar a foto que o filho do boateng trajado de puma/neymar então assim os filho dos adversários dele quer ser igual a ele  🥺 ', 'puma patrocinou legal esse filme', 'lastnoearth os da puma amg acho lindo demaisss', 'lokleinhs_ nalimsgirl feio q doi pumagt', 'nunca curti corta vento mas essa que comprei da puma é muito style  🥵  🥵 ', 'algm tem coisa do yeonjun em angel or devil ou puma se sim por favor mande', 'batsumane neymar c’est puma', 'puma_parda a pessoa me mandar uma dessas a essa altura do campeonato puta que me pariu hein', 'agora sim está dando vontade de usar chuteira da puma  ✅  🚀  https//tco/gx8opopdil', 'ttdajjoyce maísa é embaixadora da samsung e patrocinada pela puma só por essa parte já acho que é ela', 'yeonsx0 em puma  🗣 ', 'beomietalent beompallet vei e puma nossa aclamado e icônico', 'ph_caixeiro neymar pai todo dia me enche o saco pra fechar com a puma 😂  😂  😂 to pensando  🤔  🤔  🤔 ', 'puma se continua assim vai dar mais que falr do que a nike e a adidas', 'pedrokcalheiros o yungmxch escrever a parte dele de pisando em puma e me mandar hj ainda', 'hyukaisoulmate jakespoem de filhote pra puma com sucesso 👏🏻  👏🏻  👏🏻  👏🏻  👏🏻 ', 'negrogato_sdv isso e um puma ', 'sério se alguém ver na internet as camisas da puma principalmente de 2013 e 2015 me manda por favoooor tô a um tempão procurando pra comprar e não acho de jeito nenhum', 'loggi puma compre o produto com vocês e ta na entregadora e não consigo entrar em contato com eles me ajuda  pumabrasil  loggi', 'simaopereira11 nem design material tecnologia do equipamento puma está muito mais à frente ajuste ao corpo', 'sorbint vc n gosta de puma benji o mv me fez deitar', 'puma podia bem patrocinar o benfica esses ao menos sabem o que fazem ao que toca a equipamentos https//tco/epbw82crxn', 'moniefleur eu não sabia kkkk na minha cabeça eles ainda eram embaixadores da puma https//tco/4huqjos1r2', 'carlaxsls rxhstan beberexha puma bebeshotass warnerpromo eu sempre te falei  🥵  💛 ', 'vejo as fotos da fila e fico  😐  missing puma hours open', 'homemtacokkkkkk pgeracoes robosonysta windowsclubbr não é demon souls de ps3 kkkkkkkkkkkkkkk', 'neymarjr pumafootball a puma ficou maluca o projota tava cancelado ate esses dias ai kkk', '‘creativity’ a nova coleção da puma com assinatura de neymar https//tco/zdwqezlquf', 'acabou de chegar meu puma q eu tinha comprado semana passada ehehehe eh mto eh massa', 'tô com um puma disk pra brick', 'por mim era assinar contrato com a puma ou com a nike camisolas bem mais lindas', 'tô parando pra analisar n posso pegar dinheiro q já quero ir na centauro sou muito fascinado em nike é puma tmlc 🤦🏽\\u200d♂️ ', 'drinotty_ yoongglx leektear oliveira eh estiloso ele so vem com tênis da nike adidas pumaele tem patrocínio', 'tbt de hj vai para o lançamento das camisas da puma de 2012  tirando o lucas zen que saudade meus amigos https//tco/w3pswbu4lm', 'finalmente a puma fez algo bonito  🙌🏻  https//tco/8aahj2b9ew', 'bando de filha da puma arrombados do caralho assim que a menina agradeceu deixaram de seguir isso significa que seu brilho encomoda princesa vc vai ganhar mt mais 👑 ', 'puma dói os pé prefiro nike https//tco/r3qckxcq2e', 'quero comprar um tenis da puma', 'nova coleção puma future z x neymarele tá  muito gato  🤤  https//tco/ihxjxlbbcp', 'era lindo ver o benfica com marca da puma https//tco/gxdsiiy8fi', 'pra mim o mv mais foda do txt sempre irá ser puma até que chegue um para provar o contrário e mudar a minha opinião', 'tt_marcelojr o neymar deu outra cara pra puma tem jeito n', 'esse bbb só tem medroso briga duas três vezinhas e já quer sair vá puma porra', 'deixar de comprar um puma de r 50000 para fazer meu mapa astral foi a escolha mais feliz que eu fiz hoje', 'odeio usar esse tênis da puma mas ele é mega confortável parece que estou descalça', 'achetez des sac puma', 'só queria pegar umas peças da puma', 'scfarense_ betopimparel o beto treina com adidas e nike muito bem não havia uma meias da reebok e um chapéu da puma também vamos lá levar isto a sério por favor', 'themikesalk puma ignite', 'e a malta que anda a desejar ter a puma em vez de adidasmas vocês têm opinião que é pessoal ou é só porque está na modaadidas é adidas', 'miaudango eu prefeitura a feiticeira escarlate principalmente por causa do spoilernovo traje dela mas aposto que o neymar será bem interessante também talvez até se transformando numa puma ou algo do tipo https//tco/pcbw8qdc9a', 'carlaxsls rxhstan beberexha puma bebeshotass warnerpromo ela destruiu tudo aqui  ☠ ️ ☠ ️ ☠ ️', 'a coleção da pumagtgtgtgtgtgtgtgtgt', 'aossayu txt_members obvio nadie tiene miedo con puma de fondo ajdksk', 'rexhabrasil beberexha kakakaka por um momento achei que ia sair uma versão de puma do txt com a bebe rexha kakaka quase surtei https//tco/yr5wfalk1x', 'é midzy então diz uma música do aespa que não seja puma', 'nunca liguei pra nike adidas puma asics ou oq tiver o importante é se dá bem com sigo mesmo', 'dreams_thata matheus igorcabral11 “hmmm casaquinho da puma baratinho”', 'lala_puma kkkkkkk grazadeus ela ainda não ta na fase tiktok', 'marcopuccini_ é foda mano puma ta de brincadeira', 'bota um puma disk no pé que delícia de mulher', 'a puma me deixou forte 🙌  💸  ✍ ️', 'fodase vou comprar esse tênis da puma', 'neymarjr pumafootball tu pode pedir pra puma tirar foto do necowilliams01 agradeço', 'joel_amhaus n fax na puma to esperando o lockdown acabar pra jogar uma bomba la o povo enrrolado e ruim de serviço', 'mão ta coçando pra comprar um produto do neymar na puma', 'beompallet hopecandys eles viram o mv de puma por acaso', 'soudanacao puma mto mais top q a fraca adidas', 'puma_parda o marco do gás é um projeto de lei do psdb não tem nada a ver com o guedes', 'neymar x puma future z creativity  👑  👕  https//tco/pvrykn2jyz', 'não sei se aceito a proposta da nike ou da puma cr7 e ney me chamando', 'adorei o ensaio da puma 😍 ', 'pedra_veronica e eu que não consigo comprar nem um ténis da puma https//tco/fwu28soao0', 'se eu tivesse condições ia andar só de puma', 'eu quero essa camisa nova do nj x puma', 'neymar x puma “creativity” https//tco/qgw6wwixpq', 'krl essa blusa da puma tá enjoada dms pqp  🤤  https//tco/ijk3sofdk8', 'a nike faz isso a new balance faz isso a puma faz isso todas as marcas usam templates https//tco/sgbf1jf1j3', 'euperdendotempo ameliunga puma_parda aolivais advogados da globo processando com tanta força que quando o nego di tiver filhos o registro do nascimento vai ser no serasa', 'naaraalvs naara se o seu pedido foi via https//tco/e0gotvkaoa por favor manda uma msg para sacsitepumacom primeiro e depois seus dados de cpf e email por dm para checarmos o seu caso por favor obrigado', 'nao neymar puma ', 'as fotos da nova campanha da puma está tudo de bom ney ney está muito gato https//tco/bb3mwc5msw', 'gordaock puma me patrocinou', 'bermuda pumacustando apenas r 9990  💸 na compra de 3 unidades ganhe 20 de desconto  🏷 ️ compre a vista ou nos cartões de crédito  💸  💳 whatsapp disponível 📱 https//tco/t9m6ekfrv5faça já seu pedido e receba em até 1 hora  ⏰  🚛  usecapixaba estilocapixaba https//tco/xjpznerehm', '100 influenciada pelo menino ney pois agora quero um tênis da puma nunca comprei nd da puma', 'gurizinh0lr eu tbm fiquei louca no tênis puma que a dani calabresa usou nos posts da viagem pra disney lindo demais quero ver o do lucas', 'pra tênis de corrida vcs preferem nike puma olympikus ou adidas', 'ela repara no detalhe do meu puma disk', 'só quero uma camisa da puma do neymar mas só tem tam masculino ', 'minha fav é our summer e a que eu menos gosto é puma https//tco/lgkcojwnst', 'neymar x puma  🔥  🔥  https//tco/khartgobxr', 'beomietalent sim vei falam que a bh fica na mermisse com eles muito bom assisti o mv de puma e achei que foi wlts', 'puma_533375 omatribel gabylevinas seguramente', 'deprepalmeiras tem que fazer uma cpi  investigação onde está indo esse dinheiro dinheiro quê o palmeiras quase 250 milhões em premiação direito de tv globo premieri tnt sbt patrocinadores crefisa fam puma vendas de jogadores 26 milhões ganhou no campeonato brasileiro', 'puma_parda até onde a carência pode levar o ser humano mddc', 'ironefixe preferia mil vezes mais a puma', 'nova coleção puma future z x neymar  🔥  https//tco/avcs45zpsh', 'ele e a bruna com parceria com a puma era o momento perfeito de fazer alguma coisa de casal \\U0001f972  https//tco/e0bvqymacp', 'hoje chegou minha encomenda da puma e minha camisa do flamengo agora como vou fazer pra pagar tudo isso eu não sei', 'a nova future z faz uma homenagem ao empolgado atleta da bola aquele craque criativo que se destaca com habilidade e rapidez em raciocínio moldando o jogo diante de sua visão a cada movimento jogada e ação 📸  neymar/puma https//tco/dbtgxwof3f', 'ó deus vai tirando senhor toda propaganda de collant  😭  😭 toda promoção de sapatilha deus  🤧  🤧 manda pra lixeira qualquer email da nike puma e adidas ó pai  🥺  🙏 ', 'a puma nunca tinha feito uma chuteira massa até a chegada do adulto ney eles esculacharam dms nessa ai', 'a puma ta mexendo cmg  🤔 ', 'puma era muito melhor', 'caraio em puma enfiou no cu da nike e ainda girou', 'criatividade é com ele mesmo né  😉  curtiram a nova chuteira neymarjrcreativity  🤩  👉🏽 veja mais https//tco/4vdwxb29xineymar neymarjr njr puma pumafootball boots creative neymarfans neymarskills boots futurez https//tco/rokn7xyahp', 'fiz uma receitinha de comida no instagram ta muito gostoso  😋 ', 'eu sou tão cadelinha do neymar que eu tô cogitando comprar coisas da puma só por causa dele', 'esse sentai tá ótimo mais por favor toei https//tco/ti5zfqyhhk', 'goncalodcnunes mas as marcas vãose reinventando muito pode mudar até aínão são contratos com mais uma equipa ou outra puto ahah no futebol a nível de clubes pelo menos a puma não tem mais do que 6 equipas verdadeiramente relevantes a nível mundial', 'neymar x puma vem coisa nova por ai 🔥  https//tco/ornpk8sfug', 'era só um patrocínio da puma  🤧 ', 'maxveyratdurbet bon bah go acheter des puma', 'desconto de 15 no site ou no aplicativo centauro cupom d84372caminhadaesporte esporteinterativo basketball fitness futebol nikeadidaspumavoleibol saudesaudefisica futebolneymargolsportvcuiabagremiointernacional https//tco/iwkxx9vnns', 'simaopereira11 tendo em conta a qualidade crescente da merda que têm feito vão perder a maioria dos importantes a dimensão global é afetada por tudo isso não é por terem contratos com mais uma equipa ou outra que são melhores que a puma', 'puma_parda meus pais tentaram reverter uns anos atrás e não conseguiram agora não mexem mais nisso eu digo que eles deveriam continuar tentando mas eles são teimosos e acham que não dá mais para fazer alguma coisa', 'puma a calarme  🤭  coisa linda https//tco/yxcclsptir', 'creativity puma tem também produtos com a identidade neymar jr personalizados como camisetas shorts acessórios de treinamento e vestuário para usar fora dos gramados https//tco/bobxnpw1qh', 'oloco minha mãe vai comprar duas calças da puma pra mim  🤠  🤠 ', 'puma mais pequena que a adidas estamos a passar mal https//tco/05u1npamcp', 'realmente falaram isso pra um grupo que tem mvs como cysm puma e eternally que realidade é essa que vivem https//tco/geuvweymy3', 'portuguesegb rbaptista08 curtavermelha claro e eu até gostava de ver o benfica com puma caso a adidas continue a pagar a merda que tem pago mais vale ir pa puma digo eu', 'puma n colocou 3 itens da coleção nv do neymar triste estou', 'sério o tanto de gente falando que o txt tem que inovar nos mvs gente vcs se quer pararam pra ver algum mv eternally puma nap of a star', 'simaopereira11 só se o marketing te engana muito bem puma é muito mais rentável faz melhores contratos e em termos de dimensão está ao nível de nike e adidas neste momento é superior à adidas que perde contratos em sítios atrás de sítios', 'tuittamariah faz um tempo que mudo tá ganhando mais na puma pelo que li na época', 'to pisando muito fofo com meu puma novo 🤢 ', 'vmicut kkkkkkkkkkkkkk queria q eles fossem da nike a puma é mt blé', 'a puma ficou mais bonita né  efeito neymar https//tco/btrdxvdqvu', 'jasonso19617695 samiabomfim não livro ninguém dos seus erros facilitou acesso para empreiteiras teve fraude que se puma os responsáveis e ponto mas ficar nessa de ser contra a corrupção de um e ficar fingindo não ver a do outro não funciona comigo', '1fxxlz da puma viado', 'minho quando você quiser fazer um dance cover de puma saiba que eu estou pronta  😎  https//tco/qadrodp2hw', 'eu ela e o puma  👩\\u200d❤️\\u200d👨  🐱  https//tco/3o72vw03r8', 'puma_parda ao q parece esse é o novo mantra bolzonazi estão fortes nessa tese de autorresponsabilização não aguento', 'toda vez que vou na puma ou entro no site quero deixar meu dinheiro todo lá', 'lewishamiltonbr puma se houver alguém tão admirável quanto ele na atualidade eu desconheço lh é incrível', 'simaopereira11 não identifico nada que faça a adidas melhor que a puma', 'crl nada a ver neymarjr com a puma  🤦🏻\\u200d♂️  😒  https//tco/lotoz2b5pa', 'yudi_viturin a puma tá fazendo umas coisa linda dmsss nike e adidas que não abre o olho pra ver', 'puma se supera cada dia nas chuteiras https//tco/uyprbzlz7j', 'puma_parda sem contar que esta fase de colapso do sistema de saúde é justamente essa tem mais gente precisando entrar na uti do que gente saindo', 'hermanosfc quase 250 milhões de reais em premiações patrocinadoras crefisa fam puma tv globo premieri tnt sbt vendas de jogadores 26 milhões de reais no campeonato brasileiro blz  🤫 ', 'a puma lançou nesta quintafeira a coleção ‘neymar jr creativity’ apresentando a inovadora chuteira future z 11\\xa0eai curtiram  🔥  ❤  https//tco/kl4mphhdvp', 'neymarjr pumafootball koe adulto ney manda uma peça da puma aqui pra casa tmj', 'olha essa blusa da puma  😍  😍  https//tco/nglhaqvvvb', 'puma_parda eu tb eu não vejo nem filme com estupro pedofilia ou maldades reais me incomoda de verdade mas ver um negacionista morrer por covid me faz pensar bem feito amenizo com um muito karma nessa hora é o que tem pra hoje mas vou melhor com o tempo', 'rabona_tv curtavermelha por mim era pumatêm evoluído e com designs cada vez mais bonitos e originais', 'puma_parda ver o chanceler biruta no ostracismo é um dos sonhos que eu acalento', 'neymarjrdepre pumabrasil escreveu um bcomercial brumar pra puma', '‘creativity’ a nova coleção da puma com  neymar https//tco/oqmlrnuyc5', 'dallasginreturn caramba tuta em outro nível eu tô na puma e 357 mag juvenil perto disso aí  🇧🇷  🇧🇷  🇧🇷  🤜  🤜  🤜  🤜 ', 'cada um com seu puma https//tco/dyc96b2n2w', 'ironefixe gosto da adidas mas não sou contra a mudança para a nike ou a puma', 'hoje eu sai de blusa da nike tênis da puma e mochila da adidas enfim a diversidade', 'netooswaldo proplayerstore maaaano a puma esse ano tá com td', 'minha prima mais uma vez me surpreendendo do nada de puma kkkkk  😻  😻  marianaa0910', 'creativityz disponível no https//tco/e0gotvkaoa https//tco/cimytqtekx', 'site da adidas/site da puma https//tco/qilo4pczzd', 'fernandez_puma flaco tremendo live que te sacaste ayer  💪 ', '0padilhauai meus carrinhos eh tudo lotado nike adidas puma lacoste tommy pergunta se eu compro', '_vitorinhxxxx na real eu prefiro puma pros dois', 'puma gte destruído após detonação da bomba dentro dele é possível ver o corpo do sargento guilherme pereira do rosário que morreu logo após a explosão rio de janeiro\\xa030 de abril\\xa0de\\xa01981\\xa039\\xa0anosàs 2115\\xa0  riocentroresponsável exército brasileiro https//tco/g6fsx6dzw2', 'puma_parda a burrice de quebrar contrato com a globo misericórdia', 'ghostlv1 curtavermelha a puma vai meter a adidas a um canto daqui a um ano ou dois', 'fuckarou puma fez collab com marca de pão', 'novo pôster de beberexha para campanha da puma https//tco/tvm8vjmybi', 'puma_parda sim a culpa é nossa eu que recusei 800 trilhão de pfizer por exemplo desculpa brasil', 'saudade das candids da selena saindo do pilates vestida de puma com uma bolsa da coach', 'puma_parda danielaaf se ainda ficasse calado', 'puma_parda danielaaf nem com a bandeira do brasil por amor à pátria rsrsrs', 'estou prestes a cometer o crime no site da puma 1 like eu confirmo a compra', 'as fotos da nova colab puma x kidsuper foram feitas aqui no brasil  https//tco/viqmmpjtns', 'neymar x puma future z creativity  👑  👟  https//tco/dixxlfqek9', 'simaopereira11 podes achar que ficam mal em termos estéticos mas o ajuste ao corpo da puma é muito melhor para o atleta do que a adidas', 'athodavid sério amg aqui só tem pão puma banana e maçãsem brincadeirae o resto é tudo comida da semana passada  😭  😭  😭  😭 ', 'goncalodcnunes o design é uma coisa subjetivaa adidas só fica atrás da nike nas marcas mais ricas de desporto do mundonos 10 contratos mais rentáveis do mundo 5 são nike 4 são adidas e 1 é puma cityclaro que em questões de materiais e tudo isso serão perfeitamente equiparáveis', '97froggys amg eles eram embaixadores da puma em 2018 o contrato acabou faz tempo agora eles são da fila', 'soaresday_ vamos trocar pelo verde da puma', 'tiagomarques32 rbaptista08 curtavermelha no entanto mesmo tendo tido uma grade b com a puma faturada ~20 milhões de euros', 'ch3rrb0mb uhumé hebe ele é um floppa é tipo um puma mais ele é dócil igual um gatinho /sorri com o beijinho e abraça mais fortinho', 'neymarjrdepre neymarjr pumabrasil neymar e patrocinado pela pumapuma automaticamente fazer roupas e tênis bonitos', 'brunabud_ aí poderia ter mais que so um puma de estimação', 'to apaixonada num tênis puma mas vi uns comentários falando q o tênis parece um chumbo de tão pesado', 'leoboschiroli tô quase pedindo aquele puma', 'oq é aquele puma que o neymar largou no story to apaixonado quero um', 'aprendi a gostar até de puma mas cat amp dog não me desceu até hj que tristeza']\n"
     ]
    }
   ],
   "source": [
    "# Limpando os tweets de treinamento usando a função que definimos como cleanup.\n",
    "lista_limpa = []\n",
    "for index, argumento in enumerate (t_treinamento):\n",
    "    #print(f'posição {index} tweeter: {argumento}')\n",
    "    limpa = cleanup(argumento.lower())\n",
    "    lista_limpa.append(limpa)\n",
    "    \n",
    "print(lista_limpa)"
   ]
  },
  {
   "cell_type": "code",
   "execution_count": 10,
   "metadata": {},
   "outputs": [
    {
     "data": {
      "text/html": [
       "<div>\n",
       "<style scoped>\n",
       "    .dataframe tbody tr th:only-of-type {\n",
       "        vertical-align: middle;\n",
       "    }\n",
       "\n",
       "    .dataframe tbody tr th {\n",
       "        vertical-align: top;\n",
       "    }\n",
       "\n",
       "    .dataframe thead th {\n",
       "        text-align: right;\n",
       "    }\n",
       "</style>\n",
       "<table border=\"1\" class=\"dataframe\">\n",
       "  <thead>\n",
       "    <tr style=\"text-align: right;\">\n",
       "      <th></th>\n",
       "      <th>Treinamento</th>\n",
       "      <th>Irrelevante 0 / Relevante 1</th>\n",
       "      <th>Limpo</th>\n",
       "    </tr>\n",
       "  </thead>\n",
       "  <tbody>\n",
       "    <tr>\n",
       "      <th>0</th>\n",
       "      <td>o neymar inovou a puma https://t.co/qtcuvd1svj</td>\n",
       "      <td>1</td>\n",
       "      <td>o neymar inovou a puma https//tco/qtcuvd1svj</td>\n",
       "    </tr>\n",
       "    <tr>\n",
       "      <th>1</th>\n",
       "      <td>a @puma tá deitando nas chuteiras do neymar, m...</td>\n",
       "      <td>1</td>\n",
       "      <td>a puma tá deitando nas chuteiras do neymar me ...</td>\n",
       "    </tr>\n",
       "    <tr>\n",
       "      <th>2</th>\n",
       "      <td>fico assim no da puma affss https://t.co/1ygyh...</td>\n",
       "      <td>0</td>\n",
       "      <td>fico assim no da puma affss https//tco/1ygyhdzhmi</td>\n",
       "    </tr>\n",
       "    <tr>\n",
       "      <th>3</th>\n",
       "      <td>@g_estrella__ puma tá aí , mas três listra tá ...</td>\n",
       "      <td>1</td>\n",
       "      <td>g_estrella__ puma tá aí  mas três listra tá li...</td>\n",
       "    </tr>\n",
       "    <tr>\n",
       "      <th>4</th>\n",
       "      <td>@0ketlyn_s eu acho que um puma ^^</td>\n",
       "      <td>0</td>\n",
       "      <td>0ketlyn_s eu acho que um puma ^^</td>\n",
       "    </tr>\n",
       "    <tr>\n",
       "      <th>...</th>\n",
       "      <td>...</td>\n",
       "      <td>...</td>\n",
       "      <td>...</td>\n",
       "    </tr>\n",
       "    <tr>\n",
       "      <th>295</th>\n",
       "      <td>@brunabud_ aí poderia ter mais que so um puma ...</td>\n",
       "      <td>0</td>\n",
       "      <td>brunabud_ aí poderia ter mais que so um puma d...</td>\n",
       "    </tr>\n",
       "    <tr>\n",
       "      <th>296</th>\n",
       "      <td>to apaixonada num tênis puma mas vi uns coment...</td>\n",
       "      <td>0</td>\n",
       "      <td>to apaixonada num tênis puma mas vi uns coment...</td>\n",
       "    </tr>\n",
       "    <tr>\n",
       "      <th>297</th>\n",
       "      <td>@leoboschiroli tô quase pedindo aquele puma</td>\n",
       "      <td>1</td>\n",
       "      <td>leoboschiroli tô quase pedindo aquele puma</td>\n",
       "    </tr>\n",
       "    <tr>\n",
       "      <th>298</th>\n",
       "      <td>oq é aquele puma que o neymar largou no story,...</td>\n",
       "      <td>1</td>\n",
       "      <td>oq é aquele puma que o neymar largou no story ...</td>\n",
       "    </tr>\n",
       "    <tr>\n",
       "      <th>299</th>\n",
       "      <td>aprendi a gostar até de puma mas cat &amp;amp; dog...</td>\n",
       "      <td>0</td>\n",
       "      <td>aprendi a gostar até de puma mas cat amp dog n...</td>\n",
       "    </tr>\n",
       "  </tbody>\n",
       "</table>\n",
       "<p>300 rows × 3 columns</p>\n",
       "</div>"
      ],
      "text/plain": [
       "                                           Treinamento  \\\n",
       "0       o neymar inovou a puma https://t.co/qtcuvd1svj   \n",
       "1    a @puma tá deitando nas chuteiras do neymar, m...   \n",
       "2    fico assim no da puma affss https://t.co/1ygyh...   \n",
       "3    @g_estrella__ puma tá aí , mas três listra tá ...   \n",
       "4                    @0ketlyn_s eu acho que um puma ^^   \n",
       "..                                                 ...   \n",
       "295  @brunabud_ aí poderia ter mais que so um puma ...   \n",
       "296  to apaixonada num tênis puma mas vi uns coment...   \n",
       "297        @leoboschiroli tô quase pedindo aquele puma   \n",
       "298  oq é aquele puma que o neymar largou no story,...   \n",
       "299  aprendi a gostar até de puma mas cat &amp; dog...   \n",
       "\n",
       "     Irrelevante 0 / Relevante 1  \\\n",
       "0                              1   \n",
       "1                              1   \n",
       "2                              0   \n",
       "3                              1   \n",
       "4                              0   \n",
       "..                           ...   \n",
       "295                            0   \n",
       "296                            0   \n",
       "297                            1   \n",
       "298                            1   \n",
       "299                            0   \n",
       "\n",
       "                                                 Limpo  \n",
       "0         o neymar inovou a puma https//tco/qtcuvd1svj  \n",
       "1    a puma tá deitando nas chuteiras do neymar me ...  \n",
       "2    fico assim no da puma affss https//tco/1ygyhdzhmi  \n",
       "3    g_estrella__ puma tá aí  mas três listra tá li...  \n",
       "4                     0ketlyn_s eu acho que um puma ^^  \n",
       "..                                                 ...  \n",
       "295  brunabud_ aí poderia ter mais que so um puma d...  \n",
       "296  to apaixonada num tênis puma mas vi uns coment...  \n",
       "297         leoboschiroli tô quase pedindo aquele puma  \n",
       "298  oq é aquele puma que o neymar largou no story ...  \n",
       "299  aprendi a gostar até de puma mas cat amp dog n...  \n",
       "\n",
       "[300 rows x 3 columns]"
      ]
     },
     "execution_count": 10,
     "metadata": {},
     "output_type": "execute_result"
    }
   ],
   "source": [
    "# Criando um novo data frame com os tweets de treinamentos limpos\n",
    "dados['Limpo'] = lista_limpa\n",
    "dados"
   ]
  },
  {
   "cell_type": "code",
   "execution_count": 11,
   "metadata": {},
   "outputs": [
    {
     "data": {
      "text/plain": [
       "0           o neymar inovou a puma https//tco/qtcuvd1svj\n",
       "1      a puma tá deitando nas chuteiras do neymar me ...\n",
       "3      g_estrella__ puma tá aí  mas três listra tá li...\n",
       "5               gustavocapaa nao tem puma nike ou adidas\n",
       "6      chuteira do neypuma apresentou hoje a linha ne...\n",
       "                             ...                        \n",
       "287    simaopereira11 podes achar que ficam mal em te...\n",
       "291           soaresday_ vamos trocar pelo verde da puma\n",
       "294    neymarjrdepre neymarjr pumabrasil neymar e pat...\n",
       "297           leoboschiroli tô quase pedindo aquele puma\n",
       "298    oq é aquele puma que o neymar largou no story ...\n",
       "Name: Limpo, Length: 132, dtype: object"
      ]
     },
     "execution_count": 11,
     "metadata": {},
     "output_type": "execute_result"
    }
   ],
   "source": [
    "# Filtrando apenas os tweets relevantes e os adicionando em uma nova variável\n",
    "relevante = dados.loc[dados['Irrelevante 0 / Relevante 1'] == 1, 'Limpo']\n",
    "relevante"
   ]
  },
  {
   "cell_type": "code",
   "execution_count": 12,
   "metadata": {
    "scrolled": true
   },
   "outputs": [
    {
     "name": "stdout",
     "output_type": "stream",
     "text": [
      "[['o', 'neymar', 'inovou', 'a', 'puma', 'https//tco/qtcuvd1svj'], ['a', 'puma', 'tá', 'deitando', 'nas', 'chuteiras', 'do', 'neymar', 'me', 'manda', 'essa', 'nova', 'ai', 'puma', 'que', 'eu', 'largo', 'a', 'minha', 'nike', '🤧'], ['g_estrella__', 'puma', 'tá', 'aí', 'mas', 'três', 'listra', 'tá', 'lindo', 'tbm'], ['gustavocapaa', 'nao', 'tem', 'puma', 'nike', 'ou', 'adidas'], ['chuteira', 'do', 'neypuma', 'apresentou', 'hoje', 'a', 'linha', 'neymar', 'jr', 'creativity', 'que', 'maravilha', 'de', 'chuteira', 'perfect', 'https//tco/jqcuvaxg1c'], ['a', 'nova', 'coleção', 'da', 'puma', '🤤'], ['camuflagemdodia', 'camisa', 'da', 'nike', 'boné', 'do', 'cleveland', 'short', 'da', 'adidas', 'tênis', 'da', 'puma', 'mochila', 'da', 'fila'], ['ela', 'repara', 'no', 'detalhe', 'do', 'meu', 'puma', 'disc'], ['neymarjrdepre', 'neymarjr', 'pumabrasil', 'onde', 'vende', 'essa', 'não', 'achei', 'na', 'loja', 'da', 'puma'], ['tão', 'cadelinha', 'da', 'puma', 'q', 'eu', 'acabei', 'd', 'perceber', 'q', 'eu', 'tenho', '3', 'blusas', 'iguais', 'msm', 'modelo', 'msm', 'cor'], ['neymarjr', 'pumafootball', 'oi', 'ney', 'eu', 'sou', 'seu', 'ídolo', 'me', 'manda', 'uma', 'meia', 'da', 'puma'], ['af', 'tô', 'vendo', 'um', 'boné', 'da', 'puma', 'aqui', 'no', 'site', 'muito', 'top', 'já', 'quero', 'que', 'chegue', 'na', 'loja', 'porque', 'o', 'frete', 'tá', 'uma', 'facada'], ['neymar', 'tá', 'dando', 'uma', 'estética', 'nova', 'mto', 'foda', 'pra', 'puma'], ['a', 'puma', 'arrasou', 'nesse', 'ensaio', 'gostei'], ['muuhpro', 'pumaadidas', 'ou', 'nike'], ['eu', 'indo', 'usar', 'puma', '😎', 'https//tco/liraqb33kp'], ['neymarjr', 'pumafootball', 'neymar', 'manda', 'um', 'desse', 'pra', 'mim', 'puma', 'bobojaco', 'aí', '🥺', '🥺', '🥺', '🧥', '🧥', '🧥', '🧥', '🧥', '🧥', '🧥'], ['mina', 'bandida', 'me', 'arranha', 'igual', 'puma', 'tô', 'elegante', 'vestido', 'de', 'puma'], ['é', 'neymar', 'essas', 'chuteiras', 'da', 'puma', 'não', 'dá', 'kkkkkkkkkk', 'nike', 'é', 'diferenciada', 'demais'], ['mcsoeiro_', 'kkkkkkkkkkk', 'puma', 'adidas', 'e', 'nike', '🤡', 'https//tco/a7a5ft89qt'], ['incrith', 'felaange', 'amiga', 'eu', 'estou', 'criando', 'a', 'desculpa', 'em', 'minha', 'cabeça', 'que', 'eu', 'queria', 'um', 'para', 'ser', 'o', 'único', 'que', 'usaria', 'fora', 'de', 'casa', 'né', 'e', 'uma', 'vez', 'tive', 'um', 'puma', 'e', 'além', 'de', 'bonito', 'ele', 'era', 'muito', 'confortável', 'tenho', 'um', 'tenis', 'muito', 'confortável', 'só', 'q', 'feio', 'e', 'os', 'bonitinhos', 'são', 'todos', 'conforto', 'meh', 'sabe'], ['comprei', 'um', 'tênis', 'da', 'puma', 'só', 'pq', 'ela', 'patrocina', 'o', 'neymar', 'se', 'n', 'esquece', '👋🏼'], ['márcio', 'me', 'deu', 'uma', 'blusa', 'linda', 'da', 'puma', 'é', 'um', 'amor', 'esse', 'garoto'], ['oscarwang_', 'meu', 'bb', 'eu', 'queria', 'ganhar', 'roupas', 'da', 'puma', 'tbm', 'esses', 'trainees', 'tiveram', 'sorte'], ['queria', 'uma', 'chuteira', 'da', 'puma'], ['lewishamiltonbr', 'puma', 'credo', 'mais', 'é', 'lindo', 'viu', '😍', '😍'], ['se', 'a', 'criatividade', 'fosse', 'um', 'idioma', 'a', 'tradução', 'perfeita', 'seria', 'nova', 'puma', 'future', 'z', 'creativity', 'neymarjr', '🔮', 'saiba', 'mais', 'no', 'https//tco/e0gotvkaoa', 'https//tco/wnft4clhcf'], ['jwpitbulldafade', 'tá', 'brincandopuma', 'e', 'rainhaestilo', 'e', 'conforto'], ['slc', 'mano', 'essa', 'chuteira', 'q', 'a', 'puma', 'lançou', 'é', 'mala', 'hein'], ['as', 'roupas', 'da', 'puma', 'que', 'o', 'neymar', 'usa', 'são', 'perfeitas', 'e', 'parecem', 'que', 'só', 'ele', 'tem', 'kkkkkk', 'esse', 'ai', 'com', 'os', 'detalhes', 'rosa', '😍'], ['quero', 'colação', 'do', 'neymar', 'nem', 'gosto', 'de', 'puma', 'mass', 'quero', 'https//tco/ugdfnnjrwb'], ['neymarjrdepre', 'neymarjr', 'pumabrasil', 'ginmyname', 'puma', 'finalmente', 'acertou', 'cz', '🙌🏻', '🙌🏻', '🙌🏻'], ['para', 'de', 'lançar', 'roupa', 'puma', 'tô', 'ficando', 'sem', 'money'], ['neymarjr', 'pumafootball', 'pede', 'pra', 'puma', 'me', 'dar', 'uma', 'luva', 'neymarjr', 'pumabrasil', 'pumafootball'], ['neymar', 'puma', '😍', 'https//tco/pfe3hdojnv'], ['a', 'puma', 'e', 'o', 'amor', 'da', 'minha', 'tmnc', '😍'], ['o', 'tênis', 'da', 'selena', 'e', 'do', 'neymar', 'em', 'parceria', 'c', 'a', 'puma', 'estão', 'ridículos', 'de', 'tão', 'maravilhosos'], ['neymar', 'x', 'puma', 'future', 'z', 'creativity', '👑', '🧢', 'https//tco/clker1ke4j'], ['as', 'novas', 'puma', 'de', 'neymar', '🔥', 'https//tco/mu6pxdnapi'], ['so', 'queria', 'uma', 'nova', 'chuteira', 'da', 'puma', '🥰', '🥰', '⚽', '️'], ['na', 'coleção', 'do', 'homi', 'a', 'puma', 'acertou', 'demais', 'pqp', 'https//tco/fpr3h397go'], ['gente', 'eu', 'queronova', 'coleção', 'do', 'neymar', 'com', 'a', 'puma', '“neymar', 'jr', 'creativity”tô', 'apaixonada', 'nessas', 'cores', '💕', '💙', 'https//tco/mfjt1vw9rl'], ['boné', 'da', 'adidas', 'camisa', 'da', 'puma', 'short', 'da', 'nike', 'e', 'chinelo', 'da', 'fila', 'é', 'muito', 'errado'], ['juanitobisonte', 'puma', 'ok', 'não', 'curto', 'muito', 'da', 'umbro', '🤷🏾\\u200d♂️', '🤷🏾\\u200d♂️'], ['wagnerjrcunha', 'atletico', 'siimmm', 'a', 'puma', 'mandou', 'bem', 'demais', 'nesse', 'no', 'slk', 'e', 'esse', 'jogo', 'também', 'dominante', 'como', 'sempre', '🐔', '⚫', '⚪', '❤', '️'], ['toda', 'noite', 'eu', 'vo', 'dormir', 'pensando', 'se', 'um', 'dia', 'conseguirei', 'encontrar', 'o', 'tênis', 'da', 'puma', 'que', 'eu', 'tinha', 'vendendo', 'em', 'algum', 'lugarou', 'algum', 'parecido'], ['comprar', 'meu', 'tênis', 'da', 'puma', 'mes', 'que', 'vem', 'e', 'não', 'tem', 'nada', 'que', 'me', 'impeça'], ['depois', 'que', 'o', 'neymar', 'foi', 'pra', 'puma', 'só', 'tá', 'fazendo', 'chuteira', 'zika', 'https//tco/umv3oudsqq'], ['minha', 'mãe', 'me', 'deu', 'um', 'tênis', 'da', 'puma', '🥺'], ['linda', 'essa', 'camisa', 'do', 'rgvfc', 'da', 'puma', '😍', 'https//tco/ph3sytmtbq'], ['próximos', 'panos', 'serão', 'da', 'puma'], ['simse', 'eu', 'tivesse', 'dinheiro', 'eu', 'só', 'usaria', 'puma', 'por', 'causa', 'do', 'ney', 'e', 'do', 'palmeiras'], ['lewishamiltonbr', 'puma', 'procure', 'um', 'defeito', 'e', 'falhe', 'miseravelmente'], ['puma', 'não', 'erra', 'ta', 'maluco', 'https//tco/wbbj1b2nsv'], ['sedento', 'pro', 'meu', 'puma', 'xray', 'chegar', 'e', 'meus', 'óculos', 'novos', 'e', 'sexta', 'vou', 'cortar', 'o', 'cabelo', 'fazer', 'a', 'barba', 'ai', 'papai', 'vou', 'estar', 'mt', 'lindo', 'nas', 'próximas', 'semanas', 'https//tco/nwx14tyqq8'], ['sabe', 'o', 'que', 'eu', 'acho', 'dahora', 'no', 'neymar', 'que', 'ele', 'inspira', 'a', 'criançada', 'manja', 'por', 'ex', 'ele', 'acabou', 'de', 'repostar', 'a', 'foto', 'que', 'o', 'filho', 'do', 'boateng', 'trajado', 'de', 'puma/neymar', 'então', 'assim', 'os', 'filho', 'dos', 'adversários', 'dele', 'quer', 'ser', 'igual', 'a', 'ele', '🥺'], ['puma', 'patrocinou', 'legal', 'esse', 'filme'], ['lastnoearth', 'os', 'da', 'puma', 'amg', 'acho', 'lindo', 'demaisss'], ['nunca', 'curti', 'corta', 'vento', 'mas', 'essa', 'que', 'comprei', 'da', 'puma', 'é', 'muito', 'style', '🥵', '🥵'], ['agora', 'sim', 'está', 'dando', 'vontade', 'de', 'usar', 'chuteira', 'da', 'puma', '✅', '🚀', 'https//tco/gx8opopdil'], ['puma', 'se', 'continua', 'assim', 'vai', 'dar', 'mais', 'que', 'falr', 'do', 'que', 'a', 'nike', 'e', 'a', 'adidas'], ['sério', 'se', 'alguém', 'ver', 'na', 'internet', 'as', 'camisas', 'da', 'puma', 'principalmente', 'de', '2013', 'e', '2015', 'me', 'manda', 'por', 'favoooor', 'tô', 'a', 'um', 'tempão', 'procurando', 'pra', 'comprar', 'e', 'não', 'acho', 'de', 'jeito', 'nenhum'], ['simaopereira11', 'nem', 'design', 'material', 'tecnologia', 'do', 'equipamento', 'puma', 'está', 'muito', 'mais', 'à', 'frente', 'ajuste', 'ao', 'corpo'], ['puma', 'podia', 'bem', 'patrocinar', 'o', 'benfica', 'esses', 'ao', 'menos', 'sabem', 'o', 'que', 'fazem', 'ao', 'que', 'toca', 'a', 'equipamentos', 'https//tco/epbw82crxn'], ['‘creativity’', 'a', 'nova', 'coleção', 'da', 'puma', 'com', 'assinatura', 'de', 'neymar', 'https//tco/zdwqezlquf'], ['acabou', 'de', 'chegar', 'meu', 'puma', 'q', 'eu', 'tinha', 'comprado', 'semana', 'passada', 'ehehehe', 'eh', 'mto', 'eh', 'massa'], ['tô', 'com', 'um', 'puma', 'disk', 'pra', 'brick'], ['por', 'mim', 'era', 'assinar', 'contrato', 'com', 'a', 'puma', 'ou', 'com', 'a', 'nike', 'camisolas', 'bem', 'mais', 'lindas'], ['tô', 'parando', 'pra', 'analisar', 'n', 'posso', 'pegar', 'dinheiro', 'q', 'já', 'quero', 'ir', 'na', 'centauro', 'sou', 'muito', 'fascinado', 'em', 'nike', 'é', 'puma', 'tmlc', '🤦🏽\\u200d♂️'], ['drinotty_', 'yoongglx', 'leektear', 'oliveira', 'eh', 'estiloso', 'ele', 'so', 'vem', 'com', 'tênis', 'da', 'nike', 'adidas', 'pumaele', 'tem', 'patrocínio'], ['finalmente', 'a', 'puma', 'fez', 'algo', 'bonito', '🙌🏻', 'https//tco/8aahj2b9ew'], ['quero', 'comprar', 'um', 'tenis', 'da', 'puma'], ['nova', 'coleção', 'puma', 'future', 'z', 'x', 'neymarele', 'tá', 'muito', 'gato', '🤤', 'https//tco/ihxjxlbbcp'], ['era', 'lindo', 'ver', 'o', 'benfica', 'com', 'marca', 'da', 'puma', 'https//tco/gxdsiiy8fi'], ['tt_marcelojr', 'o', 'neymar', 'deu', 'outra', 'cara', 'pra', 'puma', 'tem', 'jeito', 'n'], ['só', 'queria', 'pegar', 'umas', 'peças', 'da', 'puma'], ['a', 'coleção', 'da', 'pumagtgtgtgtgtgtgtgtgt'], ['dreams_thata', 'matheus', 'igorcabral11', '“hmmm', 'casaquinho', 'da', 'puma', 'baratinho”'], ['marcopuccini_', 'é', 'foda', 'mano', 'puma', 'ta', 'de', 'brincadeira'], ['bota', 'um', 'puma', 'disk', 'no', 'pé', 'que', 'delícia', 'de', 'mulher'], ['a', 'puma', 'me', 'deixou', 'forte', '🙌', '💸', '✍', '️'], ['fodase', 'vou', 'comprar', 'esse', 'tênis', 'da', 'puma'], ['mão', 'ta', 'coçando', 'pra', 'comprar', 'um', 'produto', 'do', 'neymar', 'na', 'puma'], ['soudanacao', 'puma', 'mto', 'mais', 'top', 'q', 'a', 'fraca', 'adidas'], ['neymar', 'x', 'puma', 'future', 'z', 'creativity', '👑', '👕', 'https//tco/pvrykn2jyz'], ['adorei', 'o', 'ensaio', 'da', 'puma', '😍'], ['se', 'eu', 'tivesse', 'condições', 'ia', 'andar', 'só', 'de', 'puma'], ['eu', 'quero', 'essa', 'camisa', 'nova', 'do', 'nj', 'x', 'puma'], ['neymar', 'x', 'puma', '“creativity”', 'https//tco/qgw6wwixpq'], ['krl', 'essa', 'blusa', 'da', 'puma', 'tá', 'enjoada', 'dms', 'pqp', '🤤', 'https//tco/ijk3sofdk8'], ['as', 'fotos', 'da', 'nova', 'campanha', 'da', 'puma', 'está', 'tudo', 'de', 'bom', 'ney', 'ney', 'está', 'muito', 'gato', 'https//tco/bb3mwc5msw'], ['gordaock', 'puma', 'me', 'patrocinou'], ['100', 'influenciada', 'pelo', 'menino', 'ney', 'pois', 'agora', 'quero', 'um', 'tênis', 'da', 'puma', 'nunca', 'comprei', 'nd', 'da', 'puma'], ['gurizinh0lr', 'eu', 'tbm', 'fiquei', 'louca', 'no', 'tênis', 'puma', 'que', 'a', 'dani', 'calabresa', 'usou', 'nos', 'posts', 'da', 'viagem', 'pra', 'disney', 'lindo', 'demais', 'quero', 'ver', 'o', 'do', 'lucas'], ['ela', 'repara', 'no', 'detalhe', 'do', 'meu', 'puma', 'disk'], ['só', 'quero', 'uma', 'camisa', 'da', 'puma', 'do', 'neymar', 'mas', 'só', 'tem', 'tam', 'masculino'], ['neymar', 'x', 'puma', '🔥', '🔥', 'https//tco/khartgobxr'], ['ironefixe', 'preferia', 'mil', 'vezes', 'mais', 'a', 'puma'], ['nova', 'coleção', 'puma', 'future', 'z', 'x', 'neymar', '🔥', 'https//tco/avcs45zpsh'], ['a', 'puma', 'nunca', 'tinha', 'feito', 'uma', 'chuteira', 'massa', 'até', 'a', 'chegada', 'do', 'adulto', 'ney', 'eles', 'esculacharam', 'dms', 'nessa', 'ai'], ['a', 'puma', 'ta', 'mexendo', 'cmg', '🤔'], ['criatividade', 'é', 'com', 'ele', 'mesmo', 'né', '😉', 'curtiram', 'a', 'nova', 'chuteira', 'neymarjrcreativity', '🤩', '👉🏽', 'veja', 'mais', 'https//tco/4vdwxb29xineymar', 'neymarjr', 'njr', 'puma', 'pumafootball', 'boots', 'creative', 'neymarfans', 'neymarskills', 'boots', 'futurez', 'https//tco/rokn7xyahp'], ['eu', 'sou', 'tão', 'cadelinha', 'do', 'neymar', 'que', 'eu', 'tô', 'cogitando', 'comprar', 'coisas', 'da', 'puma', 'só', 'por', 'causa', 'dele'], ['neymar', 'x', 'puma', 'vem', 'coisa', 'nova', 'por', 'ai', '🔥', 'https//tco/ornpk8sfug'], ['puma', 'a', 'calarme', '🤭', 'coisa', 'linda', 'https//tco/yxcclsptir'], ['oloco', 'minha', 'mãe', 'vai', 'comprar', 'duas', 'calças', 'da', 'puma', 'pra', 'mim', '🤠', '🤠'], ['simaopereira11', 'só', 'se', 'o', 'marketing', 'te', 'engana', 'muito', 'bem', 'puma', 'é', 'muito', 'mais', 'rentável', 'faz', 'melhores', 'contratos', 'e', 'em', 'termos', 'de', 'dimensão', 'está', 'ao', 'nível', 'de', 'nike', 'e', 'adidas', 'neste', 'momento', 'é', 'superior', 'à', 'adidas', 'que', 'perde', 'contratos', 'em', 'sítios', 'atrás', 'de', 'sítios'], ['to', 'pisando', 'muito', 'fofo', 'com', 'meu', 'puma', 'novo', '🤢'], ['a', 'puma', 'ficou', 'mais', 'bonita', 'né', 'efeito', 'neymar', 'https//tco/btrdxvdqvu'], ['toda', 'vez', 'que', 'vou', 'na', 'puma', 'ou', 'entro', 'no', 'site', 'quero', 'deixar', 'meu', 'dinheiro', 'todo', 'lá'], ['simaopereira11', 'não', 'identifico', 'nada', 'que', 'faça', 'a', 'adidas', 'melhor', 'que', 'a', 'puma'], ['yudi_viturin', 'a', 'puma', 'tá', 'fazendo', 'umas', 'coisa', 'linda', 'dmsss', 'nike', 'e', 'adidas', 'que', 'não', 'abre', 'o', 'olho', 'pra', 'ver'], ['puma', 'se', 'supera', 'cada', 'dia', 'nas', 'chuteiras', 'https//tco/uyprbzlz7j'], ['a', 'puma', 'lançou', 'nesta', 'quintafeira', 'a', 'coleção', '‘neymar', 'jr', 'creativity’', 'apresentando', 'a', 'inovadora', 'chuteira', 'future', 'z', '11', 'eai', 'curtiram', '🔥', '❤', 'https//tco/kl4mphhdvp'], ['neymarjr', 'pumafootball', 'koe', 'adulto', 'ney', 'manda', 'uma', 'peça', 'da', 'puma', 'aqui', 'pra', 'casa', 'tmj'], ['olha', 'essa', 'blusa', 'da', 'puma', '😍', '😍', 'https//tco/nglhaqvvvb'], ['rabona_tv', 'curtavermelha', 'por', 'mim', 'era', 'pumatêm', 'evoluído', 'e', 'com', 'designs', 'cada', 'vez', 'mais', 'bonitos', 'e', 'originais'], ['‘creativity’', 'a', 'nova', 'coleção', 'da', 'puma', 'com', 'neymar', 'https//tco/oqmlrnuyc5'], ['dallasginreturn', 'caramba', 'tuta', 'em', 'outro', 'nível', 'eu', 'tô', 'na', 'puma', 'e', '357', 'mag', 'juvenil', 'perto', 'disso', 'aí', '🇧🇷', '🇧🇷', '🇧🇷', '🤜', '🤜', '🤜', '🤜'], ['cada', 'um', 'com', 'seu', 'puma', 'https//tco/dyc96b2n2w'], ['ironefixe', 'gosto', 'da', 'adidas', 'mas', 'não', 'sou', 'contra', 'a', 'mudança', 'para', 'a', 'nike', 'ou', 'a', 'puma'], ['netooswaldo', 'proplayerstore', 'maaaano', 'a', 'puma', 'esse', 'ano', 'tá', 'com', 'td'], ['minha', 'prima', 'mais', 'uma', 'vez', 'me', 'surpreendendo', 'do', 'nada', 'de', 'puma', 'kkkkk', '😻', '😻', 'marianaa0910'], ['_vitorinhxxxx', 'na', 'real', 'eu', 'prefiro', 'puma', 'pros', 'dois'], ['ghostlv1', 'curtavermelha', 'a', 'puma', 'vai', 'meter', 'a', 'adidas', 'a', 'um', 'canto', 'daqui', 'a', 'um', 'ano', 'ou', 'dois'], ['estou', 'prestes', 'a', 'cometer', 'o', 'crime', 'no', 'site', 'da', 'puma', '1', 'like', 'eu', 'confirmo', 'a', 'compra'], ['neymar', 'x', 'puma', 'future', 'z', 'creativity', '👑', '👟', 'https//tco/dixxlfqek9'], ['simaopereira11', 'podes', 'achar', 'que', 'ficam', 'mal', 'em', 'termos', 'estéticos', 'mas', 'o', 'ajuste', 'ao', 'corpo', 'da', 'puma', 'é', 'muito', 'melhor', 'para', 'o', 'atleta', 'do', 'que', 'a', 'adidas'], ['soaresday_', 'vamos', 'trocar', 'pelo', 'verde', 'da', 'puma'], ['neymarjrdepre', 'neymarjr', 'pumabrasil', 'neymar', 'e', 'patrocinado', 'pela', 'pumapuma', 'automaticamente', 'fazer', 'roupas', 'e', 'tênis', 'bonitos'], ['leoboschiroli', 'tô', 'quase', 'pedindo', 'aquele', 'puma'], ['oq', 'é', 'aquele', 'puma', 'que', 'o', 'neymar', 'largou', 'no', 'story', 'to', 'apaixonado', 'quero', 'um']]\n"
     ]
    }
   ],
   "source": [
    "# 1° for: Separar os tweets relevantes em palavras relevantes dando um split\n",
    "p_relevantes = [] \n",
    "for c,conteudo in enumerate (relevante):\n",
    "    p_relevantes.append(conteudo.split())\n",
    "    \n",
    "print(p_relevantes)\n",
    "#p_relevantes"
   ]
  },
  {
   "cell_type": "code",
   "execution_count": 13,
   "metadata": {
    "scrolled": true
   },
   "outputs": [
    {
     "name": "stdout",
     "output_type": "stream",
     "text": [
      "['o', 'neymar', 'inovou', 'a', 'puma', 'https//tco/qtcuvd1svj', 'a', 'puma', 'tá', 'deitando', 'nas', 'chuteiras', 'do', 'neymar', 'me', 'manda', 'essa', 'nova', 'ai', 'puma', 'que', 'eu', 'largo', 'a', 'minha', 'nike', '🤧', 'g_estrella__', 'puma', 'tá', 'aí', 'mas', 'três', 'listra', 'tá', 'lindo', 'tbm', 'gustavocapaa', 'nao', 'tem', 'puma', 'nike', 'ou', 'adidas', 'chuteira', 'do', 'neypuma', 'apresentou', 'hoje', 'a', 'linha', 'neymar', 'jr', 'creativity', 'que', 'maravilha', 'de', 'chuteira', 'perfect', 'https//tco/jqcuvaxg1c', 'a', 'nova', 'coleção', 'da', 'puma', '🤤', 'camuflagemdodia', 'camisa', 'da', 'nike', 'boné', 'do', 'cleveland', 'short', 'da', 'adidas', 'tênis', 'da', 'puma', 'mochila', 'da', 'fila', 'ela', 'repara', 'no', 'detalhe', 'do', 'meu', 'puma', 'disc', 'neymarjrdepre', 'neymarjr', 'pumabrasil', 'onde', 'vende', 'essa', 'não', 'achei', 'na', 'loja', 'da', 'puma', 'tão', 'cadelinha', 'da', 'puma', 'q', 'eu', 'acabei', 'd', 'perceber', 'q', 'eu', 'tenho', '3', 'blusas', 'iguais', 'msm', 'modelo', 'msm', 'cor', 'neymarjr', 'pumafootball', 'oi', 'ney', 'eu', 'sou', 'seu', 'ídolo', 'me', 'manda', 'uma', 'meia', 'da', 'puma', 'af', 'tô', 'vendo', 'um', 'boné', 'da', 'puma', 'aqui', 'no', 'site', 'muito', 'top', 'já', 'quero', 'que', 'chegue', 'na', 'loja', 'porque', 'o', 'frete', 'tá', 'uma', 'facada', 'neymar', 'tá', 'dando', 'uma', 'estética', 'nova', 'mto', 'foda', 'pra', 'puma', 'a', 'puma', 'arrasou', 'nesse', 'ensaio', 'gostei', 'muuhpro', 'pumaadidas', 'ou', 'nike', 'eu', 'indo', 'usar', 'puma', '😎', 'https//tco/liraqb33kp', 'neymarjr', 'pumafootball', 'neymar', 'manda', 'um', 'desse', 'pra', 'mim', 'puma', 'bobojaco', 'aí', '🥺', '🥺', '🥺', '🧥', '🧥', '🧥', '🧥', '🧥', '🧥', '🧥', 'mina', 'bandida', 'me', 'arranha', 'igual', 'puma', 'tô', 'elegante', 'vestido', 'de', 'puma', 'é', 'neymar', 'essas', 'chuteiras', 'da', 'puma', 'não', 'dá', 'kkkkkkkkkk', 'nike', 'é', 'diferenciada', 'demais', 'mcsoeiro_', 'kkkkkkkkkkk', 'puma', 'adidas', 'e', 'nike', '🤡', 'https//tco/a7a5ft89qt', 'incrith', 'felaange', 'amiga', 'eu', 'estou', 'criando', 'a', 'desculpa', 'em', 'minha', 'cabeça', 'que', 'eu', 'queria', 'um', 'para', 'ser', 'o', 'único', 'que', 'usaria', 'fora', 'de', 'casa', 'né', 'e', 'uma', 'vez', 'tive', 'um', 'puma', 'e', 'além', 'de', 'bonito', 'ele', 'era', 'muito', 'confortável', 'tenho', 'um', 'tenis', 'muito', 'confortável', 'só', 'q', 'feio', 'e', 'os', 'bonitinhos', 'são', 'todos', 'conforto', 'meh', 'sabe', 'comprei', 'um', 'tênis', 'da', 'puma', 'só', 'pq', 'ela', 'patrocina', 'o', 'neymar', 'se', 'n', 'esquece', '👋🏼', 'márcio', 'me', 'deu', 'uma', 'blusa', 'linda', 'da', 'puma', 'é', 'um', 'amor', 'esse', 'garoto', 'oscarwang_', 'meu', 'bb', 'eu', 'queria', 'ganhar', 'roupas', 'da', 'puma', 'tbm', 'esses', 'trainees', 'tiveram', 'sorte', 'queria', 'uma', 'chuteira', 'da', 'puma', 'lewishamiltonbr', 'puma', 'credo', 'mais', 'é', 'lindo', 'viu', '😍', '😍', 'se', 'a', 'criatividade', 'fosse', 'um', 'idioma', 'a', 'tradução', 'perfeita', 'seria', 'nova', 'puma', 'future', 'z', 'creativity', 'neymarjr', '🔮', 'saiba', 'mais', 'no', 'https//tco/e0gotvkaoa', 'https//tco/wnft4clhcf', 'jwpitbulldafade', 'tá', 'brincandopuma', 'e', 'rainhaestilo', 'e', 'conforto', 'slc', 'mano', 'essa', 'chuteira', 'q', 'a', 'puma', 'lançou', 'é', 'mala', 'hein', 'as', 'roupas', 'da', 'puma', 'que', 'o', 'neymar', 'usa', 'são', 'perfeitas', 'e', 'parecem', 'que', 'só', 'ele', 'tem', 'kkkkkk', 'esse', 'ai', 'com', 'os', 'detalhes', 'rosa', '😍', 'quero', 'colação', 'do', 'neymar', 'nem', 'gosto', 'de', 'puma', 'mass', 'quero', 'https//tco/ugdfnnjrwb', 'neymarjrdepre', 'neymarjr', 'pumabrasil', 'ginmyname', 'puma', 'finalmente', 'acertou', 'cz', '🙌🏻', '🙌🏻', '🙌🏻', 'para', 'de', 'lançar', 'roupa', 'puma', 'tô', 'ficando', 'sem', 'money', 'neymarjr', 'pumafootball', 'pede', 'pra', 'puma', 'me', 'dar', 'uma', 'luva', 'neymarjr', 'pumabrasil', 'pumafootball', 'neymar', 'puma', '😍', 'https//tco/pfe3hdojnv', 'a', 'puma', 'e', 'o', 'amor', 'da', 'minha', 'tmnc', '😍', 'o', 'tênis', 'da', 'selena', 'e', 'do', 'neymar', 'em', 'parceria', 'c', 'a', 'puma', 'estão', 'ridículos', 'de', 'tão', 'maravilhosos', 'neymar', 'x', 'puma', 'future', 'z', 'creativity', '👑', '🧢', 'https//tco/clker1ke4j', 'as', 'novas', 'puma', 'de', 'neymar', '🔥', 'https//tco/mu6pxdnapi', 'so', 'queria', 'uma', 'nova', 'chuteira', 'da', 'puma', '🥰', '🥰', '⚽', '️', 'na', 'coleção', 'do', 'homi', 'a', 'puma', 'acertou', 'demais', 'pqp', 'https//tco/fpr3h397go', 'gente', 'eu', 'queronova', 'coleção', 'do', 'neymar', 'com', 'a', 'puma', '“neymar', 'jr', 'creativity”tô', 'apaixonada', 'nessas', 'cores', '💕', '💙', 'https//tco/mfjt1vw9rl', 'boné', 'da', 'adidas', 'camisa', 'da', 'puma', 'short', 'da', 'nike', 'e', 'chinelo', 'da', 'fila', 'é', 'muito', 'errado', 'juanitobisonte', 'puma', 'ok', 'não', 'curto', 'muito', 'da', 'umbro', '🤷🏾\\u200d♂️', '🤷🏾\\u200d♂️', 'wagnerjrcunha', 'atletico', 'siimmm', 'a', 'puma', 'mandou', 'bem', 'demais', 'nesse', 'no', 'slk', 'e', 'esse', 'jogo', 'também', 'dominante', 'como', 'sempre', '🐔', '⚫', '⚪', '❤', '️', 'toda', 'noite', 'eu', 'vo', 'dormir', 'pensando', 'se', 'um', 'dia', 'conseguirei', 'encontrar', 'o', 'tênis', 'da', 'puma', 'que', 'eu', 'tinha', 'vendendo', 'em', 'algum', 'lugarou', 'algum', 'parecido', 'comprar', 'meu', 'tênis', 'da', 'puma', 'mes', 'que', 'vem', 'e', 'não', 'tem', 'nada', 'que', 'me', 'impeça', 'depois', 'que', 'o', 'neymar', 'foi', 'pra', 'puma', 'só', 'tá', 'fazendo', 'chuteira', 'zika', 'https//tco/umv3oudsqq', 'minha', 'mãe', 'me', 'deu', 'um', 'tênis', 'da', 'puma', '🥺', 'linda', 'essa', 'camisa', 'do', 'rgvfc', 'da', 'puma', '😍', 'https//tco/ph3sytmtbq', 'próximos', 'panos', 'serão', 'da', 'puma', 'simse', 'eu', 'tivesse', 'dinheiro', 'eu', 'só', 'usaria', 'puma', 'por', 'causa', 'do', 'ney', 'e', 'do', 'palmeiras', 'lewishamiltonbr', 'puma', 'procure', 'um', 'defeito', 'e', 'falhe', 'miseravelmente', 'puma', 'não', 'erra', 'ta', 'maluco', 'https//tco/wbbj1b2nsv', 'sedento', 'pro', 'meu', 'puma', 'xray', 'chegar', 'e', 'meus', 'óculos', 'novos', 'e', 'sexta', 'vou', 'cortar', 'o', 'cabelo', 'fazer', 'a', 'barba', 'ai', 'papai', 'vou', 'estar', 'mt', 'lindo', 'nas', 'próximas', 'semanas', 'https//tco/nwx14tyqq8', 'sabe', 'o', 'que', 'eu', 'acho', 'dahora', 'no', 'neymar', 'que', 'ele', 'inspira', 'a', 'criançada', 'manja', 'por', 'ex', 'ele', 'acabou', 'de', 'repostar', 'a', 'foto', 'que', 'o', 'filho', 'do', 'boateng', 'trajado', 'de', 'puma/neymar', 'então', 'assim', 'os', 'filho', 'dos', 'adversários', 'dele', 'quer', 'ser', 'igual', 'a', 'ele', '🥺', 'puma', 'patrocinou', 'legal', 'esse', 'filme', 'lastnoearth', 'os', 'da', 'puma', 'amg', 'acho', 'lindo', 'demaisss', 'nunca', 'curti', 'corta', 'vento', 'mas', 'essa', 'que', 'comprei', 'da', 'puma', 'é', 'muito', 'style', '🥵', '🥵', 'agora', 'sim', 'está', 'dando', 'vontade', 'de', 'usar', 'chuteira', 'da', 'puma', '✅', '🚀', 'https//tco/gx8opopdil', 'puma', 'se', 'continua', 'assim', 'vai', 'dar', 'mais', 'que', 'falr', 'do', 'que', 'a', 'nike', 'e', 'a', 'adidas', 'sério', 'se', 'alguém', 'ver', 'na', 'internet', 'as', 'camisas', 'da', 'puma', 'principalmente', 'de', '2013', 'e', '2015', 'me', 'manda', 'por', 'favoooor', 'tô', 'a', 'um', 'tempão', 'procurando', 'pra', 'comprar', 'e', 'não', 'acho', 'de', 'jeito', 'nenhum', 'simaopereira11', 'nem', 'design', 'material', 'tecnologia', 'do', 'equipamento', 'puma', 'está', 'muito', 'mais', 'à', 'frente', 'ajuste', 'ao', 'corpo', 'puma', 'podia', 'bem', 'patrocinar', 'o', 'benfica', 'esses', 'ao', 'menos', 'sabem', 'o', 'que', 'fazem', 'ao', 'que', 'toca', 'a', 'equipamentos', 'https//tco/epbw82crxn', '‘creativity’', 'a', 'nova', 'coleção', 'da', 'puma', 'com', 'assinatura', 'de', 'neymar', 'https//tco/zdwqezlquf', 'acabou', 'de', 'chegar', 'meu', 'puma', 'q', 'eu', 'tinha', 'comprado', 'semana', 'passada', 'ehehehe', 'eh', 'mto', 'eh', 'massa', 'tô', 'com', 'um', 'puma', 'disk', 'pra', 'brick', 'por', 'mim', 'era', 'assinar', 'contrato', 'com', 'a', 'puma', 'ou', 'com', 'a', 'nike', 'camisolas', 'bem', 'mais', 'lindas', 'tô', 'parando', 'pra', 'analisar', 'n', 'posso', 'pegar', 'dinheiro', 'q', 'já', 'quero', 'ir', 'na', 'centauro', 'sou', 'muito', 'fascinado', 'em', 'nike', 'é', 'puma', 'tmlc', '🤦🏽\\u200d♂️', 'drinotty_', 'yoongglx', 'leektear', 'oliveira', 'eh', 'estiloso', 'ele', 'so', 'vem', 'com', 'tênis', 'da', 'nike', 'adidas', 'pumaele', 'tem', 'patrocínio', 'finalmente', 'a', 'puma', 'fez', 'algo', 'bonito', '🙌🏻', 'https//tco/8aahj2b9ew', 'quero', 'comprar', 'um', 'tenis', 'da', 'puma', 'nova', 'coleção', 'puma', 'future', 'z', 'x', 'neymarele', 'tá', 'muito', 'gato', '🤤', 'https//tco/ihxjxlbbcp', 'era', 'lindo', 'ver', 'o', 'benfica', 'com', 'marca', 'da', 'puma', 'https//tco/gxdsiiy8fi', 'tt_marcelojr', 'o', 'neymar', 'deu', 'outra', 'cara', 'pra', 'puma', 'tem', 'jeito', 'n', 'só', 'queria', 'pegar', 'umas', 'peças', 'da', 'puma', 'a', 'coleção', 'da', 'pumagtgtgtgtgtgtgtgtgt', 'dreams_thata', 'matheus', 'igorcabral11', '“hmmm', 'casaquinho', 'da', 'puma', 'baratinho”', 'marcopuccini_', 'é', 'foda', 'mano', 'puma', 'ta', 'de', 'brincadeira', 'bota', 'um', 'puma', 'disk', 'no', 'pé', 'que', 'delícia', 'de', 'mulher', 'a', 'puma', 'me', 'deixou', 'forte', '🙌', '💸', '✍', '️', 'fodase', 'vou', 'comprar', 'esse', 'tênis', 'da', 'puma', 'mão', 'ta', 'coçando', 'pra', 'comprar', 'um', 'produto', 'do', 'neymar', 'na', 'puma', 'soudanacao', 'puma', 'mto', 'mais', 'top', 'q', 'a', 'fraca', 'adidas', 'neymar', 'x', 'puma', 'future', 'z', 'creativity', '👑', '👕', 'https//tco/pvrykn2jyz', 'adorei', 'o', 'ensaio', 'da', 'puma', '😍', 'se', 'eu', 'tivesse', 'condições', 'ia', 'andar', 'só', 'de', 'puma', 'eu', 'quero', 'essa', 'camisa', 'nova', 'do', 'nj', 'x', 'puma', 'neymar', 'x', 'puma', '“creativity”', 'https//tco/qgw6wwixpq', 'krl', 'essa', 'blusa', 'da', 'puma', 'tá', 'enjoada', 'dms', 'pqp', '🤤', 'https//tco/ijk3sofdk8', 'as', 'fotos', 'da', 'nova', 'campanha', 'da', 'puma', 'está', 'tudo', 'de', 'bom', 'ney', 'ney', 'está', 'muito', 'gato', 'https//tco/bb3mwc5msw', 'gordaock', 'puma', 'me', 'patrocinou', '100', 'influenciada', 'pelo', 'menino', 'ney', 'pois', 'agora', 'quero', 'um', 'tênis', 'da', 'puma', 'nunca', 'comprei', 'nd', 'da', 'puma', 'gurizinh0lr', 'eu', 'tbm', 'fiquei', 'louca', 'no', 'tênis', 'puma', 'que', 'a', 'dani', 'calabresa', 'usou', 'nos', 'posts', 'da', 'viagem', 'pra', 'disney', 'lindo', 'demais', 'quero', 'ver', 'o', 'do', 'lucas', 'ela', 'repara', 'no', 'detalhe', 'do', 'meu', 'puma', 'disk', 'só', 'quero', 'uma', 'camisa', 'da', 'puma', 'do', 'neymar', 'mas', 'só', 'tem', 'tam', 'masculino', 'neymar', 'x', 'puma', '🔥', '🔥', 'https//tco/khartgobxr', 'ironefixe', 'preferia', 'mil', 'vezes', 'mais', 'a', 'puma', 'nova', 'coleção', 'puma', 'future', 'z', 'x', 'neymar', '🔥', 'https//tco/avcs45zpsh', 'a', 'puma', 'nunca', 'tinha', 'feito', 'uma', 'chuteira', 'massa', 'até', 'a', 'chegada', 'do', 'adulto', 'ney', 'eles', 'esculacharam', 'dms', 'nessa', 'ai', 'a', 'puma', 'ta', 'mexendo', 'cmg', '🤔', 'criatividade', 'é', 'com', 'ele', 'mesmo', 'né', '😉', 'curtiram', 'a', 'nova', 'chuteira', 'neymarjrcreativity', '🤩', '👉🏽', 'veja', 'mais', 'https//tco/4vdwxb29xineymar', 'neymarjr', 'njr', 'puma', 'pumafootball', 'boots', 'creative', 'neymarfans', 'neymarskills', 'boots', 'futurez', 'https//tco/rokn7xyahp', 'eu', 'sou', 'tão', 'cadelinha', 'do', 'neymar', 'que', 'eu', 'tô', 'cogitando', 'comprar', 'coisas', 'da', 'puma', 'só', 'por', 'causa', 'dele', 'neymar', 'x', 'puma', 'vem', 'coisa', 'nova', 'por', 'ai', '🔥', 'https//tco/ornpk8sfug', 'puma', 'a', 'calarme', '🤭', 'coisa', 'linda', 'https//tco/yxcclsptir', 'oloco', 'minha', 'mãe', 'vai', 'comprar', 'duas', 'calças', 'da', 'puma', 'pra', 'mim', '🤠', '🤠', 'simaopereira11', 'só', 'se', 'o', 'marketing', 'te', 'engana', 'muito', 'bem', 'puma', 'é', 'muito', 'mais', 'rentável', 'faz', 'melhores', 'contratos', 'e', 'em', 'termos', 'de', 'dimensão', 'está', 'ao', 'nível', 'de', 'nike', 'e', 'adidas', 'neste', 'momento', 'é', 'superior', 'à', 'adidas', 'que', 'perde', 'contratos', 'em', 'sítios', 'atrás', 'de', 'sítios', 'to', 'pisando', 'muito', 'fofo', 'com', 'meu', 'puma', 'novo', '🤢', 'a', 'puma', 'ficou', 'mais', 'bonita', 'né', 'efeito', 'neymar', 'https//tco/btrdxvdqvu', 'toda', 'vez', 'que', 'vou', 'na', 'puma', 'ou', 'entro', 'no', 'site', 'quero', 'deixar', 'meu', 'dinheiro', 'todo', 'lá', 'simaopereira11', 'não', 'identifico', 'nada', 'que', 'faça', 'a', 'adidas', 'melhor', 'que', 'a', 'puma', 'yudi_viturin', 'a', 'puma', 'tá', 'fazendo', 'umas', 'coisa', 'linda', 'dmsss', 'nike', 'e', 'adidas', 'que', 'não', 'abre', 'o', 'olho', 'pra', 'ver', 'puma', 'se', 'supera', 'cada', 'dia', 'nas', 'chuteiras', 'https//tco/uyprbzlz7j', 'a', 'puma', 'lançou', 'nesta', 'quintafeira', 'a', 'coleção', '‘neymar', 'jr', 'creativity’', 'apresentando', 'a', 'inovadora', 'chuteira', 'future', 'z', '11', 'eai', 'curtiram', '🔥', '❤', 'https//tco/kl4mphhdvp', 'neymarjr', 'pumafootball', 'koe', 'adulto', 'ney', 'manda', 'uma', 'peça', 'da', 'puma', 'aqui', 'pra', 'casa', 'tmj', 'olha', 'essa', 'blusa', 'da', 'puma', '😍', '😍', 'https//tco/nglhaqvvvb', 'rabona_tv', 'curtavermelha', 'por', 'mim', 'era', 'pumatêm', 'evoluído', 'e', 'com', 'designs', 'cada', 'vez', 'mais', 'bonitos', 'e', 'originais', '‘creativity’', 'a', 'nova', 'coleção', 'da', 'puma', 'com', 'neymar', 'https//tco/oqmlrnuyc5', 'dallasginreturn', 'caramba', 'tuta', 'em', 'outro', 'nível', 'eu', 'tô', 'na', 'puma', 'e', '357', 'mag', 'juvenil', 'perto', 'disso', 'aí', '🇧🇷', '🇧🇷', '🇧🇷', '🤜', '🤜', '🤜', '🤜', 'cada', 'um', 'com', 'seu', 'puma', 'https//tco/dyc96b2n2w', 'ironefixe', 'gosto', 'da', 'adidas', 'mas', 'não', 'sou', 'contra', 'a', 'mudança', 'para', 'a', 'nike', 'ou', 'a', 'puma', 'netooswaldo', 'proplayerstore', 'maaaano', 'a', 'puma', 'esse', 'ano', 'tá', 'com', 'td', 'minha', 'prima', 'mais', 'uma', 'vez', 'me', 'surpreendendo', 'do', 'nada', 'de', 'puma', 'kkkkk', '😻', '😻', 'marianaa0910', '_vitorinhxxxx', 'na', 'real', 'eu', 'prefiro', 'puma', 'pros', 'dois', 'ghostlv1', 'curtavermelha', 'a', 'puma', 'vai', 'meter', 'a', 'adidas', 'a', 'um', 'canto', 'daqui', 'a', 'um', 'ano', 'ou', 'dois', 'estou', 'prestes', 'a', 'cometer', 'o', 'crime', 'no', 'site', 'da', 'puma', '1', 'like', 'eu', 'confirmo', 'a', 'compra', 'neymar', 'x', 'puma', 'future', 'z', 'creativity', '👑', '👟', 'https//tco/dixxlfqek9', 'simaopereira11', 'podes', 'achar', 'que', 'ficam', 'mal', 'em', 'termos', 'estéticos', 'mas', 'o', 'ajuste', 'ao', 'corpo', 'da', 'puma', 'é', 'muito', 'melhor', 'para', 'o', 'atleta', 'do', 'que', 'a', 'adidas', 'soaresday_', 'vamos', 'trocar', 'pelo', 'verde', 'da', 'puma', 'neymarjrdepre', 'neymarjr', 'pumabrasil', 'neymar', 'e', 'patrocinado', 'pela', 'pumapuma', 'automaticamente', 'fazer', 'roupas', 'e', 'tênis', 'bonitos', 'leoboschiroli', 'tô', 'quase', 'pedindo', 'aquele', 'puma', 'oq', 'é', 'aquele', 'puma', 'que', 'o', 'neymar', 'largou', 'no', 'story', 'to', 'apaixonado', 'quero', 'um']\n"
     ]
    }
   ],
   "source": [
    "# Definindo todas as palvras revelantes em um conjunto\n",
    "todas_palavras_relevantes=[]\n",
    "for index, conteudo in enumerate(p_relevantes):\n",
    "    cont=0\n",
    "    while cont < len(p_relevantes[index]):\n",
    "        novo= conteudo[cont]\n",
    "        todas_palavras_relevantes.append(novo)\n",
    "        cont+=1\n",
    "print(todas_palavras_relevantes)"
   ]
  },
  {
   "cell_type": "code",
   "execution_count": 14,
   "metadata": {},
   "outputs": [
    {
     "name": "stdout",
     "output_type": "stream",
     "text": [
      " O total de Palavras relevantes é 1730\n"
     ]
    }
   ],
   "source": [
    "# Informando o total de palavras dos tweets relevantes\n",
    "print(f' O total de Palavras relevantes é {len(todas_palavras_relevantes)}')"
   ]
  },
  {
   "cell_type": "code",
   "execution_count": 15,
   "metadata": {},
   "outputs": [
    {
     "data": {
      "text/plain": [
       "0                        o\n",
       "1                   neymar\n",
       "2                   inovou\n",
       "3                        a\n",
       "4                     puma\n",
       "5    https//tco/qtcuvd1svj\n",
       "6                        a\n",
       "7                     puma\n",
       "8                       tá\n",
       "9                 deitando\n",
       "dtype: object"
      ]
     },
     "execution_count": 15,
     "metadata": {},
     "output_type": "execute_result"
    }
   ],
   "source": [
    "# Guardando as palavras como um pd.Series\n",
    "serie_relevante = pd.Series(todas_palavras_relevantes)\n",
    "serie_relevante.head(10)"
   ]
  },
  {
   "cell_type": "code",
   "execution_count": 16,
   "metadata": {},
   "outputs": [
    {
     "data": {
      "text/plain": [
       "puma             127\n",
       "da                57\n",
       "a                 56\n",
       "neymar            31\n",
       "que               30\n",
       "                ... \n",
       "marcopuccini_      1\n",
       "assinar            1\n",
       "tam                1\n",
       "apaixonado         1\n",
       "fascinado          1\n",
       "Length: 711, dtype: int64"
      ]
     },
     "execution_count": 16,
     "metadata": {},
     "output_type": "execute_result"
    }
   ],
   "source": [
    "# Frequencia absoluta de palavras relevantes\n",
    "tabela_relevante = serie_relevante.value_counts()\n",
    "tabela_relevante"
   ]
  },
  {
   "cell_type": "code",
   "execution_count": 67,
   "metadata": {},
   "outputs": [],
   "source": [
    "################ Frequencia relativa de palavras relevantes\n",
    "# tabela_relevante_absoluta = serie_relevante.value_counts()\n",
    "# tabela_relevante_absoluta"
   ]
  },
  {
   "cell_type": "code",
   "execution_count": 66,
   "metadata": {},
   "outputs": [
    {
     "data": {
      "text/plain": [
       "1730"
      ]
     },
     "execution_count": 66,
     "metadata": {},
     "output_type": "execute_result"
    }
   ],
   "source": [
    "tabela_relevante.sum()"
   ]
  },
  {
   "cell_type": "markdown",
   "metadata": {},
   "source": [
    "<div id=\"Fazendo o mesmo para as palavras irrelevantes\"></div>\n",
    "\n",
    "### Fazendo o mesmo para as palavras irrelevantes\n",
    "\n"
   ]
  },
  {
   "cell_type": "code",
   "execution_count": 19,
   "metadata": {},
   "outputs": [
    {
     "data": {
      "text/plain": [
       "2      fico assim no da puma affss https//tco/1ygyhdzhmi\n",
       "4                       0ketlyn_s eu acho que um puma ^^\n",
       "9      kevass0 neymarjrdepre neymarjr pumabrasil site...\n",
       "12        das puma fick prada  🖕🏿  https//tco/us7iemubr6\n",
       "13     negócio imperdível  tshirt puma originalps se ...\n",
       "                             ...                        \n",
       "292    tiagomarques32 rbaptista08 curtavermelha no en...\n",
       "293    ch3rrb0mb uhumé hebe ele é um floppa é tipo um...\n",
       "295    brunabud_ aí poderia ter mais que so um puma d...\n",
       "296    to apaixonada num tênis puma mas vi uns coment...\n",
       "299    aprendi a gostar até de puma mas cat amp dog n...\n",
       "Name: Limpo, Length: 168, dtype: object"
      ]
     },
     "execution_count": 19,
     "metadata": {},
     "output_type": "execute_result"
    }
   ],
   "source": [
    "# Filtrando apenas os tweets irrelevantes e os adicionando em uma nova variável\n",
    "irrelevante = dados.loc[dados['Irrelevante 0 / Relevante 1'] == 0, 'Limpo']\n",
    "irrelevante"
   ]
  },
  {
   "cell_type": "code",
   "execution_count": 20,
   "metadata": {},
   "outputs": [
    {
     "name": "stdout",
     "output_type": "stream",
     "text": [
      "[['fico', 'assim', 'no', 'da', 'puma', 'affss', 'https//tco/1ygyhdzhmi'], ['0ketlyn_s', 'eu', 'acho', 'que', 'um', 'puma', '^^'], ['kevass0', 'neymarjrdepre', 'neymarjr', 'pumabrasil', 'site', 'da', 'puma', 'mas', 'ainda', 'não', 'tá', 'no', 'catálogo', 'brasil', 'americana', 'já', 'está'], ['das', 'puma', 'fick', 'prada', '🖕🏿', 'https//tco/us7iemubr6'], ['negócio', 'imperdível', 'tshirt', 'puma', 'originalps', 'se', 'não', 'queres', 'comprar', 'também', 'não', 'atrapalhes', 'o', 'negóciovamos', 'lá', 'que', 'hoje', 'é', 'présexta', 'bom', 'dia', '♡thursdaymotivationthursdaythoughts', 'https//tco/3bitcptxx4'], ['la', 'fameuse', 'puma', 'ouigo', 'https//tco/yyiqbjqdok'], ['puma_parda', 'ela', 'é', 'de', 'campina', 'grande', 'tá', 'carente', 'é', 'quase', 'inevitável', 'kkk', 'vamo', 'passar', 'pano', 'pra', 'ideia', 'de', 'tabacudo'], ['lysaparede_', 'mas', 'eles', 'não', 'fazem', 'roupa', 'pro', 'paddock', 'né', 'os', 'meca', 'usam', 'puma'], ['williambender', 'cadê', 'o', 'dinheiro', 'das', 'vendas', 'de', 'jogadores', 'premiações', 'quase', '250milhões', 'direito', 'de', 'tv', 'da', 'rede', 'globo', 'premieri', 'tnt', 'sbt', 'puma', '26', 'milhões', 'quê', 'ganhou', 'no', 'campeonato', 'brasileiro', 'sai', 'fora', 'maurício', 'bananote', 'anderson', 'barros', 'jaiminho', 'cícero', 'sousa'], ['drewbsizzler', 'euphorart', 'lovatorns', 'aí', 'você', 'forçou', 'né', 'a', 'hailey', 'tá', 'crescendo', 'mt', 'como', 'modelo', 'fotografia', 'mas', 'ela', 'ainda', 'não', 'pegou', 'contratos', 'grandes', 'como', 'a', 'selena', 'puma', 'pantene', 'cocacola', 'adidas', 'coach', 'louis', 'vuitton', 'verizon', 'e', 'tem', 'mais', 'capa', 'vogue', 'us', 'que', 'a', 'hailey', 'mesmo', 'sem', 'ser', 'modelo'], ['petição', 'pra', 'música', '“puma”', 'do', 'dogor_10', 'pexande', 'npsidoka', 'virar', 'julia', 'de', 'tanto', 'que', 'eu', 'amo', 'ela', 'demais'], ['xcapimbr', 'vai', 'comprar', 'studios', 'kkkkkkkkkkkkk'], ['alguém', 'sabe', 'qual', 'o', 'pix', 'da', 'puma', 'https//tco/t6tdute9jo'], ['puma_parda', 'foda', 'é', 'que', 'esse', 'tipo', 'de', 'coisa', 'do', 'inss', 'é', 'supor', 'comum', 'meu', 'pai', 'até', 'hoje', 'não', 'conseguiu', 'se', 'aposentar', 'mas', 'não', 'pode', 'trabalhar', 'ele', 'tem', 'uma', 'doença', 'de', 'pele', 'muito', 'rara', 'e', 'como', 'é', 'enfermeiro', 'corre', 'risco', 'de', 'infecções', 'o', 'inss', 'não', 'reconhece', 'a', 'doença', 'que', 'ele', 'tem'], ['puma_bet', 'metin52703103', 'pumabet', 'escoubar'], ['se', 'alguém', 'souber', 'de', 'sorteios', 'q', 'os', 'prêmios', 'são', 'kombifiltro', 'da', 'moogmodularfuzz', 'da', 'zvexfender', 'mustang', 'basspuma', 'gt', '16', '1980é', 'só', 'me', 'avisar', 'q', 'eu', 'colo', 'emmm', 'quero', 'um', 'desses', 'presentes', 'ai'], ['puma_parda', 'ah', 'poxa', 'adoro', 'a', 'vitoria', 'tubo'], ['não', 'sei', 'de', 'quem', 'é', 'esse', 'pénota', '4/10', 'achei', 'feio', 'mas', 'é', 'da', 'puma', 'então', 'foi', 'caro', 'https//tco/wir4p4ys0j'], ['ramos85764697', 'de', 'fato', 'é', 'muito', 'cara', 'essas', 'da', 'puma', 'essa', 'é', 'adidas'], ['num', 'show', 'do', 'txt', 'eu', 'super', 'imagino', 'as', 'músicas', 'com', 'as', 'coresvermelho', 'puma', 'cysmazul', 'campd', 'blue', 'hour', 'noas', 'verde', 'roller', 'coaster', 'cwjltma', 'laranja', 'blue', 'orangeade', 'https//tco/ma1zs4pxar'], ['pablosales1984', 'fico', 'triste', 'demais', 'quase', '250', 'milhões', 'em', 'premiações', 'patrocinadoras', 'crefisa', 'fam', 'puma', 'tv', 'globo', 'premieri', 'tnt', 'sbt', 'vendas', 'de', 'jogadores', '26', 'milhões', 'pra', 'onde', 'está', 'indo', 'esse', 'dinheiro', 'tem', 'que', 'fazer', 'uma', 'cpi', 'investigação', 'único', 'jeito'], ['a', 'pessoa', 'que', 'fala', 'isso', 'nunca', 'escutou', 'txt', 'de', 'vdd', 'e', 'nunca', 'chegou', 'perto', 'de', 'eternally', 'puma', 'e', 'afins', 'https//tco/vlx2di67rd'], ['desconto', 'de', '15', 'no', 'site', 'ou', 'no', 'aplicativo', 'centauro', 'cupom', 'd84372caminhadaesporte', 'esporteinterativo', 'basketball', 'fitness', 'futebol', 'nikeadidaspumavoleibol', 'saudesaudefisica', 'penaltı', 'vendas', 'cupomdedesconto', 'desconto15descontometacompras', 'https//tco/pfd5buw3by'], ['eu', 'vejo', 'esses', 'vídeos', 'em', 'jaguar', 'e', 'só', 'penso', 'que', 'o', 'carro', 'é', 'da', 'puma'], ['neymarjrdepre', 'neymarjr', 'pumabrasil', 'puma', 'aceita', 'rins'], ['como', 'até', 'com', 'pão', 'puma', 'e', 'todo', 'mundo', 'fica', '🤢', '🤢', '🤢', 'https//tco/2blhiwtorp'], ['nay_nay055', 'era', 'da', 'puma', 'e', 'pumas', 'não', 'gostam', 'de', 'ficar', 'presas', 'elas', 'devem', 'ter', 'corrido'], ['palmeiras', 'e', 'o', 'dinheiro', 'dos', 'títulos', 'da', 'crefisa', 'da', 'puma', 'e', 'do', 'avanti', 'contrato', 'de', 'televisão', 'porcentagem', 'em', 'vendas', 'das', 'marcas', 'palmeiras', 'jogadores', 'que', 'foram', 'vendidos', 'salários', 'gigantesco', 'como', 'o', 'de', 'dudu', 'ramires', 'e', 'b', 'henrique', 'não', 'faz', 'mais', 'parte', 'e', 'o', 'time', 'mesmo', 'assim', 'está', 'no', 'decifit', 'galiotte'], ['essa', 'semana', 'do', 'consumidor', 'nike', 'e', 'puma', 'me', 'mandando', 'email', 'c', 'promoção', 'nos', 'tênis', 'se', 'fuder', 'não', 'tenho', 'dinheiro', 'porra'], ['boyzkook', 'se', 'eu', 'to', 'vendo', 'direito', '991', 'plays', 'no', 'album', 'eternity', 'e', 'eu', 'sei', 'bem', 'que', '900', 'é', 'só', 'em', 'puma'], ['darthkrayt4', 'é', 'exatamente', 'com', 'pão', 'puma', 'que', 'fica', 'mtt', 'bom'], ['thefootballsc', 'puma', 'or', 'umbro'], ['odeio', 'o', 'neymar', 'de', 'puma', 'odeio'], ['ramos85764697', 'nãoe', 'a', '3', 'de', 'antes', 'da', 'puma', 'entrara', 'prevent', 'tinha', '1000', 'e', 'destribuil', 'pros', 'funcionários'], ['pensando', 'em', 'mudar', 'meu', 'nome', 'pra', 'pão', 'puma', 'https//tco/txajldiqgc'], ['9', 'cat', 'and', 'dogesta', 'aqui', 'cujo', 'divide', 'opinioes', 'no', 'mundinho', 'kpopper', 'e', 'moa', 'twt', 'mas', 'nao', 'ligo', 'ela', 'esta', 'acima', 'de', 'muitas', 'musicas', 'meus', 'pequenos', 'furries', 'a', 'mae', 'de', 'puma', 'eh', 'esta', 'musica', 'https//tco/xop1qn5qqx'], ['tao', 'linda', 'e', 'rara', 'q', 'nem', 'o', 'site', 'da', 'puma', 'tem', 'https//tco/ts33uoghro'], ['barrets_', 'uma', 'grande', 'honra', 'batalhar', 'com', 'a', 'puma'], ['josgome40657225', 'deixa', 'estar', 'que', 'assim', 'que', 'o', 'benfica', 'mudar', 'de', 'adidas', 'para', 'puma', 'a', 'adidas', 'passa', 'logo', 'a', 'ter', 'as', 'melhores', 'camisolas', 'do', 'mundo', 'outra', 'vez'], ['neymar', 'amp', 'puma', 'https//tco/v4shkzu7ds'], ['puma_parda', 'exato', 'lugar', 'de', 'milico', 'é', 'longe', 'da', 'política'], ['mazzuela', 'o', 'logo', 'da', 'puma'], ['puma_parda', 'e', 'a', 'fila', 'aumentando', 'lá', 'fora'], ['_isapires', 'lou_cura_', 'https//tco/9ohwtluy63espero', 'ter', 'ajudado'], ['pgeracoes', 'homemtacokkkkkk', 'capt_puma', 'robosonysta', 'windowsclubbr', '🤦', 'ptqp', 'mais', 'uma', 'burrico', 'azul', '😫'], ['queria', 'muito', 'o', 'slip', 'on', 'da', 'puma', 'mas', 'não', 'sei', 'se', 'vale', 'a', 'pena', 'comparar', 'os', 'tênis', 'da', 'puma', '😔'], ['pumabrasil', 'porque', 'aqui', 'no', 'brasil', 'não', 'ta', 'disponível', 'nem', 'a', 'jaqueta', 'e', 'nem', 'a', 'jersey', 'do', 'neymar', 'po', 'neymarjr', 'a', 'puma', 'não', 'me', 'ajuda', 'a', 'comprar', 'seus', 'kits', '😑', 'https//tco/2u6voecx5w'], ['menino', 'ney', 'virou', 'adulto', 'ney', 'mas', 'de', 'puma', 'vai', 'virar', 'idoso', 'ney', 'https//tco/ivmgucvxjj'], ['gente', 'eu', 'tô', 'quase', 'desmaiando', 'pelo', 'amor', 'de', 'deus', 'gente', 'eu', 'entrei', 'na', 'viva', 'puma', 'https//tco/0xv3cdbqmu'], ['pvte7x', 'primeiramente', 'das', 'mulher', 'só', 'tem', 'um', '🥰', 'você', 'deve', 'tá', 'louco', 'a', 'puma', 'e', 'uma', 'putaria', 'tmnc'], ['esperando', 'a', 'puma', 'obrigar', 'a', 'bruna', 'marquezine', 'e', 'o', 'neymar', 'a', 'fazer', 'uma', 'campanha', 'juntos', 'isso', 'pq', 'quando', 'eles', 'tiravam', 'fotos', 'juntos', 'o', 'brasil', 'era', 'melhor', 'a', 'gente', 'nem', 'precisa', 'deles', 'voltando', 'a', 'gente', 'só', 'precisa', 'das', 'fotos', 'kkkkkkkkkkk', 'https//tco/jjzttrfifa'], ['smileyddeonu', 'vote', 'for', 'enhai', 'vote', 'for', 'enhypen', 'for', 'stanworld', '엔하이픈', 'enhypen', 'enhypen_members'], ['benficaeazeite', 'sinceramente', 'que', 'se', 'escolha', 'a', 'que', 'será', 'mais', 'rentável', 'acredito', 'que', 'não', 'seja', 'a', 'adidas', 'e', 'umas', 'das', 'marcas', 'que', 'o', 'benfica', 'podia', 'tentar', 'poderia', 'ser', 'puma', 'umbro', 'under', 'armour', 'ou', 'kappaagora', 'lá', 'está', 'a', 'escolha', 'deverá', 'ser', 'sempre', 'a', 'que', 'rende', 'mais', 'pois', 'traz', 'mais', 'garantias'], ['puma', 'é', 'horrível', 'rapa', 'nada', 'haver', 'com', 'o', 'ney', 'https//tco/9eaafsmykb'], ['tinybeomgyu', 'algumas', 'cara', 'dizer', 'q', 'é', 'tudo', 'seria', 'mentira', 'tem', 'um', 'monte', 'q', 'me', 'irrita', 'principalmente', 'nas', 'partes', 'do', 'beom', 'e', 'do', 'hyuka', 'mas', 'temos', 'mt', 'mais', 'músicas', 'q', 'demonstram', 'bem', 'a', 'técnica', 'deles', 'do', 'q', 'o', 'contrário', '20cm', 'puma', 'blue', 'hour', 'force', 'angel', 'or', 'devil', 'ghosting', 'e', 'por', 'aí', 'vai'], ['curtavermelha', '2021', 'e', 'ainda', 'há', 'pessoal', 'a', 'desconsiderar', 'a', 'puma', 'como', 'uma', 'marca', 'de', '2ª', 'percebo', 'que', 'se', 'goste', 'ou', 'não', 'mas', 'a', 'verdade', 'que', 'a', 'adidas', 'tem', 'arriscado', 'muito', 'pouco', 'connosco', 'e', 'quando', 'o', 'fez', 'foi', 'mau', 'coincidência', 'ou', 'não', 'ficou', 'pior', 'deste', 'os', 'nossos', 'maus', 'resultados', 'na', 'champions'], ['policiaiso', 'no', '7', 'da', 'col', 'bolso', 'negro/puma', 'editora', '/1a', 'edição/maio', 'de', '1992/capa', 'de', 'vasco', 'eloy/trad', 'de', 'paula', 'reis', 'o', 'autor', 'dan', 'kavanagh', 'pseudónimo', 'de', 'julian', 'barnes', 'n1946', 'inglês', 'romancista', 'também', 'de', 'policiais', 'ensaísta', 'memorialista', 'originalputting', 'the', 'book', 'in', '1985', 'https//tco/znaocgjhur'], ['eu', 'já', 'lancei', 'um', 'adidas', 'novo', 'no', 'lugar', 'do', 'puma', 'disk', 'e', 'água', 'dos', 'amigo', '🥵'], ['goncalodcnunes', 'pessoalmente', 'acho', 'que', 'a', 'maneira', 'como', 'as', 'camisolas', 'da', 'puma', 'ajustam', 'ao', 'corpo', 'fica', 'male', 'olhando', 'para', 'outros', 'contratos', 'a', 'nível', 'mundial', 'adidas', 'e', 'nike', 'continuam', 'muito', 'acima', 'apesar', 'do', 'crescimento', 'da', 'pumano', 'entanto', 'importa', 'sempre', 'vem', 'quem', 'dá', 'mais', 'nas', 'ofertas', 'recebidas', 'pelo', 'benfica'], ['lokleinhs_', 'nalimsgirl', 'feio', 'q', 'doi', 'pumagt'], ['algm', 'tem', 'coisa', 'do', 'yeonjun', 'em', 'angel', 'or', 'devil', 'ou', 'puma', 'se', 'sim', 'por', 'favor', 'mande'], ['batsumane', 'neymar', 'c’est', 'puma'], ['puma_parda', 'a', 'pessoa', 'me', 'mandar', 'uma', 'dessas', 'a', 'essa', 'altura', 'do', 'campeonato', 'puta', 'que', 'me', 'pariu', 'hein'], ['ttdajjoyce', 'maísa', 'é', 'embaixadora', 'da', 'samsung', 'e', 'patrocinada', 'pela', 'puma', 'só', 'por', 'essa', 'parte', 'já', 'acho', 'que', 'é', 'ela'], ['yeonsx0', 'em', 'puma', '🗣'], ['beomietalent', 'beompallet', 'vei', 'e', 'puma', 'nossa', 'aclamado', 'e', 'icônico'], ['ph_caixeiro', 'neymar', 'pai', 'todo', 'dia', 'me', 'enche', 'o', 'saco', 'pra', 'fechar', 'com', 'a', 'puma', '😂', '😂', '😂', 'to', 'pensando', '🤔', '🤔', '🤔'], ['pedrokcalheiros', 'o', 'yungmxch', 'escrever', 'a', 'parte', 'dele', 'de', 'pisando', 'em', 'puma', 'e', 'me', 'mandar', 'hj', 'ainda'], ['hyukaisoulmate', 'jakespoem', 'de', 'filhote', 'pra', 'puma', 'com', 'sucesso', '👏🏻', '👏🏻', '👏🏻', '👏🏻', '👏🏻'], ['negrogato_sdv', 'isso', 'e', 'um', 'puma'], ['loggi', 'puma', 'compre', 'o', 'produto', 'com', 'vocês', 'e', 'ta', 'na', 'entregadora', 'e', 'não', 'consigo', 'entrar', 'em', 'contato', 'com', 'eles', 'me', 'ajuda', 'pumabrasil', 'loggi'], ['sorbint', 'vc', 'n', 'gosta', 'de', 'puma', 'benji', 'o', 'mv', 'me', 'fez', 'deitar'], ['moniefleur', 'eu', 'não', 'sabia', 'kkkk', 'na', 'minha', 'cabeça', 'eles', 'ainda', 'eram', 'embaixadores', 'da', 'puma', 'https//tco/4huqjos1r2'], ['carlaxsls', 'rxhstan', 'beberexha', 'puma', 'bebeshotass', 'warnerpromo', 'eu', 'sempre', 'te', 'falei', '🥵', '💛'], ['vejo', 'as', 'fotos', 'da', 'fila', 'e', 'fico', '😐', 'missing', 'puma', 'hours', 'open'], ['homemtacokkkkkk', 'pgeracoes', 'robosonysta', 'windowsclubbr', 'não', 'é', 'demon', 'souls', 'de', 'ps3', 'kkkkkkkkkkkkkkk'], ['neymarjr', 'pumafootball', 'a', 'puma', 'ficou', 'maluca', 'o', 'projota', 'tava', 'cancelado', 'ate', 'esses', 'dias', 'ai', 'kkk'], ['tbt', 'de', 'hj', 'vai', 'para', 'o', 'lançamento', 'das', 'camisas', 'da', 'puma', 'de', '2012', 'tirando', 'o', 'lucas', 'zen', 'que', 'saudade', 'meus', 'amigos', 'https//tco/w3pswbu4lm'], ['bando', 'de', 'filha', 'da', 'puma', 'arrombados', 'do', 'caralho', 'assim', 'que', 'a', 'menina', 'agradeceu', 'deixaram', 'de', 'seguir', 'isso', 'significa', 'que', 'seu', 'brilho', 'encomoda', 'princesa', 'vc', 'vai', 'ganhar', 'mt', 'mais', '👑'], ['puma', 'dói', 'os', 'pé', 'prefiro', 'nike', 'https//tco/r3qckxcq2e'], ['pra', 'mim', 'o', 'mv', 'mais', 'foda', 'do', 'txt', 'sempre', 'irá', 'ser', 'puma', 'até', 'que', 'chegue', 'um', 'para', 'provar', 'o', 'contrário', 'e', 'mudar', 'a', 'minha', 'opinião'], ['esse', 'bbb', 'só', 'tem', 'medroso', 'briga', 'duas', 'três', 'vezinhas', 'e', 'já', 'quer', 'sair', 'vá', 'puma', 'porra'], ['deixar', 'de', 'comprar', 'um', 'puma', 'de', 'r', '50000', 'para', 'fazer', 'meu', 'mapa', 'astral', 'foi', 'a', 'escolha', 'mais', 'feliz', 'que', 'eu', 'fiz', 'hoje'], ['odeio', 'usar', 'esse', 'tênis', 'da', 'puma', 'mas', 'ele', 'é', 'mega', 'confortável', 'parece', 'que', 'estou', 'descalça'], ['achetez', 'des', 'sac', 'puma'], ['scfarense_', 'betopimparel', 'o', 'beto', 'treina', 'com', 'adidas', 'e', 'nike', 'muito', 'bem', 'não', 'havia', 'uma', 'meias', 'da', 'reebok', 'e', 'um', 'chapéu', 'da', 'puma', 'também', 'vamos', 'lá', 'levar', 'isto', 'a', 'sério', 'por', 'favor'], ['themikesalk', 'puma', 'ignite'], ['e', 'a', 'malta', 'que', 'anda', 'a', 'desejar', 'ter', 'a', 'puma', 'em', 'vez', 'de', 'adidasmas', 'vocês', 'têm', 'opinião', 'que', 'é', 'pessoal', 'ou', 'é', 'só', 'porque', 'está', 'na', 'modaadidas', 'é', 'adidas'], ['miaudango', 'eu', 'prefeitura', 'a', 'feiticeira', 'escarlate', 'principalmente', 'por', 'causa', 'do', 'spoilernovo', 'traje', 'dela', 'mas', 'aposto', 'que', 'o', 'neymar', 'será', 'bem', 'interessante', 'também', 'talvez', 'até', 'se', 'transformando', 'numa', 'puma', 'ou', 'algo', 'do', 'tipo', 'https//tco/pcbw8qdc9a'], ['carlaxsls', 'rxhstan', 'beberexha', 'puma', 'bebeshotass', 'warnerpromo', 'ela', 'destruiu', 'tudo', 'aqui', '☠', '️', '☠', '️', '☠', '️'], ['aossayu', 'txt_members', 'obvio', 'nadie', 'tiene', 'miedo', 'con', 'puma', 'de', 'fondo', 'ajdksk'], ['rexhabrasil', 'beberexha', 'kakakaka', 'por', 'um', 'momento', 'achei', 'que', 'ia', 'sair', 'uma', 'versão', 'de', 'puma', 'do', 'txt', 'com', 'a', 'bebe', 'rexha', 'kakaka', 'quase', 'surtei', 'https//tco/yr5wfalk1x'], ['é', 'midzy', 'então', 'diz', 'uma', 'música', 'do', 'aespa', 'que', 'não', 'seja', 'puma'], ['nunca', 'liguei', 'pra', 'nike', 'adidas', 'puma', 'asics', 'ou', 'oq', 'tiver', 'o', 'importante', 'é', 'se', 'dá', 'bem', 'com', 'sigo', 'mesmo'], ['lala_puma', 'kkkkkkk', 'grazadeus', 'ela', 'ainda', 'não', 'ta', 'na', 'fase', 'tiktok'], ['neymarjr', 'pumafootball', 'tu', 'pode', 'pedir', 'pra', 'puma', 'tirar', 'foto', 'do', 'necowilliams01', 'agradeço'], ['joel_amhaus', 'n', 'fax', 'na', 'puma', 'to', 'esperando', 'o', 'lockdown', 'acabar', 'pra', 'jogar', 'uma', 'bomba', 'la', 'o', 'povo', 'enrrolado', 'e', 'ruim', 'de', 'serviço'], ['beompallet', 'hopecandys', 'eles', 'viram', 'o', 'mv', 'de', 'puma', 'por', 'acaso'], ['puma_parda', 'o', 'marco', 'do', 'gás', 'é', 'um', 'projeto', 'de', 'lei', 'do', 'psdb', 'não', 'tem', 'nada', 'a', 'ver', 'com', 'o', 'guedes'], ['não', 'sei', 'se', 'aceito', 'a', 'proposta', 'da', 'nike', 'ou', 'da', 'puma', 'cr7', 'e', 'ney', 'me', 'chamando'], ['pedra_veronica', 'e', 'eu', 'que', 'não', 'consigo', 'comprar', 'nem', 'um', 'ténis', 'da', 'puma', 'https//tco/fwu28soao0'], ['a', 'nike', 'faz', 'isso', 'a', 'new', 'balance', 'faz', 'isso', 'a', 'puma', 'faz', 'isso', 'todas', 'as', 'marcas', 'usam', 'templates', 'https//tco/sgbf1jf1j3'], ['euperdendotempo', 'ameliunga', 'puma_parda', 'aolivais', 'advogados', 'da', 'globo', 'processando', 'com', 'tanta', 'força', 'que', 'quando', 'o', 'nego', 'di', 'tiver', 'filhos', 'o', 'registro', 'do', 'nascimento', 'vai', 'ser', 'no', 'serasa'], ['naaraalvs', 'naara', 'se', 'o', 'seu', 'pedido', 'foi', 'via', 'https//tco/e0gotvkaoa', 'por', 'favor', 'manda', 'uma', 'msg', 'para', 'sacsitepumacom', 'primeiro', 'e', 'depois', 'seus', 'dados', 'de', 'cpf', 'e', 'email', 'por', 'dm', 'para', 'checarmos', 'o', 'seu', 'caso', 'por', 'favor', 'obrigado'], ['nao', 'neymar', 'puma'], ['bermuda', 'pumacustando', 'apenas', 'r', '9990', '💸', 'na', 'compra', 'de', '3', 'unidades', 'ganhe', '20', 'de', 'desconto', '🏷', '️', 'compre', 'a', 'vista', 'ou', 'nos', 'cartões', 'de', 'crédito', '💸', '💳', 'whatsapp', 'disponível', '📱', 'https//tco/t9m6ekfrv5faça', 'já', 'seu', 'pedido', 'e', 'receba', 'em', 'até', '1', 'hora', '⏰', '🚛', 'usecapixaba', 'estilocapixaba', 'https//tco/xjpznerehm'], ['pra', 'tênis', 'de', 'corrida', 'vcs', 'preferem', 'nike', 'puma', 'olympikus', 'ou', 'adidas'], ['minha', 'fav', 'é', 'our', 'summer', 'e', 'a', 'que', 'eu', 'menos', 'gosto', 'é', 'puma', 'https//tco/lgkcojwnst'], ['beomietalent', 'sim', 'vei', 'falam', 'que', 'a', 'bh', 'fica', 'na', 'mermisse', 'com', 'eles', 'muito', 'bom', 'assisti', 'o', 'mv', 'de', 'puma', 'e', 'achei', 'que', 'foi', 'wlts'], ['puma_533375', 'omatribel', 'gabylevinas', 'seguramente'], ['deprepalmeiras', 'tem', 'que', 'fazer', 'uma', 'cpi', 'investigação', 'onde', 'está', 'indo', 'esse', 'dinheiro', 'dinheiro', 'quê', 'o', 'palmeiras', 'quase', '250', 'milhões', 'em', 'premiação', 'direito', 'de', 'tv', 'globo', 'premieri', 'tnt', 'sbt', 'patrocinadores', 'crefisa', 'fam', 'puma', 'vendas', 'de', 'jogadores', '26', 'milhões', 'ganhou', 'no', 'campeonato', 'brasileiro'], ['puma_parda', 'até', 'onde', 'a', 'carência', 'pode', 'levar', 'o', 'ser', 'humano', 'mddc'], ['ele', 'e', 'a', 'bruna', 'com', 'parceria', 'com', 'a', 'puma', 'era', 'o', 'momento', 'perfeito', 'de', 'fazer', 'alguma', 'coisa', 'de', 'casal', '\\U0001f972', 'https//tco/e0bvqymacp'], ['hoje', 'chegou', 'minha', 'encomenda', 'da', 'puma', 'e', 'minha', 'camisa', 'do', 'flamengo', 'agora', 'como', 'vou', 'fazer', 'pra', 'pagar', 'tudo', 'isso', 'eu', 'não', 'sei'], ['a', 'nova', 'future', 'z', 'faz', 'uma', 'homenagem', 'ao', 'empolgado', 'atleta', 'da', 'bola', 'aquele', 'craque', 'criativo', 'que', 'se', 'destaca', 'com', 'habilidade', 'e', 'rapidez', 'em', 'raciocínio', 'moldando', 'o', 'jogo', 'diante', 'de', 'sua', 'visão', 'a', 'cada', 'movimento', 'jogada', 'e', 'ação', '📸', 'neymar/puma', 'https//tco/dbtgxwof3f'], ['ó', 'deus', 'vai', 'tirando', 'senhor', 'toda', 'propaganda', 'de', 'collant', '😭', '😭', 'toda', 'promoção', 'de', 'sapatilha', 'deus', '🤧', '🤧', 'manda', 'pra', 'lixeira', 'qualquer', 'email', 'da', 'nike', 'puma', 'e', 'adidas', 'ó', 'pai', '🥺', '🙏'], ['puma', 'era', 'muito', 'melhor'], ['caraio', 'em', 'puma', 'enfiou', 'no', 'cu', 'da', 'nike', 'e', 'ainda', 'girou'], ['fiz', 'uma', 'receitinha', 'de', 'comida', 'no', 'instagram', 'ta', 'muito', 'gostoso', '😋'], ['esse', 'sentai', 'tá', 'ótimo', 'mais', 'por', 'favor', 'toei', 'https//tco/ti5zfqyhhk'], ['goncalodcnunes', 'mas', 'as', 'marcas', 'vãose', 'reinventando', 'muito', 'pode', 'mudar', 'até', 'aínão', 'são', 'contratos', 'com', 'mais', 'uma', 'equipa', 'ou', 'outra', 'puto', 'ahah', 'no', 'futebol', 'a', 'nível', 'de', 'clubes', 'pelo', 'menos', 'a', 'puma', 'não', 'tem', 'mais', 'do', 'que', '6', 'equipas', 'verdadeiramente', 'relevantes', 'a', 'nível', 'mundial'], ['era', 'só', 'um', 'patrocínio', 'da', 'puma', '🤧'], ['maxveyratdurbet', 'bon', 'bah', 'go', 'acheter', 'des', 'puma'], ['desconto', 'de', '15', 'no', 'site', 'ou', 'no', 'aplicativo', 'centauro', 'cupom', 'd84372caminhadaesporte', 'esporteinterativo', 'basketball', 'fitness', 'futebol', 'nikeadidaspumavoleibol', 'saudesaudefisica', 'futebolneymargolsportvcuiabagremiointernacional', 'https//tco/iwkxx9vnns'], ['simaopereira11', 'tendo', 'em', 'conta', 'a', 'qualidade', 'crescente', 'da', 'merda', 'que', 'têm', 'feito', 'vão', 'perder', 'a', 'maioria', 'dos', 'importantes', 'a', 'dimensão', 'global', 'é', 'afetada', 'por', 'tudo', 'isso', 'não', 'é', 'por', 'terem', 'contratos', 'com', 'mais', 'uma', 'equipa', 'ou', 'outra', 'que', 'são', 'melhores', 'que', 'a', 'puma'], ['puma_parda', 'meus', 'pais', 'tentaram', 'reverter', 'uns', 'anos', 'atrás', 'e', 'não', 'conseguiram', 'agora', 'não', 'mexem', 'mais', 'nisso', 'eu', 'digo', 'que', 'eles', 'deveriam', 'continuar', 'tentando', 'mas', 'eles', 'são', 'teimosos', 'e', 'acham', 'que', 'não', 'dá', 'mais', 'para', 'fazer', 'alguma', 'coisa'], ['creativity', 'puma', 'tem', 'também', 'produtos', 'com', 'a', 'identidade', 'neymar', 'jr', 'personalizados', 'como', 'camisetas', 'shorts', 'acessórios', 'de', 'treinamento', 'e', 'vestuário', 'para', 'usar', 'fora', 'dos', 'gramados', 'https//tco/bobxnpw1qh'], ['puma', 'mais', 'pequena', 'que', 'a', 'adidas', 'estamos', 'a', 'passar', 'mal', 'https//tco/05u1npamcp'], ['realmente', 'falaram', 'isso', 'pra', 'um', 'grupo', 'que', 'tem', 'mvs', 'como', 'cysm', 'puma', 'e', 'eternally', 'que', 'realidade', 'é', 'essa', 'que', 'vivem', 'https//tco/geuvweymy3'], ['portuguesegb', 'rbaptista08', 'curtavermelha', 'claro', 'e', 'eu', 'até', 'gostava', 'de', 'ver', 'o', 'benfica', 'com', 'puma', 'caso', 'a', 'adidas', 'continue', 'a', 'pagar', 'a', 'merda', 'que', 'tem', 'pago', 'mais', 'vale', 'ir', 'pa', 'puma', 'digo', 'eu'], ['puma', 'n', 'colocou', '3', 'itens', 'da', 'coleção', 'nv', 'do', 'neymar', 'triste', 'estou'], ['sério', 'o', 'tanto', 'de', 'gente', 'falando', 'que', 'o', 'txt', 'tem', 'que', 'inovar', 'nos', 'mvs', 'gente', 'vcs', 'se', 'quer', 'pararam', 'pra', 'ver', 'algum', 'mv', 'eternally', 'puma', 'nap', 'of', 'a', 'star'], ['tuittamariah', 'faz', 'um', 'tempo', 'que', 'mudo', 'tá', 'ganhando', 'mais', 'na', 'puma', 'pelo', 'que', 'li', 'na', 'época'], ['vmicut', 'kkkkkkkkkkkkkk', 'queria', 'q', 'eles', 'fossem', 'da', 'nike', 'a', 'puma', 'é', 'mt', 'blé'], ['jasonso19617695', 'samiabomfim', 'não', 'livro', 'ninguém', 'dos', 'seus', 'erros', 'facilitou', 'acesso', 'para', 'empreiteiras', 'teve', 'fraude', 'que', 'se', 'puma', 'os', 'responsáveis', 'e', 'ponto', 'mas', 'ficar', 'nessa', 'de', 'ser', 'contra', 'a', 'corrupção', 'de', 'um', 'e', 'ficar', 'fingindo', 'não', 'ver', 'a', 'do', 'outro', 'não', 'funciona', 'comigo'], ['1fxxlz', 'da', 'puma', 'viado'], ['minho', 'quando', 'você', 'quiser', 'fazer', 'um', 'dance', 'cover', 'de', 'puma', 'saiba', 'que', 'eu', 'estou', 'pronta', '😎', 'https//tco/qadrodp2hw'], ['eu', 'ela', 'e', 'o', 'puma', '👩\\u200d❤️\\u200d👨', '🐱', 'https//tco/3o72vw03r8'], ['puma_parda', 'ao', 'q', 'parece', 'esse', 'é', 'o', 'novo', 'mantra', 'bolzonazi', 'estão', 'fortes', 'nessa', 'tese', 'de', 'autorresponsabilização', 'não', 'aguento'], ['lewishamiltonbr', 'puma', 'se', 'houver', 'alguém', 'tão', 'admirável', 'quanto', 'ele', 'na', 'atualidade', 'eu', 'desconheço', 'lh', 'é', 'incrível'], ['crl', 'nada', 'a', 'ver', 'neymarjr', 'com', 'a', 'puma', '🤦🏻\\u200d♂️', '😒', 'https//tco/lotoz2b5pa'], ['puma_parda', 'sem', 'contar', 'que', 'esta', 'fase', 'de', 'colapso', 'do', 'sistema', 'de', 'saúde', 'é', 'justamente', 'essa', 'tem', 'mais', 'gente', 'precisando', 'entrar', 'na', 'uti', 'do', 'que', 'gente', 'saindo'], ['hermanosfc', 'quase', '250', 'milhões', 'de', 'reais', 'em', 'premiações', 'patrocinadoras', 'crefisa', 'fam', 'puma', 'tv', 'globo', 'premieri', 'tnt', 'sbt', 'vendas', 'de', 'jogadores', '26', 'milhões', 'de', 'reais', 'no', 'campeonato', 'brasileiro', 'blz', '🤫'], ['puma_parda', 'eu', 'tb', 'eu', 'não', 'vejo', 'nem', 'filme', 'com', 'estupro', 'pedofilia', 'ou', 'maldades', 'reais', 'me', 'incomoda', 'de', 'verdade', 'mas', 'ver', 'um', 'negacionista', 'morrer', 'por', 'covid', 'me', 'faz', 'pensar', 'bem', 'feito', 'amenizo', 'com', 'um', 'muito', 'karma', 'nessa', 'hora', 'é', 'o', 'que', 'tem', 'pra', 'hoje', 'mas', 'vou', 'melhor', 'com', 'o', 'tempo'], ['puma_parda', 'ver', 'o', 'chanceler', 'biruta', 'no', 'ostracismo', 'é', 'um', 'dos', 'sonhos', 'que', 'eu', 'acalento'], ['neymarjrdepre', 'pumabrasil', 'escreveu', 'um', 'bcomercial', 'brumar', 'pra', 'puma'], ['hoje', 'eu', 'sai', 'de', 'blusa', 'da', 'nike', 'tênis', 'da', 'puma', 'e', 'mochila', 'da', 'adidas', 'enfim', 'a', 'diversidade'], ['creativityz', 'disponível', 'no', 'https//tco/e0gotvkaoa', 'https//tco/cimytqtekx'], ['site', 'da', 'adidas/site', 'da', 'puma', 'https//tco/qilo4pczzd'], ['fernandez_puma', 'flaco', 'tremendo', 'live', 'que', 'te', 'sacaste', 'ayer', '💪'], ['0padilhauai', 'meus', 'carrinhos', 'eh', 'tudo', 'lotado', 'nike', 'adidas', 'puma', 'lacoste', 'tommy', 'pergunta', 'se', 'eu', 'compro'], ['puma', 'gte', 'destruído', 'após', 'detonação', 'da', 'bomba', 'dentro', 'dele', 'é', 'possível', 'ver', 'o', 'corpo', 'do', 'sargento', 'guilherme', 'pereira', 'do', 'rosário', 'que', 'morreu', 'logo', 'após', 'a', 'explosão', 'rio', 'de', 'janeiro', '30', 'de', 'abril', 'de', '1981', '39', 'anosàs', '2115', 'riocentroresponsável', 'exército', 'brasileiro', 'https//tco/g6fsx6dzw2'], ['puma_parda', 'a', 'burrice', 'de', 'quebrar', 'contrato', 'com', 'a', 'globo', 'misericórdia'], ['fuckarou', 'puma', 'fez', 'collab', 'com', 'marca', 'de', 'pão'], ['novo', 'pôster', 'de', 'beberexha', 'para', 'campanha', 'da', 'puma', 'https//tco/tvm8vjmybi'], ['puma_parda', 'sim', 'a', 'culpa', 'é', 'nossa', 'eu', 'que', 'recusei', '800', 'trilhão', 'de', 'pfizer', 'por', 'exemplo', 'desculpa', 'brasil'], ['saudade', 'das', 'candids', 'da', 'selena', 'saindo', 'do', 'pilates', 'vestida', 'de', 'puma', 'com', 'uma', 'bolsa', 'da', 'coach'], ['puma_parda', 'danielaaf', 'se', 'ainda', 'ficasse', 'calado'], ['puma_parda', 'danielaaf', 'nem', 'com', 'a', 'bandeira', 'do', 'brasil', 'por', 'amor', 'à', 'pátria', 'rsrsrs'], ['as', 'fotos', 'da', 'nova', 'colab', 'puma', 'x', 'kidsuper', 'foram', 'feitas', 'aqui', 'no', 'brasil', 'https//tco/viqmmpjtns'], ['athodavid', 'sério', 'amg', 'aqui', 'só', 'tem', 'pão', 'puma', 'banana', 'e', 'maçãsem', 'brincadeirae', 'o', 'resto', 'é', 'tudo', 'comida', 'da', 'semana', 'passada', '😭', '😭', '😭', '😭'], ['goncalodcnunes', 'o', 'design', 'é', 'uma', 'coisa', 'subjetivaa', 'adidas', 'só', 'fica', 'atrás', 'da', 'nike', 'nas', 'marcas', 'mais', 'ricas', 'de', 'desporto', 'do', 'mundonos', '10', 'contratos', 'mais', 'rentáveis', 'do', 'mundo', '5', 'são', 'nike', '4', 'são', 'adidas', 'e', '1', 'é', 'puma', 'cityclaro', 'que', 'em', 'questões', 'de', 'materiais', 'e', 'tudo', 'isso', 'serão', 'perfeitamente', 'equiparáveis'], ['97froggys', 'amg', 'eles', 'eram', 'embaixadores', 'da', 'puma', 'em', '2018', 'o', 'contrato', 'acabou', 'faz', 'tempo', 'agora', 'eles', 'são', 'da', 'fila'], ['tiagomarques32', 'rbaptista08', 'curtavermelha', 'no', 'entanto', 'mesmo', 'tendo', 'tido', 'uma', 'grade', 'b', 'com', 'a', 'puma', 'faturada', '~20', 'milhões', 'de', 'euros'], ['ch3rrb0mb', 'uhumé', 'hebe', 'ele', 'é', 'um', 'floppa', 'é', 'tipo', 'um', 'puma', 'mais', 'ele', 'é', 'dócil', 'igual', 'um', 'gatinho', '/sorri', 'com', 'o', 'beijinho', 'e', 'abraça', 'mais', 'fortinho'], ['brunabud_', 'aí', 'poderia', 'ter', 'mais', 'que', 'so', 'um', 'puma', 'de', 'estimação'], ['to', 'apaixonada', 'num', 'tênis', 'puma', 'mas', 'vi', 'uns', 'comentários', 'falando', 'q', 'o', 'tênis', 'parece', 'um', 'chumbo', 'de', 'tão', 'pesado'], ['aprendi', 'a', 'gostar', 'até', 'de', 'puma', 'mas', 'cat', 'amp', 'dog', 'não', 'me', 'desceu', 'até', 'hj', 'que', 'tristeza']]\n"
     ]
    }
   ],
   "source": [
    "# 1° for: Separar os tweets irrelevantes dando um split\n",
    "p_irrelevantes = []\n",
    "for index, conteudo in enumerate (irrelevante):\n",
    "    p_irrelevantes.append(conteudo.split())\n",
    "    \n",
    "print(p_irrelevantes)\n",
    "#p_irrelevantes"
   ]
  },
  {
   "cell_type": "code",
   "execution_count": 21,
   "metadata": {
    "scrolled": true
   },
   "outputs": [
    {
     "name": "stdout",
     "output_type": "stream",
     "text": [
      "['fico', 'assim', 'no', 'da', 'puma', 'affss', 'https//tco/1ygyhdzhmi', '0ketlyn_s', 'eu', 'acho', 'que', 'um', 'puma', '^^', 'kevass0', 'neymarjrdepre', 'neymarjr', 'pumabrasil', 'site', 'da', 'puma', 'mas', 'ainda', 'não', 'tá', 'no', 'catálogo', 'brasil', 'americana', 'já', 'está', 'das', 'puma', 'fick', 'prada', '🖕🏿', 'https//tco/us7iemubr6', 'negócio', 'imperdível', 'tshirt', 'puma', 'originalps', 'se', 'não', 'queres', 'comprar', 'também', 'não', 'atrapalhes', 'o', 'negóciovamos', 'lá', 'que', 'hoje', 'é', 'présexta', 'bom', 'dia', '♡thursdaymotivationthursdaythoughts', 'https//tco/3bitcptxx4', 'la', 'fameuse', 'puma', 'ouigo', 'https//tco/yyiqbjqdok', 'puma_parda', 'ela', 'é', 'de', 'campina', 'grande', 'tá', 'carente', 'é', 'quase', 'inevitável', 'kkk', 'vamo', 'passar', 'pano', 'pra', 'ideia', 'de', 'tabacudo', 'lysaparede_', 'mas', 'eles', 'não', 'fazem', 'roupa', 'pro', 'paddock', 'né', 'os', 'meca', 'usam', 'puma', 'williambender', 'cadê', 'o', 'dinheiro', 'das', 'vendas', 'de', 'jogadores', 'premiações', 'quase', '250milhões', 'direito', 'de', 'tv', 'da', 'rede', 'globo', 'premieri', 'tnt', 'sbt', 'puma', '26', 'milhões', 'quê', 'ganhou', 'no', 'campeonato', 'brasileiro', 'sai', 'fora', 'maurício', 'bananote', 'anderson', 'barros', 'jaiminho', 'cícero', 'sousa', 'drewbsizzler', 'euphorart', 'lovatorns', 'aí', 'você', 'forçou', 'né', 'a', 'hailey', 'tá', 'crescendo', 'mt', 'como', 'modelo', 'fotografia', 'mas', 'ela', 'ainda', 'não', 'pegou', 'contratos', 'grandes', 'como', 'a', 'selena', 'puma', 'pantene', 'cocacola', 'adidas', 'coach', 'louis', 'vuitton', 'verizon', 'e', 'tem', 'mais', 'capa', 'vogue', 'us', 'que', 'a', 'hailey', 'mesmo', 'sem', 'ser', 'modelo', 'petição', 'pra', 'música', '“puma”', 'do', 'dogor_10', 'pexande', 'npsidoka', 'virar', 'julia', 'de', 'tanto', 'que', 'eu', 'amo', 'ela', 'demais', 'xcapimbr', 'vai', 'comprar', 'studios', 'kkkkkkkkkkkkk', 'alguém', 'sabe', 'qual', 'o', 'pix', 'da', 'puma', 'https//tco/t6tdute9jo', 'puma_parda', 'foda', 'é', 'que', 'esse', 'tipo', 'de', 'coisa', 'do', 'inss', 'é', 'supor', 'comum', 'meu', 'pai', 'até', 'hoje', 'não', 'conseguiu', 'se', 'aposentar', 'mas', 'não', 'pode', 'trabalhar', 'ele', 'tem', 'uma', 'doença', 'de', 'pele', 'muito', 'rara', 'e', 'como', 'é', 'enfermeiro', 'corre', 'risco', 'de', 'infecções', 'o', 'inss', 'não', 'reconhece', 'a', 'doença', 'que', 'ele', 'tem', 'puma_bet', 'metin52703103', 'pumabet', 'escoubar', 'se', 'alguém', 'souber', 'de', 'sorteios', 'q', 'os', 'prêmios', 'são', 'kombifiltro', 'da', 'moogmodularfuzz', 'da', 'zvexfender', 'mustang', 'basspuma', 'gt', '16', '1980é', 'só', 'me', 'avisar', 'q', 'eu', 'colo', 'emmm', 'quero', 'um', 'desses', 'presentes', 'ai', 'puma_parda', 'ah', 'poxa', 'adoro', 'a', 'vitoria', 'tubo', 'não', 'sei', 'de', 'quem', 'é', 'esse', 'pénota', '4/10', 'achei', 'feio', 'mas', 'é', 'da', 'puma', 'então', 'foi', 'caro', 'https//tco/wir4p4ys0j', 'ramos85764697', 'de', 'fato', 'é', 'muito', 'cara', 'essas', 'da', 'puma', 'essa', 'é', 'adidas', 'num', 'show', 'do', 'txt', 'eu', 'super', 'imagino', 'as', 'músicas', 'com', 'as', 'coresvermelho', 'puma', 'cysmazul', 'campd', 'blue', 'hour', 'noas', 'verde', 'roller', 'coaster', 'cwjltma', 'laranja', 'blue', 'orangeade', 'https//tco/ma1zs4pxar', 'pablosales1984', 'fico', 'triste', 'demais', 'quase', '250', 'milhões', 'em', 'premiações', 'patrocinadoras', 'crefisa', 'fam', 'puma', 'tv', 'globo', 'premieri', 'tnt', 'sbt', 'vendas', 'de', 'jogadores', '26', 'milhões', 'pra', 'onde', 'está', 'indo', 'esse', 'dinheiro', 'tem', 'que', 'fazer', 'uma', 'cpi', 'investigação', 'único', 'jeito', 'a', 'pessoa', 'que', 'fala', 'isso', 'nunca', 'escutou', 'txt', 'de', 'vdd', 'e', 'nunca', 'chegou', 'perto', 'de', 'eternally', 'puma', 'e', 'afins', 'https//tco/vlx2di67rd', 'desconto', 'de', '15', 'no', 'site', 'ou', 'no', 'aplicativo', 'centauro', 'cupom', 'd84372caminhadaesporte', 'esporteinterativo', 'basketball', 'fitness', 'futebol', 'nikeadidaspumavoleibol', 'saudesaudefisica', 'penaltı', 'vendas', 'cupomdedesconto', 'desconto15descontometacompras', 'https//tco/pfd5buw3by', 'eu', 'vejo', 'esses', 'vídeos', 'em', 'jaguar', 'e', 'só', 'penso', 'que', 'o', 'carro', 'é', 'da', 'puma', 'neymarjrdepre', 'neymarjr', 'pumabrasil', 'puma', 'aceita', 'rins', 'como', 'até', 'com', 'pão', 'puma', 'e', 'todo', 'mundo', 'fica', '🤢', '🤢', '🤢', 'https//tco/2blhiwtorp', 'nay_nay055', 'era', 'da', 'puma', 'e', 'pumas', 'não', 'gostam', 'de', 'ficar', 'presas', 'elas', 'devem', 'ter', 'corrido', 'palmeiras', 'e', 'o', 'dinheiro', 'dos', 'títulos', 'da', 'crefisa', 'da', 'puma', 'e', 'do', 'avanti', 'contrato', 'de', 'televisão', 'porcentagem', 'em', 'vendas', 'das', 'marcas', 'palmeiras', 'jogadores', 'que', 'foram', 'vendidos', 'salários', 'gigantesco', 'como', 'o', 'de', 'dudu', 'ramires', 'e', 'b', 'henrique', 'não', 'faz', 'mais', 'parte', 'e', 'o', 'time', 'mesmo', 'assim', 'está', 'no', 'decifit', 'galiotte', 'essa', 'semana', 'do', 'consumidor', 'nike', 'e', 'puma', 'me', 'mandando', 'email', 'c', 'promoção', 'nos', 'tênis', 'se', 'fuder', 'não', 'tenho', 'dinheiro', 'porra', 'boyzkook', 'se', 'eu', 'to', 'vendo', 'direito', '991', 'plays', 'no', 'album', 'eternity', 'e', 'eu', 'sei', 'bem', 'que', '900', 'é', 'só', 'em', 'puma', 'darthkrayt4', 'é', 'exatamente', 'com', 'pão', 'puma', 'que', 'fica', 'mtt', 'bom', 'thefootballsc', 'puma', 'or', 'umbro', 'odeio', 'o', 'neymar', 'de', 'puma', 'odeio', 'ramos85764697', 'nãoe', 'a', '3', 'de', 'antes', 'da', 'puma', 'entrara', 'prevent', 'tinha', '1000', 'e', 'destribuil', 'pros', 'funcionários', 'pensando', 'em', 'mudar', 'meu', 'nome', 'pra', 'pão', 'puma', 'https//tco/txajldiqgc', '9', 'cat', 'and', 'dogesta', 'aqui', 'cujo', 'divide', 'opinioes', 'no', 'mundinho', 'kpopper', 'e', 'moa', 'twt', 'mas', 'nao', 'ligo', 'ela', 'esta', 'acima', 'de', 'muitas', 'musicas', 'meus', 'pequenos', 'furries', 'a', 'mae', 'de', 'puma', 'eh', 'esta', 'musica', 'https//tco/xop1qn5qqx', 'tao', 'linda', 'e', 'rara', 'q', 'nem', 'o', 'site', 'da', 'puma', 'tem', 'https//tco/ts33uoghro', 'barrets_', 'uma', 'grande', 'honra', 'batalhar', 'com', 'a', 'puma', 'josgome40657225', 'deixa', 'estar', 'que', 'assim', 'que', 'o', 'benfica', 'mudar', 'de', 'adidas', 'para', 'puma', 'a', 'adidas', 'passa', 'logo', 'a', 'ter', 'as', 'melhores', 'camisolas', 'do', 'mundo', 'outra', 'vez', 'neymar', 'amp', 'puma', 'https//tco/v4shkzu7ds', 'puma_parda', 'exato', 'lugar', 'de', 'milico', 'é', 'longe', 'da', 'política', 'mazzuela', 'o', 'logo', 'da', 'puma', 'puma_parda', 'e', 'a', 'fila', 'aumentando', 'lá', 'fora', '_isapires', 'lou_cura_', 'https//tco/9ohwtluy63espero', 'ter', 'ajudado', 'pgeracoes', 'homemtacokkkkkk', 'capt_puma', 'robosonysta', 'windowsclubbr', '🤦', 'ptqp', 'mais', 'uma', 'burrico', 'azul', '😫', 'queria', 'muito', 'o', 'slip', 'on', 'da', 'puma', 'mas', 'não', 'sei', 'se', 'vale', 'a', 'pena', 'comparar', 'os', 'tênis', 'da', 'puma', '😔', 'pumabrasil', 'porque', 'aqui', 'no', 'brasil', 'não', 'ta', 'disponível', 'nem', 'a', 'jaqueta', 'e', 'nem', 'a', 'jersey', 'do', 'neymar', 'po', 'neymarjr', 'a', 'puma', 'não', 'me', 'ajuda', 'a', 'comprar', 'seus', 'kits', '😑', 'https//tco/2u6voecx5w', 'menino', 'ney', 'virou', 'adulto', 'ney', 'mas', 'de', 'puma', 'vai', 'virar', 'idoso', 'ney', 'https//tco/ivmgucvxjj', 'gente', 'eu', 'tô', 'quase', 'desmaiando', 'pelo', 'amor', 'de', 'deus', 'gente', 'eu', 'entrei', 'na', 'viva', 'puma', 'https//tco/0xv3cdbqmu', 'pvte7x', 'primeiramente', 'das', 'mulher', 'só', 'tem', 'um', '🥰', 'você', 'deve', 'tá', 'louco', 'a', 'puma', 'e', 'uma', 'putaria', 'tmnc', 'esperando', 'a', 'puma', 'obrigar', 'a', 'bruna', 'marquezine', 'e', 'o', 'neymar', 'a', 'fazer', 'uma', 'campanha', 'juntos', 'isso', 'pq', 'quando', 'eles', 'tiravam', 'fotos', 'juntos', 'o', 'brasil', 'era', 'melhor', 'a', 'gente', 'nem', 'precisa', 'deles', 'voltando', 'a', 'gente', 'só', 'precisa', 'das', 'fotos', 'kkkkkkkkkkk', 'https//tco/jjzttrfifa', 'smileyddeonu', 'vote', 'for', 'enhai', 'vote', 'for', 'enhypen', 'for', 'stanworld', '엔하이픈', 'enhypen', 'enhypen_members', 'benficaeazeite', 'sinceramente', 'que', 'se', 'escolha', 'a', 'que', 'será', 'mais', 'rentável', 'acredito', 'que', 'não', 'seja', 'a', 'adidas', 'e', 'umas', 'das', 'marcas', 'que', 'o', 'benfica', 'podia', 'tentar', 'poderia', 'ser', 'puma', 'umbro', 'under', 'armour', 'ou', 'kappaagora', 'lá', 'está', 'a', 'escolha', 'deverá', 'ser', 'sempre', 'a', 'que', 'rende', 'mais', 'pois', 'traz', 'mais', 'garantias', 'puma', 'é', 'horrível', 'rapa', 'nada', 'haver', 'com', 'o', 'ney', 'https//tco/9eaafsmykb', 'tinybeomgyu', 'algumas', 'cara', 'dizer', 'q', 'é', 'tudo', 'seria', 'mentira', 'tem', 'um', 'monte', 'q', 'me', 'irrita', 'principalmente', 'nas', 'partes', 'do', 'beom', 'e', 'do', 'hyuka', 'mas', 'temos', 'mt', 'mais', 'músicas', 'q', 'demonstram', 'bem', 'a', 'técnica', 'deles', 'do', 'q', 'o', 'contrário', '20cm', 'puma', 'blue', 'hour', 'force', 'angel', 'or', 'devil', 'ghosting', 'e', 'por', 'aí', 'vai', 'curtavermelha', '2021', 'e', 'ainda', 'há', 'pessoal', 'a', 'desconsiderar', 'a', 'puma', 'como', 'uma', 'marca', 'de', '2ª', 'percebo', 'que', 'se', 'goste', 'ou', 'não', 'mas', 'a', 'verdade', 'que', 'a', 'adidas', 'tem', 'arriscado', 'muito', 'pouco', 'connosco', 'e', 'quando', 'o', 'fez', 'foi', 'mau', 'coincidência', 'ou', 'não', 'ficou', 'pior', 'deste', 'os', 'nossos', 'maus', 'resultados', 'na', 'champions', 'policiaiso', 'no', '7', 'da', 'col', 'bolso', 'negro/puma', 'editora', '/1a', 'edição/maio', 'de', '1992/capa', 'de', 'vasco', 'eloy/trad', 'de', 'paula', 'reis', 'o', 'autor', 'dan', 'kavanagh', 'pseudónimo', 'de', 'julian', 'barnes', 'n1946', 'inglês', 'romancista', 'também', 'de', 'policiais', 'ensaísta', 'memorialista', 'originalputting', 'the', 'book', 'in', '1985', 'https//tco/znaocgjhur', 'eu', 'já', 'lancei', 'um', 'adidas', 'novo', 'no', 'lugar', 'do', 'puma', 'disk', 'e', 'água', 'dos', 'amigo', '🥵', 'goncalodcnunes', 'pessoalmente', 'acho', 'que', 'a', 'maneira', 'como', 'as', 'camisolas', 'da', 'puma', 'ajustam', 'ao', 'corpo', 'fica', 'male', 'olhando', 'para', 'outros', 'contratos', 'a', 'nível', 'mundial', 'adidas', 'e', 'nike', 'continuam', 'muito', 'acima', 'apesar', 'do', 'crescimento', 'da', 'pumano', 'entanto', 'importa', 'sempre', 'vem', 'quem', 'dá', 'mais', 'nas', 'ofertas', 'recebidas', 'pelo', 'benfica', 'lokleinhs_', 'nalimsgirl', 'feio', 'q', 'doi', 'pumagt', 'algm', 'tem', 'coisa', 'do', 'yeonjun', 'em', 'angel', 'or', 'devil', 'ou', 'puma', 'se', 'sim', 'por', 'favor', 'mande', 'batsumane', 'neymar', 'c’est', 'puma', 'puma_parda', 'a', 'pessoa', 'me', 'mandar', 'uma', 'dessas', 'a', 'essa', 'altura', 'do', 'campeonato', 'puta', 'que', 'me', 'pariu', 'hein', 'ttdajjoyce', 'maísa', 'é', 'embaixadora', 'da', 'samsung', 'e', 'patrocinada', 'pela', 'puma', 'só', 'por', 'essa', 'parte', 'já', 'acho', 'que', 'é', 'ela', 'yeonsx0', 'em', 'puma', '🗣', 'beomietalent', 'beompallet', 'vei', 'e', 'puma', 'nossa', 'aclamado', 'e', 'icônico', 'ph_caixeiro', 'neymar', 'pai', 'todo', 'dia', 'me', 'enche', 'o', 'saco', 'pra', 'fechar', 'com', 'a', 'puma', '😂', '😂', '😂', 'to', 'pensando', '🤔', '🤔', '🤔', 'pedrokcalheiros', 'o', 'yungmxch', 'escrever', 'a', 'parte', 'dele', 'de', 'pisando', 'em', 'puma', 'e', 'me', 'mandar', 'hj', 'ainda', 'hyukaisoulmate', 'jakespoem', 'de', 'filhote', 'pra', 'puma', 'com', 'sucesso', '👏🏻', '👏🏻', '👏🏻', '👏🏻', '👏🏻', 'negrogato_sdv', 'isso', 'e', 'um', 'puma', 'loggi', 'puma', 'compre', 'o', 'produto', 'com', 'vocês', 'e', 'ta', 'na', 'entregadora', 'e', 'não', 'consigo', 'entrar', 'em', 'contato', 'com', 'eles', 'me', 'ajuda', 'pumabrasil', 'loggi', 'sorbint', 'vc', 'n', 'gosta', 'de', 'puma', 'benji', 'o', 'mv', 'me', 'fez', 'deitar', 'moniefleur', 'eu', 'não', 'sabia', 'kkkk', 'na', 'minha', 'cabeça', 'eles', 'ainda', 'eram', 'embaixadores', 'da', 'puma', 'https//tco/4huqjos1r2', 'carlaxsls', 'rxhstan', 'beberexha', 'puma', 'bebeshotass', 'warnerpromo', 'eu', 'sempre', 'te', 'falei', '🥵', '💛', 'vejo', 'as', 'fotos', 'da', 'fila', 'e', 'fico', '😐', 'missing', 'puma', 'hours', 'open', 'homemtacokkkkkk', 'pgeracoes', 'robosonysta', 'windowsclubbr', 'não', 'é', 'demon', 'souls', 'de', 'ps3', 'kkkkkkkkkkkkkkk', 'neymarjr', 'pumafootball', 'a', 'puma', 'ficou', 'maluca', 'o', 'projota', 'tava', 'cancelado', 'ate', 'esses', 'dias', 'ai', 'kkk', 'tbt', 'de', 'hj', 'vai', 'para', 'o', 'lançamento', 'das', 'camisas', 'da', 'puma', 'de', '2012', 'tirando', 'o', 'lucas', 'zen', 'que', 'saudade', 'meus', 'amigos', 'https//tco/w3pswbu4lm', 'bando', 'de', 'filha', 'da', 'puma', 'arrombados', 'do', 'caralho', 'assim', 'que', 'a', 'menina', 'agradeceu', 'deixaram', 'de', 'seguir', 'isso', 'significa', 'que', 'seu', 'brilho', 'encomoda', 'princesa', 'vc', 'vai', 'ganhar', 'mt', 'mais', '👑', 'puma', 'dói', 'os', 'pé', 'prefiro', 'nike', 'https//tco/r3qckxcq2e', 'pra', 'mim', 'o', 'mv', 'mais', 'foda', 'do', 'txt', 'sempre', 'irá', 'ser', 'puma', 'até', 'que', 'chegue', 'um', 'para', 'provar', 'o', 'contrário', 'e', 'mudar', 'a', 'minha', 'opinião', 'esse', 'bbb', 'só', 'tem', 'medroso', 'briga', 'duas', 'três', 'vezinhas', 'e', 'já', 'quer', 'sair', 'vá', 'puma', 'porra', 'deixar', 'de', 'comprar', 'um', 'puma', 'de', 'r', '50000', 'para', 'fazer', 'meu', 'mapa', 'astral', 'foi', 'a', 'escolha', 'mais', 'feliz', 'que', 'eu', 'fiz', 'hoje', 'odeio', 'usar', 'esse', 'tênis', 'da', 'puma', 'mas', 'ele', 'é', 'mega', 'confortável', 'parece', 'que', 'estou', 'descalça', 'achetez', 'des', 'sac', 'puma', 'scfarense_', 'betopimparel', 'o', 'beto', 'treina', 'com', 'adidas', 'e', 'nike', 'muito', 'bem', 'não', 'havia', 'uma', 'meias', 'da', 'reebok', 'e', 'um', 'chapéu', 'da', 'puma', 'também', 'vamos', 'lá', 'levar', 'isto', 'a', 'sério', 'por', 'favor', 'themikesalk', 'puma', 'ignite', 'e', 'a', 'malta', 'que', 'anda', 'a', 'desejar', 'ter', 'a', 'puma', 'em', 'vez', 'de', 'adidasmas', 'vocês', 'têm', 'opinião', 'que', 'é', 'pessoal', 'ou', 'é', 'só', 'porque', 'está', 'na', 'modaadidas', 'é', 'adidas', 'miaudango', 'eu', 'prefeitura', 'a', 'feiticeira', 'escarlate', 'principalmente', 'por', 'causa', 'do', 'spoilernovo', 'traje', 'dela', 'mas', 'aposto', 'que', 'o', 'neymar', 'será', 'bem', 'interessante', 'também', 'talvez', 'até', 'se', 'transformando', 'numa', 'puma', 'ou', 'algo', 'do', 'tipo', 'https//tco/pcbw8qdc9a', 'carlaxsls', 'rxhstan', 'beberexha', 'puma', 'bebeshotass', 'warnerpromo', 'ela', 'destruiu', 'tudo', 'aqui', '☠', '️', '☠', '️', '☠', '️', 'aossayu', 'txt_members', 'obvio', 'nadie', 'tiene', 'miedo', 'con', 'puma', 'de', 'fondo', 'ajdksk', 'rexhabrasil', 'beberexha', 'kakakaka', 'por', 'um', 'momento', 'achei', 'que', 'ia', 'sair', 'uma', 'versão', 'de', 'puma', 'do', 'txt', 'com', 'a', 'bebe', 'rexha', 'kakaka', 'quase', 'surtei', 'https//tco/yr5wfalk1x', 'é', 'midzy', 'então', 'diz', 'uma', 'música', 'do', 'aespa', 'que', 'não', 'seja', 'puma', 'nunca', 'liguei', 'pra', 'nike', 'adidas', 'puma', 'asics', 'ou', 'oq', 'tiver', 'o', 'importante', 'é', 'se', 'dá', 'bem', 'com', 'sigo', 'mesmo', 'lala_puma', 'kkkkkkk', 'grazadeus', 'ela', 'ainda', 'não', 'ta', 'na', 'fase', 'tiktok', 'neymarjr', 'pumafootball', 'tu', 'pode', 'pedir', 'pra', 'puma', 'tirar', 'foto', 'do', 'necowilliams01', 'agradeço', 'joel_amhaus', 'n', 'fax', 'na', 'puma', 'to', 'esperando', 'o', 'lockdown', 'acabar', 'pra', 'jogar', 'uma', 'bomba', 'la', 'o', 'povo', 'enrrolado', 'e', 'ruim', 'de', 'serviço', 'beompallet', 'hopecandys', 'eles', 'viram', 'o', 'mv', 'de', 'puma', 'por', 'acaso', 'puma_parda', 'o', 'marco', 'do', 'gás', 'é', 'um', 'projeto', 'de', 'lei', 'do', 'psdb', 'não', 'tem', 'nada', 'a', 'ver', 'com', 'o', 'guedes', 'não', 'sei', 'se', 'aceito', 'a', 'proposta', 'da', 'nike', 'ou', 'da', 'puma', 'cr7', 'e', 'ney', 'me', 'chamando', 'pedra_veronica', 'e', 'eu', 'que', 'não', 'consigo', 'comprar', 'nem', 'um', 'ténis', 'da', 'puma', 'https//tco/fwu28soao0', 'a', 'nike', 'faz', 'isso', 'a', 'new', 'balance', 'faz', 'isso', 'a', 'puma', 'faz', 'isso', 'todas', 'as', 'marcas', 'usam', 'templates', 'https//tco/sgbf1jf1j3', 'euperdendotempo', 'ameliunga', 'puma_parda', 'aolivais', 'advogados', 'da', 'globo', 'processando', 'com', 'tanta', 'força', 'que', 'quando', 'o', 'nego', 'di', 'tiver', 'filhos', 'o', 'registro', 'do', 'nascimento', 'vai', 'ser', 'no', 'serasa', 'naaraalvs', 'naara', 'se', 'o', 'seu', 'pedido', 'foi', 'via', 'https//tco/e0gotvkaoa', 'por', 'favor', 'manda', 'uma', 'msg', 'para', 'sacsitepumacom', 'primeiro', 'e', 'depois', 'seus', 'dados', 'de', 'cpf', 'e', 'email', 'por', 'dm', 'para', 'checarmos', 'o', 'seu', 'caso', 'por', 'favor', 'obrigado', 'nao', 'neymar', 'puma', 'bermuda', 'pumacustando', 'apenas', 'r', '9990', '💸', 'na', 'compra', 'de', '3', 'unidades', 'ganhe', '20', 'de', 'desconto', '🏷', '️', 'compre', 'a', 'vista', 'ou', 'nos', 'cartões', 'de', 'crédito', '💸', '💳', 'whatsapp', 'disponível', '📱', 'https//tco/t9m6ekfrv5faça', 'já', 'seu', 'pedido', 'e', 'receba', 'em', 'até', '1', 'hora', '⏰', '🚛', 'usecapixaba', 'estilocapixaba', 'https//tco/xjpznerehm', 'pra', 'tênis', 'de', 'corrida', 'vcs', 'preferem', 'nike', 'puma', 'olympikus', 'ou', 'adidas', 'minha', 'fav', 'é', 'our', 'summer', 'e', 'a', 'que', 'eu', 'menos', 'gosto', 'é', 'puma', 'https//tco/lgkcojwnst', 'beomietalent', 'sim', 'vei', 'falam', 'que', 'a', 'bh', 'fica', 'na', 'mermisse', 'com', 'eles', 'muito', 'bom', 'assisti', 'o', 'mv', 'de', 'puma', 'e', 'achei', 'que', 'foi', 'wlts', 'puma_533375', 'omatribel', 'gabylevinas', 'seguramente', 'deprepalmeiras', 'tem', 'que', 'fazer', 'uma', 'cpi', 'investigação', 'onde', 'está', 'indo', 'esse', 'dinheiro', 'dinheiro', 'quê', 'o', 'palmeiras', 'quase', '250', 'milhões', 'em', 'premiação', 'direito', 'de', 'tv', 'globo', 'premieri', 'tnt', 'sbt', 'patrocinadores', 'crefisa', 'fam', 'puma', 'vendas', 'de', 'jogadores', '26', 'milhões', 'ganhou', 'no', 'campeonato', 'brasileiro', 'puma_parda', 'até', 'onde', 'a', 'carência', 'pode', 'levar', 'o', 'ser', 'humano', 'mddc', 'ele', 'e', 'a', 'bruna', 'com', 'parceria', 'com', 'a', 'puma', 'era', 'o', 'momento', 'perfeito', 'de', 'fazer', 'alguma', 'coisa', 'de', 'casal', '\\U0001f972', 'https//tco/e0bvqymacp', 'hoje', 'chegou', 'minha', 'encomenda', 'da', 'puma', 'e', 'minha', 'camisa', 'do', 'flamengo', 'agora', 'como', 'vou', 'fazer', 'pra', 'pagar', 'tudo', 'isso', 'eu', 'não', 'sei', 'a', 'nova', 'future', 'z', 'faz', 'uma', 'homenagem', 'ao', 'empolgado', 'atleta', 'da', 'bola', 'aquele', 'craque', 'criativo', 'que', 'se', 'destaca', 'com', 'habilidade', 'e', 'rapidez', 'em', 'raciocínio', 'moldando', 'o', 'jogo', 'diante', 'de', 'sua', 'visão', 'a', 'cada', 'movimento', 'jogada', 'e', 'ação', '📸', 'neymar/puma', 'https//tco/dbtgxwof3f', 'ó', 'deus', 'vai', 'tirando', 'senhor', 'toda', 'propaganda', 'de', 'collant', '😭', '😭', 'toda', 'promoção', 'de', 'sapatilha', 'deus', '🤧', '🤧', 'manda', 'pra', 'lixeira', 'qualquer', 'email', 'da', 'nike', 'puma', 'e', 'adidas', 'ó', 'pai', '🥺', '🙏', 'puma', 'era', 'muito', 'melhor', 'caraio', 'em', 'puma', 'enfiou', 'no', 'cu', 'da', 'nike', 'e', 'ainda', 'girou', 'fiz', 'uma', 'receitinha', 'de', 'comida', 'no', 'instagram', 'ta', 'muito', 'gostoso', '😋', 'esse', 'sentai', 'tá', 'ótimo', 'mais', 'por', 'favor', 'toei', 'https//tco/ti5zfqyhhk', 'goncalodcnunes', 'mas', 'as', 'marcas', 'vãose', 'reinventando', 'muito', 'pode', 'mudar', 'até', 'aínão', 'são', 'contratos', 'com', 'mais', 'uma', 'equipa', 'ou', 'outra', 'puto', 'ahah', 'no', 'futebol', 'a', 'nível', 'de', 'clubes', 'pelo', 'menos', 'a', 'puma', 'não', 'tem', 'mais', 'do', 'que', '6', 'equipas', 'verdadeiramente', 'relevantes', 'a', 'nível', 'mundial', 'era', 'só', 'um', 'patrocínio', 'da', 'puma', '🤧', 'maxveyratdurbet', 'bon', 'bah', 'go', 'acheter', 'des', 'puma', 'desconto', 'de', '15', 'no', 'site', 'ou', 'no', 'aplicativo', 'centauro', 'cupom', 'd84372caminhadaesporte', 'esporteinterativo', 'basketball', 'fitness', 'futebol', 'nikeadidaspumavoleibol', 'saudesaudefisica', 'futebolneymargolsportvcuiabagremiointernacional', 'https//tco/iwkxx9vnns', 'simaopereira11', 'tendo', 'em', 'conta', 'a', 'qualidade', 'crescente', 'da', 'merda', 'que', 'têm', 'feito', 'vão', 'perder', 'a', 'maioria', 'dos', 'importantes', 'a', 'dimensão', 'global', 'é', 'afetada', 'por', 'tudo', 'isso', 'não', 'é', 'por', 'terem', 'contratos', 'com', 'mais', 'uma', 'equipa', 'ou', 'outra', 'que', 'são', 'melhores', 'que', 'a', 'puma', 'puma_parda', 'meus', 'pais', 'tentaram', 'reverter', 'uns', 'anos', 'atrás', 'e', 'não', 'conseguiram', 'agora', 'não', 'mexem', 'mais', 'nisso', 'eu', 'digo', 'que', 'eles', 'deveriam', 'continuar', 'tentando', 'mas', 'eles', 'são', 'teimosos', 'e', 'acham', 'que', 'não', 'dá', 'mais', 'para', 'fazer', 'alguma', 'coisa', 'creativity', 'puma', 'tem', 'também', 'produtos', 'com', 'a', 'identidade', 'neymar', 'jr', 'personalizados', 'como', 'camisetas', 'shorts', 'acessórios', 'de', 'treinamento', 'e', 'vestuário', 'para', 'usar', 'fora', 'dos', 'gramados', 'https//tco/bobxnpw1qh', 'puma', 'mais', 'pequena', 'que', 'a', 'adidas', 'estamos', 'a', 'passar', 'mal', 'https//tco/05u1npamcp', 'realmente', 'falaram', 'isso', 'pra', 'um', 'grupo', 'que', 'tem', 'mvs', 'como', 'cysm', 'puma', 'e', 'eternally', 'que', 'realidade', 'é', 'essa', 'que', 'vivem', 'https//tco/geuvweymy3', 'portuguesegb', 'rbaptista08', 'curtavermelha', 'claro', 'e', 'eu', 'até', 'gostava', 'de', 'ver', 'o', 'benfica', 'com', 'puma', 'caso', 'a', 'adidas', 'continue', 'a', 'pagar', 'a', 'merda', 'que', 'tem', 'pago', 'mais', 'vale', 'ir', 'pa', 'puma', 'digo', 'eu', 'puma', 'n', 'colocou', '3', 'itens', 'da', 'coleção', 'nv', 'do', 'neymar', 'triste', 'estou', 'sério', 'o', 'tanto', 'de', 'gente', 'falando', 'que', 'o', 'txt', 'tem', 'que', 'inovar', 'nos', 'mvs', 'gente', 'vcs', 'se', 'quer', 'pararam', 'pra', 'ver', 'algum', 'mv', 'eternally', 'puma', 'nap', 'of', 'a', 'star', 'tuittamariah', 'faz', 'um', 'tempo', 'que', 'mudo', 'tá', 'ganhando', 'mais', 'na', 'puma', 'pelo', 'que', 'li', 'na', 'época', 'vmicut', 'kkkkkkkkkkkkkk', 'queria', 'q', 'eles', 'fossem', 'da', 'nike', 'a', 'puma', 'é', 'mt', 'blé', 'jasonso19617695', 'samiabomfim', 'não', 'livro', 'ninguém', 'dos', 'seus', 'erros', 'facilitou', 'acesso', 'para', 'empreiteiras', 'teve', 'fraude', 'que', 'se', 'puma', 'os', 'responsáveis', 'e', 'ponto', 'mas', 'ficar', 'nessa', 'de', 'ser', 'contra', 'a', 'corrupção', 'de', 'um', 'e', 'ficar', 'fingindo', 'não', 'ver', 'a', 'do', 'outro', 'não', 'funciona', 'comigo', '1fxxlz', 'da', 'puma', 'viado', 'minho', 'quando', 'você', 'quiser', 'fazer', 'um', 'dance', 'cover', 'de', 'puma', 'saiba', 'que', 'eu', 'estou', 'pronta', '😎', 'https//tco/qadrodp2hw', 'eu', 'ela', 'e', 'o', 'puma', '👩\\u200d❤️\\u200d👨', '🐱', 'https//tco/3o72vw03r8', 'puma_parda', 'ao', 'q', 'parece', 'esse', 'é', 'o', 'novo', 'mantra', 'bolzonazi', 'estão', 'fortes', 'nessa', 'tese', 'de', 'autorresponsabilização', 'não', 'aguento', 'lewishamiltonbr', 'puma', 'se', 'houver', 'alguém', 'tão', 'admirável', 'quanto', 'ele', 'na', 'atualidade', 'eu', 'desconheço', 'lh', 'é', 'incrível', 'crl', 'nada', 'a', 'ver', 'neymarjr', 'com', 'a', 'puma', '🤦🏻\\u200d♂️', '😒', 'https//tco/lotoz2b5pa', 'puma_parda', 'sem', 'contar', 'que', 'esta', 'fase', 'de', 'colapso', 'do', 'sistema', 'de', 'saúde', 'é', 'justamente', 'essa', 'tem', 'mais', 'gente', 'precisando', 'entrar', 'na', 'uti', 'do', 'que', 'gente', 'saindo', 'hermanosfc', 'quase', '250', 'milhões', 'de', 'reais', 'em', 'premiações', 'patrocinadoras', 'crefisa', 'fam', 'puma', 'tv', 'globo', 'premieri', 'tnt', 'sbt', 'vendas', 'de', 'jogadores', '26', 'milhões', 'de', 'reais', 'no', 'campeonato', 'brasileiro', 'blz', '🤫', 'puma_parda', 'eu', 'tb', 'eu', 'não', 'vejo', 'nem', 'filme', 'com', 'estupro', 'pedofilia', 'ou', 'maldades', 'reais', 'me', 'incomoda', 'de', 'verdade', 'mas', 'ver', 'um', 'negacionista', 'morrer', 'por', 'covid', 'me', 'faz', 'pensar', 'bem', 'feito', 'amenizo', 'com', 'um', 'muito', 'karma', 'nessa', 'hora', 'é', 'o', 'que', 'tem', 'pra', 'hoje', 'mas', 'vou', 'melhor', 'com', 'o', 'tempo', 'puma_parda', 'ver', 'o', 'chanceler', 'biruta', 'no', 'ostracismo', 'é', 'um', 'dos', 'sonhos', 'que', 'eu', 'acalento', 'neymarjrdepre', 'pumabrasil', 'escreveu', 'um', 'bcomercial', 'brumar', 'pra', 'puma', 'hoje', 'eu', 'sai', 'de', 'blusa', 'da', 'nike', 'tênis', 'da', 'puma', 'e', 'mochila', 'da', 'adidas', 'enfim', 'a', 'diversidade', 'creativityz', 'disponível', 'no', 'https//tco/e0gotvkaoa', 'https//tco/cimytqtekx', 'site', 'da', 'adidas/site', 'da', 'puma', 'https//tco/qilo4pczzd', 'fernandez_puma', 'flaco', 'tremendo', 'live', 'que', 'te', 'sacaste', 'ayer', '💪', '0padilhauai', 'meus', 'carrinhos', 'eh', 'tudo', 'lotado', 'nike', 'adidas', 'puma', 'lacoste', 'tommy', 'pergunta', 'se', 'eu', 'compro', 'puma', 'gte', 'destruído', 'após', 'detonação', 'da', 'bomba', 'dentro', 'dele', 'é', 'possível', 'ver', 'o', 'corpo', 'do', 'sargento', 'guilherme', 'pereira', 'do', 'rosário', 'que', 'morreu', 'logo', 'após', 'a', 'explosão', 'rio', 'de', 'janeiro', '30', 'de', 'abril', 'de', '1981', '39', 'anosàs', '2115', 'riocentroresponsável', 'exército', 'brasileiro', 'https//tco/g6fsx6dzw2', 'puma_parda', 'a', 'burrice', 'de', 'quebrar', 'contrato', 'com', 'a', 'globo', 'misericórdia', 'fuckarou', 'puma', 'fez', 'collab', 'com', 'marca', 'de', 'pão', 'novo', 'pôster', 'de', 'beberexha', 'para', 'campanha', 'da', 'puma', 'https//tco/tvm8vjmybi', 'puma_parda', 'sim', 'a', 'culpa', 'é', 'nossa', 'eu', 'que', 'recusei', '800', 'trilhão', 'de', 'pfizer', 'por', 'exemplo', 'desculpa', 'brasil', 'saudade', 'das', 'candids', 'da', 'selena', 'saindo', 'do', 'pilates', 'vestida', 'de', 'puma', 'com', 'uma', 'bolsa', 'da', 'coach', 'puma_parda', 'danielaaf', 'se', 'ainda', 'ficasse', 'calado', 'puma_parda', 'danielaaf', 'nem', 'com', 'a', 'bandeira', 'do', 'brasil', 'por', 'amor', 'à', 'pátria', 'rsrsrs', 'as', 'fotos', 'da', 'nova', 'colab', 'puma', 'x', 'kidsuper', 'foram', 'feitas', 'aqui', 'no', 'brasil', 'https//tco/viqmmpjtns', 'athodavid', 'sério', 'amg', 'aqui', 'só', 'tem', 'pão', 'puma', 'banana', 'e', 'maçãsem', 'brincadeirae', 'o', 'resto', 'é', 'tudo', 'comida', 'da', 'semana', 'passada', '😭', '😭', '😭', '😭', 'goncalodcnunes', 'o', 'design', 'é', 'uma', 'coisa', 'subjetivaa', 'adidas', 'só', 'fica', 'atrás', 'da', 'nike', 'nas', 'marcas', 'mais', 'ricas', 'de', 'desporto', 'do', 'mundonos', '10', 'contratos', 'mais', 'rentáveis', 'do', 'mundo', '5', 'são', 'nike', '4', 'são', 'adidas', 'e', '1', 'é', 'puma', 'cityclaro', 'que', 'em', 'questões', 'de', 'materiais', 'e', 'tudo', 'isso', 'serão', 'perfeitamente', 'equiparáveis', '97froggys', 'amg', 'eles', 'eram', 'embaixadores', 'da', 'puma', 'em', '2018', 'o', 'contrato', 'acabou', 'faz', 'tempo', 'agora', 'eles', 'são', 'da', 'fila', 'tiagomarques32', 'rbaptista08', 'curtavermelha', 'no', 'entanto', 'mesmo', 'tendo', 'tido', 'uma', 'grade', 'b', 'com', 'a', 'puma', 'faturada', '~20', 'milhões', 'de', 'euros', 'ch3rrb0mb', 'uhumé', 'hebe', 'ele', 'é', 'um', 'floppa', 'é', 'tipo', 'um', 'puma', 'mais', 'ele', 'é', 'dócil', 'igual', 'um', 'gatinho', '/sorri', 'com', 'o', 'beijinho', 'e', 'abraça', 'mais', 'fortinho', 'brunabud_', 'aí', 'poderia', 'ter', 'mais', 'que', 'so', 'um', 'puma', 'de', 'estimação', 'to', 'apaixonada', 'num', 'tênis', 'puma', 'mas', 'vi', 'uns', 'comentários', 'falando', 'q', 'o', 'tênis', 'parece', 'um', 'chumbo', 'de', 'tão', 'pesado', 'aprendi', 'a', 'gostar', 'até', 'de', 'puma', 'mas', 'cat', 'amp', 'dog', 'não', 'me', 'desceu', 'até', 'hj', 'que', 'tristeza']\n"
     ]
    }
   ],
   "source": [
    "# Definindo todas as palvras irrevelantes em um conjunto\n",
    "todas_palavras_irrelevantes=[]\n",
    "for index, conteudo in enumerate(p_irrelevantes):\n",
    "    cont=0\n",
    "    while cont < len(p_irrelevantes[index]):\n",
    "        novo= conteudo[cont]\n",
    "        todas_palavras_irrelevantes.append(novo)\n",
    "        cont+=1\n",
    "print(todas_palavras_irrelevantes)"
   ]
  },
  {
   "cell_type": "code",
   "execution_count": 22,
   "metadata": {
    "scrolled": true
   },
   "outputs": [
    {
     "name": "stdout",
     "output_type": "stream",
     "text": [
      " O total de Palavras relevantes é 1730\n"
     ]
    }
   ],
   "source": [
    "# Informando o total de palavras dos tweets relevantes\n",
    "print(f' O total de Palavras relevantes é {len(todas_palavras_relevantes)}')"
   ]
  },
  {
   "cell_type": "code",
   "execution_count": 23,
   "metadata": {},
   "outputs": [
    {
     "data": {
      "text/plain": [
       "0                     fico\n",
       "1                    assim\n",
       "2                       no\n",
       "3                       da\n",
       "4                     puma\n",
       "5                    affss\n",
       "6    https//tco/1ygyhdzhmi\n",
       "7                0ketlyn_s\n",
       "8                       eu\n",
       "9                     acho\n",
       "dtype: object"
      ]
     },
     "execution_count": 23,
     "metadata": {},
     "output_type": "execute_result"
    }
   ],
   "source": [
    "# Guardando as palavras irrelevantes como um pd.Series\n",
    "serie_irrelevante = pd.Series(todas_palavras_irrelevantes)\n",
    "serie_irrelevante.head(10)"
   ]
  },
  {
   "cell_type": "code",
   "execution_count": 24,
   "metadata": {
    "scrolled": true
   },
   "outputs": [
    {
     "data": {
      "text/plain": [
       "puma            131\n",
       "de               92\n",
       "a                88\n",
       "que              69\n",
       "e                67\n",
       "               ... \n",
       "arriscado         1\n",
       "brincadeirae      1\n",
       "parceria          1\n",
       "ph_caixeiro       1\n",
       "rosário           1\n",
       "Length: 1368, dtype: int64"
      ]
     },
     "execution_count": 24,
     "metadata": {},
     "output_type": "execute_result"
    }
   ],
   "source": [
    "# Frequencia absoluta de palavras relevantes\n",
    "tabela_irrelevante = serie_irrelevante.value_counts()\n",
    "tabela_irrelevante"
   ]
  },
  {
   "cell_type": "code",
   "execution_count": 63,
   "metadata": {
    "scrolled": true
   },
   "outputs": [],
   "source": [
    "# #################### Frequencia relativa de palavras relevantes\n",
    "# tabela_irrelevante_absoluta = serie_irrelevante.value_counts()\n",
    "# tabela_irrelevante_absoluta"
   ]
  },
  {
   "cell_type": "code",
   "execution_count": 49,
   "metadata": {},
   "outputs": [
    {
     "data": {
      "text/plain": [
       "3115"
      ]
     },
     "execution_count": 49,
     "metadata": {},
     "output_type": "execute_result"
    }
   ],
   "source": [
    "tabela_irrelevante_absoluta.sum()"
   ]
  },
  {
   "cell_type": "markdown",
   "metadata": {},
   "source": [
    "### Todas as palavras"
   ]
  },
  {
   "cell_type": "code",
   "execution_count": 27,
   "metadata": {},
   "outputs": [
    {
     "data": {
      "text/plain": [
       "['o',\n",
       " 'neymar',\n",
       " 'inovou',\n",
       " 'a',\n",
       " 'puma',\n",
       " 'https//tco/qtcuvd1svj',\n",
       " 'a',\n",
       " 'puma',\n",
       " 'tá',\n",
       " 'deitando',\n",
       " 'nas',\n",
       " 'chuteiras',\n",
       " 'do',\n",
       " 'neymar',\n",
       " 'me',\n",
       " 'manda',\n",
       " 'essa',\n",
       " 'nova',\n",
       " 'ai',\n",
       " 'puma',\n",
       " 'que',\n",
       " 'eu',\n",
       " 'largo',\n",
       " 'a',\n",
       " 'minha',\n",
       " 'nike',\n",
       " '🤧',\n",
       " 'g_estrella__',\n",
       " 'puma',\n",
       " 'tá',\n",
       " 'aí',\n",
       " 'mas',\n",
       " 'três',\n",
       " 'listra',\n",
       " 'tá',\n",
       " 'lindo',\n",
       " 'tbm',\n",
       " 'gustavocapaa',\n",
       " 'nao',\n",
       " 'tem',\n",
       " 'puma',\n",
       " 'nike',\n",
       " 'ou',\n",
       " 'adidas',\n",
       " 'chuteira',\n",
       " 'do',\n",
       " 'neypuma',\n",
       " 'apresentou',\n",
       " 'hoje',\n",
       " 'a',\n",
       " 'linha',\n",
       " 'neymar',\n",
       " 'jr',\n",
       " 'creativity',\n",
       " 'que',\n",
       " 'maravilha',\n",
       " 'de',\n",
       " 'chuteira',\n",
       " 'perfect',\n",
       " 'https//tco/jqcuvaxg1c',\n",
       " 'a',\n",
       " 'nova',\n",
       " 'coleção',\n",
       " 'da',\n",
       " 'puma',\n",
       " '🤤',\n",
       " 'camuflagemdodia',\n",
       " 'camisa',\n",
       " 'da',\n",
       " 'nike',\n",
       " 'boné',\n",
       " 'do',\n",
       " 'cleveland',\n",
       " 'short',\n",
       " 'da',\n",
       " 'adidas',\n",
       " 'tênis',\n",
       " 'da',\n",
       " 'puma',\n",
       " 'mochila',\n",
       " 'da',\n",
       " 'fila',\n",
       " 'ela',\n",
       " 'repara',\n",
       " 'no',\n",
       " 'detalhe',\n",
       " 'do',\n",
       " 'meu',\n",
       " 'puma',\n",
       " 'disc',\n",
       " 'neymarjrdepre',\n",
       " 'neymarjr',\n",
       " 'pumabrasil',\n",
       " 'onde',\n",
       " 'vende',\n",
       " 'essa',\n",
       " 'não',\n",
       " 'achei',\n",
       " 'na',\n",
       " 'loja',\n",
       " 'da',\n",
       " 'puma',\n",
       " 'tão',\n",
       " 'cadelinha',\n",
       " 'da',\n",
       " 'puma',\n",
       " 'q',\n",
       " 'eu',\n",
       " 'acabei',\n",
       " 'd',\n",
       " 'perceber',\n",
       " 'q',\n",
       " 'eu',\n",
       " 'tenho',\n",
       " '3',\n",
       " 'blusas',\n",
       " 'iguais',\n",
       " 'msm',\n",
       " 'modelo',\n",
       " 'msm',\n",
       " 'cor',\n",
       " 'neymarjr',\n",
       " 'pumafootball',\n",
       " 'oi',\n",
       " 'ney',\n",
       " 'eu',\n",
       " 'sou',\n",
       " 'seu',\n",
       " 'ídolo',\n",
       " 'me',\n",
       " 'manda',\n",
       " 'uma',\n",
       " 'meia',\n",
       " 'da',\n",
       " 'puma',\n",
       " 'af',\n",
       " 'tô',\n",
       " 'vendo',\n",
       " 'um',\n",
       " 'boné',\n",
       " 'da',\n",
       " 'puma',\n",
       " 'aqui',\n",
       " 'no',\n",
       " 'site',\n",
       " 'muito',\n",
       " 'top',\n",
       " 'já',\n",
       " 'quero',\n",
       " 'que',\n",
       " 'chegue',\n",
       " 'na',\n",
       " 'loja',\n",
       " 'porque',\n",
       " 'o',\n",
       " 'frete',\n",
       " 'tá',\n",
       " 'uma',\n",
       " 'facada',\n",
       " 'neymar',\n",
       " 'tá',\n",
       " 'dando',\n",
       " 'uma',\n",
       " 'estética',\n",
       " 'nova',\n",
       " 'mto',\n",
       " 'foda',\n",
       " 'pra',\n",
       " 'puma',\n",
       " 'a',\n",
       " 'puma',\n",
       " 'arrasou',\n",
       " 'nesse',\n",
       " 'ensaio',\n",
       " 'gostei',\n",
       " 'muuhpro',\n",
       " 'pumaadidas',\n",
       " 'ou',\n",
       " 'nike',\n",
       " 'eu',\n",
       " 'indo',\n",
       " 'usar',\n",
       " 'puma',\n",
       " '😎',\n",
       " 'https//tco/liraqb33kp',\n",
       " 'neymarjr',\n",
       " 'pumafootball',\n",
       " 'neymar',\n",
       " 'manda',\n",
       " 'um',\n",
       " 'desse',\n",
       " 'pra',\n",
       " 'mim',\n",
       " 'puma',\n",
       " 'bobojaco',\n",
       " 'aí',\n",
       " '🥺',\n",
       " '🥺',\n",
       " '🥺',\n",
       " '🧥',\n",
       " '🧥',\n",
       " '🧥',\n",
       " '🧥',\n",
       " '🧥',\n",
       " '🧥',\n",
       " '🧥',\n",
       " 'mina',\n",
       " 'bandida',\n",
       " 'me',\n",
       " 'arranha',\n",
       " 'igual',\n",
       " 'puma',\n",
       " 'tô',\n",
       " 'elegante',\n",
       " 'vestido',\n",
       " 'de',\n",
       " 'puma',\n",
       " 'é',\n",
       " 'neymar',\n",
       " 'essas',\n",
       " 'chuteiras',\n",
       " 'da',\n",
       " 'puma',\n",
       " 'não',\n",
       " 'dá',\n",
       " 'kkkkkkkkkk',\n",
       " 'nike',\n",
       " 'é',\n",
       " 'diferenciada',\n",
       " 'demais',\n",
       " 'mcsoeiro_',\n",
       " 'kkkkkkkkkkk',\n",
       " 'puma',\n",
       " 'adidas',\n",
       " 'e',\n",
       " 'nike',\n",
       " '🤡',\n",
       " 'https//tco/a7a5ft89qt',\n",
       " 'incrith',\n",
       " 'felaange',\n",
       " 'amiga',\n",
       " 'eu',\n",
       " 'estou',\n",
       " 'criando',\n",
       " 'a',\n",
       " 'desculpa',\n",
       " 'em',\n",
       " 'minha',\n",
       " 'cabeça',\n",
       " 'que',\n",
       " 'eu',\n",
       " 'queria',\n",
       " 'um',\n",
       " 'para',\n",
       " 'ser',\n",
       " 'o',\n",
       " 'único',\n",
       " 'que',\n",
       " 'usaria',\n",
       " 'fora',\n",
       " 'de',\n",
       " 'casa',\n",
       " 'né',\n",
       " 'e',\n",
       " 'uma',\n",
       " 'vez',\n",
       " 'tive',\n",
       " 'um',\n",
       " 'puma',\n",
       " 'e',\n",
       " 'além',\n",
       " 'de',\n",
       " 'bonito',\n",
       " 'ele',\n",
       " 'era',\n",
       " 'muito',\n",
       " 'confortável',\n",
       " 'tenho',\n",
       " 'um',\n",
       " 'tenis',\n",
       " 'muito',\n",
       " 'confortável',\n",
       " 'só',\n",
       " 'q',\n",
       " 'feio',\n",
       " 'e',\n",
       " 'os',\n",
       " 'bonitinhos',\n",
       " 'são',\n",
       " 'todos',\n",
       " 'conforto',\n",
       " 'meh',\n",
       " 'sabe',\n",
       " 'comprei',\n",
       " 'um',\n",
       " 'tênis',\n",
       " 'da',\n",
       " 'puma',\n",
       " 'só',\n",
       " 'pq',\n",
       " 'ela',\n",
       " 'patrocina',\n",
       " 'o',\n",
       " 'neymar',\n",
       " 'se',\n",
       " 'n',\n",
       " 'esquece',\n",
       " '👋🏼',\n",
       " 'márcio',\n",
       " 'me',\n",
       " 'deu',\n",
       " 'uma',\n",
       " 'blusa',\n",
       " 'linda',\n",
       " 'da',\n",
       " 'puma',\n",
       " 'é',\n",
       " 'um',\n",
       " 'amor',\n",
       " 'esse',\n",
       " 'garoto',\n",
       " 'oscarwang_',\n",
       " 'meu',\n",
       " 'bb',\n",
       " 'eu',\n",
       " 'queria',\n",
       " 'ganhar',\n",
       " 'roupas',\n",
       " 'da',\n",
       " 'puma',\n",
       " 'tbm',\n",
       " 'esses',\n",
       " 'trainees',\n",
       " 'tiveram',\n",
       " 'sorte',\n",
       " 'queria',\n",
       " 'uma',\n",
       " 'chuteira',\n",
       " 'da',\n",
       " 'puma',\n",
       " 'lewishamiltonbr',\n",
       " 'puma',\n",
       " 'credo',\n",
       " 'mais',\n",
       " 'é',\n",
       " 'lindo',\n",
       " 'viu',\n",
       " '😍',\n",
       " '😍',\n",
       " 'se',\n",
       " 'a',\n",
       " 'criatividade',\n",
       " 'fosse',\n",
       " 'um',\n",
       " 'idioma',\n",
       " 'a',\n",
       " 'tradução',\n",
       " 'perfeita',\n",
       " 'seria',\n",
       " 'nova',\n",
       " 'puma',\n",
       " 'future',\n",
       " 'z',\n",
       " 'creativity',\n",
       " 'neymarjr',\n",
       " '🔮',\n",
       " 'saiba',\n",
       " 'mais',\n",
       " 'no',\n",
       " 'https//tco/e0gotvkaoa',\n",
       " 'https//tco/wnft4clhcf',\n",
       " 'jwpitbulldafade',\n",
       " 'tá',\n",
       " 'brincandopuma',\n",
       " 'e',\n",
       " 'rainhaestilo',\n",
       " 'e',\n",
       " 'conforto',\n",
       " 'slc',\n",
       " 'mano',\n",
       " 'essa',\n",
       " 'chuteira',\n",
       " 'q',\n",
       " 'a',\n",
       " 'puma',\n",
       " 'lançou',\n",
       " 'é',\n",
       " 'mala',\n",
       " 'hein',\n",
       " 'as',\n",
       " 'roupas',\n",
       " 'da',\n",
       " 'puma',\n",
       " 'que',\n",
       " 'o',\n",
       " 'neymar',\n",
       " 'usa',\n",
       " 'são',\n",
       " 'perfeitas',\n",
       " 'e',\n",
       " 'parecem',\n",
       " 'que',\n",
       " 'só',\n",
       " 'ele',\n",
       " 'tem',\n",
       " 'kkkkkk',\n",
       " 'esse',\n",
       " 'ai',\n",
       " 'com',\n",
       " 'os',\n",
       " 'detalhes',\n",
       " 'rosa',\n",
       " '😍',\n",
       " 'quero',\n",
       " 'colação',\n",
       " 'do',\n",
       " 'neymar',\n",
       " 'nem',\n",
       " 'gosto',\n",
       " 'de',\n",
       " 'puma',\n",
       " 'mass',\n",
       " 'quero',\n",
       " 'https//tco/ugdfnnjrwb',\n",
       " 'neymarjrdepre',\n",
       " 'neymarjr',\n",
       " 'pumabrasil',\n",
       " 'ginmyname',\n",
       " 'puma',\n",
       " 'finalmente',\n",
       " 'acertou',\n",
       " 'cz',\n",
       " '🙌🏻',\n",
       " '🙌🏻',\n",
       " '🙌🏻',\n",
       " 'para',\n",
       " 'de',\n",
       " 'lançar',\n",
       " 'roupa',\n",
       " 'puma',\n",
       " 'tô',\n",
       " 'ficando',\n",
       " 'sem',\n",
       " 'money',\n",
       " 'neymarjr',\n",
       " 'pumafootball',\n",
       " 'pede',\n",
       " 'pra',\n",
       " 'puma',\n",
       " 'me',\n",
       " 'dar',\n",
       " 'uma',\n",
       " 'luva',\n",
       " 'neymarjr',\n",
       " 'pumabrasil',\n",
       " 'pumafootball',\n",
       " 'neymar',\n",
       " 'puma',\n",
       " '😍',\n",
       " 'https//tco/pfe3hdojnv',\n",
       " 'a',\n",
       " 'puma',\n",
       " 'e',\n",
       " 'o',\n",
       " 'amor',\n",
       " 'da',\n",
       " 'minha',\n",
       " 'tmnc',\n",
       " '😍',\n",
       " 'o',\n",
       " 'tênis',\n",
       " 'da',\n",
       " 'selena',\n",
       " 'e',\n",
       " 'do',\n",
       " 'neymar',\n",
       " 'em',\n",
       " 'parceria',\n",
       " 'c',\n",
       " 'a',\n",
       " 'puma',\n",
       " 'estão',\n",
       " 'ridículos',\n",
       " 'de',\n",
       " 'tão',\n",
       " 'maravilhosos',\n",
       " 'neymar',\n",
       " 'x',\n",
       " 'puma',\n",
       " 'future',\n",
       " 'z',\n",
       " 'creativity',\n",
       " '👑',\n",
       " '🧢',\n",
       " 'https//tco/clker1ke4j',\n",
       " 'as',\n",
       " 'novas',\n",
       " 'puma',\n",
       " 'de',\n",
       " 'neymar',\n",
       " '🔥',\n",
       " 'https//tco/mu6pxdnapi',\n",
       " 'so',\n",
       " 'queria',\n",
       " 'uma',\n",
       " 'nova',\n",
       " 'chuteira',\n",
       " 'da',\n",
       " 'puma',\n",
       " '🥰',\n",
       " '🥰',\n",
       " '⚽',\n",
       " '️',\n",
       " 'na',\n",
       " 'coleção',\n",
       " 'do',\n",
       " 'homi',\n",
       " 'a',\n",
       " 'puma',\n",
       " 'acertou',\n",
       " 'demais',\n",
       " 'pqp',\n",
       " 'https//tco/fpr3h397go',\n",
       " 'gente',\n",
       " 'eu',\n",
       " 'queronova',\n",
       " 'coleção',\n",
       " 'do',\n",
       " 'neymar',\n",
       " 'com',\n",
       " 'a',\n",
       " 'puma',\n",
       " '“neymar',\n",
       " 'jr',\n",
       " 'creativity”tô',\n",
       " 'apaixonada',\n",
       " 'nessas',\n",
       " 'cores',\n",
       " '💕',\n",
       " '💙',\n",
       " 'https//tco/mfjt1vw9rl',\n",
       " 'boné',\n",
       " 'da',\n",
       " 'adidas',\n",
       " 'camisa',\n",
       " 'da',\n",
       " 'puma',\n",
       " 'short',\n",
       " 'da',\n",
       " 'nike',\n",
       " 'e',\n",
       " 'chinelo',\n",
       " 'da',\n",
       " 'fila',\n",
       " 'é',\n",
       " 'muito',\n",
       " 'errado',\n",
       " 'juanitobisonte',\n",
       " 'puma',\n",
       " 'ok',\n",
       " 'não',\n",
       " 'curto',\n",
       " 'muito',\n",
       " 'da',\n",
       " 'umbro',\n",
       " '🤷🏾\\u200d♂️',\n",
       " '🤷🏾\\u200d♂️',\n",
       " 'wagnerjrcunha',\n",
       " 'atletico',\n",
       " 'siimmm',\n",
       " 'a',\n",
       " 'puma',\n",
       " 'mandou',\n",
       " 'bem',\n",
       " 'demais',\n",
       " 'nesse',\n",
       " 'no',\n",
       " 'slk',\n",
       " 'e',\n",
       " 'esse',\n",
       " 'jogo',\n",
       " 'também',\n",
       " 'dominante',\n",
       " 'como',\n",
       " 'sempre',\n",
       " '🐔',\n",
       " '⚫',\n",
       " '⚪',\n",
       " '❤',\n",
       " '️',\n",
       " 'toda',\n",
       " 'noite',\n",
       " 'eu',\n",
       " 'vo',\n",
       " 'dormir',\n",
       " 'pensando',\n",
       " 'se',\n",
       " 'um',\n",
       " 'dia',\n",
       " 'conseguirei',\n",
       " 'encontrar',\n",
       " 'o',\n",
       " 'tênis',\n",
       " 'da',\n",
       " 'puma',\n",
       " 'que',\n",
       " 'eu',\n",
       " 'tinha',\n",
       " 'vendendo',\n",
       " 'em',\n",
       " 'algum',\n",
       " 'lugarou',\n",
       " 'algum',\n",
       " 'parecido',\n",
       " 'comprar',\n",
       " 'meu',\n",
       " 'tênis',\n",
       " 'da',\n",
       " 'puma',\n",
       " 'mes',\n",
       " 'que',\n",
       " 'vem',\n",
       " 'e',\n",
       " 'não',\n",
       " 'tem',\n",
       " 'nada',\n",
       " 'que',\n",
       " 'me',\n",
       " 'impeça',\n",
       " 'depois',\n",
       " 'que',\n",
       " 'o',\n",
       " 'neymar',\n",
       " 'foi',\n",
       " 'pra',\n",
       " 'puma',\n",
       " 'só',\n",
       " 'tá',\n",
       " 'fazendo',\n",
       " 'chuteira',\n",
       " 'zika',\n",
       " 'https//tco/umv3oudsqq',\n",
       " 'minha',\n",
       " 'mãe',\n",
       " 'me',\n",
       " 'deu',\n",
       " 'um',\n",
       " 'tênis',\n",
       " 'da',\n",
       " 'puma',\n",
       " '🥺',\n",
       " 'linda',\n",
       " 'essa',\n",
       " 'camisa',\n",
       " 'do',\n",
       " 'rgvfc',\n",
       " 'da',\n",
       " 'puma',\n",
       " '😍',\n",
       " 'https//tco/ph3sytmtbq',\n",
       " 'próximos',\n",
       " 'panos',\n",
       " 'serão',\n",
       " 'da',\n",
       " 'puma',\n",
       " 'simse',\n",
       " 'eu',\n",
       " 'tivesse',\n",
       " 'dinheiro',\n",
       " 'eu',\n",
       " 'só',\n",
       " 'usaria',\n",
       " 'puma',\n",
       " 'por',\n",
       " 'causa',\n",
       " 'do',\n",
       " 'ney',\n",
       " 'e',\n",
       " 'do',\n",
       " 'palmeiras',\n",
       " 'lewishamiltonbr',\n",
       " 'puma',\n",
       " 'procure',\n",
       " 'um',\n",
       " 'defeito',\n",
       " 'e',\n",
       " 'falhe',\n",
       " 'miseravelmente',\n",
       " 'puma',\n",
       " 'não',\n",
       " 'erra',\n",
       " 'ta',\n",
       " 'maluco',\n",
       " 'https//tco/wbbj1b2nsv',\n",
       " 'sedento',\n",
       " 'pro',\n",
       " 'meu',\n",
       " 'puma',\n",
       " 'xray',\n",
       " 'chegar',\n",
       " 'e',\n",
       " 'meus',\n",
       " 'óculos',\n",
       " 'novos',\n",
       " 'e',\n",
       " 'sexta',\n",
       " 'vou',\n",
       " 'cortar',\n",
       " 'o',\n",
       " 'cabelo',\n",
       " 'fazer',\n",
       " 'a',\n",
       " 'barba',\n",
       " 'ai',\n",
       " 'papai',\n",
       " 'vou',\n",
       " 'estar',\n",
       " 'mt',\n",
       " 'lindo',\n",
       " 'nas',\n",
       " 'próximas',\n",
       " 'semanas',\n",
       " 'https//tco/nwx14tyqq8',\n",
       " 'sabe',\n",
       " 'o',\n",
       " 'que',\n",
       " 'eu',\n",
       " 'acho',\n",
       " 'dahora',\n",
       " 'no',\n",
       " 'neymar',\n",
       " 'que',\n",
       " 'ele',\n",
       " 'inspira',\n",
       " 'a',\n",
       " 'criançada',\n",
       " 'manja',\n",
       " 'por',\n",
       " 'ex',\n",
       " 'ele',\n",
       " 'acabou',\n",
       " 'de',\n",
       " 'repostar',\n",
       " 'a',\n",
       " 'foto',\n",
       " 'que',\n",
       " 'o',\n",
       " 'filho',\n",
       " 'do',\n",
       " 'boateng',\n",
       " 'trajado',\n",
       " 'de',\n",
       " 'puma/neymar',\n",
       " 'então',\n",
       " 'assim',\n",
       " 'os',\n",
       " 'filho',\n",
       " 'dos',\n",
       " 'adversários',\n",
       " 'dele',\n",
       " 'quer',\n",
       " 'ser',\n",
       " 'igual',\n",
       " 'a',\n",
       " 'ele',\n",
       " '🥺',\n",
       " 'puma',\n",
       " 'patrocinou',\n",
       " 'legal',\n",
       " 'esse',\n",
       " 'filme',\n",
       " 'lastnoearth',\n",
       " 'os',\n",
       " 'da',\n",
       " 'puma',\n",
       " 'amg',\n",
       " 'acho',\n",
       " 'lindo',\n",
       " 'demaisss',\n",
       " 'nunca',\n",
       " 'curti',\n",
       " 'corta',\n",
       " 'vento',\n",
       " 'mas',\n",
       " 'essa',\n",
       " 'que',\n",
       " 'comprei',\n",
       " 'da',\n",
       " 'puma',\n",
       " 'é',\n",
       " 'muito',\n",
       " 'style',\n",
       " '🥵',\n",
       " '🥵',\n",
       " 'agora',\n",
       " 'sim',\n",
       " 'está',\n",
       " 'dando',\n",
       " 'vontade',\n",
       " 'de',\n",
       " 'usar',\n",
       " 'chuteira',\n",
       " 'da',\n",
       " 'puma',\n",
       " '✅',\n",
       " '🚀',\n",
       " 'https//tco/gx8opopdil',\n",
       " 'puma',\n",
       " 'se',\n",
       " 'continua',\n",
       " 'assim',\n",
       " 'vai',\n",
       " 'dar',\n",
       " 'mais',\n",
       " 'que',\n",
       " 'falr',\n",
       " 'do',\n",
       " 'que',\n",
       " 'a',\n",
       " 'nike',\n",
       " 'e',\n",
       " 'a',\n",
       " 'adidas',\n",
       " 'sério',\n",
       " 'se',\n",
       " 'alguém',\n",
       " 'ver',\n",
       " 'na',\n",
       " 'internet',\n",
       " 'as',\n",
       " 'camisas',\n",
       " 'da',\n",
       " 'puma',\n",
       " 'principalmente',\n",
       " 'de',\n",
       " '2013',\n",
       " 'e',\n",
       " '2015',\n",
       " 'me',\n",
       " 'manda',\n",
       " 'por',\n",
       " 'favoooor',\n",
       " 'tô',\n",
       " 'a',\n",
       " 'um',\n",
       " 'tempão',\n",
       " 'procurando',\n",
       " 'pra',\n",
       " 'comprar',\n",
       " 'e',\n",
       " 'não',\n",
       " 'acho',\n",
       " 'de',\n",
       " 'jeito',\n",
       " 'nenhum',\n",
       " 'simaopereira11',\n",
       " 'nem',\n",
       " 'design',\n",
       " 'material',\n",
       " 'tecnologia',\n",
       " 'do',\n",
       " 'equipamento',\n",
       " 'puma',\n",
       " 'está',\n",
       " 'muito',\n",
       " 'mais',\n",
       " 'à',\n",
       " 'frente',\n",
       " 'ajuste',\n",
       " 'ao',\n",
       " 'corpo',\n",
       " 'puma',\n",
       " 'podia',\n",
       " 'bem',\n",
       " 'patrocinar',\n",
       " 'o',\n",
       " 'benfica',\n",
       " 'esses',\n",
       " 'ao',\n",
       " 'menos',\n",
       " 'sabem',\n",
       " 'o',\n",
       " 'que',\n",
       " 'fazem',\n",
       " 'ao',\n",
       " 'que',\n",
       " 'toca',\n",
       " 'a',\n",
       " 'equipamentos',\n",
       " 'https//tco/epbw82crxn',\n",
       " '‘creativity’',\n",
       " 'a',\n",
       " 'nova',\n",
       " 'coleção',\n",
       " 'da',\n",
       " 'puma',\n",
       " 'com',\n",
       " 'assinatura',\n",
       " 'de',\n",
       " 'neymar',\n",
       " 'https//tco/zdwqezlquf',\n",
       " 'acabou',\n",
       " 'de',\n",
       " 'chegar',\n",
       " 'meu',\n",
       " 'puma',\n",
       " 'q',\n",
       " 'eu',\n",
       " 'tinha',\n",
       " 'comprado',\n",
       " 'semana',\n",
       " 'passada',\n",
       " 'ehehehe',\n",
       " 'eh',\n",
       " 'mto',\n",
       " 'eh',\n",
       " 'massa',\n",
       " 'tô',\n",
       " 'com',\n",
       " 'um',\n",
       " 'puma',\n",
       " 'disk',\n",
       " 'pra',\n",
       " 'brick',\n",
       " 'por',\n",
       " 'mim',\n",
       " 'era',\n",
       " 'assinar',\n",
       " 'contrato',\n",
       " 'com',\n",
       " 'a',\n",
       " 'puma',\n",
       " 'ou',\n",
       " 'com',\n",
       " 'a',\n",
       " 'nike',\n",
       " 'camisolas',\n",
       " 'bem',\n",
       " 'mais',\n",
       " 'lindas',\n",
       " 'tô',\n",
       " 'parando',\n",
       " 'pra',\n",
       " 'analisar',\n",
       " 'n',\n",
       " 'posso',\n",
       " 'pegar',\n",
       " 'dinheiro',\n",
       " 'q',\n",
       " 'já',\n",
       " 'quero',\n",
       " 'ir',\n",
       " 'na',\n",
       " 'centauro',\n",
       " 'sou',\n",
       " 'muito',\n",
       " 'fascinado',\n",
       " 'em',\n",
       " 'nike',\n",
       " 'é',\n",
       " 'puma',\n",
       " 'tmlc',\n",
       " '🤦🏽\\u200d♂️',\n",
       " 'drinotty_',\n",
       " 'yoongglx',\n",
       " 'leektear',\n",
       " 'oliveira',\n",
       " 'eh',\n",
       " 'estiloso',\n",
       " 'ele',\n",
       " 'so',\n",
       " 'vem',\n",
       " 'com',\n",
       " 'tênis',\n",
       " 'da',\n",
       " 'nike',\n",
       " 'adidas',\n",
       " 'pumaele',\n",
       " 'tem',\n",
       " 'patrocínio',\n",
       " 'finalmente',\n",
       " 'a',\n",
       " 'puma',\n",
       " 'fez',\n",
       " 'algo',\n",
       " 'bonito',\n",
       " '🙌🏻',\n",
       " 'https//tco/8aahj2b9ew',\n",
       " 'quero',\n",
       " 'comprar',\n",
       " 'um',\n",
       " 'tenis',\n",
       " 'da',\n",
       " 'puma',\n",
       " 'nova',\n",
       " 'coleção',\n",
       " 'puma',\n",
       " 'future',\n",
       " 'z',\n",
       " 'x',\n",
       " ...]"
      ]
     },
     "execution_count": 27,
     "metadata": {},
     "output_type": "execute_result"
    }
   ],
   "source": [
    "total_de_palavras = todas_palavras_relevantes + todas_palavras_irrelevantes\n",
    "total_de_palavras"
   ]
  },
  {
   "cell_type": "code",
   "execution_count": 28,
   "metadata": {
    "scrolled": true
   },
   "outputs": [],
   "source": [
    "# todas_palavras = total_de_palavras.split()\n",
    "# serie_total = pd.Series(todas_palavras)\n",
    "# serie_total\n",
    "\n",
    "### Laplace"
   ]
  },
  {
   "cell_type": "code",
   "execution_count": 38,
   "metadata": {
    "collapsed": true
   },
   "outputs": [
    {
     "data": {
      "text/plain": [
       "0              o\n",
       "1         neymar\n",
       "2         inovou\n",
       "3              a\n",
       "4           puma\n",
       "          ...   \n",
       "4840      desceu\n",
       "4841         até\n",
       "4842          hj\n",
       "4843         que\n",
       "4844    tristeza\n",
       "Length: 4845, dtype: object"
      ]
     },
     "execution_count": 38,
     "metadata": {},
     "output_type": "execute_result"
    }
   ],
   "source": [
    "serie_total= pd.Series(total_de_palavras)\n",
    "serie_total"
   ]
  },
  {
   "cell_type": "code",
   "execution_count": 59,
   "metadata": {
    "scrolled": false
   },
   "outputs": [
    {
     "data": {
      "text/plain": [
       "puma           258\n",
       "a              144\n",
       "de             115\n",
       "da             113\n",
       "que             99\n",
       "              ... \n",
       "trocar           1\n",
       "ponto            1\n",
       "acaso            1\n",
       "spoilernovo      1\n",
       "caramba          1\n",
       "Length: 1816, dtype: int64"
      ]
     },
     "execution_count": 59,
     "metadata": {},
     "output_type": "execute_result"
    }
   ],
   "source": [
    "# Frequencia Relativa tbota\n",
    "\n",
    "total_de_palavras = serie_total.value_counts()\n",
    "total_de_palavras"
   ]
  },
  {
   "cell_type": "code",
   "execution_count": 60,
   "metadata": {},
   "outputs": [
    {
     "data": {
      "text/plain": [
       "4845"
      ]
     },
     "execution_count": 60,
     "metadata": {},
     "output_type": "execute_result"
    }
   ],
   "source": [
    "total_de_palavras.sum()"
   ]
  },
  {
   "cell_type": "markdown",
   "metadata": {},
   "source": [
    "### Probabilidade"
   ]
  },
  {
   "cell_type": "code",
   "execution_count": 61,
   "metadata": {},
   "outputs": [
    {
     "data": {
      "text/plain": [
       "0.3570691434468524"
      ]
     },
     "execution_count": 61,
     "metadata": {},
     "output_type": "execute_result"
    }
   ],
   "source": [
    "# Probabilidade de ser Relevante\n",
    "prob_R = (tabela_relevante.sum())/(total_de_palavras.sum())\n",
    "prob_R"
   ]
  },
  {
   "cell_type": "code",
   "execution_count": 62,
   "metadata": {},
   "outputs": [
    {
     "data": {
      "text/plain": [
       "0.6429308565531475"
      ]
     },
     "execution_count": 62,
     "metadata": {},
     "output_type": "execute_result"
    }
   ],
   "source": [
    "# Probabilidade de ser Irelevante\n",
    "prob_I = (tabela_irrelevante.sum())/(total_de_palavras.sum())\n",
    "prob_I"
   ]
  },
  {
   "cell_type": "code",
   "execution_count": 68,
   "metadata": {},
   "outputs": [
    {
     "ename": "AttributeError",
     "evalue": "'Series' object has no attribute 'split'",
     "output_type": "error",
     "traceback": [
      "\u001b[1;31m---------------------------------------------------------------------------\u001b[0m",
      "\u001b[1;31mAttributeError\u001b[0m                            Traceback (most recent call last)",
      "\u001b[1;32m<ipython-input-68-fa37490fb460>\u001b[0m in \u001b[0;36m<module>\u001b[1;34m\u001b[0m\n\u001b[0;32m      1\u001b[0m \u001b[1;31m# Produto de probabilidades de cada palavra do tweet dado que é relevante\u001b[0m\u001b[1;33m\u001b[0m\u001b[1;33m\u001b[0m\u001b[1;33m\u001b[0m\u001b[0m\n\u001b[1;32m----> 2\u001b[1;33m \u001b[0mprob_tweet_dado_R\u001b[0m \u001b[1;33m=\u001b[0m \u001b[0mtabela_relevante\u001b[0m\u001b[1;33m[\u001b[0m\u001b[0mrelevante\u001b[0m\u001b[1;33m.\u001b[0m\u001b[0msplit\u001b[0m\u001b[1;33m(\u001b[0m\u001b[1;33m)\u001b[0m\u001b[1;33m]\u001b[0m\u001b[1;33m.\u001b[0m\u001b[0mprod\u001b[0m\u001b[1;33m(\u001b[0m\u001b[1;33m)\u001b[0m\u001b[1;33m\u001b[0m\u001b[1;33m\u001b[0m\u001b[0m\n\u001b[0m\u001b[0;32m      3\u001b[0m \u001b[0mprob_tweet_dado_R\u001b[0m                           \u001b[1;31m#cada tweet (tem que colocar em um loop?) p_relevantes[i] ou relevante[1]\u001b[0m\u001b[1;33m\u001b[0m\u001b[1;33m\u001b[0m\u001b[0m\n",
      "\u001b[1;32m~\\anaconda3\\lib\\site-packages\\pandas\\core\\generic.py\u001b[0m in \u001b[0;36m__getattr__\u001b[1;34m(self, name)\u001b[0m\n\u001b[0;32m   5272\u001b[0m             \u001b[1;32mif\u001b[0m \u001b[0mself\u001b[0m\u001b[1;33m.\u001b[0m\u001b[0m_info_axis\u001b[0m\u001b[1;33m.\u001b[0m\u001b[0m_can_hold_identifiers_and_holds_name\u001b[0m\u001b[1;33m(\u001b[0m\u001b[0mname\u001b[0m\u001b[1;33m)\u001b[0m\u001b[1;33m:\u001b[0m\u001b[1;33m\u001b[0m\u001b[1;33m\u001b[0m\u001b[0m\n\u001b[0;32m   5273\u001b[0m                 \u001b[1;32mreturn\u001b[0m \u001b[0mself\u001b[0m\u001b[1;33m[\u001b[0m\u001b[0mname\u001b[0m\u001b[1;33m]\u001b[0m\u001b[1;33m\u001b[0m\u001b[1;33m\u001b[0m\u001b[0m\n\u001b[1;32m-> 5274\u001b[1;33m             \u001b[1;32mreturn\u001b[0m \u001b[0mobject\u001b[0m\u001b[1;33m.\u001b[0m\u001b[0m__getattribute__\u001b[0m\u001b[1;33m(\u001b[0m\u001b[0mself\u001b[0m\u001b[1;33m,\u001b[0m \u001b[0mname\u001b[0m\u001b[1;33m)\u001b[0m\u001b[1;33m\u001b[0m\u001b[1;33m\u001b[0m\u001b[0m\n\u001b[0m\u001b[0;32m   5275\u001b[0m \u001b[1;33m\u001b[0m\u001b[0m\n\u001b[0;32m   5276\u001b[0m     \u001b[1;32mdef\u001b[0m \u001b[0m__setattr__\u001b[0m\u001b[1;33m(\u001b[0m\u001b[0mself\u001b[0m\u001b[1;33m,\u001b[0m \u001b[0mname\u001b[0m\u001b[1;33m:\u001b[0m \u001b[0mstr\u001b[0m\u001b[1;33m,\u001b[0m \u001b[0mvalue\u001b[0m\u001b[1;33m)\u001b[0m \u001b[1;33m->\u001b[0m \u001b[1;32mNone\u001b[0m\u001b[1;33m:\u001b[0m\u001b[1;33m\u001b[0m\u001b[1;33m\u001b[0m\u001b[0m\n",
      "\u001b[1;31mAttributeError\u001b[0m: 'Series' object has no attribute 'split'"
     ]
    }
   ],
   "source": [
    "# Produto de probabilidades de cada palavra do tweet dado que é relevante\n",
    "prob_tweet_dado_R = tabela_relevante[relevante.split()].prod()\n",
    "prob_tweet_dado_R                           #cada tweet (tem que colocar em um loop?) p_relevantes[i] ou relevante[1]"
   ]
  },
  {
   "cell_type": "code",
   "execution_count": 69,
   "metadata": {},
   "outputs": [
    {
     "ename": "NameError",
     "evalue": "name 'frase' is not defined",
     "output_type": "error",
     "traceback": [
      "\u001b[1;31m---------------------------------------------------------------------------\u001b[0m",
      "\u001b[1;31mNameError\u001b[0m                                 Traceback (most recent call last)",
      "\u001b[1;32m<ipython-input-69-f137fd232706>\u001b[0m in \u001b[0;36m<module>\u001b[1;34m\u001b[0m\n\u001b[0;32m      1\u001b[0m \u001b[1;31m# Produto de probabilidades de cada palavra do tweet dado que é irrelevante\u001b[0m\u001b[1;33m\u001b[0m\u001b[1;33m\u001b[0m\u001b[1;33m\u001b[0m\u001b[0m\n\u001b[1;32m----> 2\u001b[1;33m \u001b[0mprob_tweet_dado_I\u001b[0m \u001b[1;33m=\u001b[0m \u001b[0mtabela_irrelevante\u001b[0m\u001b[1;33m[\u001b[0m\u001b[0mfrase\u001b[0m\u001b[1;33m.\u001b[0m\u001b[0msplit\u001b[0m\u001b[1;33m(\u001b[0m\u001b[1;33m)\u001b[0m\u001b[1;33m]\u001b[0m\u001b[1;33m.\u001b[0m\u001b[0mprod\u001b[0m\u001b[1;33m(\u001b[0m\u001b[1;33m)\u001b[0m\u001b[1;33m\u001b[0m\u001b[1;33m\u001b[0m\u001b[0m\n\u001b[0m\u001b[0;32m      3\u001b[0m \u001b[0mprob_tweet_dado_I\u001b[0m\u001b[1;33m\u001b[0m\u001b[1;33m\u001b[0m\u001b[0m\n",
      "\u001b[1;31mNameError\u001b[0m: name 'frase' is not defined"
     ]
    }
   ],
   "source": [
    "# Produto de probabilidades de cada palavra do tweet dado que é irrelevante\n",
    "prob_tweet_dado_I = tabela_irrelevante[frase.split()].prod()\n",
    "prob_tweet_dado_I"
   ]
  },
  {
   "cell_type": "markdown",
   "metadata": {},
   "source": [
    "### Teorema de Bayes"
   ]
  },
  {
   "cell_type": "code",
   "execution_count": 36,
   "metadata": {},
   "outputs": [
    {
     "ename": "NameError",
     "evalue": "name 'prob_tweet_dado_R' is not defined",
     "output_type": "error",
     "traceback": [
      "\u001b[1;31m---------------------------------------------------------------------------\u001b[0m",
      "\u001b[1;31mNameError\u001b[0m                                 Traceback (most recent call last)",
      "\u001b[1;32m<ipython-input-36-273162fef238>\u001b[0m in \u001b[0;36m<module>\u001b[1;34m\u001b[0m\n\u001b[0;32m      1\u001b[0m \u001b[1;31m# Probabilidade de ser relevante dado um tweet\u001b[0m\u001b[1;33m\u001b[0m\u001b[1;33m\u001b[0m\u001b[1;33m\u001b[0m\u001b[0m\n\u001b[1;32m----> 2\u001b[1;33m \u001b[0mprob_R_dado_tweet\u001b[0m \u001b[1;33m=\u001b[0m \u001b[0mprob_tweet_dado_R\u001b[0m \u001b[1;33m*\u001b[0m \u001b[0mprob_R\u001b[0m\u001b[1;33m\u001b[0m\u001b[1;33m\u001b[0m\u001b[0m\n\u001b[0m\u001b[0;32m      3\u001b[0m \u001b[0mprob_R_dado_tweet\u001b[0m\u001b[1;33m\u001b[0m\u001b[1;33m\u001b[0m\u001b[0m\n",
      "\u001b[1;31mNameError\u001b[0m: name 'prob_tweet_dado_R' is not defined"
     ]
    }
   ],
   "source": [
    "# Probabilidade de ser relevante dado um tweet\n",
    "prob_R_dado_tweet = prob_tweet_dado_R * prob_R\n",
    "prob_R_dado_tweet "
   ]
  },
  {
   "cell_type": "code",
   "execution_count": 35,
   "metadata": {},
   "outputs": [
    {
     "ename": "NameError",
     "evalue": "name 'prob_tweet_dado_I' is not defined",
     "output_type": "error",
     "traceback": [
      "\u001b[1;31m---------------------------------------------------------------------------\u001b[0m",
      "\u001b[1;31mNameError\u001b[0m                                 Traceback (most recent call last)",
      "\u001b[1;32m<ipython-input-35-617cfd268a15>\u001b[0m in \u001b[0;36m<module>\u001b[1;34m\u001b[0m\n\u001b[0;32m      1\u001b[0m \u001b[1;31m# Probabilidade de ser irrelevante dado um tweet\u001b[0m\u001b[1;33m\u001b[0m\u001b[1;33m\u001b[0m\u001b[1;33m\u001b[0m\u001b[0m\n\u001b[1;32m----> 2\u001b[1;33m \u001b[0mprob_I_dado_tweet\u001b[0m \u001b[1;33m=\u001b[0m \u001b[0mprob_tweet_dado_I\u001b[0m \u001b[1;33m*\u001b[0m \u001b[0mprob_I\u001b[0m\u001b[1;33m\u001b[0m\u001b[1;33m\u001b[0m\u001b[0m\n\u001b[0m\u001b[0;32m      3\u001b[0m \u001b[0mpro_I_dado_tweet\u001b[0m\u001b[1;33m\u001b[0m\u001b[1;33m\u001b[0m\u001b[0m\n",
      "\u001b[1;31mNameError\u001b[0m: name 'prob_tweet_dado_I' is not defined"
     ]
    }
   ],
   "source": [
    "# Probabilidade de ser irrelevante dado um tweet\n",
    "prob_I_dado_tweet = prob_tweet_dado_I * prob_I\n",
    "pro_I_dado_tweet "
   ]
  },
  {
   "cell_type": "markdown",
   "metadata": {},
   "source": [
    "___\n",
    "### Verificando a performance do Classificador\n",
    "\n",
    "Agora você deve testar o seu classificador com a base de Testes."
   ]
  },
  {
   "cell_type": "code",
   "execution_count": null,
   "metadata": {},
   "outputs": [],
   "source": []
  },
  {
   "cell_type": "code",
   "execution_count": null,
   "metadata": {},
   "outputs": [],
   "source": []
  },
  {
   "cell_type": "code",
   "execution_count": null,
   "metadata": {},
   "outputs": [],
   "source": []
  },
  {
   "cell_type": "markdown",
   "metadata": {},
   "source": [
    "___\n",
    "\n",
    "### Concluindo\n"
   ]
  },
  {
   "cell_type": "code",
   "execution_count": null,
   "metadata": {},
   "outputs": [],
   "source": []
  },
  {
   "cell_type": "code",
   "execution_count": null,
   "metadata": {},
   "outputs": [],
   "source": []
  },
  {
   "cell_type": "code",
   "execution_count": null,
   "metadata": {},
   "outputs": [],
   "source": []
  },
  {
   "cell_type": "markdown",
   "metadata": {},
   "source": [
    "___\n",
    "### Qualidade do Classificador a partir de novas separações dos tweets entre Treinamento e Teste\n",
    "\n",
    "Caso for fazer esse item do Projeto"
   ]
  },
  {
   "cell_type": "code",
   "execution_count": null,
   "metadata": {},
   "outputs": [],
   "source": []
  },
  {
   "cell_type": "code",
   "execution_count": null,
   "metadata": {},
   "outputs": [],
   "source": []
  },
  {
   "cell_type": "code",
   "execution_count": null,
   "metadata": {},
   "outputs": [],
   "source": []
  },
  {
   "cell_type": "markdown",
   "metadata": {},
   "source": [
    "___\n",
    "## Aperfeiçoamento:\n",
    "\n",
    "Os trabalhos vão evoluir em conceito dependendo da quantidade de itens avançados:\n",
    "\n",
    "* Limpar: \\n, :, \", ', (, ), etc SEM remover emojis\n",
    "* Corrigir separação de espaços entre palavras e emojis ou entre emojis e emojis\n",
    "* Propor outras limpezas e transformações que não afetem a qualidade da informação ou classificação\n",
    "* Criar categorias intermediárias de relevância baseadas na probabilidade: ex.: muito relevante, relevante, neutro, irrelevante, muito irrelevante (3 categorias: C, mais categorias conta para B)\n",
    "* Explicar por que não posso usar o próprio classificador para gerar mais amostras de treinamento\n",
    "* Propor diferentes cenários para Naïve Bayes fora do contexto do projeto\n",
    "* Sugerir e explicar melhorias reais com indicações concretas de como implementar (indicar como fazer e indicar material de pesquisa)\n"
   ]
  },
  {
   "cell_type": "markdown",
   "metadata": {},
   "source": [
    "___\n",
    "## Referências"
   ]
  },
  {
   "cell_type": "markdown",
   "metadata": {},
   "source": [
    "[Naive Bayes and Text Classification](https://arxiv.org/pdf/1410.5329.pdf)  **Mais completo**\n",
    "\n",
    "[A practical explanation of a Naive Bayes Classifier](https://monkeylearn.com/blog/practical-explanation-naive-bayes-classifier/) **Mais simples**"
   ]
  },
  {
   "cell_type": "code",
   "execution_count": null,
   "metadata": {},
   "outputs": [],
   "source": []
  }
 ],
 "metadata": {
  "kernelspec": {
   "display_name": "Python 3",
   "language": "python",
   "name": "python3"
  },
  "language_info": {
   "codemirror_mode": {
    "name": "ipython",
    "version": 3
   },
   "file_extension": ".py",
   "mimetype": "text/x-python",
   "name": "python",
   "nbconvert_exporter": "python",
   "pygments_lexer": "ipython3",
   "version": "3.8.3"
  }
 },
 "nbformat": 4,
 "nbformat_minor": 4
}
